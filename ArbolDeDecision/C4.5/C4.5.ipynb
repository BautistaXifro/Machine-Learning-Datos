{
 "cells": [
  {
   "cell_type": "code",
   "execution_count": 108,
   "metadata": {},
   "outputs": [],
   "source": [
    "import pandas as pd\n",
    "from chefboost import Chefboost as chef"
   ]
  },
  {
   "cell_type": "code",
   "execution_count": 109,
   "metadata": {},
   "outputs": [],
   "source": [
    "df = pd.read_csv('Training.csv')"
   ]
  },
  {
   "cell_type": "code",
   "execution_count": 110,
   "metadata": {},
   "outputs": [
    {
     "data": {
      "text/html": [
       "<div>\n",
       "<style scoped>\n",
       "    .dataframe tbody tr th:only-of-type {\n",
       "        vertical-align: middle;\n",
       "    }\n",
       "\n",
       "    .dataframe tbody tr th {\n",
       "        vertical-align: top;\n",
       "    }\n",
       "\n",
       "    .dataframe thead th {\n",
       "        text-align: right;\n",
       "    }\n",
       "</style>\n",
       "<table border=\"1\" class=\"dataframe\">\n",
       "  <thead>\n",
       "    <tr style=\"text-align: right;\">\n",
       "      <th></th>\n",
       "      <th>ID</th>\n",
       "      <th>Region</th>\n",
       "      <th>Territory</th>\n",
       "      <th>Pricing, Delivery_Terms_Quote_Appr</th>\n",
       "      <th>Pricing, Delivery_Terms_Approved</th>\n",
       "      <th>Bureaucratic_Code_0_Approval</th>\n",
       "      <th>Bureaucratic_Code_0_Approved</th>\n",
       "      <th>Submitted_for_Approval</th>\n",
       "      <th>Bureaucratic_Code</th>\n",
       "      <th>Account_Created_Date</th>\n",
       "      <th>...</th>\n",
       "      <th>Delivery_Quarter</th>\n",
       "      <th>Delivery_Year</th>\n",
       "      <th>Actual_Delivery_Date</th>\n",
       "      <th>TRF</th>\n",
       "      <th>Total_Amount_Currency</th>\n",
       "      <th>Total_Amount</th>\n",
       "      <th>Total_Taxable_Amount_Currency</th>\n",
       "      <th>Total_Taxable_Amount</th>\n",
       "      <th>Stage</th>\n",
       "      <th>Prod_Category_A</th>\n",
       "    </tr>\n",
       "  </thead>\n",
       "  <tbody>\n",
       "    <tr>\n",
       "      <th>0</th>\n",
       "      <td>27761</td>\n",
       "      <td>EMEA</td>\n",
       "      <td>None</td>\n",
       "      <td>1</td>\n",
       "      <td>1</td>\n",
       "      <td>1</td>\n",
       "      <td>1</td>\n",
       "      <td>0</td>\n",
       "      <td>Bureaucratic_Code_4</td>\n",
       "      <td>6/16/2015</td>\n",
       "      <td>...</td>\n",
       "      <td>Q2</td>\n",
       "      <td>2016</td>\n",
       "      <td>NaT</td>\n",
       "      <td>10</td>\n",
       "      <td>EUR</td>\n",
       "      <td>5272800.0</td>\n",
       "      <td>EUR</td>\n",
       "      <td>5272800.0</td>\n",
       "      <td>Closed Lost</td>\n",
       "      <td>Prod_Category_A_None</td>\n",
       "    </tr>\n",
       "    <tr>\n",
       "      <th>1</th>\n",
       "      <td>27760</td>\n",
       "      <td>EMEA</td>\n",
       "      <td>None</td>\n",
       "      <td>0</td>\n",
       "      <td>0</td>\n",
       "      <td>0</td>\n",
       "      <td>0</td>\n",
       "      <td>0</td>\n",
       "      <td>Bureaucratic_Code_4</td>\n",
       "      <td>6/16/2015</td>\n",
       "      <td>...</td>\n",
       "      <td>Q1</td>\n",
       "      <td>2016</td>\n",
       "      <td>NaT</td>\n",
       "      <td>0</td>\n",
       "      <td>EUR</td>\n",
       "      <td>48230.0</td>\n",
       "      <td>EUR</td>\n",
       "      <td>48230.0</td>\n",
       "      <td>Closed Won</td>\n",
       "      <td>Prod_Category_A_None</td>\n",
       "    </tr>\n",
       "    <tr>\n",
       "      <th>2</th>\n",
       "      <td>27446</td>\n",
       "      <td>Americas</td>\n",
       "      <td>NW America</td>\n",
       "      <td>0</td>\n",
       "      <td>0</td>\n",
       "      <td>0</td>\n",
       "      <td>0</td>\n",
       "      <td>0</td>\n",
       "      <td>Bureaucratic_Code_4</td>\n",
       "      <td>4/21/2015</td>\n",
       "      <td>...</td>\n",
       "      <td>Q1</td>\n",
       "      <td>2016</td>\n",
       "      <td>NaT</td>\n",
       "      <td>0</td>\n",
       "      <td>USD</td>\n",
       "      <td>83865.6</td>\n",
       "      <td>USD</td>\n",
       "      <td>83865.6</td>\n",
       "      <td>Closed Won</td>\n",
       "      <td>Prod_Category_A_None</td>\n",
       "    </tr>\n",
       "    <tr>\n",
       "      <th>3</th>\n",
       "      <td>16808</td>\n",
       "      <td>Americas</td>\n",
       "      <td>NW America</td>\n",
       "      <td>1</td>\n",
       "      <td>0</td>\n",
       "      <td>1</td>\n",
       "      <td>0</td>\n",
       "      <td>0</td>\n",
       "      <td>Bureaucratic_Code_5</td>\n",
       "      <td>7/27/2013</td>\n",
       "      <td>...</td>\n",
       "      <td>Q1</td>\n",
       "      <td>2018</td>\n",
       "      <td>NaT</td>\n",
       "      <td>14</td>\n",
       "      <td>USD</td>\n",
       "      <td>7421881.5</td>\n",
       "      <td>USD</td>\n",
       "      <td>7421881.5</td>\n",
       "      <td>Closed Lost</td>\n",
       "      <td>Prod_Category_A_None</td>\n",
       "    </tr>\n",
       "    <tr>\n",
       "      <th>4</th>\n",
       "      <td>16805</td>\n",
       "      <td>Americas</td>\n",
       "      <td>NW America</td>\n",
       "      <td>1</td>\n",
       "      <td>0</td>\n",
       "      <td>1</td>\n",
       "      <td>0</td>\n",
       "      <td>0</td>\n",
       "      <td>Bureaucratic_Code_5</td>\n",
       "      <td>7/27/2013</td>\n",
       "      <td>...</td>\n",
       "      <td>Q1</td>\n",
       "      <td>2018</td>\n",
       "      <td>NaT</td>\n",
       "      <td>25</td>\n",
       "      <td>USD</td>\n",
       "      <td>13357192.5</td>\n",
       "      <td>USD</td>\n",
       "      <td>13357192.5</td>\n",
       "      <td>Closed Lost</td>\n",
       "      <td>Prod_Category_A_None</td>\n",
       "    </tr>\n",
       "  </tbody>\n",
       "</table>\n",
       "<p>5 rows × 52 columns</p>\n",
       "</div>"
      ],
      "text/plain": [
       "      ID    Region   Territory  Pricing, Delivery_Terms_Quote_Appr  \\\n",
       "0  27761      EMEA        None                                   1   \n",
       "1  27760      EMEA        None                                   0   \n",
       "2  27446  Americas  NW America                                   0   \n",
       "3  16808  Americas  NW America                                   1   \n",
       "4  16805  Americas  NW America                                   1   \n",
       "\n",
       "   Pricing, Delivery_Terms_Approved  Bureaucratic_Code_0_Approval  \\\n",
       "0                                 1                             1   \n",
       "1                                 0                             0   \n",
       "2                                 0                             0   \n",
       "3                                 0                             1   \n",
       "4                                 0                             1   \n",
       "\n",
       "   Bureaucratic_Code_0_Approved  Submitted_for_Approval    Bureaucratic_Code  \\\n",
       "0                             1                       0  Bureaucratic_Code_4   \n",
       "1                             0                       0  Bureaucratic_Code_4   \n",
       "2                             0                       0  Bureaucratic_Code_4   \n",
       "3                             0                       0  Bureaucratic_Code_5   \n",
       "4                             0                       0  Bureaucratic_Code_5   \n",
       "\n",
       "  Account_Created_Date  ... Delivery_Quarter Delivery_Year  \\\n",
       "0            6/16/2015  ...               Q2          2016   \n",
       "1            6/16/2015  ...               Q1          2016   \n",
       "2            4/21/2015  ...               Q1          2016   \n",
       "3            7/27/2013  ...               Q1          2018   \n",
       "4            7/27/2013  ...               Q1          2018   \n",
       "\n",
       "  Actual_Delivery_Date TRF  Total_Amount_Currency Total_Amount  \\\n",
       "0                  NaT  10                    EUR    5272800.0   \n",
       "1                  NaT   0                    EUR      48230.0   \n",
       "2                  NaT   0                    USD      83865.6   \n",
       "3                  NaT  14                    USD    7421881.5   \n",
       "4                  NaT  25                    USD   13357192.5   \n",
       "\n",
       "  Total_Taxable_Amount_Currency Total_Taxable_Amount        Stage  \\\n",
       "0                           EUR            5272800.0  Closed Lost   \n",
       "1                           EUR              48230.0   Closed Won   \n",
       "2                           USD              83865.6   Closed Won   \n",
       "3                           USD            7421881.5  Closed Lost   \n",
       "4                           USD           13357192.5  Closed Lost   \n",
       "\n",
       "        Prod_Category_A  \n",
       "0  Prod_Category_A_None  \n",
       "1  Prod_Category_A_None  \n",
       "2  Prod_Category_A_None  \n",
       "3  Prod_Category_A_None  \n",
       "4  Prod_Category_A_None  \n",
       "\n",
       "[5 rows x 52 columns]"
      ]
     },
     "execution_count": 110,
     "metadata": {},
     "output_type": "execute_result"
    }
   ],
   "source": [
    "df.head()"
   ]
  },
  {
   "cell_type": "code",
   "execution_count": 111,
   "metadata": {},
   "outputs": [
    {
     "data": {
      "text/plain": [
       "2017    6318\n",
       "2018    5830\n",
       "2016    4371\n",
       "2019     414\n",
       "2020      14\n",
       "Name: Delivery_Year, dtype: int64"
      ]
     },
     "execution_count": 111,
     "metadata": {},
     "output_type": "execute_result"
    }
   ],
   "source": [
    "df['Delivery_Year'].value_counts() "
   ]
  },
  {
   "cell_type": "markdown",
   "metadata": {},
   "source": [
    "Puede ser que tomando los datos de 2017 para luego predecir 2018 posibilidad"
   ]
  },
  {
   "cell_type": "code",
   "execution_count": 112,
   "metadata": {},
   "outputs": [
    {
     "data": {
      "text/plain": [
       "Q2    1582\n",
       "Q4    1435\n",
       "Q1    1431\n",
       "Q3    1382\n",
       "Name: Delivery_Quarter, dtype: int64"
      ]
     },
     "execution_count": 112,
     "metadata": {},
     "output_type": "execute_result"
    }
   ],
   "source": [
    "df[['Delivery_Year', 'Delivery_Quarter']][df['Delivery_Year'] == 2018]['Delivery_Quarter'].value_counts()"
   ]
  },
  {
   "cell_type": "markdown",
   "metadata": {},
   "source": [
    "# Conversion a dolar"
   ]
  },
  {
   "cell_type": "code",
   "execution_count": 113,
   "metadata": {},
   "outputs": [],
   "source": [
    "df.loc[df['Total_Amount_Currency'] == 'JPY', 'Total_Amount'] = df['Total_Amount']*0.0096\n",
    "df.loc[df['Total_Amount_Currency'] == 'JPY', 'Total_Amount_Currency'] = 'USD'\n",
    "\n",
    "df.loc[df['Total_Amount_Currency'] == 'EUR', 'Total_Amount'] = df['Total_Amount']*1.17\n",
    "df.loc[df['Total_Amount_Currency'] == 'EUR', 'Total_Amount_Currency'] = 'USD'\n",
    "\n",
    "df.loc[df['Total_Amount_Currency'] == 'AUD', 'Total_Amount'] = df['Total_Amount']*0.70\n",
    "df.loc[df['Total_Amount_Currency'] == 'AUD', 'Total_Amount_Currency'] = 'USD'\n",
    "\n",
    "df.loc[df['Total_Amount_Currency'] == 'GBP', 'Total_Amount'] = df['Total_Amount']*1.29\n",
    "df.loc[df['Total_Amount_Currency'] == 'GBP', 'Total_Amount_Currency'] = 'USD'"
   ]
  },
  {
   "cell_type": "code",
   "execution_count": 114,
   "metadata": {},
   "outputs": [
    {
     "data": {
      "text/plain": [
       "5.952000e+01    513\n",
       "4.224000e+01    460\n",
       "1.728000e+02    351\n",
       "1.344000e+03    272\n",
       "1.536000e+01    204\n",
       "               ... \n",
       "1.075200e+04      1\n",
       "6.869055e+05      1\n",
       "3.163680e+04      1\n",
       "1.373772e+06      1\n",
       "1.749888e+06      1\n",
       "Name: Total_Amount, Length: 9350, dtype: int64"
      ]
     },
     "execution_count": 114,
     "metadata": {},
     "output_type": "execute_result"
    }
   ],
   "source": [
    "df['Total_Amount'].value_counts()"
   ]
  },
  {
   "cell_type": "code",
   "execution_count": 115,
   "metadata": {},
   "outputs": [
    {
     "data": {
      "text/html": [
       "<div>\n",
       "<style scoped>\n",
       "    .dataframe tbody tr th:only-of-type {\n",
       "        vertical-align: middle;\n",
       "    }\n",
       "\n",
       "    .dataframe tbody tr th {\n",
       "        vertical-align: top;\n",
       "    }\n",
       "\n",
       "    .dataframe thead th {\n",
       "        text-align: right;\n",
       "    }\n",
       "</style>\n",
       "<table border=\"1\" class=\"dataframe\">\n",
       "  <thead>\n",
       "    <tr style=\"text-align: right;\">\n",
       "      <th></th>\n",
       "      <th>Region</th>\n",
       "      <th>Total_Amount</th>\n",
       "      <th>Delivery_Year</th>\n",
       "      <th>Delivery_Quarter</th>\n",
       "      <th>Pricing, Delivery_Terms_Approved</th>\n",
       "      <th>Pricing, Delivery_Terms_Quote_Appr</th>\n",
       "      <th>Decision</th>\n",
       "    </tr>\n",
       "  </thead>\n",
       "  <tbody>\n",
       "    <tr>\n",
       "      <th>0</th>\n",
       "      <td>EMEA</td>\n",
       "      <td>6169176.0</td>\n",
       "      <td>2016</td>\n",
       "      <td>Q2</td>\n",
       "      <td>1</td>\n",
       "      <td>1</td>\n",
       "      <td>Closed Lost</td>\n",
       "    </tr>\n",
       "    <tr>\n",
       "      <th>1</th>\n",
       "      <td>EMEA</td>\n",
       "      <td>56429.1</td>\n",
       "      <td>2016</td>\n",
       "      <td>Q1</td>\n",
       "      <td>0</td>\n",
       "      <td>0</td>\n",
       "      <td>Closed Won</td>\n",
       "    </tr>\n",
       "    <tr>\n",
       "      <th>2</th>\n",
       "      <td>Americas</td>\n",
       "      <td>83865.6</td>\n",
       "      <td>2016</td>\n",
       "      <td>Q1</td>\n",
       "      <td>0</td>\n",
       "      <td>0</td>\n",
       "      <td>Closed Won</td>\n",
       "    </tr>\n",
       "    <tr>\n",
       "      <th>3</th>\n",
       "      <td>Americas</td>\n",
       "      <td>7421881.5</td>\n",
       "      <td>2018</td>\n",
       "      <td>Q1</td>\n",
       "      <td>0</td>\n",
       "      <td>1</td>\n",
       "      <td>Closed Lost</td>\n",
       "    </tr>\n",
       "    <tr>\n",
       "      <th>4</th>\n",
       "      <td>Americas</td>\n",
       "      <td>13357192.5</td>\n",
       "      <td>2018</td>\n",
       "      <td>Q1</td>\n",
       "      <td>0</td>\n",
       "      <td>1</td>\n",
       "      <td>Closed Lost</td>\n",
       "    </tr>\n",
       "  </tbody>\n",
       "</table>\n",
       "</div>"
      ],
      "text/plain": [
       "     Region  Total_Amount  Delivery_Year Delivery_Quarter  \\\n",
       "0      EMEA     6169176.0           2016               Q2   \n",
       "1      EMEA       56429.1           2016               Q1   \n",
       "2  Americas       83865.6           2016               Q1   \n",
       "3  Americas     7421881.5           2018               Q1   \n",
       "4  Americas    13357192.5           2018               Q1   \n",
       "\n",
       "   Pricing, Delivery_Terms_Approved  Pricing, Delivery_Terms_Quote_Appr  \\\n",
       "0                                 1                                   1   \n",
       "1                                 0                                   0   \n",
       "2                                 0                                   0   \n",
       "3                                 0                                   1   \n",
       "4                                 0                                   1   \n",
       "\n",
       "      Decision  \n",
       "0  Closed Lost  \n",
       "1   Closed Won  \n",
       "2   Closed Won  \n",
       "3  Closed Lost  \n",
       "4  Closed Lost  "
      ]
     },
     "execution_count": 115,
     "metadata": {},
     "output_type": "execute_result"
    }
   ],
   "source": [
    "df_short = df[['Region', 'Total_Amount', 'Delivery_Year', 'Delivery_Quarter','Pricing, Delivery_Terms_Approved','Pricing, Delivery_Terms_Quote_Appr','Stage' ]].rename(columns={'Stage': 'Decision'})\n",
    "df_short = df_short[(df_short['Decision'] == 'Closed Lost') | (df_short['Decision'] == 'Closed Won')]\n",
    "df_short.head()"
   ]
  },
  {
   "cell_type": "code",
   "execution_count": 116,
   "metadata": {},
   "outputs": [
    {
     "data": {
      "text/plain": [
       "2017    6317\n",
       "2018    4395\n",
       "2016    4371\n",
       "Name: Delivery_Year, dtype: int64"
      ]
     },
     "execution_count": 116,
     "metadata": {},
     "output_type": "execute_result"
    }
   ],
   "source": [
    "training = df_short.drop(df_short[(df_short['Delivery_Year']== 2018) & (df_short['Delivery_Quarter'] == 'Q4')].index).drop(df_short[(df_short['Delivery_Year'] > 2018)].index)\n",
    "training['Delivery_Year'].value_counts()"
   ]
  },
  {
   "cell_type": "code",
   "execution_count": 117,
   "metadata": {},
   "outputs": [
    {
     "data": {
      "text/html": [
       "<div>\n",
       "<style scoped>\n",
       "    .dataframe tbody tr th:only-of-type {\n",
       "        vertical-align: middle;\n",
       "    }\n",
       "\n",
       "    .dataframe tbody tr th {\n",
       "        vertical-align: top;\n",
       "    }\n",
       "\n",
       "    .dataframe thead th {\n",
       "        text-align: right;\n",
       "    }\n",
       "</style>\n",
       "<table border=\"1\" class=\"dataframe\">\n",
       "  <thead>\n",
       "    <tr style=\"text-align: right;\">\n",
       "      <th></th>\n",
       "      <th>Region</th>\n",
       "      <th>Total_Amount</th>\n",
       "      <th>Delivery_Year</th>\n",
       "      <th>Delivery_Quarter</th>\n",
       "      <th>Pricing, Delivery_Terms_Approved</th>\n",
       "      <th>Pricing, Delivery_Terms_Quote_Appr</th>\n",
       "      <th>Decision</th>\n",
       "    </tr>\n",
       "  </thead>\n",
       "  <tbody>\n",
       "    <tr>\n",
       "      <th>956</th>\n",
       "      <td>EMEA</td>\n",
       "      <td>2204771.40</td>\n",
       "      <td>2018</td>\n",
       "      <td>Q4</td>\n",
       "      <td>1</td>\n",
       "      <td>1</td>\n",
       "      <td>Closed Lost</td>\n",
       "    </tr>\n",
       "    <tr>\n",
       "      <th>1000</th>\n",
       "      <td>APAC</td>\n",
       "      <td>9567090.00</td>\n",
       "      <td>2018</td>\n",
       "      <td>Q4</td>\n",
       "      <td>0</td>\n",
       "      <td>1</td>\n",
       "      <td>Closed Lost</td>\n",
       "    </tr>\n",
       "    <tr>\n",
       "      <th>1001</th>\n",
       "      <td>APAC</td>\n",
       "      <td>9567360.00</td>\n",
       "      <td>2018</td>\n",
       "      <td>Q4</td>\n",
       "      <td>0</td>\n",
       "      <td>1</td>\n",
       "      <td>Closed Lost</td>\n",
       "    </tr>\n",
       "    <tr>\n",
       "      <th>1436</th>\n",
       "      <td>APAC</td>\n",
       "      <td>5099864.00</td>\n",
       "      <td>2018</td>\n",
       "      <td>Q4</td>\n",
       "      <td>0</td>\n",
       "      <td>1</td>\n",
       "      <td>Closed Lost</td>\n",
       "    </tr>\n",
       "    <tr>\n",
       "      <th>2559</th>\n",
       "      <td>APAC</td>\n",
       "      <td>1531920.25</td>\n",
       "      <td>2018</td>\n",
       "      <td>Q4</td>\n",
       "      <td>0</td>\n",
       "      <td>1</td>\n",
       "      <td>Closed Lost</td>\n",
       "    </tr>\n",
       "  </tbody>\n",
       "</table>\n",
       "</div>"
      ],
      "text/plain": [
       "     Region  Total_Amount  Delivery_Year Delivery_Quarter  \\\n",
       "956    EMEA    2204771.40           2018               Q4   \n",
       "1000   APAC    9567090.00           2018               Q4   \n",
       "1001   APAC    9567360.00           2018               Q4   \n",
       "1436   APAC    5099864.00           2018               Q4   \n",
       "2559   APAC    1531920.25           2018               Q4   \n",
       "\n",
       "      Pricing, Delivery_Terms_Approved  Pricing, Delivery_Terms_Quote_Appr  \\\n",
       "956                                  1                                   1   \n",
       "1000                                 0                                   1   \n",
       "1001                                 0                                   1   \n",
       "1436                                 0                                   1   \n",
       "2559                                 0                                   1   \n",
       "\n",
       "         Decision  \n",
       "956   Closed Lost  \n",
       "1000  Closed Lost  \n",
       "1001  Closed Lost  \n",
       "1436  Closed Lost  \n",
       "2559  Closed Lost  "
      ]
     },
     "execution_count": 117,
     "metadata": {},
     "output_type": "execute_result"
    }
   ],
   "source": [
    "test = df_short[(df_short['Delivery_Year']== 2018) & (df_short['Delivery_Quarter'] == 'Q4')]\n",
    "test.head()"
   ]
  },
  {
   "cell_type": "code",
   "execution_count": 118,
   "metadata": {},
   "outputs": [],
   "source": [
    "config = {'algorithm' : 'C4.5'}"
   ]
  },
  {
   "cell_type": "code",
   "execution_count": 119,
   "metadata": {},
   "outputs": [
    {
     "name": "stdout",
     "output_type": "stream",
     "text": [
      "C4.5  tree is going to be built...\n",
      "-------------------------\n",
      "finished in  5.3954432010650635  seconds\n",
      "-------------------------\n",
      "Evaluate  train set\n",
      "-------------------------\n",
      "Accuracy:  76.58290790956707 % on  15083  instances\n",
      "Labels:  ['Closed Lost' 'Closed Won']\n",
      "Confusion matrix:  [[3735, 817], [2715, 7816]]\n",
      "Precision:  82.0518 %, Recall:  57.907 %, F1:  67.8967 %\n"
     ]
    }
   ],
   "source": [
    "model = chef.fit(training.copy(), config)"
   ]
  },
  {
   "cell_type": "code",
   "execution_count": 120,
   "metadata": {},
   "outputs": [
    {
     "name": "stdout",
     "output_type": "stream",
     "text": [
      "0.6390243902439025\n"
     ]
    }
   ],
   "source": [
    "i = 0;\n",
    "j = 0;\n",
    "for index, instance in test.iterrows():\n",
    "    prediction = chef.predict(model, instance)\n",
    "    actual = instance['Decision']\n",
    "    i = i + 1\n",
    "    \n",
    "    if actual == prediction:\n",
    "        classified = True\n",
    "        j = j + 1\n",
    "    else:\n",
    "        classified = False\n",
    "\n",
    "prediccion = j/i\n",
    "print(prediccion)"
   ]
  },
  {
   "cell_type": "markdown",
   "metadata": {},
   "source": [
    "# Gradient Boosting"
   ]
  },
  {
   "cell_type": "code",
   "execution_count": 121,
   "metadata": {},
   "outputs": [],
   "source": [
    "config = {'enableGBM': True, 'epochs': 7, 'learning_rate': 1, 'max_depth': 5}"
   ]
  },
  {
   "cell_type": "code",
   "execution_count": null,
   "metadata": {},
   "outputs": [
    {
     "name": "stderr",
     "output_type": "stream",
     "text": [
      "\r",
      "Boosting:   0%|          | 0/7 [00:00<?, ?it/s]"
     ]
    },
    {
     "name": "stdout",
     "output_type": "stream",
     "text": [
      "Gradient Boosting Machines...\n",
      "Regression  tree is going to be built...\n",
      "gradient boosting for classification\n"
     ]
    }
   ],
   "source": [
    "model = chef.fit(training.copy(), config)"
   ]
  },
  {
   "cell_type": "code",
   "execution_count": null,
   "metadata": {},
   "outputs": [],
   "source": [
    "i = 0;\n",
    "j = 0;\n",
    "for index, instance in test.iterrows():\n",
    "    prediction = chef.predict(model, instance)\n",
    "    actual = instance['Decision']\n",
    "    i = i + 1\n",
    "    \n",
    "    if actual == prediction:\n",
    "        classified = True\n",
    "        j = j + 1\n",
    "    else:\n",
    "        classified = False\n",
    "\n",
    "prediccion = j/i\n",
    "print(prediccion)"
   ]
  },
  {
   "cell_type": "markdown",
   "metadata": {},
   "source": [
    "# Random Forest"
   ]
  },
  {
   "cell_type": "code",
   "execution_count": null,
   "metadata": {},
   "outputs": [],
   "source": [
    "config = {'enableRandomForest': True, 'num_of_trees': 5}"
   ]
  },
  {
   "cell_type": "code",
   "execution_count": null,
   "metadata": {},
   "outputs": [],
   "source": [
    "model = chef.fit(training.copy(), config)"
   ]
  },
  {
   "cell_type": "code",
   "execution_count": null,
   "metadata": {},
   "outputs": [],
   "source": [
    "i = 0;\n",
    "j = 0;\n",
    "for index, instance in test.iterrows():\n",
    "    prediction = chef.predict(model, instance)\n",
    "    actual = instance['Decision']\n",
    "    i = i + 1\n",
    "    \n",
    "    if actual == prediction:\n",
    "        classified = True\n",
    "        j = j + 1\n",
    "    else:\n",
    "        classified = False\n",
    "\n",
    "prediccion = j/i\n",
    "print(prediccion)"
   ]
  },
  {
   "cell_type": "code",
   "execution_count": null,
   "metadata": {},
   "outputs": [],
   "source": []
  }
 ],
 "metadata": {
  "kernelspec": {
   "display_name": "Python 3",
   "language": "python",
   "name": "python3"
  },
  "language_info": {
   "codemirror_mode": {
    "name": "ipython",
    "version": 3
   },
   "file_extension": ".py",
   "mimetype": "text/x-python",
   "name": "python",
   "nbconvert_exporter": "python",
   "pygments_lexer": "ipython3",
   "version": "3.8.3"
  }
 },
 "nbformat": 4,
 "nbformat_minor": 4
}
