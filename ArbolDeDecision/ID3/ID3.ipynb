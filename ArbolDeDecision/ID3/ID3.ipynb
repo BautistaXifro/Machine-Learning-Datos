{
 "cells": [
  {
   "cell_type": "code",
   "execution_count": 8,
   "metadata": {},
   "outputs": [],
   "source": [
    "from chefboost import Chefboost as chef\n",
    "import pandas as pd\n",
    "import numpy as np\n",
    "from sklearn.tree import DecisionTreeClassifier\n",
    "from sklearn.model_selection import train_test_split\n",
    "from sklearn.metrics import accuracy_score\n"
   ]
  },
  {
   "cell_type": "code",
   "execution_count": 9,
   "metadata": {},
   "outputs": [],
   "source": [
    "entrenamiento_df = pd.read_csv('Entrenamieto_ECI_2020.csv')\n",
    "entrenamiento_df = entrenamiento_df[(entrenamiento_df[\"Stage\"] == \"Closed Won\" )| (entrenamiento_df[\"Stage\"] == \"Closed Lost\")]\n",
    "entrenamiento_df['Pricing, Delivery_Terms_Quote_Appr'] = entrenamiento_df['Pricing, Delivery_Terms_Quote_Appr'].astype(np.int8)\n",
    "\n",
    "entrenamiento_df['Pricing, Delivery_Terms_Approved'] = entrenamiento_df['Pricing, Delivery_Terms_Approved'].astype(np.int8)\n",
    "\n",
    "entrenamiento_df['Bureaucratic_Code_0_Approval'] = entrenamiento_df['Bureaucratic_Code_0_Approval'].astype(np.int8)\n",
    "\n",
    "entrenamiento_df['Bureaucratic_Code_0_Approved'] = entrenamiento_df['Bureaucratic_Code_0_Approved'].astype(np.int8)\n",
    "\n",
    "entrenamiento_df['Submitted_for_Approval'] = entrenamiento_df['Submitted_for_Approval'].astype(np.int8)\n",
    "\n",
    "entrenamiento_df['Account_Created_Date'] = pd.to_datetime(entrenamiento_df['Account_Created_Date'],errors='coerce')\n",
    "\n",
    "entrenamiento_df['Opportunity_Created_Date'] = pd.to_datetime(entrenamiento_df['Opportunity_Created_Date'],errors='coerce')\n",
    "\n",
    "entrenamiento_df['Quote_Expiry_Date'] = pd.to_datetime(entrenamiento_df['Quote_Expiry_Date'],errors='coerce')\n",
    "\n",
    "entrenamiento_df['Last_Modified_Date'] = pd.to_datetime(entrenamiento_df['Last_Modified_Date'],errors='coerce')\n",
    "\n",
    "entrenamiento_df['Planned_Delivery_Start_Date'] = pd.to_datetime(entrenamiento_df['Planned_Delivery_Start_Date'],errors='coerce')\n",
    "\n",
    "entrenamiento_df['Planned_Delivery_End_Date'] = pd.to_datetime(entrenamiento_df['Planned_Delivery_End_Date'],errors='coerce')\n",
    "\n",
    "entrenamiento_df[\"Year Created\"] = entrenamiento_df[\"Opportunity_Created_Date\"].dt.year\n",
    "entrenamiento_df[\"Month Created\"] = entrenamiento_df[\"Opportunity_Created_Date\"].dt.month"
   ]
  },
  {
   "cell_type": "code",
   "execution_count": 10,
   "metadata": {},
   "outputs": [],
   "source": [
    "entrenamiento_test = entrenamiento_df[[\"Region\", \"Account_Owner\",\"Year Created\", \"Quote_Type\", \"Stage\"]]"
   ]
  },
  {
   "cell_type": "code",
   "execution_count": 11,
   "metadata": {},
   "outputs": [],
   "source": [
    "entrenamiento_test = entrenamiento_test.rename(columns = {\"Stage\" : \"Decision\"})\n",
    "y = entrenamiento_test[\"Decision\"]\n",
    "x = entrenamiento_test.copy().drop(\"Decision\", axis = 1)"
   ]
  },
  {
   "cell_type": "code",
   "execution_count": 15,
   "metadata": {},
   "outputs": [
    {
     "name": "stderr",
     "output_type": "stream",
     "text": [
      "/usr/lib/python3/dist-packages/ipykernel_launcher.py:2: SettingWithCopyWarning: \n",
      "A value is trying to be set on a copy of a slice from a DataFrame.\n",
      "Try using .loc[row_indexer,col_indexer] = value instead\n",
      "\n",
      "See the caveats in the documentation: https://pandas.pydata.org/pandas-docs/stable/user_guide/indexing.html#returning-a-view-versus-a-copy\n",
      "  \n"
     ]
    }
   ],
   "source": [
    "X_test, X_train, Y_test, Y_train = train_test_split(x, y, test_size = 0.3, random_state = 254)\n",
    "X_train[\"Decision\"] = Y_train"
   ]
  },
  {
   "cell_type": "code",
   "execution_count": 16,
   "metadata": {},
   "outputs": [
    {
     "name": "stdout",
     "output_type": "stream",
     "text": [
      "ID3  tree is going to be built...\n"
     ]
    },
    {
     "name": "stderr",
     "output_type": "stream",
     "text": [
      "/home/thiago/.local/lib/python3.6/site-packages/chefboost/training/Preprocess.py:129: SettingWithCopyWarning: \n",
      "A value is trying to be set on a copy of a slice from a DataFrame.\n",
      "Try using .loc[row_indexer,col_indexer] = value instead\n",
      "\n",
      "See the caveats in the documentation: https://pandas.pydata.org/pandas-docs/stable/user_guide/indexing.html#returning-a-view-versus-a-copy\n",
      "  df[column_name] = np.where(df[column_name] <= winner_threshold, \"<=\"+str(winner_threshold), \">\"+str(winner_threshold))\n"
     ]
    },
    {
     "name": "stdout",
     "output_type": "stream",
     "text": [
      "-------------------------\n",
      "finished in  2.7779080867767334  seconds\n",
      "-------------------------\n",
      "Evaluate  train set\n",
      "-------------------------\n",
      "Accuracy:  69.41757156959527 % on  5065  instances\n",
      "Labels:  ['Closed Lost' 'Closed Won']\n",
      "Confusion matrix:  [[1402, 772], [777, 2114]]\n",
      "Precision:  64.4894 %, Recall:  64.3414 %, F1:  64.4153 %\n",
      "Precision: 68.33643594516839\n"
     ]
    }
   ],
   "source": [
    "for i in range(1, 2):\n",
    "    \n",
    "    config = {\"algorithm\" : \"ID3\", \"max_depth\" : i}\n",
    "    model = chef.fit(X_train, config = config)\n",
    "    dfList = X_test.values.tolist()\n",
    "    predictions = []\n",
    "    for i in range(len(dfList)):\n",
    "        prediction = chef.predict(model, dfList[i])\n",
    "        predictions.append(prediction)\n",
    "        \n",
    "    YValues = Y_test.values.tolist()\n",
    "    correct = 0\n",
    "    total = 0\n",
    "\n",
    "    for i in range(len(predictions)):\n",
    "        if(predictions[i] == YValues[i]):\n",
    "            correct += 1\n",
    "    \n",
    "        total += 1\n",
    "        \n",
    "    print(f\"\"\"Precision: {(correct/total) * 100}\"\"\")"
   ]
  },
  {
   "cell_type": "code",
   "execution_count": null,
   "metadata": {},
   "outputs": [],
   "source": []
  }
 ],
 "metadata": {
  "kernelspec": {
   "display_name": "Python 3",
   "language": "python",
   "name": "python3"
  },
  "language_info": {
   "codemirror_mode": {
    "name": "ipython",
    "version": 3
   },
   "file_extension": ".py",
   "mimetype": "text/x-python",
   "name": "python",
   "nbconvert_exporter": "python",
   "pygments_lexer": "ipython3",
   "version": "3.6.9"
  }
 },
 "nbformat": 4,
 "nbformat_minor": 2
}
