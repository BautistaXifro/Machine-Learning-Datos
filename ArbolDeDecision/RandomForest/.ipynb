{
 "cells": [
  {
   "cell_type": "code",
   "execution_count": 136,
   "metadata": {
    "id": "_219fnmO6uYV"
   },
   "outputs": [],
   "source": [
    "import pandas as pd\n",
    "import numpy as np\n",
    "import seaborn as sns\n",
    "import matplotlib.pyplot as plt\n",
    "%matplotlib inline"
   ]
  },
  {
   "cell_type": "code",
   "execution_count": 137,
   "metadata": {
    "colab": {
     "base_uri": "https://localhost:8080/",
     "height": 626
    },
    "executionInfo": {
     "elapsed": 1731,
     "status": "ok",
     "timestamp": 1611842545406,
     "user": {
      "displayName": "Santiago Locatelli",
      "photoUrl": "https://lh3.googleusercontent.com/a-/AOh14GgeVxG2kiEQI6C8oXkI3lK3HqO_JXoYzUN4QsfA=s64",
      "userId": "08672575338160706301"
     },
     "user_tz": 180
    },
    "id": "49wfAyFg7OPs",
    "outputId": "1c563a44-d127-4690-cf7c-11396f630dac"
   },
   "outputs": [
    {
     "data": {
      "text/html": [
       "<div>\n",
       "<style scoped>\n",
       "    .dataframe tbody tr th:only-of-type {\n",
       "        vertical-align: middle;\n",
       "    }\n",
       "\n",
       "    .dataframe tbody tr th {\n",
       "        vertical-align: top;\n",
       "    }\n",
       "\n",
       "    .dataframe thead th {\n",
       "        text-align: right;\n",
       "    }\n",
       "</style>\n",
       "<table border=\"1\" class=\"dataframe\">\n",
       "  <thead>\n",
       "    <tr style=\"text-align: right;\">\n",
       "      <th></th>\n",
       "      <th>ID</th>\n",
       "      <th>Region</th>\n",
       "      <th>Territory</th>\n",
       "      <th>Pricing, Delivery_Terms_Quote_Appr</th>\n",
       "      <th>Pricing, Delivery_Terms_Approved</th>\n",
       "      <th>Bureaucratic_Code_0_Approval</th>\n",
       "      <th>Bureaucratic_Code_0_Approved</th>\n",
       "      <th>Submitted_for_Approval</th>\n",
       "      <th>Bureaucratic_Code</th>\n",
       "      <th>Account_Created_Date</th>\n",
       "      <th>...</th>\n",
       "      <th>Delivery_Quarter</th>\n",
       "      <th>Delivery_Year</th>\n",
       "      <th>Actual_Delivery_Date</th>\n",
       "      <th>TRF</th>\n",
       "      <th>Total_Amount_Currency</th>\n",
       "      <th>Total_Amount</th>\n",
       "      <th>Total_Taxable_Amount_Currency</th>\n",
       "      <th>Total_Taxable_Amount</th>\n",
       "      <th>Stage</th>\n",
       "      <th>Prod_Category_A</th>\n",
       "    </tr>\n",
       "  </thead>\n",
       "  <tbody>\n",
       "    <tr>\n",
       "      <th>0</th>\n",
       "      <td>27761</td>\n",
       "      <td>EMEA</td>\n",
       "      <td>None</td>\n",
       "      <td>1</td>\n",
       "      <td>1</td>\n",
       "      <td>1</td>\n",
       "      <td>1</td>\n",
       "      <td>0</td>\n",
       "      <td>Bureaucratic_Code_4</td>\n",
       "      <td>6/16/2015</td>\n",
       "      <td>...</td>\n",
       "      <td>Q2</td>\n",
       "      <td>2016</td>\n",
       "      <td>NaT</td>\n",
       "      <td>10</td>\n",
       "      <td>EUR</td>\n",
       "      <td>5272800.00</td>\n",
       "      <td>EUR</td>\n",
       "      <td>5272800.0</td>\n",
       "      <td>Closed Lost</td>\n",
       "      <td>Prod_Category_A_None</td>\n",
       "    </tr>\n",
       "    <tr>\n",
       "      <th>1</th>\n",
       "      <td>27760</td>\n",
       "      <td>EMEA</td>\n",
       "      <td>None</td>\n",
       "      <td>0</td>\n",
       "      <td>0</td>\n",
       "      <td>0</td>\n",
       "      <td>0</td>\n",
       "      <td>0</td>\n",
       "      <td>Bureaucratic_Code_4</td>\n",
       "      <td>6/16/2015</td>\n",
       "      <td>...</td>\n",
       "      <td>Q1</td>\n",
       "      <td>2016</td>\n",
       "      <td>NaT</td>\n",
       "      <td>0</td>\n",
       "      <td>EUR</td>\n",
       "      <td>48230.00</td>\n",
       "      <td>EUR</td>\n",
       "      <td>48230.0</td>\n",
       "      <td>Closed Won</td>\n",
       "      <td>Prod_Category_A_None</td>\n",
       "    </tr>\n",
       "    <tr>\n",
       "      <th>2</th>\n",
       "      <td>27446</td>\n",
       "      <td>Americas</td>\n",
       "      <td>NW America</td>\n",
       "      <td>0</td>\n",
       "      <td>0</td>\n",
       "      <td>0</td>\n",
       "      <td>0</td>\n",
       "      <td>0</td>\n",
       "      <td>Bureaucratic_Code_4</td>\n",
       "      <td>4/21/2015</td>\n",
       "      <td>...</td>\n",
       "      <td>Q1</td>\n",
       "      <td>2016</td>\n",
       "      <td>NaT</td>\n",
       "      <td>0</td>\n",
       "      <td>USD</td>\n",
       "      <td>83865.60</td>\n",
       "      <td>USD</td>\n",
       "      <td>83865.6</td>\n",
       "      <td>Closed Won</td>\n",
       "      <td>Prod_Category_A_None</td>\n",
       "    </tr>\n",
       "    <tr>\n",
       "      <th>3</th>\n",
       "      <td>16808</td>\n",
       "      <td>Americas</td>\n",
       "      <td>NW America</td>\n",
       "      <td>1</td>\n",
       "      <td>0</td>\n",
       "      <td>1</td>\n",
       "      <td>0</td>\n",
       "      <td>0</td>\n",
       "      <td>Bureaucratic_Code_5</td>\n",
       "      <td>7/27/2013</td>\n",
       "      <td>...</td>\n",
       "      <td>Q1</td>\n",
       "      <td>2018</td>\n",
       "      <td>NaT</td>\n",
       "      <td>14</td>\n",
       "      <td>USD</td>\n",
       "      <td>7421881.50</td>\n",
       "      <td>USD</td>\n",
       "      <td>7421881.5</td>\n",
       "      <td>Closed Lost</td>\n",
       "      <td>Prod_Category_A_None</td>\n",
       "    </tr>\n",
       "    <tr>\n",
       "      <th>4</th>\n",
       "      <td>16805</td>\n",
       "      <td>Americas</td>\n",
       "      <td>NW America</td>\n",
       "      <td>1</td>\n",
       "      <td>0</td>\n",
       "      <td>1</td>\n",
       "      <td>0</td>\n",
       "      <td>0</td>\n",
       "      <td>Bureaucratic_Code_5</td>\n",
       "      <td>7/27/2013</td>\n",
       "      <td>...</td>\n",
       "      <td>Q1</td>\n",
       "      <td>2018</td>\n",
       "      <td>NaT</td>\n",
       "      <td>25</td>\n",
       "      <td>USD</td>\n",
       "      <td>13357192.50</td>\n",
       "      <td>USD</td>\n",
       "      <td>13357192.5</td>\n",
       "      <td>Closed Lost</td>\n",
       "      <td>Prod_Category_A_None</td>\n",
       "    </tr>\n",
       "    <tr>\n",
       "      <th>...</th>\n",
       "      <td>...</td>\n",
       "      <td>...</td>\n",
       "      <td>...</td>\n",
       "      <td>...</td>\n",
       "      <td>...</td>\n",
       "      <td>...</td>\n",
       "      <td>...</td>\n",
       "      <td>...</td>\n",
       "      <td>...</td>\n",
       "      <td>...</td>\n",
       "      <td>...</td>\n",
       "      <td>...</td>\n",
       "      <td>...</td>\n",
       "      <td>...</td>\n",
       "      <td>...</td>\n",
       "      <td>...</td>\n",
       "      <td>...</td>\n",
       "      <td>...</td>\n",
       "      <td>...</td>\n",
       "      <td>...</td>\n",
       "      <td>...</td>\n",
       "    </tr>\n",
       "    <tr>\n",
       "      <th>16942</th>\n",
       "      <td>8781</td>\n",
       "      <td>EMEA</td>\n",
       "      <td>Austria</td>\n",
       "      <td>1</td>\n",
       "      <td>1</td>\n",
       "      <td>1</td>\n",
       "      <td>1</td>\n",
       "      <td>0</td>\n",
       "      <td>Bureaucratic_Code_4</td>\n",
       "      <td>1/15/2016</td>\n",
       "      <td>...</td>\n",
       "      <td>Q1</td>\n",
       "      <td>2016</td>\n",
       "      <td>NaT</td>\n",
       "      <td>0</td>\n",
       "      <td>EUR</td>\n",
       "      <td>103350.00</td>\n",
       "      <td>EUR</td>\n",
       "      <td>299715.0</td>\n",
       "      <td>Closed Won</td>\n",
       "      <td>Prod_Category_A_None</td>\n",
       "    </tr>\n",
       "    <tr>\n",
       "      <th>16943</th>\n",
       "      <td>8786</td>\n",
       "      <td>EMEA</td>\n",
       "      <td>Austria</td>\n",
       "      <td>1</td>\n",
       "      <td>1</td>\n",
       "      <td>1</td>\n",
       "      <td>1</td>\n",
       "      <td>0</td>\n",
       "      <td>Bureaucratic_Code_4</td>\n",
       "      <td>1/15/2016</td>\n",
       "      <td>...</td>\n",
       "      <td>Q2</td>\n",
       "      <td>2016</td>\n",
       "      <td>NaT</td>\n",
       "      <td>0</td>\n",
       "      <td>EUR</td>\n",
       "      <td>93015.00</td>\n",
       "      <td>EUR</td>\n",
       "      <td>299715.0</td>\n",
       "      <td>Closed Won</td>\n",
       "      <td>Prod_Category_A_None</td>\n",
       "    </tr>\n",
       "    <tr>\n",
       "      <th>16944</th>\n",
       "      <td>8792</td>\n",
       "      <td>EMEA</td>\n",
       "      <td>Austria</td>\n",
       "      <td>1</td>\n",
       "      <td>1</td>\n",
       "      <td>1</td>\n",
       "      <td>1</td>\n",
       "      <td>0</td>\n",
       "      <td>Bureaucratic_Code_4</td>\n",
       "      <td>1/15/2016</td>\n",
       "      <td>...</td>\n",
       "      <td>Q1</td>\n",
       "      <td>2016</td>\n",
       "      <td>NaT</td>\n",
       "      <td>0</td>\n",
       "      <td>EUR</td>\n",
       "      <td>103350.00</td>\n",
       "      <td>EUR</td>\n",
       "      <td>299715.0</td>\n",
       "      <td>Closed Won</td>\n",
       "      <td>Prod_Category_A_None</td>\n",
       "    </tr>\n",
       "    <tr>\n",
       "      <th>16945</th>\n",
       "      <td>28561</td>\n",
       "      <td>Americas</td>\n",
       "      <td>NE America</td>\n",
       "      <td>1</td>\n",
       "      <td>1</td>\n",
       "      <td>1</td>\n",
       "      <td>1</td>\n",
       "      <td>0</td>\n",
       "      <td>Bureaucratic_Code_4</td>\n",
       "      <td>10/20/2015</td>\n",
       "      <td>...</td>\n",
       "      <td>Q2</td>\n",
       "      <td>2016</td>\n",
       "      <td>NaT</td>\n",
       "      <td>4</td>\n",
       "      <td>USD</td>\n",
       "      <td>2346796.88</td>\n",
       "      <td>USD</td>\n",
       "      <td>0.0</td>\n",
       "      <td>Closed Lost</td>\n",
       "      <td>Prod_Category_A_None</td>\n",
       "    </tr>\n",
       "    <tr>\n",
       "      <th>16946</th>\n",
       "      <td>28318</td>\n",
       "      <td>Americas</td>\n",
       "      <td>NE America</td>\n",
       "      <td>1</td>\n",
       "      <td>1</td>\n",
       "      <td>1</td>\n",
       "      <td>1</td>\n",
       "      <td>0</td>\n",
       "      <td>Bureaucratic_Code_4</td>\n",
       "      <td>9/3/2015</td>\n",
       "      <td>...</td>\n",
       "      <td>Q3</td>\n",
       "      <td>2016</td>\n",
       "      <td>NaT</td>\n",
       "      <td>40</td>\n",
       "      <td>USD</td>\n",
       "      <td>25603200.00</td>\n",
       "      <td>USD</td>\n",
       "      <td>0.0</td>\n",
       "      <td>Closed Lost</td>\n",
       "      <td>Prod_Category_A_None</td>\n",
       "    </tr>\n",
       "  </tbody>\n",
       "</table>\n",
       "<p>16947 rows × 52 columns</p>\n",
       "</div>"
      ],
      "text/plain": [
       "          ID    Region   Territory  Pricing, Delivery_Terms_Quote_Appr  \\\n",
       "0      27761      EMEA        None                                   1   \n",
       "1      27760      EMEA        None                                   0   \n",
       "2      27446  Americas  NW America                                   0   \n",
       "3      16808  Americas  NW America                                   1   \n",
       "4      16805  Americas  NW America                                   1   \n",
       "...      ...       ...         ...                                 ...   \n",
       "16942   8781      EMEA     Austria                                   1   \n",
       "16943   8786      EMEA     Austria                                   1   \n",
       "16944   8792      EMEA     Austria                                   1   \n",
       "16945  28561  Americas  NE America                                   1   \n",
       "16946  28318  Americas  NE America                                   1   \n",
       "\n",
       "       Pricing, Delivery_Terms_Approved  Bureaucratic_Code_0_Approval  \\\n",
       "0                                     1                             1   \n",
       "1                                     0                             0   \n",
       "2                                     0                             0   \n",
       "3                                     0                             1   \n",
       "4                                     0                             1   \n",
       "...                                 ...                           ...   \n",
       "16942                                 1                             1   \n",
       "16943                                 1                             1   \n",
       "16944                                 1                             1   \n",
       "16945                                 1                             1   \n",
       "16946                                 1                             1   \n",
       "\n",
       "       Bureaucratic_Code_0_Approved  Submitted_for_Approval  \\\n",
       "0                                 1                       0   \n",
       "1                                 0                       0   \n",
       "2                                 0                       0   \n",
       "3                                 0                       0   \n",
       "4                                 0                       0   \n",
       "...                             ...                     ...   \n",
       "16942                             1                       0   \n",
       "16943                             1                       0   \n",
       "16944                             1                       0   \n",
       "16945                             1                       0   \n",
       "16946                             1                       0   \n",
       "\n",
       "         Bureaucratic_Code Account_Created_Date  ... Delivery_Quarter  \\\n",
       "0      Bureaucratic_Code_4            6/16/2015  ...               Q2   \n",
       "1      Bureaucratic_Code_4            6/16/2015  ...               Q1   \n",
       "2      Bureaucratic_Code_4            4/21/2015  ...               Q1   \n",
       "3      Bureaucratic_Code_5            7/27/2013  ...               Q1   \n",
       "4      Bureaucratic_Code_5            7/27/2013  ...               Q1   \n",
       "...                    ...                  ...  ...              ...   \n",
       "16942  Bureaucratic_Code_4            1/15/2016  ...               Q1   \n",
       "16943  Bureaucratic_Code_4            1/15/2016  ...               Q2   \n",
       "16944  Bureaucratic_Code_4            1/15/2016  ...               Q1   \n",
       "16945  Bureaucratic_Code_4           10/20/2015  ...               Q2   \n",
       "16946  Bureaucratic_Code_4             9/3/2015  ...               Q3   \n",
       "\n",
       "      Delivery_Year Actual_Delivery_Date TRF  Total_Amount_Currency  \\\n",
       "0              2016                  NaT  10                    EUR   \n",
       "1              2016                  NaT   0                    EUR   \n",
       "2              2016                  NaT   0                    USD   \n",
       "3              2018                  NaT  14                    USD   \n",
       "4              2018                  NaT  25                    USD   \n",
       "...             ...                  ...  ..                    ...   \n",
       "16942          2016                  NaT   0                    EUR   \n",
       "16943          2016                  NaT   0                    EUR   \n",
       "16944          2016                  NaT   0                    EUR   \n",
       "16945          2016                  NaT   4                    USD   \n",
       "16946          2016                  NaT  40                    USD   \n",
       "\n",
       "      Total_Amount Total_Taxable_Amount_Currency Total_Taxable_Amount  \\\n",
       "0       5272800.00                           EUR            5272800.0   \n",
       "1         48230.00                           EUR              48230.0   \n",
       "2         83865.60                           USD              83865.6   \n",
       "3       7421881.50                           USD            7421881.5   \n",
       "4      13357192.50                           USD           13357192.5   \n",
       "...            ...                           ...                  ...   \n",
       "16942    103350.00                           EUR             299715.0   \n",
       "16943     93015.00                           EUR             299715.0   \n",
       "16944    103350.00                           EUR             299715.0   \n",
       "16945   2346796.88                           USD                  0.0   \n",
       "16946  25603200.00                           USD                  0.0   \n",
       "\n",
       "             Stage       Prod_Category_A  \n",
       "0      Closed Lost  Prod_Category_A_None  \n",
       "1       Closed Won  Prod_Category_A_None  \n",
       "2       Closed Won  Prod_Category_A_None  \n",
       "3      Closed Lost  Prod_Category_A_None  \n",
       "4      Closed Lost  Prod_Category_A_None  \n",
       "...            ...                   ...  \n",
       "16942   Closed Won  Prod_Category_A_None  \n",
       "16943   Closed Won  Prod_Category_A_None  \n",
       "16944   Closed Won  Prod_Category_A_None  \n",
       "16945  Closed Lost  Prod_Category_A_None  \n",
       "16946  Closed Lost  Prod_Category_A_None  \n",
       "\n",
       "[16947 rows x 52 columns]"
      ]
     },
     "execution_count": 137,
     "metadata": {},
     "output_type": "execute_result"
    }
   ],
   "source": [
    "df = pd.read_csv( \"/home/bautista/Datos/Machine-Learning-Datos/Training.csv\" )\n",
    "df"
   ]
  },
  {
   "cell_type": "markdown",
   "metadata": {
    "id": "SRqKYe5q_xyl"
   },
   "source": [
    "# Conversion a Dolar"
   ]
  },
  {
   "cell_type": "code",
   "execution_count": 138,
   "metadata": {
    "id": "8Mr15awY_0Jd"
   },
   "outputs": [],
   "source": [
    "df.loc[df['Total_Amount_Currency'] == 'JPY', 'Total_Amount'] = df['Total_Amount']*0.0096\n",
    "df.loc[df['Total_Amount_Currency'] == 'JPY', 'Total_Amount_Currency'] = 'USD'\n",
    "\n",
    "df.loc[df['Total_Amount_Currency'] == 'EUR', 'Total_Amount'] = df['Total_Amount']*1.17\n",
    "df.loc[df['Total_Amount_Currency'] == 'EUR', 'Total_Amount_Currency'] = 'USD'\n",
    "\n",
    "df.loc[df['Total_Amount_Currency'] == 'AUD', 'Total_Amount'] = df['Total_Amount']*0.70\n",
    "df.loc[df['Total_Amount_Currency'] == 'AUD', 'Total_Amount_Currency'] = 'USD'\n",
    "\n",
    "df.loc[df['Total_Amount_Currency'] == 'GBP', 'Total_Amount'] = df['Total_Amount']*1.29\n",
    "df.loc[df['Total_Amount_Currency'] == 'GBP', 'Total_Amount_Currency'] = 'USData'"
   ]
  },
  {
   "cell_type": "code",
   "execution_count": 139,
   "metadata": {
    "id": "ulNZyEJnH-JC"
   },
   "outputs": [],
   "source": [
    "short_df = df[['Region', 'Delivery_Year', 'Delivery_Quarter','TRF','Pricing, Delivery_Terms_Approved','Pricing, Delivery_Terms_Quote_Appr','Stage' ]].rename(columns={'Stage': 'Decision'})\n",
    "short_df = short_df[ (short_df['Decision'] == 'Closed Won') | (short_df['Decision'] == 'Closed Lost') ]"
   ]
  },
  {
   "cell_type": "markdown",
   "metadata": {
    "id": "rKLwtfplClQp"
   },
   "source": [
    "# Probanding"
   ]
  },
  {
   "cell_type": "code",
   "execution_count": 140,
   "metadata": {
    "id": "364cGQKJCkjk"
   },
   "outputs": [],
   "source": [
    "from sklearn.model_selection import train_test_split\n",
    "from sklearn.metrics import classification_report, confusion_matrix\n",
    "from sklearn.ensemble import RandomForestClassifier\n",
    "from sklearn import preprocessing"
   ]
  },
  {
   "cell_type": "code",
   "execution_count": 141,
   "metadata": {
    "colab": {
     "base_uri": "https://localhost:8080/",
     "height": 419
    },
    "executionInfo": {
     "elapsed": 1696,
     "status": "ok",
     "timestamp": 1611842545411,
     "user": {
      "displayName": "Santiago Locatelli",
      "photoUrl": "https://lh3.googleusercontent.com/a-/AOh14GgeVxG2kiEQI6C8oXkI3lK3HqO_JXoYzUN4QsfA=s64",
      "userId": "08672575338160706301"
     },
     "user_tz": 180
    },
    "id": "jnp_UaJpG72r",
    "outputId": "3d5817d2-1f50-4e32-9dd9-98cd73d9f5df"
   },
   "outputs": [],
   "source": [
    "#X = short_df.drop( 'Decision', axis=1 )\n",
    "#y = short_df['Decision']\n",
    "#X = X.drop(columns='Total_Amount')\n",
    "#X"
   ]
  },
  {
   "cell_type": "code",
   "execution_count": 142,
   "metadata": {
    "id": "rqgDBLUiIkvV"
   },
   "outputs": [],
   "source": [
    "#X_train, X_test, y_train, y_test = train_test_split(X, y, test_size=0.3, random_state=42)"
   ]
  },
  {
   "cell_type": "code",
   "execution_count": 143,
   "metadata": {},
   "outputs": [
    {
     "data": {
      "text/plain": [
       "Region                                15083\n",
       "Delivery_Year                         15083\n",
       "Delivery_Quarter                      15083\n",
       "TRF                                   15083\n",
       "Pricing, Delivery_Terms_Approved      15083\n",
       "Pricing, Delivery_Terms_Quote_Appr    15083\n",
       "dtype: int64"
      ]
     },
     "execution_count": 143,
     "metadata": {},
     "output_type": "execute_result"
    }
   ],
   "source": [
    "X_training = short_df.drop(short_df[(short_df['Delivery_Year']== 2018) & (short_df['Delivery_Quarter'] == 'Q4')].index).drop(short_df[(short_df['Delivery_Year'] > 2018)].index)\n",
    "Y_training = X_training.reset_index()['Decision']\n",
    "X_training = X_training.reset_index().drop( ['Decision','index'], axis=1 )\n",
    "X_training.count()"
   ]
  },
  {
   "cell_type": "code",
   "execution_count": 144,
   "metadata": {},
   "outputs": [
    {
     "data": {
      "text/plain": [
       "15083"
      ]
     },
     "execution_count": 144,
     "metadata": {},
     "output_type": "execute_result"
    }
   ],
   "source": [
    "Y_training.count()"
   ]
  },
  {
   "cell_type": "code",
   "execution_count": 145,
   "metadata": {},
   "outputs": [
    {
     "data": {
      "text/html": [
       "<div>\n",
       "<style scoped>\n",
       "    .dataframe tbody tr th:only-of-type {\n",
       "        vertical-align: middle;\n",
       "    }\n",
       "\n",
       "    .dataframe tbody tr th {\n",
       "        vertical-align: top;\n",
       "    }\n",
       "\n",
       "    .dataframe thead th {\n",
       "        text-align: right;\n",
       "    }\n",
       "</style>\n",
       "<table border=\"1\" class=\"dataframe\">\n",
       "  <thead>\n",
       "    <tr style=\"text-align: right;\">\n",
       "      <th></th>\n",
       "      <th>Region</th>\n",
       "      <th>Delivery_Year</th>\n",
       "      <th>Delivery_Quarter</th>\n",
       "      <th>TRF</th>\n",
       "      <th>Pricing, Delivery_Terms_Approved</th>\n",
       "      <th>Pricing, Delivery_Terms_Quote_Appr</th>\n",
       "    </tr>\n",
       "  </thead>\n",
       "  <tbody>\n",
       "    <tr>\n",
       "      <th>0</th>\n",
       "      <td>EMEA</td>\n",
       "      <td>2018</td>\n",
       "      <td>Q4</td>\n",
       "      <td>6</td>\n",
       "      <td>1</td>\n",
       "      <td>1</td>\n",
       "    </tr>\n",
       "    <tr>\n",
       "      <th>1</th>\n",
       "      <td>APAC</td>\n",
       "      <td>2018</td>\n",
       "      <td>Q4</td>\n",
       "      <td>27</td>\n",
       "      <td>0</td>\n",
       "      <td>1</td>\n",
       "    </tr>\n",
       "    <tr>\n",
       "      <th>2</th>\n",
       "      <td>APAC</td>\n",
       "      <td>2018</td>\n",
       "      <td>Q4</td>\n",
       "      <td>27</td>\n",
       "      <td>0</td>\n",
       "      <td>1</td>\n",
       "    </tr>\n",
       "    <tr>\n",
       "      <th>3</th>\n",
       "      <td>APAC</td>\n",
       "      <td>2018</td>\n",
       "      <td>Q4</td>\n",
       "      <td>15</td>\n",
       "      <td>0</td>\n",
       "      <td>1</td>\n",
       "    </tr>\n",
       "    <tr>\n",
       "      <th>4</th>\n",
       "      <td>APAC</td>\n",
       "      <td>2018</td>\n",
       "      <td>Q4</td>\n",
       "      <td>4</td>\n",
       "      <td>0</td>\n",
       "      <td>1</td>\n",
       "    </tr>\n",
       "  </tbody>\n",
       "</table>\n",
       "</div>"
      ],
      "text/plain": [
       "  Region  Delivery_Year Delivery_Quarter  TRF  \\\n",
       "0   EMEA           2018               Q4    6   \n",
       "1   APAC           2018               Q4   27   \n",
       "2   APAC           2018               Q4   27   \n",
       "3   APAC           2018               Q4   15   \n",
       "4   APAC           2018               Q4    4   \n",
       "\n",
       "   Pricing, Delivery_Terms_Approved  Pricing, Delivery_Terms_Quote_Appr  \n",
       "0                                 1                                   1  \n",
       "1                                 0                                   1  \n",
       "2                                 0                                   1  \n",
       "3                                 0                                   1  \n",
       "4                                 0                                   1  "
      ]
     },
     "execution_count": 145,
     "metadata": {},
     "output_type": "execute_result"
    }
   ],
   "source": [
    "X_test = short_df[(short_df['Delivery_Year']== 2018) & (short_df['Delivery_Quarter'] == 'Q4')]\n",
    "Y_test = X_test['Decision']\n",
    "X_test = X_test.reset_index().drop( ['Decision','index'], axis=1 )\n",
    "X_test.head()"
   ]
  },
  {
   "cell_type": "code",
   "execution_count": 146,
   "metadata": {
    "id": "Hb2Hz871HRCQ"
   },
   "outputs": [],
   "source": [
    "from sklearn.preprocessing import LabelEncoder\n",
    "from sklearn.preprocessing import OneHotEncoder"
   ]
  },
  {
   "cell_type": "code",
   "execution_count": 147,
   "metadata": {
    "colab": {
     "base_uri": "https://localhost:8080/",
     "height": 419
    },
    "executionInfo": {
     "elapsed": 1670,
     "status": "ok",
     "timestamp": 1611842545415,
     "user": {
      "displayName": "Santiago Locatelli",
      "photoUrl": "https://lh3.googleusercontent.com/a-/AOh14GgeVxG2kiEQI6C8oXkI3lK3HqO_JXoYzUN4QsfA=s64",
      "userId": "08672575338160706301"
     },
     "user_tz": 180
    },
    "id": "QsIoRqvvJkW5",
    "outputId": "9bdd96cd-71cf-4c52-b0c5-b24f9c18437a"
   },
   "outputs": [
    {
     "name": "stdout",
     "output_type": "stream",
     "text": [
      "Training (15083, 6) (15083,)\n",
      "Test (1435, 6) (1435,)\n"
     ]
    }
   ],
   "source": [
    "print ('Training', X_training.shape, Y_training.shape)\n",
    "print ('Test', X_test.shape, Y_test.shape)"
   ]
  },
  {
   "cell_type": "markdown",
   "metadata": {},
   "source": [
    "# Encoder"
   ]
  },
  {
   "cell_type": "code",
   "execution_count": 148,
   "metadata": {
    "id": "NUktFhwQGKW_"
   },
   "outputs": [],
   "source": [
    "ohe = OneHotEncoder(handle_unknown= 'ignore')\n",
    "ohe.fit(X_training)\n",
    "X_training_enc = ohe.transform(X_training)\n",
    "X_test_enc = ohe.transform(X_test)"
   ]
  },
  {
   "cell_type": "code",
   "execution_count": 164,
   "metadata": {
    "id": "qifHB_41RF0t"
   },
   "outputs": [],
   "source": [
    "rfc = RandomForestClassifier(n_estimators=1000, max_depth = 5)\n",
    "#n_estimators se refiere a la cantidad de arboles de decisiones que usa el rfc"
   ]
  },
  {
   "cell_type": "code",
   "execution_count": 165,
   "metadata": {
    "colab": {
     "base_uri": "https://localhost:8080/"
    },
    "executionInfo": {
     "elapsed": 13171,
     "status": "ok",
     "timestamp": 1611842556951,
     "user": {
      "displayName": "Santiago Locatelli",
      "photoUrl": "https://lh3.googleusercontent.com/a-/AOh14GgeVxG2kiEQI6C8oXkI3lK3HqO_JXoYzUN4QsfA=s64",
      "userId": "08672575338160706301"
     },
     "user_tz": 180
    },
    "id": "8pOOpnxIRZVp",
    "outputId": "d2dbd996-2608-4751-ef32-d1522dbbe04c"
   },
   "outputs": [
    {
     "data": {
      "text/plain": [
       "RandomForestClassifier(max_depth=1, n_estimators=1000)"
      ]
     },
     "execution_count": 165,
     "metadata": {},
     "output_type": "execute_result"
    }
   ],
   "source": [
    "rfc.fit(X_training_enc, Y_training)"
   ]
  },
  {
   "cell_type": "code",
   "execution_count": 166,
   "metadata": {
    "id": "AeXFDbkAKGKf"
   },
   "outputs": [],
   "source": [
    "rfc_pred = rfc.predict(X_test_enc)"
   ]
  },
  {
   "cell_type": "code",
   "execution_count": 167,
   "metadata": {
    "colab": {
     "base_uri": "https://localhost:8080/"
    },
    "executionInfo": {
     "elapsed": 13693,
     "status": "ok",
     "timestamp": 1611842557489,
     "user": {
      "displayName": "Santiago Locatelli",
      "photoUrl": "https://lh3.googleusercontent.com/a-/AOh14GgeVxG2kiEQI6C8oXkI3lK3HqO_JXoYzUN4QsfA=s64",
      "userId": "08672575338160706301"
     },
     "user_tz": 180
    },
    "id": "GBhgHCllOrNF",
    "outputId": "13b3ff96-26c7-4f88-98ca-43bea263fdec"
   },
   "outputs": [
    {
     "name": "stdout",
     "output_type": "stream",
     "text": [
      "              precision    recall  f1-score   support\n",
      "\n",
      " Closed Lost       0.71      0.07      0.13       640\n",
      "  Closed Won       0.57      0.98      0.72       795\n",
      "\n",
      "    accuracy                           0.57      1435\n",
      "   macro avg       0.64      0.52      0.42      1435\n",
      "weighted avg       0.63      0.57      0.45      1435\n",
      "\n",
      "[[ 45 595]\n",
      " [ 18 777]]\n"
     ]
    }
   ],
   "source": [
    "print(classification_report(Y_test, rfc_pred))\n",
    "print(confusion_matrix(Y_test, rfc_pred))"
   ]
  }
 ],
 "metadata": {
  "colab": {
   "authorship_tag": "ABX9TyOlC+WEbUgFltc/bgyKEGoL",
   "mount_file_id": "1Vzrxyhem9r2kON2y2vTAoobxd9dhbuU6",
   "name": "RandomForest",
   "provenance": []
  },
  "kernelspec": {
   "display_name": "Python 3",
   "language": "python",
   "name": "python3"
  },
  "language_info": {
   "codemirror_mode": {
    "name": "ipython",
    "version": 3
   },
   "file_extension": ".py",
   "mimetype": "text/x-python",
   "name": "python",
   "nbconvert_exporter": "python",
   "pygments_lexer": "ipython3",
   "version": "3.8.3"
  }
 },
 "nbformat": 4,
 "nbformat_minor": 1
}
