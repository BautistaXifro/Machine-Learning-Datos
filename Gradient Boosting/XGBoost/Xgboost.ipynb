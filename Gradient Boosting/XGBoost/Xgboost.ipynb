{
 "cells": [
  {
   "cell_type": "code",
   "execution_count": 721,
   "metadata": {
    "id": "NdpUTv-deTHq"
   },
   "outputs": [],
   "source": [
    "# Tratamiento de datos\n",
    "# ==============================================================================\n",
    "import numpy as np\n",
    "import pandas as pd\n",
    "\n",
    "# Gráficos\n",
    "# ==============================================================================\n",
    "import matplotlib.pyplot as plt\n",
    "from matplotlib import style\n",
    "import matplotlib.ticker as ticker\n",
    "import seaborn as sns\n",
    "\n",
    "# Preprocesado y modelado\n",
    "# ==============================================================================\n",
    "import xgboost as xgb\n",
    "from xgboost import XGBClassifier\n",
    "from sklearn.model_selection import train_test_split\n",
    "from sklearn.metrics import mean_squared_error\n",
    "from sklearn.model_selection import RandomizedSearchCV, GridSearchCV\n",
    "from sklearn.metrics import accuracy_score\n",
    "from sklearn.preprocessing import OneHotEncoder\n",
    "import matplotlib.pyplot as plt\n",
    "from sklearn.model_selection import ParameterGrid\n",
    "from sklearn.metrics import roc_auc_score\n",
    "from sklearn.model_selection import StratifiedKFold\n",
    "from sklearn.metrics import log_loss\n",
    "\n",
    "# Descarga del target\n",
    "# ==============================================================================\n",
    "from google.colab import files\n",
    "\n",
    "#Extra\n",
    "# ==============================================================================\n",
    "from datetime import datetime"
   ]
  },
  {
   "cell_type": "code",
   "execution_count": 722,
   "metadata": {
    "id": "GB0w3w7gucKT"
   },
   "outputs": [],
   "source": [
    "# Configuración matplotlib\n",
    "# ==============================================================================\n",
    "plt.rcParams['image.cmap'] = \"bwr\"\n",
    "plt.rcParams['figure.dpi'] = \"100\"\n",
    "plt.rcParams['savefig.bbox'] = \"tight\"\n",
    "style.use('ggplot') or plt.style.use('ggplot')\n",
    "\n",
    "# Configuración warnings\n",
    "# ==============================================================================\n",
    "import warnings\n",
    "warnings.filterwarnings('ignore')"
   ]
  },
  {
   "cell_type": "markdown",
   "metadata": {
    "id": "buPrF-ugpkVr"
   },
   "source": [
    "#Primer DataFrame Encodeado\n"
   ]
  },
  {
   "cell_type": "markdown",
   "metadata": {
    "id": "nyHM7wmFp20u"
   },
   "source": [
    "##Xgboost Regressor"
   ]
  },
  {
   "cell_type": "markdown",
   "metadata": {
    "id": "6NsghLuqXUoe"
   },
   "source": [
    "###Entrenamiento"
   ]
  },
  {
   "cell_type": "code",
   "execution_count": 723,
   "metadata": {
    "id": "aDlqy8YnXQp5"
   },
   "outputs": [],
   "source": [
    "DataFrame2 = pd.read_csv('/content/short_df_Encoded.csv')"
   ]
  },
  {
   "cell_type": "code",
   "execution_count": 724,
   "metadata": {
    "colab": {
     "base_uri": "https://localhost:8080/",
     "height": 204
    },
    "id": "zAlZ-_tXXf1i",
    "outputId": "c4e1bbba-4e5f-47a5-82ca-22b0ecdc9d04"
   },
   "outputs": [
    {
     "data": {
      "text/html": [
       "<div>\n",
       "<style scoped>\n",
       "    .dataframe tbody tr th:only-of-type {\n",
       "        vertical-align: middle;\n",
       "    }\n",
       "\n",
       "    .dataframe tbody tr th {\n",
       "        vertical-align: top;\n",
       "    }\n",
       "\n",
       "    .dataframe thead th {\n",
       "        text-align: right;\n",
       "    }\n",
       "</style>\n",
       "<table border=\"1\" class=\"dataframe\">\n",
       "  <thead>\n",
       "    <tr style=\"text-align: right;\">\n",
       "      <th></th>\n",
       "      <th>Unnamed: 0</th>\n",
       "      <th>Region_APAC</th>\n",
       "      <th>Region_Americas</th>\n",
       "      <th>Region_EMEA</th>\n",
       "      <th>Region_Japan</th>\n",
       "      <th>Region_Middle East</th>\n",
       "      <th>Total_Amount</th>\n",
       "      <th>TRF</th>\n",
       "      <th>Pricing, Delivery_Terms_Approved</th>\n",
       "      <th>Pricing, Delivery_Terms_Quote_Appr</th>\n",
       "      <th>Decision</th>\n",
       "    </tr>\n",
       "  </thead>\n",
       "  <tbody>\n",
       "    <tr>\n",
       "      <th>0</th>\n",
       "      <td>0</td>\n",
       "      <td>0.0</td>\n",
       "      <td>0.0</td>\n",
       "      <td>1.0</td>\n",
       "      <td>0.0</td>\n",
       "      <td>0.0</td>\n",
       "      <td>15.635076</td>\n",
       "      <td>10.0</td>\n",
       "      <td>1.0</td>\n",
       "      <td>1.0</td>\n",
       "      <td>0.0</td>\n",
       "    </tr>\n",
       "    <tr>\n",
       "      <th>1</th>\n",
       "      <td>1</td>\n",
       "      <td>0.0</td>\n",
       "      <td>0.0</td>\n",
       "      <td>1.0</td>\n",
       "      <td>0.0</td>\n",
       "      <td>0.0</td>\n",
       "      <td>10.940740</td>\n",
       "      <td>0.0</td>\n",
       "      <td>0.0</td>\n",
       "      <td>0.0</td>\n",
       "      <td>1.0</td>\n",
       "    </tr>\n",
       "    <tr>\n",
       "      <th>2</th>\n",
       "      <td>2</td>\n",
       "      <td>0.0</td>\n",
       "      <td>1.0</td>\n",
       "      <td>0.0</td>\n",
       "      <td>0.0</td>\n",
       "      <td>0.0</td>\n",
       "      <td>11.336971</td>\n",
       "      <td>0.0</td>\n",
       "      <td>0.0</td>\n",
       "      <td>0.0</td>\n",
       "      <td>1.0</td>\n",
       "    </tr>\n",
       "    <tr>\n",
       "      <th>3</th>\n",
       "      <td>3</td>\n",
       "      <td>0.0</td>\n",
       "      <td>1.0</td>\n",
       "      <td>0.0</td>\n",
       "      <td>0.0</td>\n",
       "      <td>0.0</td>\n",
       "      <td>15.819943</td>\n",
       "      <td>14.0</td>\n",
       "      <td>0.0</td>\n",
       "      <td>1.0</td>\n",
       "      <td>0.0</td>\n",
       "    </tr>\n",
       "    <tr>\n",
       "      <th>4</th>\n",
       "      <td>4</td>\n",
       "      <td>0.0</td>\n",
       "      <td>1.0</td>\n",
       "      <td>0.0</td>\n",
       "      <td>0.0</td>\n",
       "      <td>0.0</td>\n",
       "      <td>16.407566</td>\n",
       "      <td>25.0</td>\n",
       "      <td>0.0</td>\n",
       "      <td>1.0</td>\n",
       "      <td>0.0</td>\n",
       "    </tr>\n",
       "  </tbody>\n",
       "</table>\n",
       "</div>"
      ],
      "text/plain": [
       "   Unnamed: 0  Region_APAC  ...  Pricing, Delivery_Terms_Quote_Appr  Decision\n",
       "0           0          0.0  ...                                 1.0       0.0\n",
       "1           1          0.0  ...                                 0.0       1.0\n",
       "2           2          0.0  ...                                 0.0       1.0\n",
       "3           3          0.0  ...                                 1.0       0.0\n",
       "4           4          0.0  ...                                 1.0       0.0\n",
       "\n",
       "[5 rows x 11 columns]"
      ]
     },
     "execution_count": 724,
     "metadata": {
      "tags": []
     },
     "output_type": "execute_result"
    }
   ],
   "source": [
    "DataFrame2.head()"
   ]
  },
  {
   "cell_type": "code",
   "execution_count": 725,
   "metadata": {
    "id": "f-XYvNS_YPjt"
   },
   "outputs": [],
   "source": [
    "DataFrame2.drop(columns = {'Unnamed: 0'}, inplace = True)"
   ]
  },
  {
   "cell_type": "code",
   "execution_count": 726,
   "metadata": {
    "colab": {
     "base_uri": "https://localhost:8080/",
     "height": 204
    },
    "id": "rIjE-oOaYVrQ",
    "outputId": "ee08d5b7-9193-46c8-be47-9d8900abc891"
   },
   "outputs": [
    {
     "data": {
      "text/html": [
       "<div>\n",
       "<style scoped>\n",
       "    .dataframe tbody tr th:only-of-type {\n",
       "        vertical-align: middle;\n",
       "    }\n",
       "\n",
       "    .dataframe tbody tr th {\n",
       "        vertical-align: top;\n",
       "    }\n",
       "\n",
       "    .dataframe thead th {\n",
       "        text-align: right;\n",
       "    }\n",
       "</style>\n",
       "<table border=\"1\" class=\"dataframe\">\n",
       "  <thead>\n",
       "    <tr style=\"text-align: right;\">\n",
       "      <th></th>\n",
       "      <th>Region_APAC</th>\n",
       "      <th>Region_Americas</th>\n",
       "      <th>Region_EMEA</th>\n",
       "      <th>Region_Japan</th>\n",
       "      <th>Region_Middle East</th>\n",
       "      <th>Total_Amount</th>\n",
       "      <th>TRF</th>\n",
       "      <th>Pricing, Delivery_Terms_Approved</th>\n",
       "      <th>Pricing, Delivery_Terms_Quote_Appr</th>\n",
       "      <th>Decision</th>\n",
       "    </tr>\n",
       "  </thead>\n",
       "  <tbody>\n",
       "    <tr>\n",
       "      <th>0</th>\n",
       "      <td>0.0</td>\n",
       "      <td>0.0</td>\n",
       "      <td>1.0</td>\n",
       "      <td>0.0</td>\n",
       "      <td>0.0</td>\n",
       "      <td>15.635076</td>\n",
       "      <td>10.0</td>\n",
       "      <td>1.0</td>\n",
       "      <td>1.0</td>\n",
       "      <td>0.0</td>\n",
       "    </tr>\n",
       "    <tr>\n",
       "      <th>1</th>\n",
       "      <td>0.0</td>\n",
       "      <td>0.0</td>\n",
       "      <td>1.0</td>\n",
       "      <td>0.0</td>\n",
       "      <td>0.0</td>\n",
       "      <td>10.940740</td>\n",
       "      <td>0.0</td>\n",
       "      <td>0.0</td>\n",
       "      <td>0.0</td>\n",
       "      <td>1.0</td>\n",
       "    </tr>\n",
       "    <tr>\n",
       "      <th>2</th>\n",
       "      <td>0.0</td>\n",
       "      <td>1.0</td>\n",
       "      <td>0.0</td>\n",
       "      <td>0.0</td>\n",
       "      <td>0.0</td>\n",
       "      <td>11.336971</td>\n",
       "      <td>0.0</td>\n",
       "      <td>0.0</td>\n",
       "      <td>0.0</td>\n",
       "      <td>1.0</td>\n",
       "    </tr>\n",
       "    <tr>\n",
       "      <th>3</th>\n",
       "      <td>0.0</td>\n",
       "      <td>1.0</td>\n",
       "      <td>0.0</td>\n",
       "      <td>0.0</td>\n",
       "      <td>0.0</td>\n",
       "      <td>15.819943</td>\n",
       "      <td>14.0</td>\n",
       "      <td>0.0</td>\n",
       "      <td>1.0</td>\n",
       "      <td>0.0</td>\n",
       "    </tr>\n",
       "    <tr>\n",
       "      <th>4</th>\n",
       "      <td>0.0</td>\n",
       "      <td>1.0</td>\n",
       "      <td>0.0</td>\n",
       "      <td>0.0</td>\n",
       "      <td>0.0</td>\n",
       "      <td>16.407566</td>\n",
       "      <td>25.0</td>\n",
       "      <td>0.0</td>\n",
       "      <td>1.0</td>\n",
       "      <td>0.0</td>\n",
       "    </tr>\n",
       "  </tbody>\n",
       "</table>\n",
       "</div>"
      ],
      "text/plain": [
       "   Region_APAC  Region_Americas  ...  Pricing, Delivery_Terms_Quote_Appr  Decision\n",
       "0          0.0              0.0  ...                                 1.0       0.0\n",
       "1          0.0              0.0  ...                                 0.0       1.0\n",
       "2          0.0              1.0  ...                                 0.0       1.0\n",
       "3          0.0              1.0  ...                                 1.0       0.0\n",
       "4          0.0              1.0  ...                                 1.0       0.0\n",
       "\n",
       "[5 rows x 10 columns]"
      ]
     },
     "execution_count": 726,
     "metadata": {
      "tags": []
     },
     "output_type": "execute_result"
    }
   ],
   "source": [
    "DataFrame2.head()"
   ]
  },
  {
   "cell_type": "code",
   "execution_count": 727,
   "metadata": {
    "id": "JzRx_k7sYtdD"
   },
   "outputs": [],
   "source": [
    "DataFrame2Train = DataFrame2.loc[:,DataFrame2.columns != 'Decision']"
   ]
  },
  {
   "cell_type": "code",
   "execution_count": 728,
   "metadata": {
    "id": "yfJnO6_gY0O6"
   },
   "outputs": [],
   "source": [
    "DataFrame2Test  =  DataFrame2.loc[:,'Decision']"
   ]
  },
  {
   "cell_type": "code",
   "execution_count": 729,
   "metadata": {
    "colab": {
     "base_uri": "https://localhost:8080/"
    },
    "id": "W8QVCY8lZu5q",
    "outputId": "354b7dcd-f033-42ae-b39f-db93c086df6e"
   },
   "outputs": [
    {
     "data": {
      "text/plain": [
       "((16772, 9), (16772,), (16772, 10))"
      ]
     },
     "execution_count": 729,
     "metadata": {
      "tags": []
     },
     "output_type": "execute_result"
    }
   ],
   "source": [
    "DataFrame2Train.shape, DataFrame2Test.shape, DataFrame2.shape"
   ]
  },
  {
   "cell_type": "code",
   "execution_count": 730,
   "metadata": {
    "id": "7PH-rB04Yb-7"
   },
   "outputs": [],
   "source": [
    "x_train, x_test, y_train, y_test = train_test_split(DataFrame2Train,DataFrame2Test,test_size = 0.2, random_state = 0)"
   ]
  },
  {
   "cell_type": "code",
   "execution_count": 731,
   "metadata": {
    "id": "ygImIFu7ZNQf"
   },
   "outputs": [],
   "source": [
    "xg_Regressor1 = xgb.XGBRegressor(colsample_bytree= 0.8, gamma= 1.5, learning_rate= 0.01, max_depth= 20, min_child_weight= 1, n_estimators= 200, subsample= 0.8)"
   ]
  },
  {
   "cell_type": "code",
   "execution_count": 732,
   "metadata": {
    "colab": {
     "base_uri": "https://localhost:8080/"
    },
    "id": "IHGpFTI9afbQ",
    "outputId": "a366c76d-64c2-4b20-aa66-57690c90ccb1"
   },
   "outputs": [
    {
     "name": "stdout",
     "output_type": "stream",
     "text": [
      "[15:40:45] WARNING: /workspace/src/objective/regression_obj.cu:152: reg:linear is now deprecated in favor of reg:squarederror.\n"
     ]
    },
    {
     "data": {
      "text/plain": [
       "XGBRegressor(base_score=0.5, booster='gbtree', colsample_bylevel=1,\n",
       "             colsample_bynode=1, colsample_bytree=0.8, gamma=1.5,\n",
       "             importance_type='gain', learning_rate=0.01, max_delta_step=0,\n",
       "             max_depth=20, min_child_weight=1, missing=None, n_estimators=200,\n",
       "             n_jobs=1, nthread=None, objective='reg:linear', random_state=0,\n",
       "             reg_alpha=0, reg_lambda=1, scale_pos_weight=1, seed=None,\n",
       "             silent=None, subsample=0.8, verbosity=1)"
      ]
     },
     "execution_count": 732,
     "metadata": {
      "tags": []
     },
     "output_type": "execute_result"
    }
   ],
   "source": [
    "xg_Regressor1.fit(x_train,y_train)"
   ]
  },
  {
   "cell_type": "code",
   "execution_count": 733,
   "metadata": {
    "id": "eb73p0AmauYx"
   },
   "outputs": [],
   "source": [
    "predsRegressor1 = xg_Regressor1.predict(x_test)"
   ]
  },
  {
   "cell_type": "code",
   "execution_count": 734,
   "metadata": {
    "colab": {
     "base_uri": "https://localhost:8080/"
    },
    "id": "oZJ5nHq3ay4C",
    "outputId": "ded9d115-5fbb-40b7-acb0-7a4dc4eb18ba"
   },
   "outputs": [
    {
     "data": {
      "text/plain": [
       "0.880869    117\n",
       "0.905074     67\n",
       "0.895266     61\n",
       "0.148149     42\n",
       "0.880080     42\n",
       "           ... \n",
       "0.144152      1\n",
       "0.627397      1\n",
       "0.584428      1\n",
       "0.526376      1\n",
       "0.342099      1\n",
       "Name: pred, Length: 1931, dtype: int64"
      ]
     },
     "execution_count": 734,
     "metadata": {
      "tags": []
     },
     "output_type": "execute_result"
    }
   ],
   "source": [
    "value_pred_Regressor1 = pd.DataFrame()\n",
    "value_pred_Regressor1['pred'] = predsRegressor1\n",
    "value_pred_Regressor1['pred'].value_counts()"
   ]
  },
  {
   "cell_type": "code",
   "execution_count": 735,
   "metadata": {
    "colab": {
     "base_uri": "https://localhost:8080/"
    },
    "id": "GZ6nXksWa9Eo",
    "outputId": "19b56195-9786-4729-bd55-bcd6f0913f92"
   },
   "outputs": [
    {
     "name": "stdout",
     "output_type": "stream",
     "text": [
      "RMSE: 0.371824\n"
     ]
    }
   ],
   "source": [
    "rmseRegressor1 = np.sqrt(mean_squared_error(y_test, predsRegressor1))\n",
    "print(\"RMSE: %f\" % (rmseRegressor1))"
   ]
  },
  {
   "cell_type": "code",
   "execution_count": 736,
   "metadata": {
    "colab": {
     "base_uri": "https://localhost:8080/"
    },
    "id": "Ex9PpD2Rbg7K",
    "outputId": "5454fa55-9b09-4b13-eb80-ca00aea121b9"
   },
   "outputs": [
    {
     "name": "stdout",
     "output_type": "stream",
     "text": [
      "Log Loss is 0.4387157682046272\n"
     ]
    }
   ],
   "source": [
    "lossRegressor1 = log_loss(y_test, predsRegressor1)\n",
    "print(f\"Log Loss is {loss}\")"
   ]
  },
  {
   "cell_type": "markdown",
   "metadata": {
    "id": "pFDQLgt-Hj0P"
   },
   "source": [
    "###Test"
   ]
  },
  {
   "cell_type": "code",
   "execution_count": 737,
   "metadata": {
    "id": "e3fqgwJvHjQA"
   },
   "outputs": [],
   "source": [
    "DataFrameTest = pd.read_csv('/content/DataFrame_test_encoded.csv')"
   ]
  },
  {
   "cell_type": "code",
   "execution_count": 738,
   "metadata": {
    "colab": {
     "base_uri": "https://localhost:8080/",
     "height": 221
    },
    "id": "6-ahowsrHr-P",
    "outputId": "a5c492f7-0ad2-41ba-aba5-0a9dc1236628"
   },
   "outputs": [
    {
     "data": {
      "text/html": [
       "<div>\n",
       "<style scoped>\n",
       "    .dataframe tbody tr th:only-of-type {\n",
       "        vertical-align: middle;\n",
       "    }\n",
       "\n",
       "    .dataframe tbody tr th {\n",
       "        vertical-align: top;\n",
       "    }\n",
       "\n",
       "    .dataframe thead th {\n",
       "        text-align: right;\n",
       "    }\n",
       "</style>\n",
       "<table border=\"1\" class=\"dataframe\">\n",
       "  <thead>\n",
       "    <tr style=\"text-align: right;\">\n",
       "      <th></th>\n",
       "      <th>Unnamed: 0</th>\n",
       "      <th>Region_APAC</th>\n",
       "      <th>Region_Americas</th>\n",
       "      <th>Region_EMEA</th>\n",
       "      <th>Region_Japan</th>\n",
       "      <th>Region_Middle East</th>\n",
       "      <th>Opportunity_ID</th>\n",
       "      <th>Total_Amount</th>\n",
       "      <th>TRF</th>\n",
       "      <th>Pricing, Delivery_Terms_Approved</th>\n",
       "      <th>Pricing, Delivery_Terms_Quote_Appr</th>\n",
       "    </tr>\n",
       "  </thead>\n",
       "  <tbody>\n",
       "    <tr>\n",
       "      <th>0</th>\n",
       "      <td>0</td>\n",
       "      <td>0.0</td>\n",
       "      <td>0.0</td>\n",
       "      <td>1.0</td>\n",
       "      <td>0.0</td>\n",
       "      <td>0.0</td>\n",
       "      <td>10689</td>\n",
       "      <td>11.905436</td>\n",
       "      <td>0.0</td>\n",
       "      <td>1.0</td>\n",
       "      <td>1.0</td>\n",
       "    </tr>\n",
       "    <tr>\n",
       "      <th>1</th>\n",
       "      <td>1</td>\n",
       "      <td>0.0</td>\n",
       "      <td>0.0</td>\n",
       "      <td>1.0</td>\n",
       "      <td>0.0</td>\n",
       "      <td>0.0</td>\n",
       "      <td>10690</td>\n",
       "      <td>11.787392</td>\n",
       "      <td>0.0</td>\n",
       "      <td>1.0</td>\n",
       "      <td>1.0</td>\n",
       "    </tr>\n",
       "    <tr>\n",
       "      <th>2</th>\n",
       "      <td>2</td>\n",
       "      <td>0.0</td>\n",
       "      <td>1.0</td>\n",
       "      <td>0.0</td>\n",
       "      <td>0.0</td>\n",
       "      <td>0.0</td>\n",
       "      <td>10691</td>\n",
       "      <td>9.954062</td>\n",
       "      <td>0.0</td>\n",
       "      <td>1.0</td>\n",
       "      <td>1.0</td>\n",
       "    </tr>\n",
       "    <tr>\n",
       "      <th>3</th>\n",
       "      <td>3</td>\n",
       "      <td>0.0</td>\n",
       "      <td>1.0</td>\n",
       "      <td>0.0</td>\n",
       "      <td>0.0</td>\n",
       "      <td>0.0</td>\n",
       "      <td>10692</td>\n",
       "      <td>12.338534</td>\n",
       "      <td>1.0</td>\n",
       "      <td>1.0</td>\n",
       "      <td>1.0</td>\n",
       "    </tr>\n",
       "    <tr>\n",
       "      <th>4</th>\n",
       "      <td>4</td>\n",
       "      <td>0.0</td>\n",
       "      <td>1.0</td>\n",
       "      <td>0.0</td>\n",
       "      <td>0.0</td>\n",
       "      <td>0.0</td>\n",
       "      <td>10693</td>\n",
       "      <td>8.657390</td>\n",
       "      <td>0.0</td>\n",
       "      <td>0.0</td>\n",
       "      <td>0.0</td>\n",
       "    </tr>\n",
       "  </tbody>\n",
       "</table>\n",
       "</div>"
      ],
      "text/plain": [
       "   Unnamed: 0  ...  Pricing, Delivery_Terms_Quote_Appr\n",
       "0           0  ...                                 1.0\n",
       "1           1  ...                                 1.0\n",
       "2           2  ...                                 1.0\n",
       "3           3  ...                                 1.0\n",
       "4           4  ...                                 0.0\n",
       "\n",
       "[5 rows x 11 columns]"
      ]
     },
     "execution_count": 738,
     "metadata": {
      "tags": []
     },
     "output_type": "execute_result"
    }
   ],
   "source": [
    "DataFrameTest.head()"
   ]
  },
  {
   "cell_type": "code",
   "execution_count": 739,
   "metadata": {
    "id": "Nu4RDC5lHuNr"
   },
   "outputs": [],
   "source": [
    "DataFrameTest.drop(columns = {'Unnamed: 0'}, inplace = True)"
   ]
  },
  {
   "cell_type": "code",
   "execution_count": 740,
   "metadata": {
    "colab": {
     "base_uri": "https://localhost:8080/",
     "height": 204
    },
    "id": "3Bc-yf7hHvSD",
    "outputId": "c8d4f619-c8f8-4307-9104-85d17300ef15"
   },
   "outputs": [
    {
     "data": {
      "text/html": [
       "<div>\n",
       "<style scoped>\n",
       "    .dataframe tbody tr th:only-of-type {\n",
       "        vertical-align: middle;\n",
       "    }\n",
       "\n",
       "    .dataframe tbody tr th {\n",
       "        vertical-align: top;\n",
       "    }\n",
       "\n",
       "    .dataframe thead th {\n",
       "        text-align: right;\n",
       "    }\n",
       "</style>\n",
       "<table border=\"1\" class=\"dataframe\">\n",
       "  <thead>\n",
       "    <tr style=\"text-align: right;\">\n",
       "      <th></th>\n",
       "      <th>Region_APAC</th>\n",
       "      <th>Region_Americas</th>\n",
       "      <th>Region_EMEA</th>\n",
       "      <th>Region_Japan</th>\n",
       "      <th>Region_Middle East</th>\n",
       "      <th>Opportunity_ID</th>\n",
       "      <th>Total_Amount</th>\n",
       "      <th>TRF</th>\n",
       "      <th>Pricing, Delivery_Terms_Approved</th>\n",
       "      <th>Pricing, Delivery_Terms_Quote_Appr</th>\n",
       "    </tr>\n",
       "  </thead>\n",
       "  <tbody>\n",
       "    <tr>\n",
       "      <th>0</th>\n",
       "      <td>0.0</td>\n",
       "      <td>0.0</td>\n",
       "      <td>1.0</td>\n",
       "      <td>0.0</td>\n",
       "      <td>0.0</td>\n",
       "      <td>10689</td>\n",
       "      <td>11.905436</td>\n",
       "      <td>0.0</td>\n",
       "      <td>1.0</td>\n",
       "      <td>1.0</td>\n",
       "    </tr>\n",
       "    <tr>\n",
       "      <th>1</th>\n",
       "      <td>0.0</td>\n",
       "      <td>0.0</td>\n",
       "      <td>1.0</td>\n",
       "      <td>0.0</td>\n",
       "      <td>0.0</td>\n",
       "      <td>10690</td>\n",
       "      <td>11.787392</td>\n",
       "      <td>0.0</td>\n",
       "      <td>1.0</td>\n",
       "      <td>1.0</td>\n",
       "    </tr>\n",
       "    <tr>\n",
       "      <th>2</th>\n",
       "      <td>0.0</td>\n",
       "      <td>1.0</td>\n",
       "      <td>0.0</td>\n",
       "      <td>0.0</td>\n",
       "      <td>0.0</td>\n",
       "      <td>10691</td>\n",
       "      <td>9.954062</td>\n",
       "      <td>0.0</td>\n",
       "      <td>1.0</td>\n",
       "      <td>1.0</td>\n",
       "    </tr>\n",
       "    <tr>\n",
       "      <th>3</th>\n",
       "      <td>0.0</td>\n",
       "      <td>1.0</td>\n",
       "      <td>0.0</td>\n",
       "      <td>0.0</td>\n",
       "      <td>0.0</td>\n",
       "      <td>10692</td>\n",
       "      <td>12.338534</td>\n",
       "      <td>1.0</td>\n",
       "      <td>1.0</td>\n",
       "      <td>1.0</td>\n",
       "    </tr>\n",
       "    <tr>\n",
       "      <th>4</th>\n",
       "      <td>0.0</td>\n",
       "      <td>1.0</td>\n",
       "      <td>0.0</td>\n",
       "      <td>0.0</td>\n",
       "      <td>0.0</td>\n",
       "      <td>10693</td>\n",
       "      <td>8.657390</td>\n",
       "      <td>0.0</td>\n",
       "      <td>0.0</td>\n",
       "      <td>0.0</td>\n",
       "    </tr>\n",
       "  </tbody>\n",
       "</table>\n",
       "</div>"
      ],
      "text/plain": [
       "   Region_APAC  ...  Pricing, Delivery_Terms_Quote_Appr\n",
       "0          0.0  ...                                 1.0\n",
       "1          0.0  ...                                 1.0\n",
       "2          0.0  ...                                 1.0\n",
       "3          0.0  ...                                 1.0\n",
       "4          0.0  ...                                 0.0\n",
       "\n",
       "[5 rows x 10 columns]"
      ]
     },
     "execution_count": 740,
     "metadata": {
      "tags": []
     },
     "output_type": "execute_result"
    }
   ],
   "source": [
    "DataFrameTest.head()"
   ]
  },
  {
   "cell_type": "code",
   "execution_count": 741,
   "metadata": {
    "id": "d51dcYGOMbGo"
   },
   "outputs": [],
   "source": [
    "DescargaPredRegressor1 = pd.DataFrame()\n",
    "DescargaPredRegressor1['Opportunity_ID'] = DataFrameTest['Opportunity_ID']\n",
    "DescargaPredRegressor1.set_index('Opportunity_ID', inplace = True)\n",
    "#Tambien separo para el test\n",
    "#-----------------------------------------------------------------------\n",
    "DescargaPredClassificator1 = pd.DataFrame()\n",
    "DescargaPredClassificator1['Opportunity_ID'] = DataFrameTest['Opportunity_ID']\n",
    "DescargaPredClassificator1.set_index('Opportunity_ID', inplace = True)"
   ]
  },
  {
   "cell_type": "code",
   "execution_count": 742,
   "metadata": {
    "colab": {
     "base_uri": "https://localhost:8080/",
     "height": 204
    },
    "id": "-16ev1WxKydw",
    "outputId": "5e3a7d27-88f0-475b-974d-fd8f20b381eb"
   },
   "outputs": [
    {
     "data": {
      "text/html": [
       "<div>\n",
       "<style scoped>\n",
       "    .dataframe tbody tr th:only-of-type {\n",
       "        vertical-align: middle;\n",
       "    }\n",
       "\n",
       "    .dataframe tbody tr th {\n",
       "        vertical-align: top;\n",
       "    }\n",
       "\n",
       "    .dataframe thead th {\n",
       "        text-align: right;\n",
       "    }\n",
       "</style>\n",
       "<table border=\"1\" class=\"dataframe\">\n",
       "  <thead>\n",
       "    <tr style=\"text-align: right;\">\n",
       "      <th></th>\n",
       "      <th>Region_APAC</th>\n",
       "      <th>Region_Americas</th>\n",
       "      <th>Region_EMEA</th>\n",
       "      <th>Region_Japan</th>\n",
       "      <th>Region_Middle East</th>\n",
       "      <th>Total_Amount</th>\n",
       "      <th>TRF</th>\n",
       "      <th>Pricing, Delivery_Terms_Approved</th>\n",
       "      <th>Pricing, Delivery_Terms_Quote_Appr</th>\n",
       "    </tr>\n",
       "  </thead>\n",
       "  <tbody>\n",
       "    <tr>\n",
       "      <th>0</th>\n",
       "      <td>0.0</td>\n",
       "      <td>0.0</td>\n",
       "      <td>1.0</td>\n",
       "      <td>0.0</td>\n",
       "      <td>0.0</td>\n",
       "      <td>11.905436</td>\n",
       "      <td>0.0</td>\n",
       "      <td>1.0</td>\n",
       "      <td>1.0</td>\n",
       "    </tr>\n",
       "    <tr>\n",
       "      <th>1</th>\n",
       "      <td>0.0</td>\n",
       "      <td>0.0</td>\n",
       "      <td>1.0</td>\n",
       "      <td>0.0</td>\n",
       "      <td>0.0</td>\n",
       "      <td>11.787392</td>\n",
       "      <td>0.0</td>\n",
       "      <td>1.0</td>\n",
       "      <td>1.0</td>\n",
       "    </tr>\n",
       "    <tr>\n",
       "      <th>2</th>\n",
       "      <td>0.0</td>\n",
       "      <td>1.0</td>\n",
       "      <td>0.0</td>\n",
       "      <td>0.0</td>\n",
       "      <td>0.0</td>\n",
       "      <td>9.954062</td>\n",
       "      <td>0.0</td>\n",
       "      <td>1.0</td>\n",
       "      <td>1.0</td>\n",
       "    </tr>\n",
       "    <tr>\n",
       "      <th>3</th>\n",
       "      <td>0.0</td>\n",
       "      <td>1.0</td>\n",
       "      <td>0.0</td>\n",
       "      <td>0.0</td>\n",
       "      <td>0.0</td>\n",
       "      <td>12.338534</td>\n",
       "      <td>1.0</td>\n",
       "      <td>1.0</td>\n",
       "      <td>1.0</td>\n",
       "    </tr>\n",
       "    <tr>\n",
       "      <th>4</th>\n",
       "      <td>0.0</td>\n",
       "      <td>1.0</td>\n",
       "      <td>0.0</td>\n",
       "      <td>0.0</td>\n",
       "      <td>0.0</td>\n",
       "      <td>8.657390</td>\n",
       "      <td>0.0</td>\n",
       "      <td>0.0</td>\n",
       "      <td>0.0</td>\n",
       "    </tr>\n",
       "  </tbody>\n",
       "</table>\n",
       "</div>"
      ],
      "text/plain": [
       "   Region_APAC  ...  Pricing, Delivery_Terms_Quote_Appr\n",
       "0          0.0  ...                                 1.0\n",
       "1          0.0  ...                                 1.0\n",
       "2          0.0  ...                                 1.0\n",
       "3          0.0  ...                                 1.0\n",
       "4          0.0  ...                                 0.0\n",
       "\n",
       "[5 rows x 9 columns]"
      ]
     },
     "execution_count": 742,
     "metadata": {
      "tags": []
     },
     "output_type": "execute_result"
    }
   ],
   "source": [
    "DataFrameTest = DataFrameTest.drop(columns={'Opportunity_ID'})\n",
    "DataFrameTest.head()"
   ]
  },
  {
   "cell_type": "code",
   "execution_count": 743,
   "metadata": {
    "id": "7dZUfIO5HyRA"
   },
   "outputs": [],
   "source": [
    "predRegressor_Test1 = xg_Regressor1.predict(DataFrameTest)"
   ]
  },
  {
   "cell_type": "code",
   "execution_count": 744,
   "metadata": {
    "colab": {
     "base_uri": "https://localhost:8080/",
     "height": 450
    },
    "id": "VUs-3wdGLJft",
    "outputId": "4cbc7aca-4c08-4dbe-d0c2-806e67e47e9b"
   },
   "outputs": [
    {
     "data": {
      "text/html": [
       "<div>\n",
       "<style scoped>\n",
       "    .dataframe tbody tr th:only-of-type {\n",
       "        vertical-align: middle;\n",
       "    }\n",
       "\n",
       "    .dataframe tbody tr th {\n",
       "        vertical-align: top;\n",
       "    }\n",
       "\n",
       "    .dataframe thead th {\n",
       "        text-align: right;\n",
       "    }\n",
       "</style>\n",
       "<table border=\"1\" class=\"dataframe\">\n",
       "  <thead>\n",
       "    <tr style=\"text-align: right;\">\n",
       "      <th></th>\n",
       "      <th>target</th>\n",
       "    </tr>\n",
       "    <tr>\n",
       "      <th>Opportunity_ID</th>\n",
       "      <th></th>\n",
       "    </tr>\n",
       "  </thead>\n",
       "  <tbody>\n",
       "    <tr>\n",
       "      <th>10689</th>\n",
       "      <td>0.465789</td>\n",
       "    </tr>\n",
       "    <tr>\n",
       "      <th>10690</th>\n",
       "      <td>0.513280</td>\n",
       "    </tr>\n",
       "    <tr>\n",
       "      <th>10691</th>\n",
       "      <td>0.621303</td>\n",
       "    </tr>\n",
       "    <tr>\n",
       "      <th>10692</th>\n",
       "      <td>0.449422</td>\n",
       "    </tr>\n",
       "    <tr>\n",
       "      <th>10693</th>\n",
       "      <td>0.726389</td>\n",
       "    </tr>\n",
       "    <tr>\n",
       "      <th>...</th>\n",
       "      <td>...</td>\n",
       "    </tr>\n",
       "    <tr>\n",
       "      <th>12364</th>\n",
       "      <td>0.506197</td>\n",
       "    </tr>\n",
       "    <tr>\n",
       "      <th>12365</th>\n",
       "      <td>0.569678</td>\n",
       "    </tr>\n",
       "    <tr>\n",
       "      <th>12366</th>\n",
       "      <td>0.534197</td>\n",
       "    </tr>\n",
       "    <tr>\n",
       "      <th>12367</th>\n",
       "      <td>0.557343</td>\n",
       "    </tr>\n",
       "    <tr>\n",
       "      <th>12368</th>\n",
       "      <td>0.213292</td>\n",
       "    </tr>\n",
       "  </tbody>\n",
       "</table>\n",
       "<p>1567 rows × 1 columns</p>\n",
       "</div>"
      ],
      "text/plain": [
       "                  target\n",
       "Opportunity_ID          \n",
       "10689           0.465789\n",
       "10690           0.513280\n",
       "10691           0.621303\n",
       "10692           0.449422\n",
       "10693           0.726389\n",
       "...                  ...\n",
       "12364           0.506197\n",
       "12365           0.569678\n",
       "12366           0.534197\n",
       "12367           0.557343\n",
       "12368           0.213292\n",
       "\n",
       "[1567 rows x 1 columns]"
      ]
     },
     "execution_count": 744,
     "metadata": {
      "tags": []
     },
     "output_type": "execute_result"
    }
   ],
   "source": [
    "DescargaPredRegressor1['target'] = predRegressor_Test1\n",
    "DescargaPredRegressor1"
   ]
  },
  {
   "cell_type": "code",
   "execution_count": 745,
   "metadata": {
    "colab": {
     "base_uri": "https://localhost:8080/"
    },
    "id": "jNlZXUYLIJp1",
    "outputId": "73890a3d-a064-49b8-f40a-c9d98920ed0a"
   },
   "outputs": [
    {
     "data": {
      "text/plain": [
       "0.655410    19\n",
       "0.796289    14\n",
       "0.478911    12\n",
       "0.677937    11\n",
       "0.795427    10\n",
       "            ..\n",
       "0.337986     1\n",
       "0.479113     1\n",
       "0.271105     1\n",
       "0.762912     1\n",
       "0.419750     1\n",
       "Name: target, Length: 1084, dtype: int64"
      ]
     },
     "execution_count": 745,
     "metadata": {
      "tags": []
     },
     "output_type": "execute_result"
    }
   ],
   "source": [
    "DescargaPredRegressor1['target'].value_counts()"
   ]
  },
  {
   "cell_type": "code",
   "execution_count": 746,
   "metadata": {
    "id": "DH8KPefKIKHQ"
   },
   "outputs": [],
   "source": [
    "#csv1 = DescargaPredRegressor1.to_csv('xgboost_regression_pred1.csv')\n",
    "#files.download('xgboost_regression_pred1.csv')"
   ]
  },
  {
   "cell_type": "markdown",
   "metadata": {
    "id": "msS8IsSzqKx_"
   },
   "source": [
    "##Xgboost Clasificator"
   ]
  },
  {
   "cell_type": "markdown",
   "metadata": {
    "id": "b78Rdn1WsL9O"
   },
   "source": [
    "###Entrenamiento"
   ]
  },
  {
   "cell_type": "code",
   "execution_count": 747,
   "metadata": {
    "id": "GDTdB_X7qDn5"
   },
   "outputs": [],
   "source": [
    "X_Entrenamiento, X_EntrenamientoTest, Y_TestEntrenamiento, Y_TestTest = train_test_split(DataFrame2Train, DataFrame2Test,test_size = 0.2, random_state = 0)"
   ]
  },
  {
   "cell_type": "code",
   "execution_count": 748,
   "metadata": {
    "colab": {
     "base_uri": "https://localhost:8080/"
    },
    "id": "tSs2EsTrq1DQ",
    "outputId": "659f3311-0268-4a9d-fe03-f8084c11fdd8"
   },
   "outputs": [
    {
     "data": {
      "text/plain": [
       "((13417, 9), (3355, 9), (13417,), (3355,))"
      ]
     },
     "execution_count": 748,
     "metadata": {
      "tags": []
     },
     "output_type": "execute_result"
    }
   ],
   "source": [
    "X_Entrenamiento.shape, X_EntrenamientoTest.shape, Y_TestEntrenamiento.shape, Y_TestTest.shape"
   ]
  },
  {
   "cell_type": "code",
   "execution_count": 749,
   "metadata": {
    "id": "Xd5KBgHCq2G3"
   },
   "outputs": [],
   "source": [
    "xg_classificator1 = XGBClassifier(colsample_bytree = 0.8, gamma = 1, learning_rate = 0.01, max_depth = 20, min_child_weight = 1, n_estimators = 200, subsample = 0.8)"
   ]
  },
  {
   "cell_type": "code",
   "execution_count": 750,
   "metadata": {
    "colab": {
     "base_uri": "https://localhost:8080/"
    },
    "id": "e8KI8gyer-3c",
    "outputId": "727ce9bd-9b7c-4457-c191-7126f18b145b"
   },
   "outputs": [
    {
     "data": {
      "text/plain": [
       "XGBClassifier(base_score=0.5, booster='gbtree', colsample_bylevel=1,\n",
       "              colsample_bynode=1, colsample_bytree=0.8, gamma=1,\n",
       "              learning_rate=0.01, max_delta_step=0, max_depth=20,\n",
       "              min_child_weight=1, missing=None, n_estimators=200, n_jobs=1,\n",
       "              nthread=None, objective='binary:logistic', random_state=0,\n",
       "              reg_alpha=0, reg_lambda=1, scale_pos_weight=1, seed=None,\n",
       "              silent=None, subsample=0.8, verbosity=1)"
      ]
     },
     "execution_count": 750,
     "metadata": {
      "tags": []
     },
     "output_type": "execute_result"
    }
   ],
   "source": [
    "xg_classificator1.fit(X_Entrenamiento,Y_TestEntrenamiento)"
   ]
  },
  {
   "cell_type": "code",
   "execution_count": 751,
   "metadata": {
    "id": "bJmMAV7WsC1F"
   },
   "outputs": [],
   "source": [
    "predsClassificator1 = xg_classificator1.predict(X_EntrenamientoTest)"
   ]
  },
  {
   "cell_type": "code",
   "execution_count": 752,
   "metadata": {
    "colab": {
     "base_uri": "https://localhost:8080/",
     "height": 312
    },
    "id": "tDJb58w0sF7G",
    "outputId": "c873304e-d632-4501-d042-c0d19c788495"
   },
   "outputs": [
    {
     "name": "stdout",
     "output_type": "stream",
     "text": [
      "0.8113263785394933\n",
      "              precision    recall  f1-score   support\n",
      "\n",
      "         0.0       0.82      0.73      0.77      1466\n",
      "         1.0       0.81      0.88      0.84      1889\n",
      "\n",
      "    accuracy                           0.81      3355\n",
      "   macro avg       0.81      0.80      0.81      3355\n",
      "weighted avg       0.81      0.81      0.81      3355\n",
      "\n"
     ]
    },
    {
     "data": {
      "text/html": [
       "<div>\n",
       "<style scoped>\n",
       "    .dataframe tbody tr th:only-of-type {\n",
       "        vertical-align: middle;\n",
       "    }\n",
       "\n",
       "    .dataframe tbody tr th {\n",
       "        vertical-align: top;\n",
       "    }\n",
       "\n",
       "    .dataframe thead th {\n",
       "        text-align: right;\n",
       "    }\n",
       "</style>\n",
       "<table border=\"1\" class=\"dataframe\">\n",
       "  <thead>\n",
       "    <tr style=\"text-align: right;\">\n",
       "      <th>col_0</th>\n",
       "      <th>0.0</th>\n",
       "      <th>1.0</th>\n",
       "    </tr>\n",
       "    <tr>\n",
       "      <th>Decision</th>\n",
       "      <th></th>\n",
       "      <th></th>\n",
       "    </tr>\n",
       "  </thead>\n",
       "  <tbody>\n",
       "    <tr>\n",
       "      <th>0.0</th>\n",
       "      <td>1069</td>\n",
       "      <td>397</td>\n",
       "    </tr>\n",
       "    <tr>\n",
       "      <th>1.0</th>\n",
       "      <td>236</td>\n",
       "      <td>1653</td>\n",
       "    </tr>\n",
       "  </tbody>\n",
       "</table>\n",
       "</div>"
      ],
      "text/plain": [
       "col_0      0.0   1.0\n",
       "Decision            \n",
       "0.0       1069   397\n",
       "1.0        236  1653"
      ]
     },
     "execution_count": 752,
     "metadata": {
      "tags": []
     },
     "output_type": "execute_result"
    }
   ],
   "source": [
    "from sklearn.metrics import accuracy_score, classification_report\n",
    "print(accuracy_score(Y_TestTest, predsClassificator1))\n",
    "print(classification_report(Y_TestTest, predsClassificator1))\n",
    "pd.crosstab(Y_TestTest, predsClassificator1)"
   ]
  },
  {
   "cell_type": "code",
   "execution_count": 753,
   "metadata": {
    "colab": {
     "base_uri": "https://localhost:8080/"
    },
    "id": "jOR2ABMksHeT",
    "outputId": "4d1bfa80-4958-4584-9705-3821932de212"
   },
   "outputs": [
    {
     "data": {
      "text/plain": [
       "1.0    2050\n",
       "0.0    1305\n",
       "Name: pred, dtype: int64"
      ]
     },
     "execution_count": 753,
     "metadata": {
      "tags": []
     },
     "output_type": "execute_result"
    }
   ],
   "source": [
    "value_predClassificator1 = pd.DataFrame()\n",
    "value_predClassificator1['pred'] = predsClassificator1\n",
    "value_predClassificator1['pred'].value_counts()"
   ]
  },
  {
   "cell_type": "code",
   "execution_count": 754,
   "metadata": {
    "colab": {
     "base_uri": "https://localhost:8080/"
    },
    "id": "vSoz4hd-sJXH",
    "outputId": "217b32a5-af94-47d0-a982-cc1c22873f00"
   },
   "outputs": [
    {
     "name": "stdout",
     "output_type": "stream",
     "text": [
      "RMSE: 0.434366\n",
      "Accuracy: 81.13%\n"
     ]
    }
   ],
   "source": [
    "rmseClassificator1 = np.sqrt(mean_squared_error(Y_TestTest, predsClassificator1))\n",
    "print(\"RMSE: %f\" % (rmseClassificator1))\n",
    "accuracy = accuracy_score(Y_TestTest, predsClassificator1)\n",
    "print(\"Accuracy: %.2f%%\" % (accuracy * 100.0))"
   ]
  },
  {
   "cell_type": "code",
   "execution_count": 755,
   "metadata": {
    "colab": {
     "base_uri": "https://localhost:8080/"
    },
    "id": "7PKqMq9NsJ_M",
    "outputId": "4e38b927-c907-458b-db79-5a417bd819c6"
   },
   "outputs": [
    {
     "name": "stdout",
     "output_type": "stream",
     "text": [
      "Log Loss is 0.4387157682046272\n"
     ]
    }
   ],
   "source": [
    "lossClassificator1 = log_loss(Y_TestTest, predsClassificator1)\n",
    "print(f\"Log Loss is {loss}\")"
   ]
  },
  {
   "cell_type": "markdown",
   "metadata": {
    "id": "_xckx4NZsNLw"
   },
   "source": [
    "###Test"
   ]
  },
  {
   "cell_type": "code",
   "execution_count": 756,
   "metadata": {
    "id": "pRBTxBJyuKBq"
   },
   "outputs": [],
   "source": [
    "predClassificator_Test1 = xg_classificator1.predict(DataFrameTest)"
   ]
  },
  {
   "cell_type": "code",
   "execution_count": 757,
   "metadata": {
    "colab": {
     "base_uri": "https://localhost:8080/",
     "height": 450
    },
    "id": "QQ6LBkPxvGXC",
    "outputId": "9ed81618-902b-471c-d579-01e139fdf8ae"
   },
   "outputs": [
    {
     "data": {
      "text/html": [
       "<div>\n",
       "<style scoped>\n",
       "    .dataframe tbody tr th:only-of-type {\n",
       "        vertical-align: middle;\n",
       "    }\n",
       "\n",
       "    .dataframe tbody tr th {\n",
       "        vertical-align: top;\n",
       "    }\n",
       "\n",
       "    .dataframe thead th {\n",
       "        text-align: right;\n",
       "    }\n",
       "</style>\n",
       "<table border=\"1\" class=\"dataframe\">\n",
       "  <thead>\n",
       "    <tr style=\"text-align: right;\">\n",
       "      <th></th>\n",
       "      <th>target</th>\n",
       "    </tr>\n",
       "    <tr>\n",
       "      <th>Opportunity_ID</th>\n",
       "      <th></th>\n",
       "    </tr>\n",
       "  </thead>\n",
       "  <tbody>\n",
       "    <tr>\n",
       "      <th>10689</th>\n",
       "      <td>0.0</td>\n",
       "    </tr>\n",
       "    <tr>\n",
       "      <th>10690</th>\n",
       "      <td>0.0</td>\n",
       "    </tr>\n",
       "    <tr>\n",
       "      <th>10691</th>\n",
       "      <td>1.0</td>\n",
       "    </tr>\n",
       "    <tr>\n",
       "      <th>10692</th>\n",
       "      <td>0.0</td>\n",
       "    </tr>\n",
       "    <tr>\n",
       "      <th>10693</th>\n",
       "      <td>1.0</td>\n",
       "    </tr>\n",
       "    <tr>\n",
       "      <th>...</th>\n",
       "      <td>...</td>\n",
       "    </tr>\n",
       "    <tr>\n",
       "      <th>12364</th>\n",
       "      <td>0.0</td>\n",
       "    </tr>\n",
       "    <tr>\n",
       "      <th>12365</th>\n",
       "      <td>1.0</td>\n",
       "    </tr>\n",
       "    <tr>\n",
       "      <th>12366</th>\n",
       "      <td>0.0</td>\n",
       "    </tr>\n",
       "    <tr>\n",
       "      <th>12367</th>\n",
       "      <td>1.0</td>\n",
       "    </tr>\n",
       "    <tr>\n",
       "      <th>12368</th>\n",
       "      <td>0.0</td>\n",
       "    </tr>\n",
       "  </tbody>\n",
       "</table>\n",
       "<p>1567 rows × 1 columns</p>\n",
       "</div>"
      ],
      "text/plain": [
       "                target\n",
       "Opportunity_ID        \n",
       "10689              0.0\n",
       "10690              0.0\n",
       "10691              1.0\n",
       "10692              0.0\n",
       "10693              1.0\n",
       "...                ...\n",
       "12364              0.0\n",
       "12365              1.0\n",
       "12366              0.0\n",
       "12367              1.0\n",
       "12368              0.0\n",
       "\n",
       "[1567 rows x 1 columns]"
      ]
     },
     "execution_count": 757,
     "metadata": {
      "tags": []
     },
     "output_type": "execute_result"
    }
   ],
   "source": [
    "DescargaPredClassificator1['target'] = predClassificator_Test1\n",
    "DescargaPredClassificator1"
   ]
  },
  {
   "cell_type": "code",
   "execution_count": 758,
   "metadata": {
    "colab": {
     "base_uri": "https://localhost:8080/"
    },
    "id": "iqK6255vvY4O",
    "outputId": "843fb4e3-787f-410a-be59-35682d678bdb"
   },
   "outputs": [
    {
     "data": {
      "text/plain": [
       "1.0    939\n",
       "0.0    628\n",
       "Name: target, dtype: int64"
      ]
     },
     "execution_count": 758,
     "metadata": {
      "tags": []
     },
     "output_type": "execute_result"
    }
   ],
   "source": [
    "DescargaPredClassificator1['target'].value_counts()"
   ]
  },
  {
   "cell_type": "code",
   "execution_count": 759,
   "metadata": {
    "id": "znyjaeJVva4o"
   },
   "outputs": [],
   "source": [
    "#csv2 = DescargaPredClassificator1.to_csv('xgboost_clasification_pred1.csv')\n",
    "#files.download('xgboost_clasification_pred1.csv')"
   ]
  },
  {
   "cell_type": "markdown",
   "metadata": {
    "id": "07KVdgzDwQih"
   },
   "source": [
    "#Segundo DataFrame Encodeado"
   ]
  },
  {
   "cell_type": "markdown",
   "metadata": {
    "id": "03b8Pcf2wTMp"
   },
   "source": [
    "##Xgboost Regressor"
   ]
  },
  {
   "cell_type": "markdown",
   "metadata": {
    "id": "HzinF11LwcFV"
   },
   "source": [
    "###Entrenamiento"
   ]
  },
  {
   "cell_type": "code",
   "execution_count": 760,
   "metadata": {
    "id": "86bvvsTZwSj-"
   },
   "outputs": [],
   "source": [
    "DataFrame3 = pd.read_csv('/content/DataFrame_train_encoded1.csv')"
   ]
  },
  {
   "cell_type": "code",
   "execution_count": 761,
   "metadata": {
    "colab": {
     "base_uri": "https://localhost:8080/",
     "height": 241
    },
    "id": "uL1FqMxxxS_L",
    "outputId": "d0a9e0c4-43ac-4875-de59-91f00311f1db"
   },
   "outputs": [
    {
     "data": {
      "text/html": [
       "<div>\n",
       "<style scoped>\n",
       "    .dataframe tbody tr th:only-of-type {\n",
       "        vertical-align: middle;\n",
       "    }\n",
       "\n",
       "    .dataframe tbody tr th {\n",
       "        vertical-align: top;\n",
       "    }\n",
       "\n",
       "    .dataframe thead th {\n",
       "        text-align: right;\n",
       "    }\n",
       "</style>\n",
       "<table border=\"1\" class=\"dataframe\">\n",
       "  <thead>\n",
       "    <tr style=\"text-align: right;\">\n",
       "      <th></th>\n",
       "      <th>Unnamed: 0</th>\n",
       "      <th>Total_Amount</th>\n",
       "      <th>Delivery_Year</th>\n",
       "      <th>Pricing, Delivery_Terms_Approved</th>\n",
       "      <th>Pricing, Delivery_Terms_Quote_Appr</th>\n",
       "      <th>Decision</th>\n",
       "      <th>Delivery_Quarter_1</th>\n",
       "      <th>Delivery_Quarter_2</th>\n",
       "      <th>Delivery_Quarter_3</th>\n",
       "      <th>Delivery_Quarter_4</th>\n",
       "      <th>Region_Japon</th>\n",
       "      <th>Region_EMEA</th>\n",
       "      <th>Region_Americas</th>\n",
       "      <th>Region_Apac</th>\n",
       "      <th>Region_Middle_East</th>\n",
       "    </tr>\n",
       "  </thead>\n",
       "  <tbody>\n",
       "    <tr>\n",
       "      <th>0</th>\n",
       "      <td>0</td>\n",
       "      <td>15.635076</td>\n",
       "      <td>2016</td>\n",
       "      <td>1</td>\n",
       "      <td>1</td>\n",
       "      <td>0</td>\n",
       "      <td>0</td>\n",
       "      <td>1</td>\n",
       "      <td>0</td>\n",
       "      <td>0</td>\n",
       "      <td>0</td>\n",
       "      <td>1</td>\n",
       "      <td>0</td>\n",
       "      <td>0</td>\n",
       "      <td>0</td>\n",
       "    </tr>\n",
       "    <tr>\n",
       "      <th>1</th>\n",
       "      <td>1</td>\n",
       "      <td>10.940740</td>\n",
       "      <td>2016</td>\n",
       "      <td>0</td>\n",
       "      <td>0</td>\n",
       "      <td>1</td>\n",
       "      <td>1</td>\n",
       "      <td>0</td>\n",
       "      <td>0</td>\n",
       "      <td>0</td>\n",
       "      <td>0</td>\n",
       "      <td>1</td>\n",
       "      <td>0</td>\n",
       "      <td>0</td>\n",
       "      <td>0</td>\n",
       "    </tr>\n",
       "    <tr>\n",
       "      <th>2</th>\n",
       "      <td>2</td>\n",
       "      <td>11.336971</td>\n",
       "      <td>2016</td>\n",
       "      <td>0</td>\n",
       "      <td>0</td>\n",
       "      <td>1</td>\n",
       "      <td>1</td>\n",
       "      <td>0</td>\n",
       "      <td>0</td>\n",
       "      <td>0</td>\n",
       "      <td>0</td>\n",
       "      <td>0</td>\n",
       "      <td>1</td>\n",
       "      <td>0</td>\n",
       "      <td>0</td>\n",
       "    </tr>\n",
       "    <tr>\n",
       "      <th>3</th>\n",
       "      <td>3</td>\n",
       "      <td>15.819943</td>\n",
       "      <td>2018</td>\n",
       "      <td>0</td>\n",
       "      <td>1</td>\n",
       "      <td>0</td>\n",
       "      <td>1</td>\n",
       "      <td>0</td>\n",
       "      <td>0</td>\n",
       "      <td>0</td>\n",
       "      <td>0</td>\n",
       "      <td>0</td>\n",
       "      <td>1</td>\n",
       "      <td>0</td>\n",
       "      <td>0</td>\n",
       "    </tr>\n",
       "    <tr>\n",
       "      <th>4</th>\n",
       "      <td>4</td>\n",
       "      <td>16.407566</td>\n",
       "      <td>2018</td>\n",
       "      <td>0</td>\n",
       "      <td>1</td>\n",
       "      <td>0</td>\n",
       "      <td>1</td>\n",
       "      <td>0</td>\n",
       "      <td>0</td>\n",
       "      <td>0</td>\n",
       "      <td>0</td>\n",
       "      <td>0</td>\n",
       "      <td>1</td>\n",
       "      <td>0</td>\n",
       "      <td>0</td>\n",
       "    </tr>\n",
       "  </tbody>\n",
       "</table>\n",
       "</div>"
      ],
      "text/plain": [
       "   Unnamed: 0  Total_Amount  ...  Region_Apac  Region_Middle_East\n",
       "0           0     15.635076  ...            0                   0\n",
       "1           1     10.940740  ...            0                   0\n",
       "2           2     11.336971  ...            0                   0\n",
       "3           3     15.819943  ...            0                   0\n",
       "4           4     16.407566  ...            0                   0\n",
       "\n",
       "[5 rows x 15 columns]"
      ]
     },
     "execution_count": 761,
     "metadata": {
      "tags": []
     },
     "output_type": "execute_result"
    }
   ],
   "source": [
    "DataFrame3.head()"
   ]
  },
  {
   "cell_type": "code",
   "execution_count": 762,
   "metadata": {
    "id": "JHe3a-1Ax9jB"
   },
   "outputs": [],
   "source": [
    "DataFrame3.drop(columns = {'Unnamed: 0'}, inplace = True)"
   ]
  },
  {
   "cell_type": "code",
   "execution_count": 763,
   "metadata": {
    "colab": {
     "base_uri": "https://localhost:8080/",
     "height": 241
    },
    "id": "AYrTqvSnx9zU",
    "outputId": "7163d3db-253b-44c6-f5f4-044f874fc1ff"
   },
   "outputs": [
    {
     "data": {
      "text/html": [
       "<div>\n",
       "<style scoped>\n",
       "    .dataframe tbody tr th:only-of-type {\n",
       "        vertical-align: middle;\n",
       "    }\n",
       "\n",
       "    .dataframe tbody tr th {\n",
       "        vertical-align: top;\n",
       "    }\n",
       "\n",
       "    .dataframe thead th {\n",
       "        text-align: right;\n",
       "    }\n",
       "</style>\n",
       "<table border=\"1\" class=\"dataframe\">\n",
       "  <thead>\n",
       "    <tr style=\"text-align: right;\">\n",
       "      <th></th>\n",
       "      <th>Total_Amount</th>\n",
       "      <th>Delivery_Year</th>\n",
       "      <th>Pricing, Delivery_Terms_Approved</th>\n",
       "      <th>Pricing, Delivery_Terms_Quote_Appr</th>\n",
       "      <th>Decision</th>\n",
       "      <th>Delivery_Quarter_1</th>\n",
       "      <th>Delivery_Quarter_2</th>\n",
       "      <th>Delivery_Quarter_3</th>\n",
       "      <th>Delivery_Quarter_4</th>\n",
       "      <th>Region_Japon</th>\n",
       "      <th>Region_EMEA</th>\n",
       "      <th>Region_Americas</th>\n",
       "      <th>Region_Apac</th>\n",
       "      <th>Region_Middle_East</th>\n",
       "    </tr>\n",
       "  </thead>\n",
       "  <tbody>\n",
       "    <tr>\n",
       "      <th>0</th>\n",
       "      <td>15.635076</td>\n",
       "      <td>2016</td>\n",
       "      <td>1</td>\n",
       "      <td>1</td>\n",
       "      <td>0</td>\n",
       "      <td>0</td>\n",
       "      <td>1</td>\n",
       "      <td>0</td>\n",
       "      <td>0</td>\n",
       "      <td>0</td>\n",
       "      <td>1</td>\n",
       "      <td>0</td>\n",
       "      <td>0</td>\n",
       "      <td>0</td>\n",
       "    </tr>\n",
       "    <tr>\n",
       "      <th>1</th>\n",
       "      <td>10.940740</td>\n",
       "      <td>2016</td>\n",
       "      <td>0</td>\n",
       "      <td>0</td>\n",
       "      <td>1</td>\n",
       "      <td>1</td>\n",
       "      <td>0</td>\n",
       "      <td>0</td>\n",
       "      <td>0</td>\n",
       "      <td>0</td>\n",
       "      <td>1</td>\n",
       "      <td>0</td>\n",
       "      <td>0</td>\n",
       "      <td>0</td>\n",
       "    </tr>\n",
       "    <tr>\n",
       "      <th>2</th>\n",
       "      <td>11.336971</td>\n",
       "      <td>2016</td>\n",
       "      <td>0</td>\n",
       "      <td>0</td>\n",
       "      <td>1</td>\n",
       "      <td>1</td>\n",
       "      <td>0</td>\n",
       "      <td>0</td>\n",
       "      <td>0</td>\n",
       "      <td>0</td>\n",
       "      <td>0</td>\n",
       "      <td>1</td>\n",
       "      <td>0</td>\n",
       "      <td>0</td>\n",
       "    </tr>\n",
       "    <tr>\n",
       "      <th>3</th>\n",
       "      <td>15.819943</td>\n",
       "      <td>2018</td>\n",
       "      <td>0</td>\n",
       "      <td>1</td>\n",
       "      <td>0</td>\n",
       "      <td>1</td>\n",
       "      <td>0</td>\n",
       "      <td>0</td>\n",
       "      <td>0</td>\n",
       "      <td>0</td>\n",
       "      <td>0</td>\n",
       "      <td>1</td>\n",
       "      <td>0</td>\n",
       "      <td>0</td>\n",
       "    </tr>\n",
       "    <tr>\n",
       "      <th>4</th>\n",
       "      <td>16.407566</td>\n",
       "      <td>2018</td>\n",
       "      <td>0</td>\n",
       "      <td>1</td>\n",
       "      <td>0</td>\n",
       "      <td>1</td>\n",
       "      <td>0</td>\n",
       "      <td>0</td>\n",
       "      <td>0</td>\n",
       "      <td>0</td>\n",
       "      <td>0</td>\n",
       "      <td>1</td>\n",
       "      <td>0</td>\n",
       "      <td>0</td>\n",
       "    </tr>\n",
       "  </tbody>\n",
       "</table>\n",
       "</div>"
      ],
      "text/plain": [
       "   Total_Amount  Delivery_Year  ...  Region_Apac  Region_Middle_East\n",
       "0     15.635076           2016  ...            0                   0\n",
       "1     10.940740           2016  ...            0                   0\n",
       "2     11.336971           2016  ...            0                   0\n",
       "3     15.819943           2018  ...            0                   0\n",
       "4     16.407566           2018  ...            0                   0\n",
       "\n",
       "[5 rows x 14 columns]"
      ]
     },
     "execution_count": 763,
     "metadata": {
      "tags": []
     },
     "output_type": "execute_result"
    }
   ],
   "source": [
    "DataFrame3.head()"
   ]
  },
  {
   "cell_type": "code",
   "execution_count": 764,
   "metadata": {
    "id": "U_wr9YdE0PGX"
   },
   "outputs": [],
   "source": [
    "DataFrame3Train = DataFrame3.loc[:,DataFrame3.columns != 'Decision']"
   ]
  },
  {
   "cell_type": "code",
   "execution_count": 765,
   "metadata": {
    "id": "cxEwWi350Q6w"
   },
   "outputs": [],
   "source": [
    "DataFrame3Test  =  DataFrame3.loc[:,'Decision']"
   ]
  },
  {
   "cell_type": "code",
   "execution_count": 766,
   "metadata": {
    "colab": {
     "base_uri": "https://localhost:8080/"
    },
    "id": "acYVpXzp0Sq9",
    "outputId": "a4f58cfa-cf3c-4711-8740-ad5341580d8d"
   },
   "outputs": [
    {
     "data": {
      "text/plain": [
       "((16772, 13), (16772,), (16772, 14))"
      ]
     },
     "execution_count": 766,
     "metadata": {
      "tags": []
     },
     "output_type": "execute_result"
    }
   ],
   "source": [
    "DataFrame3Train.shape, DataFrame3Test.shape, DataFrame3.shape"
   ]
  },
  {
   "cell_type": "code",
   "execution_count": 767,
   "metadata": {
    "id": "0ad8BI3w0Va7"
   },
   "outputs": [],
   "source": [
    "x_train2, x_test2, y_train2, y_test2 = train_test_split(DataFrame3Train,DataFrame3Test,test_size = 0.2, random_state = 0)"
   ]
  },
  {
   "cell_type": "code",
   "execution_count": 768,
   "metadata": {
    "id": "u1EOcyhy1MnE"
   },
   "outputs": [],
   "source": [
    "xg_Regressor2 = xgb.XGBRegressor(colsample_bytree= 0.8, gamma= 1.5, learning_rate= 0.01, max_depth= 20, min_child_weight= 1, n_estimators= 200, subsample= 0.8)"
   ]
  },
  {
   "cell_type": "code",
   "execution_count": 769,
   "metadata": {
    "colab": {
     "base_uri": "https://localhost:8080/"
    },
    "id": "2WeajynN1SzI",
    "outputId": "f561d57a-db13-42d2-e88c-4a49c7202423"
   },
   "outputs": [
    {
     "name": "stdout",
     "output_type": "stream",
     "text": [
      "[15:40:58] WARNING: /workspace/src/objective/regression_obj.cu:152: reg:linear is now deprecated in favor of reg:squarederror.\n"
     ]
    },
    {
     "data": {
      "text/plain": [
       "XGBRegressor(base_score=0.5, booster='gbtree', colsample_bylevel=1,\n",
       "             colsample_bynode=1, colsample_bytree=0.8, gamma=1.5,\n",
       "             importance_type='gain', learning_rate=0.01, max_delta_step=0,\n",
       "             max_depth=20, min_child_weight=1, missing=None, n_estimators=200,\n",
       "             n_jobs=1, nthread=None, objective='reg:linear', random_state=0,\n",
       "             reg_alpha=0, reg_lambda=1, scale_pos_weight=1, seed=None,\n",
       "             silent=None, subsample=0.8, verbosity=1)"
      ]
     },
     "execution_count": 769,
     "metadata": {
      "tags": []
     },
     "output_type": "execute_result"
    }
   ],
   "source": [
    "xg_Regressor2.fit(x_train2,y_train2)"
   ]
  },
  {
   "cell_type": "code",
   "execution_count": 770,
   "metadata": {
    "id": "a76uMTcQ1X6o"
   },
   "outputs": [],
   "source": [
    "predsRegressor2 = xg_Regressor2.predict(x_test2)"
   ]
  },
  {
   "cell_type": "code",
   "execution_count": 771,
   "metadata": {
    "colab": {
     "base_uri": "https://localhost:8080/"
    },
    "id": "j4Ry1DLS1evk",
    "outputId": "7e9950ef-e4b0-4815-812e-1a3035d13f63"
   },
   "outputs": [
    {
     "data": {
      "text/plain": [
       "0.089297    62\n",
       "0.949236    29\n",
       "0.914230    26\n",
       "0.116220    21\n",
       "0.912759    19\n",
       "            ..\n",
       "0.627495     1\n",
       "0.387968     1\n",
       "0.372344     1\n",
       "0.288362     1\n",
       "0.604299     1\n",
       "Name: pred, Length: 2455, dtype: int64"
      ]
     },
     "execution_count": 771,
     "metadata": {
      "tags": []
     },
     "output_type": "execute_result"
    }
   ],
   "source": [
    "value_pred_Regressor2 = pd.DataFrame()\n",
    "value_pred_Regressor2['pred'] = predsRegressor2\n",
    "value_pred_Regressor2['pred'].value_counts()"
   ]
  },
  {
   "cell_type": "code",
   "execution_count": 772,
   "metadata": {
    "colab": {
     "base_uri": "https://localhost:8080/"
    },
    "id": "r93R1QYv1hPy",
    "outputId": "1364b501-df2a-4fb4-f5f4-1f1a1f835bf1"
   },
   "outputs": [
    {
     "name": "stdout",
     "output_type": "stream",
     "text": [
      "RMSE: 0.361905\n"
     ]
    }
   ],
   "source": [
    "rmseRegressor2 = np.sqrt(mean_squared_error(y_test2, predsRegressor2))\n",
    "print(\"RMSE: %f\" % (rmseRegressor2))"
   ]
  },
  {
   "cell_type": "code",
   "execution_count": 773,
   "metadata": {
    "colab": {
     "base_uri": "https://localhost:8080/"
    },
    "id": "KLMYylWB1lKS",
    "outputId": "5a109e55-073e-402e-9552-940425f5f24f"
   },
   "outputs": [
    {
     "name": "stdout",
     "output_type": "stream",
     "text": [
      "Log Loss is 0.4387157682046272\n"
     ]
    }
   ],
   "source": [
    "lossRegressor2 = log_loss(y_test2, predsRegressor2)\n",
    "print(f\"Log Loss is {loss}\")"
   ]
  },
  {
   "cell_type": "markdown",
   "metadata": {
    "id": "tsUB7_2ywdlp"
   },
   "source": [
    "###Test"
   ]
  },
  {
   "cell_type": "code",
   "execution_count": 774,
   "metadata": {
    "id": "4P8namQz3y0T"
   },
   "outputs": [],
   "source": [
    "DataFrameTest3 = pd.read_csv('/content/DataFrame_test_encoded1.csv')"
   ]
  },
  {
   "cell_type": "code",
   "execution_count": 775,
   "metadata": {
    "colab": {
     "base_uri": "https://localhost:8080/",
     "height": 241
    },
    "id": "YZ0cIXUp3zPl",
    "outputId": "2ba9d889-12f3-484d-bdc3-b17a56190c03"
   },
   "outputs": [
    {
     "data": {
      "text/html": [
       "<div>\n",
       "<style scoped>\n",
       "    .dataframe tbody tr th:only-of-type {\n",
       "        vertical-align: middle;\n",
       "    }\n",
       "\n",
       "    .dataframe tbody tr th {\n",
       "        vertical-align: top;\n",
       "    }\n",
       "\n",
       "    .dataframe thead th {\n",
       "        text-align: right;\n",
       "    }\n",
       "</style>\n",
       "<table border=\"1\" class=\"dataframe\">\n",
       "  <thead>\n",
       "    <tr style=\"text-align: right;\">\n",
       "      <th></th>\n",
       "      <th>Unnamed: 0</th>\n",
       "      <th>Opportunity_ID</th>\n",
       "      <th>Total_Amount</th>\n",
       "      <th>Delivery_Year</th>\n",
       "      <th>Pricing, Delivery_Terms_Approved</th>\n",
       "      <th>Pricing, Delivery_Terms_Quote_Appr</th>\n",
       "      <th>Delivery_Quarter_1</th>\n",
       "      <th>Delivery_Quarter_2</th>\n",
       "      <th>Delivery_Quarter_3</th>\n",
       "      <th>Delivery_Quarter_4</th>\n",
       "      <th>Region_Japon</th>\n",
       "      <th>Region_EMEA</th>\n",
       "      <th>Region_Americas</th>\n",
       "      <th>Region_Apac</th>\n",
       "      <th>Region_Middle_East</th>\n",
       "    </tr>\n",
       "  </thead>\n",
       "  <tbody>\n",
       "    <tr>\n",
       "      <th>0</th>\n",
       "      <td>2</td>\n",
       "      <td>10689</td>\n",
       "      <td>11.905436</td>\n",
       "      <td>2019</td>\n",
       "      <td>1</td>\n",
       "      <td>1</td>\n",
       "      <td>0</td>\n",
       "      <td>1</td>\n",
       "      <td>0</td>\n",
       "      <td>0</td>\n",
       "      <td>0</td>\n",
       "      <td>1</td>\n",
       "      <td>0</td>\n",
       "      <td>0</td>\n",
       "      <td>0</td>\n",
       "    </tr>\n",
       "    <tr>\n",
       "      <th>1</th>\n",
       "      <td>7</td>\n",
       "      <td>10690</td>\n",
       "      <td>11.787392</td>\n",
       "      <td>2019</td>\n",
       "      <td>1</td>\n",
       "      <td>1</td>\n",
       "      <td>0</td>\n",
       "      <td>1</td>\n",
       "      <td>0</td>\n",
       "      <td>0</td>\n",
       "      <td>0</td>\n",
       "      <td>1</td>\n",
       "      <td>0</td>\n",
       "      <td>0</td>\n",
       "      <td>0</td>\n",
       "    </tr>\n",
       "    <tr>\n",
       "      <th>2</th>\n",
       "      <td>8</td>\n",
       "      <td>10691</td>\n",
       "      <td>9.954062</td>\n",
       "      <td>2019</td>\n",
       "      <td>1</td>\n",
       "      <td>1</td>\n",
       "      <td>0</td>\n",
       "      <td>0</td>\n",
       "      <td>0</td>\n",
       "      <td>1</td>\n",
       "      <td>0</td>\n",
       "      <td>0</td>\n",
       "      <td>1</td>\n",
       "      <td>0</td>\n",
       "      <td>0</td>\n",
       "    </tr>\n",
       "    <tr>\n",
       "      <th>3</th>\n",
       "      <td>14</td>\n",
       "      <td>10692</td>\n",
       "      <td>12.338534</td>\n",
       "      <td>2019</td>\n",
       "      <td>1</td>\n",
       "      <td>1</td>\n",
       "      <td>0</td>\n",
       "      <td>0</td>\n",
       "      <td>0</td>\n",
       "      <td>1</td>\n",
       "      <td>0</td>\n",
       "      <td>0</td>\n",
       "      <td>1</td>\n",
       "      <td>0</td>\n",
       "      <td>0</td>\n",
       "    </tr>\n",
       "    <tr>\n",
       "      <th>4</th>\n",
       "      <td>15</td>\n",
       "      <td>10693</td>\n",
       "      <td>8.657390</td>\n",
       "      <td>2019</td>\n",
       "      <td>0</td>\n",
       "      <td>0</td>\n",
       "      <td>0</td>\n",
       "      <td>1</td>\n",
       "      <td>0</td>\n",
       "      <td>0</td>\n",
       "      <td>0</td>\n",
       "      <td>0</td>\n",
       "      <td>1</td>\n",
       "      <td>0</td>\n",
       "      <td>0</td>\n",
       "    </tr>\n",
       "  </tbody>\n",
       "</table>\n",
       "</div>"
      ],
      "text/plain": [
       "   Unnamed: 0  Opportunity_ID  ...  Region_Apac  Region_Middle_East\n",
       "0           2           10689  ...            0                   0\n",
       "1           7           10690  ...            0                   0\n",
       "2           8           10691  ...            0                   0\n",
       "3          14           10692  ...            0                   0\n",
       "4          15           10693  ...            0                   0\n",
       "\n",
       "[5 rows x 15 columns]"
      ]
     },
     "execution_count": 775,
     "metadata": {
      "tags": []
     },
     "output_type": "execute_result"
    }
   ],
   "source": [
    "DataFrameTest3.head()"
   ]
  },
  {
   "cell_type": "code",
   "execution_count": 776,
   "metadata": {
    "id": "Bt48vn5635DU"
   },
   "outputs": [],
   "source": [
    "DataFrameTest3.drop(columns = {'Unnamed: 0'}, inplace = True)"
   ]
  },
  {
   "cell_type": "code",
   "execution_count": 777,
   "metadata": {
    "colab": {
     "base_uri": "https://localhost:8080/",
     "height": 241
    },
    "id": "qjZEz04H36OA",
    "outputId": "c2cc8bab-a1b0-4d37-d8ea-7d35f7a507d7"
   },
   "outputs": [
    {
     "data": {
      "text/html": [
       "<div>\n",
       "<style scoped>\n",
       "    .dataframe tbody tr th:only-of-type {\n",
       "        vertical-align: middle;\n",
       "    }\n",
       "\n",
       "    .dataframe tbody tr th {\n",
       "        vertical-align: top;\n",
       "    }\n",
       "\n",
       "    .dataframe thead th {\n",
       "        text-align: right;\n",
       "    }\n",
       "</style>\n",
       "<table border=\"1\" class=\"dataframe\">\n",
       "  <thead>\n",
       "    <tr style=\"text-align: right;\">\n",
       "      <th></th>\n",
       "      <th>Opportunity_ID</th>\n",
       "      <th>Total_Amount</th>\n",
       "      <th>Delivery_Year</th>\n",
       "      <th>Pricing, Delivery_Terms_Approved</th>\n",
       "      <th>Pricing, Delivery_Terms_Quote_Appr</th>\n",
       "      <th>Delivery_Quarter_1</th>\n",
       "      <th>Delivery_Quarter_2</th>\n",
       "      <th>Delivery_Quarter_3</th>\n",
       "      <th>Delivery_Quarter_4</th>\n",
       "      <th>Region_Japon</th>\n",
       "      <th>Region_EMEA</th>\n",
       "      <th>Region_Americas</th>\n",
       "      <th>Region_Apac</th>\n",
       "      <th>Region_Middle_East</th>\n",
       "    </tr>\n",
       "  </thead>\n",
       "  <tbody>\n",
       "    <tr>\n",
       "      <th>0</th>\n",
       "      <td>10689</td>\n",
       "      <td>11.905436</td>\n",
       "      <td>2019</td>\n",
       "      <td>1</td>\n",
       "      <td>1</td>\n",
       "      <td>0</td>\n",
       "      <td>1</td>\n",
       "      <td>0</td>\n",
       "      <td>0</td>\n",
       "      <td>0</td>\n",
       "      <td>1</td>\n",
       "      <td>0</td>\n",
       "      <td>0</td>\n",
       "      <td>0</td>\n",
       "    </tr>\n",
       "    <tr>\n",
       "      <th>1</th>\n",
       "      <td>10690</td>\n",
       "      <td>11.787392</td>\n",
       "      <td>2019</td>\n",
       "      <td>1</td>\n",
       "      <td>1</td>\n",
       "      <td>0</td>\n",
       "      <td>1</td>\n",
       "      <td>0</td>\n",
       "      <td>0</td>\n",
       "      <td>0</td>\n",
       "      <td>1</td>\n",
       "      <td>0</td>\n",
       "      <td>0</td>\n",
       "      <td>0</td>\n",
       "    </tr>\n",
       "    <tr>\n",
       "      <th>2</th>\n",
       "      <td>10691</td>\n",
       "      <td>9.954062</td>\n",
       "      <td>2019</td>\n",
       "      <td>1</td>\n",
       "      <td>1</td>\n",
       "      <td>0</td>\n",
       "      <td>0</td>\n",
       "      <td>0</td>\n",
       "      <td>1</td>\n",
       "      <td>0</td>\n",
       "      <td>0</td>\n",
       "      <td>1</td>\n",
       "      <td>0</td>\n",
       "      <td>0</td>\n",
       "    </tr>\n",
       "    <tr>\n",
       "      <th>3</th>\n",
       "      <td>10692</td>\n",
       "      <td>12.338534</td>\n",
       "      <td>2019</td>\n",
       "      <td>1</td>\n",
       "      <td>1</td>\n",
       "      <td>0</td>\n",
       "      <td>0</td>\n",
       "      <td>0</td>\n",
       "      <td>1</td>\n",
       "      <td>0</td>\n",
       "      <td>0</td>\n",
       "      <td>1</td>\n",
       "      <td>0</td>\n",
       "      <td>0</td>\n",
       "    </tr>\n",
       "    <tr>\n",
       "      <th>4</th>\n",
       "      <td>10693</td>\n",
       "      <td>8.657390</td>\n",
       "      <td>2019</td>\n",
       "      <td>0</td>\n",
       "      <td>0</td>\n",
       "      <td>0</td>\n",
       "      <td>1</td>\n",
       "      <td>0</td>\n",
       "      <td>0</td>\n",
       "      <td>0</td>\n",
       "      <td>0</td>\n",
       "      <td>1</td>\n",
       "      <td>0</td>\n",
       "      <td>0</td>\n",
       "    </tr>\n",
       "  </tbody>\n",
       "</table>\n",
       "</div>"
      ],
      "text/plain": [
       "   Opportunity_ID  Total_Amount  ...  Region_Apac  Region_Middle_East\n",
       "0           10689     11.905436  ...            0                   0\n",
       "1           10690     11.787392  ...            0                   0\n",
       "2           10691      9.954062  ...            0                   0\n",
       "3           10692     12.338534  ...            0                   0\n",
       "4           10693      8.657390  ...            0                   0\n",
       "\n",
       "[5 rows x 14 columns]"
      ]
     },
     "execution_count": 777,
     "metadata": {
      "tags": []
     },
     "output_type": "execute_result"
    }
   ],
   "source": [
    "DataFrameTest3.head()"
   ]
  },
  {
   "cell_type": "code",
   "execution_count": 778,
   "metadata": {
    "id": "H1MWSXpl36XB"
   },
   "outputs": [],
   "source": [
    "DescargaPredRegressor2 = pd.DataFrame()\n",
    "DescargaPredRegressor2['Opportunity_ID'] = DataFrameTest3['Opportunity_ID']\n",
    "DescargaPredRegressor2.set_index('Opportunity_ID', inplace = True)\n",
    "#Tambien separo para el test\n",
    "#-----------------------------------------------------------------------\n",
    "DescargaPredClassificator2 = pd.DataFrame()\n",
    "DescargaPredClassificator2['Opportunity_ID'] = DataFrameTest3['Opportunity_ID']\n",
    "DescargaPredClassificator2.set_index('Opportunity_ID', inplace = True)"
   ]
  },
  {
   "cell_type": "code",
   "execution_count": 779,
   "metadata": {
    "colab": {
     "base_uri": "https://localhost:8080/",
     "height": 241
    },
    "id": "OXm9_lQW4HAX",
    "outputId": "884a1d68-3b3d-4431-a588-31282e6fbb39"
   },
   "outputs": [
    {
     "data": {
      "text/html": [
       "<div>\n",
       "<style scoped>\n",
       "    .dataframe tbody tr th:only-of-type {\n",
       "        vertical-align: middle;\n",
       "    }\n",
       "\n",
       "    .dataframe tbody tr th {\n",
       "        vertical-align: top;\n",
       "    }\n",
       "\n",
       "    .dataframe thead th {\n",
       "        text-align: right;\n",
       "    }\n",
       "</style>\n",
       "<table border=\"1\" class=\"dataframe\">\n",
       "  <thead>\n",
       "    <tr style=\"text-align: right;\">\n",
       "      <th></th>\n",
       "      <th>Total_Amount</th>\n",
       "      <th>Delivery_Year</th>\n",
       "      <th>Pricing, Delivery_Terms_Approved</th>\n",
       "      <th>Pricing, Delivery_Terms_Quote_Appr</th>\n",
       "      <th>Delivery_Quarter_1</th>\n",
       "      <th>Delivery_Quarter_2</th>\n",
       "      <th>Delivery_Quarter_3</th>\n",
       "      <th>Delivery_Quarter_4</th>\n",
       "      <th>Region_Japon</th>\n",
       "      <th>Region_EMEA</th>\n",
       "      <th>Region_Americas</th>\n",
       "      <th>Region_Apac</th>\n",
       "      <th>Region_Middle_East</th>\n",
       "    </tr>\n",
       "  </thead>\n",
       "  <tbody>\n",
       "    <tr>\n",
       "      <th>0</th>\n",
       "      <td>11.905436</td>\n",
       "      <td>2019</td>\n",
       "      <td>1</td>\n",
       "      <td>1</td>\n",
       "      <td>0</td>\n",
       "      <td>1</td>\n",
       "      <td>0</td>\n",
       "      <td>0</td>\n",
       "      <td>0</td>\n",
       "      <td>1</td>\n",
       "      <td>0</td>\n",
       "      <td>0</td>\n",
       "      <td>0</td>\n",
       "    </tr>\n",
       "    <tr>\n",
       "      <th>1</th>\n",
       "      <td>11.787392</td>\n",
       "      <td>2019</td>\n",
       "      <td>1</td>\n",
       "      <td>1</td>\n",
       "      <td>0</td>\n",
       "      <td>1</td>\n",
       "      <td>0</td>\n",
       "      <td>0</td>\n",
       "      <td>0</td>\n",
       "      <td>1</td>\n",
       "      <td>0</td>\n",
       "      <td>0</td>\n",
       "      <td>0</td>\n",
       "    </tr>\n",
       "    <tr>\n",
       "      <th>2</th>\n",
       "      <td>9.954062</td>\n",
       "      <td>2019</td>\n",
       "      <td>1</td>\n",
       "      <td>1</td>\n",
       "      <td>0</td>\n",
       "      <td>0</td>\n",
       "      <td>0</td>\n",
       "      <td>1</td>\n",
       "      <td>0</td>\n",
       "      <td>0</td>\n",
       "      <td>1</td>\n",
       "      <td>0</td>\n",
       "      <td>0</td>\n",
       "    </tr>\n",
       "    <tr>\n",
       "      <th>3</th>\n",
       "      <td>12.338534</td>\n",
       "      <td>2019</td>\n",
       "      <td>1</td>\n",
       "      <td>1</td>\n",
       "      <td>0</td>\n",
       "      <td>0</td>\n",
       "      <td>0</td>\n",
       "      <td>1</td>\n",
       "      <td>0</td>\n",
       "      <td>0</td>\n",
       "      <td>1</td>\n",
       "      <td>0</td>\n",
       "      <td>0</td>\n",
       "    </tr>\n",
       "    <tr>\n",
       "      <th>4</th>\n",
       "      <td>8.657390</td>\n",
       "      <td>2019</td>\n",
       "      <td>0</td>\n",
       "      <td>0</td>\n",
       "      <td>0</td>\n",
       "      <td>1</td>\n",
       "      <td>0</td>\n",
       "      <td>0</td>\n",
       "      <td>0</td>\n",
       "      <td>0</td>\n",
       "      <td>1</td>\n",
       "      <td>0</td>\n",
       "      <td>0</td>\n",
       "    </tr>\n",
       "  </tbody>\n",
       "</table>\n",
       "</div>"
      ],
      "text/plain": [
       "   Total_Amount  Delivery_Year  ...  Region_Apac  Region_Middle_East\n",
       "0     11.905436           2019  ...            0                   0\n",
       "1     11.787392           2019  ...            0                   0\n",
       "2      9.954062           2019  ...            0                   0\n",
       "3     12.338534           2019  ...            0                   0\n",
       "4      8.657390           2019  ...            0                   0\n",
       "\n",
       "[5 rows x 13 columns]"
      ]
     },
     "execution_count": 779,
     "metadata": {
      "tags": []
     },
     "output_type": "execute_result"
    }
   ],
   "source": [
    "DataFrameTest3 = DataFrameTest3.drop(columns={'Opportunity_ID'})\n",
    "DataFrameTest3.head()"
   ]
  },
  {
   "cell_type": "code",
   "execution_count": 780,
   "metadata": {
    "id": "shC_BvgH4JKR"
   },
   "outputs": [],
   "source": [
    "predRegressor_Test2 = xg_Regressor2.predict(DataFrameTest3)"
   ]
  },
  {
   "cell_type": "code",
   "execution_count": 781,
   "metadata": {
    "colab": {
     "base_uri": "https://localhost:8080/",
     "height": 450
    },
    "id": "tFErteWT4Ksq",
    "outputId": "48d0efbb-d2b2-4fdd-b6fc-0d4d59b765c7"
   },
   "outputs": [
    {
     "data": {
      "text/html": [
       "<div>\n",
       "<style scoped>\n",
       "    .dataframe tbody tr th:only-of-type {\n",
       "        vertical-align: middle;\n",
       "    }\n",
       "\n",
       "    .dataframe tbody tr th {\n",
       "        vertical-align: top;\n",
       "    }\n",
       "\n",
       "    .dataframe thead th {\n",
       "        text-align: right;\n",
       "    }\n",
       "</style>\n",
       "<table border=\"1\" class=\"dataframe\">\n",
       "  <thead>\n",
       "    <tr style=\"text-align: right;\">\n",
       "      <th></th>\n",
       "      <th>target</th>\n",
       "    </tr>\n",
       "    <tr>\n",
       "      <th>Opportunity_ID</th>\n",
       "      <th></th>\n",
       "    </tr>\n",
       "  </thead>\n",
       "  <tbody>\n",
       "    <tr>\n",
       "      <th>10689</th>\n",
       "      <td>0.483180</td>\n",
       "    </tr>\n",
       "    <tr>\n",
       "      <th>10690</th>\n",
       "      <td>0.475820</td>\n",
       "    </tr>\n",
       "    <tr>\n",
       "      <th>10691</th>\n",
       "      <td>0.615167</td>\n",
       "    </tr>\n",
       "    <tr>\n",
       "      <th>10692</th>\n",
       "      <td>0.306613</td>\n",
       "    </tr>\n",
       "    <tr>\n",
       "      <th>10693</th>\n",
       "      <td>0.597742</td>\n",
       "    </tr>\n",
       "    <tr>\n",
       "      <th>...</th>\n",
       "      <td>...</td>\n",
       "    </tr>\n",
       "    <tr>\n",
       "      <th>12364</th>\n",
       "      <td>0.474621</td>\n",
       "    </tr>\n",
       "    <tr>\n",
       "      <th>12365</th>\n",
       "      <td>0.562017</td>\n",
       "    </tr>\n",
       "    <tr>\n",
       "      <th>12366</th>\n",
       "      <td>0.677410</td>\n",
       "    </tr>\n",
       "    <tr>\n",
       "      <th>12367</th>\n",
       "      <td>0.580296</td>\n",
       "    </tr>\n",
       "    <tr>\n",
       "      <th>12368</th>\n",
       "      <td>0.288622</td>\n",
       "    </tr>\n",
       "  </tbody>\n",
       "</table>\n",
       "<p>1567 rows × 1 columns</p>\n",
       "</div>"
      ],
      "text/plain": [
       "                  target\n",
       "Opportunity_ID          \n",
       "10689           0.483180\n",
       "10690           0.475820\n",
       "10691           0.615167\n",
       "10692           0.306613\n",
       "10693           0.597742\n",
       "...                  ...\n",
       "12364           0.474621\n",
       "12365           0.562017\n",
       "12366           0.677410\n",
       "12367           0.580296\n",
       "12368           0.288622\n",
       "\n",
       "[1567 rows x 1 columns]"
      ]
     },
     "execution_count": 781,
     "metadata": {
      "tags": []
     },
     "output_type": "execute_result"
    }
   ],
   "source": [
    "DescargaPredRegressor2['target'] = predRegressor_Test2\n",
    "DescargaPredRegressor2"
   ]
  },
  {
   "cell_type": "code",
   "execution_count": 782,
   "metadata": {
    "colab": {
     "base_uri": "https://localhost:8080/"
    },
    "id": "CAk4lTDX4MFT",
    "outputId": "a8934c54-3452-4a16-f117-58c8e403a363"
   },
   "outputs": [
    {
     "data": {
      "text/plain": [
       "0.741363    22\n",
       "0.505418    13\n",
       "0.411432     9\n",
       "0.628915     9\n",
       "0.559316     7\n",
       "            ..\n",
       "0.503141     1\n",
       "0.208792     1\n",
       "0.551961     1\n",
       "0.541799     1\n",
       "0.312732     1\n",
       "Name: target, Length: 1190, dtype: int64"
      ]
     },
     "execution_count": 782,
     "metadata": {
      "tags": []
     },
     "output_type": "execute_result"
    }
   ],
   "source": [
    "DescargaPredRegressor2['target'].value_counts()"
   ]
  },
  {
   "cell_type": "code",
   "execution_count": 783,
   "metadata": {
    "id": "Mbv2qvB54N_p"
   },
   "outputs": [],
   "source": [
    "#csv3 = DescargaPredRegressor1.to_csv('xgboost_regression_pred2.csv')\n",
    "#files.download('xgboost_regression_pred2.csv')"
   ]
  },
  {
   "cell_type": "markdown",
   "metadata": {
    "id": "PHb26aclwUuY"
   },
   "source": [
    "##Xgboost Clasificator"
   ]
  },
  {
   "cell_type": "markdown",
   "metadata": {
    "id": "lx_MmFiaweTe"
   },
   "source": [
    "###Entrenamiento"
   ]
  },
  {
   "cell_type": "code",
   "execution_count": 784,
   "metadata": {
    "id": "ZVDfvknOwWy3"
   },
   "outputs": [],
   "source": [
    "X_Entrenamiento2, X_EntrenamientoTest2, Y_TestEntrenamiento2, Y_TestTest2 = train_test_split(DataFrame3Train, DataFrame3Test,test_size = 0.2, random_state = 0)"
   ]
  },
  {
   "cell_type": "code",
   "execution_count": 785,
   "metadata": {
    "colab": {
     "base_uri": "https://localhost:8080/"
    },
    "id": "JNlHPBpK65Zy",
    "outputId": "336b54a1-6ab3-47eb-d838-bee95d8754d0"
   },
   "outputs": [
    {
     "data": {
      "text/plain": [
       "((13417, 13), (3355, 13), (13417,), (3355,))"
      ]
     },
     "execution_count": 785,
     "metadata": {
      "tags": []
     },
     "output_type": "execute_result"
    }
   ],
   "source": [
    "X_Entrenamiento2.shape, X_EntrenamientoTest2.shape, Y_TestEntrenamiento2.shape, Y_TestTest2.shape"
   ]
  },
  {
   "cell_type": "code",
   "execution_count": 786,
   "metadata": {
    "id": "bi3afECT67Xj"
   },
   "outputs": [],
   "source": [
    "xg_classificator2 = XGBClassifier(colsample_bytree = 0.8, gamma = 1, learning_rate = 0.01, max_depth = 20, min_child_weight = 1, n_estimators = 200, subsample = 0.8)"
   ]
  },
  {
   "cell_type": "code",
   "execution_count": 787,
   "metadata": {
    "colab": {
     "base_uri": "https://localhost:8080/"
    },
    "id": "pMZopGrs68gl",
    "outputId": "4f09b8a2-9b1e-473a-b753-e90ce8ebd8b2"
   },
   "outputs": [
    {
     "data": {
      "text/plain": [
       "XGBClassifier(base_score=0.5, booster='gbtree', colsample_bylevel=1,\n",
       "              colsample_bynode=1, colsample_bytree=0.8, gamma=1,\n",
       "              learning_rate=0.01, max_delta_step=0, max_depth=20,\n",
       "              min_child_weight=1, missing=None, n_estimators=200, n_jobs=1,\n",
       "              nthread=None, objective='binary:logistic', random_state=0,\n",
       "              reg_alpha=0, reg_lambda=1, scale_pos_weight=1, seed=None,\n",
       "              silent=None, subsample=0.8, verbosity=1)"
      ]
     },
     "execution_count": 787,
     "metadata": {
      "tags": []
     },
     "output_type": "execute_result"
    }
   ],
   "source": [
    "xg_classificator2.fit(X_Entrenamiento2,Y_TestEntrenamiento2)"
   ]
  },
  {
   "cell_type": "code",
   "execution_count": 788,
   "metadata": {
    "id": "r0zJHLWb691h"
   },
   "outputs": [],
   "source": [
    "predsClassificator2 = xg_classificator2.predict(X_EntrenamientoTest2)"
   ]
  },
  {
   "cell_type": "code",
   "execution_count": 789,
   "metadata": {
    "colab": {
     "base_uri": "https://localhost:8080/",
     "height": 312
    },
    "id": "kdz5mrga7IN6",
    "outputId": "9c9cea27-d582-404c-d65c-f6203abb4e24"
   },
   "outputs": [
    {
     "name": "stdout",
     "output_type": "stream",
     "text": [
      "0.8286140089418778\n",
      "              precision    recall  f1-score   support\n",
      "\n",
      "           0       0.83      0.76      0.79      1466\n",
      "           1       0.82      0.88      0.85      1889\n",
      "\n",
      "    accuracy                           0.83      3355\n",
      "   macro avg       0.83      0.82      0.82      3355\n",
      "weighted avg       0.83      0.83      0.83      3355\n",
      "\n"
     ]
    },
    {
     "data": {
      "text/html": [
       "<div>\n",
       "<style scoped>\n",
       "    .dataframe tbody tr th:only-of-type {\n",
       "        vertical-align: middle;\n",
       "    }\n",
       "\n",
       "    .dataframe tbody tr th {\n",
       "        vertical-align: top;\n",
       "    }\n",
       "\n",
       "    .dataframe thead th {\n",
       "        text-align: right;\n",
       "    }\n",
       "</style>\n",
       "<table border=\"1\" class=\"dataframe\">\n",
       "  <thead>\n",
       "    <tr style=\"text-align: right;\">\n",
       "      <th>col_0</th>\n",
       "      <th>0</th>\n",
       "      <th>1</th>\n",
       "    </tr>\n",
       "    <tr>\n",
       "      <th>Decision</th>\n",
       "      <th></th>\n",
       "      <th></th>\n",
       "    </tr>\n",
       "  </thead>\n",
       "  <tbody>\n",
       "    <tr>\n",
       "      <th>0</th>\n",
       "      <td>1112</td>\n",
       "      <td>354</td>\n",
       "    </tr>\n",
       "    <tr>\n",
       "      <th>1</th>\n",
       "      <td>221</td>\n",
       "      <td>1668</td>\n",
       "    </tr>\n",
       "  </tbody>\n",
       "</table>\n",
       "</div>"
      ],
      "text/plain": [
       "col_0        0     1\n",
       "Decision            \n",
       "0         1112   354\n",
       "1          221  1668"
      ]
     },
     "execution_count": 789,
     "metadata": {
      "tags": []
     },
     "output_type": "execute_result"
    }
   ],
   "source": [
    "from sklearn.metrics import accuracy_score, classification_report\n",
    "print(accuracy_score(Y_TestTest2, predsClassificator2))\n",
    "print(classification_report(Y_TestTest2, predsClassificator2))\n",
    "pd.crosstab(Y_TestTest2, predsClassificator2)"
   ]
  },
  {
   "cell_type": "code",
   "execution_count": 790,
   "metadata": {
    "colab": {
     "base_uri": "https://localhost:8080/"
    },
    "id": "nfvs-Ogs7Juj",
    "outputId": "47b1ff05-1528-4ed0-89f2-2f9f78a02b6b"
   },
   "outputs": [
    {
     "data": {
      "text/plain": [
       "1    2022\n",
       "0    1333\n",
       "Name: pred, dtype: int64"
      ]
     },
     "execution_count": 790,
     "metadata": {
      "tags": []
     },
     "output_type": "execute_result"
    }
   ],
   "source": [
    "value_predClassificator2 = pd.DataFrame()\n",
    "value_predClassificator2['pred'] = predsClassificator2\n",
    "value_predClassificator2['pred'].value_counts()"
   ]
  },
  {
   "cell_type": "code",
   "execution_count": 791,
   "metadata": {
    "colab": {
     "base_uri": "https://localhost:8080/"
    },
    "id": "c-MMsNxr7LHi",
    "outputId": "e7f12017-44a8-4f1f-980e-0fcd81c38f53"
   },
   "outputs": [
    {
     "name": "stdout",
     "output_type": "stream",
     "text": [
      "RMSE: 0.413988\n",
      "Accuracy: 82.86%\n"
     ]
    }
   ],
   "source": [
    "rmseClassificator2 = np.sqrt(mean_squared_error(Y_TestTest2, predsClassificator2))\n",
    "print(\"RMSE: %f\" % (rmseClassificator2))\n",
    "accuracy = accuracy_score(Y_TestTest2, predsClassificator2)\n",
    "print(\"Accuracy: %.2f%%\" % (accuracy * 100.0))"
   ]
  },
  {
   "cell_type": "code",
   "execution_count": 792,
   "metadata": {
    "colab": {
     "base_uri": "https://localhost:8080/"
    },
    "id": "tsX3wvG-7MsJ",
    "outputId": "7776a952-fabe-414b-c556-12b4a42f94d7"
   },
   "outputs": [
    {
     "name": "stdout",
     "output_type": "stream",
     "text": [
      "Log Loss is 0.4387157682046272\n"
     ]
    }
   ],
   "source": [
    "lossClassificator2 = log_loss(Y_TestTest2, predsClassificator2)\n",
    "print(f\"Log Loss is {loss}\")"
   ]
  },
  {
   "cell_type": "markdown",
   "metadata": {
    "id": "hJQf4tPAwfQ-"
   },
   "source": [
    "###Test"
   ]
  },
  {
   "cell_type": "code",
   "execution_count": 794,
   "metadata": {
    "id": "9I67MOs08WDO"
   },
   "outputs": [],
   "source": [
    "predClassificator_Test2 = xg_classificator2.predict(DataFrameTest3)"
   ]
  },
  {
   "cell_type": "code",
   "execution_count": 795,
   "metadata": {
    "colab": {
     "base_uri": "https://localhost:8080/",
     "height": 450
    },
    "id": "Vd1US9zi8Y2c",
    "outputId": "abae427a-0825-4254-9983-53daeaf2e486"
   },
   "outputs": [
    {
     "data": {
      "text/html": [
       "<div>\n",
       "<style scoped>\n",
       "    .dataframe tbody tr th:only-of-type {\n",
       "        vertical-align: middle;\n",
       "    }\n",
       "\n",
       "    .dataframe tbody tr th {\n",
       "        vertical-align: top;\n",
       "    }\n",
       "\n",
       "    .dataframe thead th {\n",
       "        text-align: right;\n",
       "    }\n",
       "</style>\n",
       "<table border=\"1\" class=\"dataframe\">\n",
       "  <thead>\n",
       "    <tr style=\"text-align: right;\">\n",
       "      <th></th>\n",
       "      <th>target</th>\n",
       "    </tr>\n",
       "    <tr>\n",
       "      <th>Opportunity_ID</th>\n",
       "      <th></th>\n",
       "    </tr>\n",
       "  </thead>\n",
       "  <tbody>\n",
       "    <tr>\n",
       "      <th>10689</th>\n",
       "      <td>0</td>\n",
       "    </tr>\n",
       "    <tr>\n",
       "      <th>10690</th>\n",
       "      <td>0</td>\n",
       "    </tr>\n",
       "    <tr>\n",
       "      <th>10691</th>\n",
       "      <td>1</td>\n",
       "    </tr>\n",
       "    <tr>\n",
       "      <th>10692</th>\n",
       "      <td>0</td>\n",
       "    </tr>\n",
       "    <tr>\n",
       "      <th>10693</th>\n",
       "      <td>1</td>\n",
       "    </tr>\n",
       "    <tr>\n",
       "      <th>...</th>\n",
       "      <td>...</td>\n",
       "    </tr>\n",
       "    <tr>\n",
       "      <th>12364</th>\n",
       "      <td>1</td>\n",
       "    </tr>\n",
       "    <tr>\n",
       "      <th>12365</th>\n",
       "      <td>1</td>\n",
       "    </tr>\n",
       "    <tr>\n",
       "      <th>12366</th>\n",
       "      <td>1</td>\n",
       "    </tr>\n",
       "    <tr>\n",
       "      <th>12367</th>\n",
       "      <td>1</td>\n",
       "    </tr>\n",
       "    <tr>\n",
       "      <th>12368</th>\n",
       "      <td>0</td>\n",
       "    </tr>\n",
       "  </tbody>\n",
       "</table>\n",
       "<p>1567 rows × 1 columns</p>\n",
       "</div>"
      ],
      "text/plain": [
       "                target\n",
       "Opportunity_ID        \n",
       "10689                0\n",
       "10690                0\n",
       "10691                1\n",
       "10692                0\n",
       "10693                1\n",
       "...                ...\n",
       "12364                1\n",
       "12365                1\n",
       "12366                1\n",
       "12367                1\n",
       "12368                0\n",
       "\n",
       "[1567 rows x 1 columns]"
      ]
     },
     "execution_count": 795,
     "metadata": {
      "tags": []
     },
     "output_type": "execute_result"
    }
   ],
   "source": [
    "DescargaPredClassificator2['target'] = predClassificator_Test2\n",
    "DescargaPredClassificator2"
   ]
  },
  {
   "cell_type": "code",
   "execution_count": 796,
   "metadata": {
    "colab": {
     "base_uri": "https://localhost:8080/"
    },
    "id": "GrXGWmV88byv",
    "outputId": "f0bfbcb3-01bf-4cde-f2b6-2287d421f203"
   },
   "outputs": [
    {
     "data": {
      "text/plain": [
       "0    804\n",
       "1    763\n",
       "Name: target, dtype: int64"
      ]
     },
     "execution_count": 796,
     "metadata": {
      "tags": []
     },
     "output_type": "execute_result"
    }
   ],
   "source": [
    "DescargaPredClassificator2['target'].value_counts()"
   ]
  },
  {
   "cell_type": "code",
   "execution_count": null,
   "metadata": {
    "id": "P_sS3bVM8dw8"
   },
   "outputs": [],
   "source": [
    "#csv4 = DescargaPredClassificator2.to_csv('xgboost_clasification_pred2.csv')\n",
    "#files.download('xgboost_clasification_pred2.csv')"
   ]
  },
  {
   "cell_type": "markdown",
   "metadata": {
    "id": "-n8kzzFQqGMy"
   },
   "source": [
    "#GridSearch"
   ]
  },
  {
   "cell_type": "code",
   "execution_count": null,
   "metadata": {
    "id": "81OkB0DeZ9zN"
   },
   "outputs": [],
   "source": []
  },
  {
   "cell_type": "code",
   "execution_count": null,
   "metadata": {
    "id": "UzgbCvP_Z-66"
   },
   "outputs": [],
   "source": [
    "\n",
    "params = {\n",
    "        'min_child_weight': [1, 5, 10],\n",
    "        'gamma': [0.5, 1, 1.5],\n",
    "        'subsample': [0.6, 0.8],\n",
    "        'colsample_bytree': [0.3, 0.6, 0.8],\n",
    "        'max_depth': [3, 5, 10, 20],\n",
    "        'learning_rate' : [0.1, 0.01, 0.001],\n",
    "        'n_estimators' : [10, 100, 150, 200]\n",
    "        }\n"
   ]
  },
  {
   "cell_type": "code",
   "execution_count": null,
   "metadata": {
    "id": "1QCxnxX4Z_3M"
   },
   "outputs": [],
   "source": [
    "xgb = xgb.XGBRegressor(learning_rate=0.02, n_estimators=600, objective='binary:logistic', silent=True, nthread=1)"
   ]
  },
  {
   "cell_type": "code",
   "execution_count": null,
   "metadata": {
    "id": "3BcZkzDFaBAX"
   },
   "outputs": [],
   "source": [
    "\n",
    "folds = 3\n",
    "param_comb = 5\n",
    "\n",
    "skf = StratifiedKFold(n_splits=folds, shuffle = True, random_state = 1001)\n",
    "\n",
    "random_search = RandomizedSearchCV(xgb, param_distributions=params, n_iter=param_comb, scoring='roc_auc', n_jobs=4, cv=skf.split(DataFrame2Train,DataFrame2Test), verbose=3, random_state=1001 )\n",
    "\n",
    "random_search.fit(DataFrame2Train, DataFrame2Test)"
   ]
  },
  {
   "cell_type": "code",
   "execution_count": null,
   "metadata": {
    "id": "DV4Sww_lavxx"
   },
   "outputs": [],
   "source": [
    "\n",
    "print('\\n All results:')\n",
    "print(random_search.cv_results_)\n",
    "print('\\n Best estimator:')\n",
    "print(random_search.best_estimator_)\n",
    "print('\\n Best normalized gini score for %d-fold search with %d parameter combinations:' % (folds, param_comb))\n",
    "print(random_search.best_score_ * 2 - 1)\n",
    "print('\\n Best hyperparameters:')\n",
    "print(random_search.best_params_)\n",
    "results = pd.DataFrame(random_search.cv_results_)\n",
    "results.to_csv('xgb-random-grid-search-results-01.csv', index=False)"
   ]
  },
  {
   "cell_type": "code",
   "execution_count": null,
   "metadata": {
    "id": "MDC6gNn5bZa5"
   },
   "outputs": [],
   "source": [
    "\n",
    "grid = GridSearchCV(estimator=xgb, param_grid=params, scoring='roc_auc', n_jobs=4, cv=skf.split(DataFrame2Train,DataFrame2Test), verbose=3 )\n",
    "grid.fit(DataFrame2Train, DataFrame2Test)\n",
    "print('\\n All results:')\n",
    "print(grid.cv_results_)\n",
    "print('\\n Best estimator:')\n",
    "print(grid.best_estimator_)\n",
    "print('\\n Best score:')\n",
    "print(grid.best_score_ * 2 - 1)\n",
    "print('\\n Best parameters:')\n",
    "print(grid.best_params_)\n",
    "results = pd.DataFrame(grid.cv_results_)\n",
    "results.to_csv('xgb-grid-search-results-01.csv', index=False)"
   ]
  }
 ],
 "metadata": {
  "colab": {
   "collapsed_sections": [
    "j3eHKnrjvAyp",
    "4YVX2dicuihz",
    "MX4Ob1HCvVho",
    "Ga7kvh9W8WJM"
   ],
   "name": "Xgboost",
   "provenance": [],
   "toc_visible": true
  },
  "kernelspec": {
   "display_name": "Python 3",
   "language": "python",
   "name": "python3"
  },
  "language_info": {
   "codemirror_mode": {
    "name": "ipython",
    "version": 3
   },
   "file_extension": ".py",
   "mimetype": "text/x-python",
   "name": "python",
   "nbconvert_exporter": "python",
   "pygments_lexer": "ipython3",
   "version": "3.6.9"
  }
 },
 "nbformat": 4,
 "nbformat_minor": 1
}
