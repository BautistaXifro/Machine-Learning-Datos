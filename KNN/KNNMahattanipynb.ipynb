{
  "nbformat": 4,
  "nbformat_minor": 0,
  "metadata": {
    "colab": {
      "name": "KNNMahattanipynb",
      "provenance": [],
      "collapsed_sections": []
    },
    "kernelspec": {
      "name": "python3",
      "display_name": "Python 3"
    }
  },
  "cells": [
    {
      "cell_type": "code",
      "metadata": {
        "id": "oK4zrSBP_cuN"
      },
      "source": [
        "import pandas as pd\r\n",
        "import numpy as np\r\n",
        "\r\n",
        "import scipy\r\n",
        "import matplotlib.pyplot as plt\r\n",
        "from pylab import rcParams\r\n",
        "import urllib\r\n",
        "import sklearn\r\n",
        "from sklearn.neighbors import KNeighborsClassifier\r\n",
        "from sklearn import neighbors\r\n",
        "from sklearn import preprocessing\r\n",
        "from sklearn.model_selection import train_test_split\r\n",
        "from google.colab import files\r\n",
        "\r\n",
        "from sklearn import metrics"
      ],
      "execution_count": 355,
      "outputs": []
    },
    {
      "cell_type": "code",
      "metadata": {
        "id": "XZHRePfMSXwU"
      },
      "source": [
        "np.set_printoptions(precision=4, suppress = True)\r\n",
        "%matplotlib inline\r\n",
        "rcParams['figure.figsize'] = 7,4\r\n",
        "plt.style.use('seaborn-whitegrid')"
      ],
      "execution_count": 356,
      "outputs": []
    },
    {
      "cell_type": "code",
      "metadata": {
        "colab": {
          "base_uri": "https://localhost:8080/",
          "height": 326
        },
        "id": "I4gXzlpnS3N7",
        "outputId": "7e7a4b29-b2f2-4208-e1c5-74349178b480"
      },
      "source": [
        "oportunidades = pd.read_csv('/content/drive/My Drive/Entrenamieto_ECI_2020.csv')\r\n",
        "test = pd.read_csv('/content/drive/MyDrive/Test_TP2_Datos_2020-2C.csv')\r\n",
        "oportunidades.head()\r\n",
        "\r\n"
      ],
      "execution_count": 357,
      "outputs": [
        {
          "output_type": "execute_result",
          "data": {
            "text/html": [
              "<div>\n",
              "<style scoped>\n",
              "    .dataframe tbody tr th:only-of-type {\n",
              "        vertical-align: middle;\n",
              "    }\n",
              "\n",
              "    .dataframe tbody tr th {\n",
              "        vertical-align: top;\n",
              "    }\n",
              "\n",
              "    .dataframe thead th {\n",
              "        text-align: right;\n",
              "    }\n",
              "</style>\n",
              "<table border=\"1\" class=\"dataframe\">\n",
              "  <thead>\n",
              "    <tr style=\"text-align: right;\">\n",
              "      <th></th>\n",
              "      <th>ID</th>\n",
              "      <th>Region</th>\n",
              "      <th>Territory</th>\n",
              "      <th>Pricing, Delivery_Terms_Quote_Appr</th>\n",
              "      <th>Pricing, Delivery_Terms_Approved</th>\n",
              "      <th>Bureaucratic_Code_0_Approval</th>\n",
              "      <th>Bureaucratic_Code_0_Approved</th>\n",
              "      <th>Submitted_for_Approval</th>\n",
              "      <th>Bureaucratic_Code</th>\n",
              "      <th>Account_Created_Date</th>\n",
              "      <th>Source</th>\n",
              "      <th>Billing_Country</th>\n",
              "      <th>Account_Name</th>\n",
              "      <th>Opportunity_Name</th>\n",
              "      <th>Opportunity_ID</th>\n",
              "      <th>Sales_Contract_No</th>\n",
              "      <th>Account_Owner</th>\n",
              "      <th>Opportunity_Owner</th>\n",
              "      <th>Account_Type</th>\n",
              "      <th>Opportunity_Type</th>\n",
              "      <th>Quote_Type</th>\n",
              "      <th>Delivery_Terms</th>\n",
              "      <th>Opportunity_Created_Date</th>\n",
              "      <th>Brand</th>\n",
              "      <th>Product_Type</th>\n",
              "      <th>Size</th>\n",
              "      <th>Product_Category_B</th>\n",
              "      <th>Price</th>\n",
              "      <th>Currency</th>\n",
              "      <th>Last_Activity</th>\n",
              "      <th>Quote_Expiry_Date</th>\n",
              "      <th>Last_Modified_Date</th>\n",
              "      <th>Last_Modified_By</th>\n",
              "      <th>Product_Family</th>\n",
              "      <th>Product_Name</th>\n",
              "      <th>ASP_Currency</th>\n",
              "      <th>ASP</th>\n",
              "      <th>ASP_(converted)_Currency</th>\n",
              "      <th>ASP_(converted)</th>\n",
              "      <th>Planned_Delivery_Start_Date</th>\n",
              "      <th>Planned_Delivery_End_Date</th>\n",
              "      <th>Month</th>\n",
              "      <th>Delivery_Quarter</th>\n",
              "      <th>Delivery_Year</th>\n",
              "      <th>Actual_Delivery_Date</th>\n",
              "      <th>TRF</th>\n",
              "      <th>Total_Amount_Currency</th>\n",
              "      <th>Total_Amount</th>\n",
              "      <th>Total_Taxable_Amount_Currency</th>\n",
              "      <th>Total_Taxable_Amount</th>\n",
              "      <th>Stage</th>\n",
              "      <th>Prod_Category_A</th>\n",
              "    </tr>\n",
              "  </thead>\n",
              "  <tbody>\n",
              "    <tr>\n",
              "      <th>0</th>\n",
              "      <td>27761</td>\n",
              "      <td>EMEA</td>\n",
              "      <td>None</td>\n",
              "      <td>1</td>\n",
              "      <td>1</td>\n",
              "      <td>1</td>\n",
              "      <td>1</td>\n",
              "      <td>0</td>\n",
              "      <td>Bureaucratic_Code_4</td>\n",
              "      <td>6/16/2015</td>\n",
              "      <td>None</td>\n",
              "      <td>Netherlands</td>\n",
              "      <td>Account_Name_619</td>\n",
              "      <td>Opportunity_Name_12598</td>\n",
              "      <td>0</td>\n",
              "      <td>None</td>\n",
              "      <td>Person_Name_51</td>\n",
              "      <td>Person_Name_18</td>\n",
              "      <td>Account_Type_2</td>\n",
              "      <td>Opportunity_Type_1</td>\n",
              "      <td>Non Binding</td>\n",
              "      <td>Delivery_Terms_2</td>\n",
              "      <td>12/7/2015</td>\n",
              "      <td>None</td>\n",
              "      <td>None</td>\n",
              "      <td>None</td>\n",
              "      <td>None</td>\n",
              "      <td>None</td>\n",
              "      <td>None</td>\n",
              "      <td>NaT</td>\n",
              "      <td>1/30/2016</td>\n",
              "      <td>6/13/2016</td>\n",
              "      <td>Person_Name_18</td>\n",
              "      <td>Product_Family_77</td>\n",
              "      <td>Product_Name_99</td>\n",
              "      <td>EUR</td>\n",
              "      <td>0.52</td>\n",
              "      <td>USD</td>\n",
              "      <td>0.58817</td>\n",
              "      <td>5/1/2016</td>\n",
              "      <td>6/30/2016</td>\n",
              "      <td>2016 - 5</td>\n",
              "      <td>Q2</td>\n",
              "      <td>2016</td>\n",
              "      <td>NaT</td>\n",
              "      <td>10</td>\n",
              "      <td>EUR</td>\n",
              "      <td>5272800.0</td>\n",
              "      <td>EUR</td>\n",
              "      <td>5272800.0</td>\n",
              "      <td>Closed Lost</td>\n",
              "      <td>Prod_Category_A_None</td>\n",
              "    </tr>\n",
              "    <tr>\n",
              "      <th>1</th>\n",
              "      <td>27760</td>\n",
              "      <td>EMEA</td>\n",
              "      <td>None</td>\n",
              "      <td>0</td>\n",
              "      <td>0</td>\n",
              "      <td>0</td>\n",
              "      <td>0</td>\n",
              "      <td>0</td>\n",
              "      <td>Bureaucratic_Code_4</td>\n",
              "      <td>6/16/2015</td>\n",
              "      <td>None</td>\n",
              "      <td>Netherlands</td>\n",
              "      <td>Account_Name_619</td>\n",
              "      <td>Opportunity_Name_12600</td>\n",
              "      <td>1</td>\n",
              "      <td>39</td>\n",
              "      <td>Person_Name_51</td>\n",
              "      <td>Person_Name_20</td>\n",
              "      <td>Account_Type_2</td>\n",
              "      <td>Opportunity_Type_1</td>\n",
              "      <td>Non Binding</td>\n",
              "      <td>Delivery_Terms_2</td>\n",
              "      <td>12/7/2015</td>\n",
              "      <td>None</td>\n",
              "      <td>None</td>\n",
              "      <td>None</td>\n",
              "      <td>None</td>\n",
              "      <td>None</td>\n",
              "      <td>None</td>\n",
              "      <td>NaT</td>\n",
              "      <td>1/20/2016</td>\n",
              "      <td>1/15/2016</td>\n",
              "      <td>Person_Name_20</td>\n",
              "      <td>Product_Family_77</td>\n",
              "      <td>Product_Name_100</td>\n",
              "      <td>EUR</td>\n",
              "      <td>0.53</td>\n",
              "      <td>USD</td>\n",
              "      <td>0.59948</td>\n",
              "      <td>1/18/2016</td>\n",
              "      <td>1/20/2016</td>\n",
              "      <td>2016 - 1</td>\n",
              "      <td>Q1</td>\n",
              "      <td>2016</td>\n",
              "      <td>NaT</td>\n",
              "      <td>0</td>\n",
              "      <td>EUR</td>\n",
              "      <td>48230.0</td>\n",
              "      <td>EUR</td>\n",
              "      <td>48230.0</td>\n",
              "      <td>Closed Won</td>\n",
              "      <td>Prod_Category_A_None</td>\n",
              "    </tr>\n",
              "    <tr>\n",
              "      <th>2</th>\n",
              "      <td>27446</td>\n",
              "      <td>Americas</td>\n",
              "      <td>NW America</td>\n",
              "      <td>0</td>\n",
              "      <td>0</td>\n",
              "      <td>0</td>\n",
              "      <td>0</td>\n",
              "      <td>0</td>\n",
              "      <td>Bureaucratic_Code_4</td>\n",
              "      <td>4/21/2015</td>\n",
              "      <td>Source_7</td>\n",
              "      <td>United States</td>\n",
              "      <td>Account_Name_1794</td>\n",
              "      <td>Opportunity_Name_469</td>\n",
              "      <td>2</td>\n",
              "      <td>760</td>\n",
              "      <td>Person_Name_64</td>\n",
              "      <td>Person_Name_8</td>\n",
              "      <td>Account_Type_5</td>\n",
              "      <td>Opportunity_Type_1</td>\n",
              "      <td>Non Binding</td>\n",
              "      <td>Delivery_Terms_4</td>\n",
              "      <td>12/8/2015</td>\n",
              "      <td>None</td>\n",
              "      <td>None</td>\n",
              "      <td>None</td>\n",
              "      <td>None</td>\n",
              "      <td>None</td>\n",
              "      <td>None</td>\n",
              "      <td>NaT</td>\n",
              "      <td>9/30/2016</td>\n",
              "      <td>9/29/2016</td>\n",
              "      <td>Person_Name_8</td>\n",
              "      <td>Product_Family_81</td>\n",
              "      <td>Product_Name_91</td>\n",
              "      <td>USD</td>\n",
              "      <td>0.48</td>\n",
              "      <td>USD</td>\n",
              "      <td>0.48000</td>\n",
              "      <td>1/25/2016</td>\n",
              "      <td>1/25/2016</td>\n",
              "      <td>2016 - 1</td>\n",
              "      <td>Q1</td>\n",
              "      <td>2016</td>\n",
              "      <td>NaT</td>\n",
              "      <td>0</td>\n",
              "      <td>USD</td>\n",
              "      <td>83865.6</td>\n",
              "      <td>USD</td>\n",
              "      <td>83865.6</td>\n",
              "      <td>Closed Won</td>\n",
              "      <td>Prod_Category_A_None</td>\n",
              "    </tr>\n",
              "    <tr>\n",
              "      <th>3</th>\n",
              "      <td>16808</td>\n",
              "      <td>Americas</td>\n",
              "      <td>NW America</td>\n",
              "      <td>1</td>\n",
              "      <td>0</td>\n",
              "      <td>1</td>\n",
              "      <td>0</td>\n",
              "      <td>0</td>\n",
              "      <td>Bureaucratic_Code_5</td>\n",
              "      <td>7/27/2013</td>\n",
              "      <td>Source_11</td>\n",
              "      <td>United States</td>\n",
              "      <td>Account_Name_1201</td>\n",
              "      <td>Opportunity_Name_415</td>\n",
              "      <td>3</td>\n",
              "      <td>None</td>\n",
              "      <td>Person_Name_8</td>\n",
              "      <td>Person_Name_8</td>\n",
              "      <td>Account_Type_5</td>\n",
              "      <td>Opportunity_Type_19</td>\n",
              "      <td>Non Binding</td>\n",
              "      <td>Delivery_Terms_1</td>\n",
              "      <td>12/8/2015</td>\n",
              "      <td>Other</td>\n",
              "      <td>Product_Type_0</td>\n",
              "      <td>Size_4</td>\n",
              "      <td>Product_Category_B_16</td>\n",
              "      <td>0.42</td>\n",
              "      <td>USD</td>\n",
              "      <td>NaT</td>\n",
              "      <td>NaT</td>\n",
              "      <td>3/27/2018</td>\n",
              "      <td>Person_Name_8</td>\n",
              "      <td>Product_Family_209</td>\n",
              "      <td>Product_Name_432</td>\n",
              "      <td>USD</td>\n",
              "      <td>0.53</td>\n",
              "      <td>USD</td>\n",
              "      <td>0.53000</td>\n",
              "      <td>2/1/2018</td>\n",
              "      <td>3/31/2018</td>\n",
              "      <td>2018 - 2</td>\n",
              "      <td>Q1</td>\n",
              "      <td>2018</td>\n",
              "      <td>NaT</td>\n",
              "      <td>14</td>\n",
              "      <td>USD</td>\n",
              "      <td>7421881.5</td>\n",
              "      <td>USD</td>\n",
              "      <td>7421881.5</td>\n",
              "      <td>Closed Lost</td>\n",
              "      <td>Prod_Category_A_None</td>\n",
              "    </tr>\n",
              "    <tr>\n",
              "      <th>4</th>\n",
              "      <td>16805</td>\n",
              "      <td>Americas</td>\n",
              "      <td>NW America</td>\n",
              "      <td>1</td>\n",
              "      <td>0</td>\n",
              "      <td>1</td>\n",
              "      <td>0</td>\n",
              "      <td>0</td>\n",
              "      <td>Bureaucratic_Code_5</td>\n",
              "      <td>7/27/2013</td>\n",
              "      <td>Source_11</td>\n",
              "      <td>United States</td>\n",
              "      <td>Account_Name_1201</td>\n",
              "      <td>Opportunity_Name_851</td>\n",
              "      <td>4</td>\n",
              "      <td>None</td>\n",
              "      <td>Person_Name_8</td>\n",
              "      <td>Person_Name_8</td>\n",
              "      <td>Account_Type_5</td>\n",
              "      <td>Opportunity_Type_19</td>\n",
              "      <td>Non Binding</td>\n",
              "      <td>Delivery_Terms_1</td>\n",
              "      <td>12/8/2015</td>\n",
              "      <td>Other</td>\n",
              "      <td>Product_Type_0</td>\n",
              "      <td>Size_4</td>\n",
              "      <td>Product_Category_B_16</td>\n",
              "      <td>0.42</td>\n",
              "      <td>USD</td>\n",
              "      <td>NaT</td>\n",
              "      <td>6/2/2017</td>\n",
              "      <td>3/27/2018</td>\n",
              "      <td>Person_Name_8</td>\n",
              "      <td>Product_Family_209</td>\n",
              "      <td>Product_Name_432</td>\n",
              "      <td>USD</td>\n",
              "      <td>0.53</td>\n",
              "      <td>USD</td>\n",
              "      <td>0.53000</td>\n",
              "      <td>2/1/2018</td>\n",
              "      <td>2/28/2018</td>\n",
              "      <td>2018 - 2</td>\n",
              "      <td>Q1</td>\n",
              "      <td>2018</td>\n",
              "      <td>NaT</td>\n",
              "      <td>25</td>\n",
              "      <td>USD</td>\n",
              "      <td>13357192.5</td>\n",
              "      <td>USD</td>\n",
              "      <td>13357192.5</td>\n",
              "      <td>Closed Lost</td>\n",
              "      <td>Prod_Category_A_None</td>\n",
              "    </tr>\n",
              "  </tbody>\n",
              "</table>\n",
              "</div>"
            ],
            "text/plain": [
              "      ID    Region  ...        Stage       Prod_Category_A\n",
              "0  27761      EMEA  ...  Closed Lost  Prod_Category_A_None\n",
              "1  27760      EMEA  ...   Closed Won  Prod_Category_A_None\n",
              "2  27446  Americas  ...   Closed Won  Prod_Category_A_None\n",
              "3  16808  Americas  ...  Closed Lost  Prod_Category_A_None\n",
              "4  16805  Americas  ...  Closed Lost  Prod_Category_A_None\n",
              "\n",
              "[5 rows x 52 columns]"
            ]
          },
          "metadata": {
            "tags": []
          },
          "execution_count": 357
        }
      ]
    },
    {
      "cell_type": "code",
      "metadata": {
        "colab": {
          "base_uri": "https://localhost:8080/"
        },
        "id": "81jYp7A0B8nO",
        "outputId": "600ecdf0-b624-45a0-909e-438610ccf9b6"
      },
      "source": [
        "test.shape"
      ],
      "execution_count": 358,
      "outputs": [
        {
          "output_type": "execute_result",
          "data": {
            "text/plain": [
              "(2551, 51)"
            ]
          },
          "metadata": {
            "tags": []
          },
          "execution_count": 358
        }
      ]
    },
    {
      "cell_type": "code",
      "metadata": {
        "id": "KGlWFQAldZ6K"
      },
      "source": [
        "oportunidades.loc[oportunidades['Total_Amount_Currency'] == 'JPY', 'Total_Amount'] = oportunidades['Total_Amount']*0.0096\r\n",
        "oportunidades.loc[oportunidades['Total_Amount_Currency'] == 'JPY', 'Total_Amount_Currency'] = 'USD'\r\n",
        "\r\n",
        "oportunidades.loc[oportunidades['Total_Amount_Currency'] == 'EUR', 'Total_Amount'] = oportunidades['Total_Amount']*1.17\r\n",
        "oportunidades.loc[oportunidades['Total_Amount_Currency'] == 'EUR', 'Total_Amount_Currency'] = 'USD'\r\n",
        "\r\n",
        "oportunidades.loc[oportunidades['Total_Amount_Currency'] == 'AUD', 'Total_Amount'] = oportunidades['Total_Amount']*0.70\r\n",
        "oportunidades.loc[oportunidades['Total_Amount_Currency'] == 'AUD', 'Total_Amount_Currency'] = 'USD'\r\n",
        "\r\n",
        "oportunidades.loc[oportunidades['Total_Amount_Currency'] == 'GBP', 'Total_Amount'] = oportunidades['Total_Amount']*1.29\r\n",
        "oportunidades.loc[oportunidades['Total_Amount_Currency'] == 'GBP', 'Total_Amount_Currency'] = 'USD'"
      ],
      "execution_count": 359,
      "outputs": []
    },
    {
      "cell_type": "markdown",
      "metadata": {
        "id": "VgI3I8xejq7c"
      },
      "source": [
        "Preparo el df"
      ]
    },
    {
      "cell_type": "code",
      "metadata": {
        "colab": {
          "base_uri": "https://localhost:8080/",
          "height": 204
        },
        "id": "INCNvYrlgGRo",
        "outputId": "de73313c-478c-45f0-bf44-bb78af39d6a7"
      },
      "source": [
        "oportunidades_short = oportunidades[['Opportunity_ID','Region', 'Total_Amount', 'Delivery_Year','Delivery_Quarter','Pricing, Delivery_Terms_Approved','Pricing, Delivery_Terms_Quote_Appr','Stage' ]].rename(columns={'Stage': 'Decision'})\r\n",
        "oportunidades_short = oportunidades_short[(oportunidades_short['Decision'] == 'Closed Lost') | (oportunidades_short['Decision'] == 'Closed Won')]\r\n",
        "oportunidades_short.dropna(inplace=True)\r\n",
        "oportunidades_short['Region'] = oportunidades_short.groupby('Region')['Region'].transform('count')\r\n",
        "oportunidades_short['Decision'] = np.where(oportunidades_short['Decision'] == 'Closed Won',1,0)\r\n",
        "oportunidades_short.replace('Q1', 1, inplace= True)\r\n",
        "oportunidades_short.replace('Q2', 10, inplace= True)\r\n",
        "oportunidades_short.replace('Q3', 11, inplace= True)\r\n",
        "oportunidades_short.replace('Q4', 100, inplace= True)\r\n",
        "oportunidades_short.head()"
      ],
      "execution_count": 360,
      "outputs": [
        {
          "output_type": "execute_result",
          "data": {
            "text/html": [
              "<div>\n",
              "<style scoped>\n",
              "    .dataframe tbody tr th:only-of-type {\n",
              "        vertical-align: middle;\n",
              "    }\n",
              "\n",
              "    .dataframe tbody tr th {\n",
              "        vertical-align: top;\n",
              "    }\n",
              "\n",
              "    .dataframe thead th {\n",
              "        text-align: right;\n",
              "    }\n",
              "</style>\n",
              "<table border=\"1\" class=\"dataframe\">\n",
              "  <thead>\n",
              "    <tr style=\"text-align: right;\">\n",
              "      <th></th>\n",
              "      <th>Opportunity_ID</th>\n",
              "      <th>Region</th>\n",
              "      <th>Total_Amount</th>\n",
              "      <th>Delivery_Year</th>\n",
              "      <th>Delivery_Quarter</th>\n",
              "      <th>Pricing, Delivery_Terms_Approved</th>\n",
              "      <th>Pricing, Delivery_Terms_Quote_Appr</th>\n",
              "      <th>Decision</th>\n",
              "    </tr>\n",
              "  </thead>\n",
              "  <tbody>\n",
              "    <tr>\n",
              "      <th>0</th>\n",
              "      <td>0</td>\n",
              "      <td>4654</td>\n",
              "      <td>6169176.0</td>\n",
              "      <td>2016</td>\n",
              "      <td>10</td>\n",
              "      <td>1</td>\n",
              "      <td>1</td>\n",
              "      <td>0</td>\n",
              "    </tr>\n",
              "    <tr>\n",
              "      <th>1</th>\n",
              "      <td>1</td>\n",
              "      <td>4654</td>\n",
              "      <td>56429.1</td>\n",
              "      <td>2016</td>\n",
              "      <td>1</td>\n",
              "      <td>0</td>\n",
              "      <td>0</td>\n",
              "      <td>1</td>\n",
              "    </tr>\n",
              "    <tr>\n",
              "      <th>2</th>\n",
              "      <td>2</td>\n",
              "      <td>3904</td>\n",
              "      <td>83865.6</td>\n",
              "      <td>2016</td>\n",
              "      <td>1</td>\n",
              "      <td>0</td>\n",
              "      <td>0</td>\n",
              "      <td>1</td>\n",
              "    </tr>\n",
              "    <tr>\n",
              "      <th>3</th>\n",
              "      <td>3</td>\n",
              "      <td>3904</td>\n",
              "      <td>7421881.5</td>\n",
              "      <td>2018</td>\n",
              "      <td>1</td>\n",
              "      <td>0</td>\n",
              "      <td>1</td>\n",
              "      <td>0</td>\n",
              "    </tr>\n",
              "    <tr>\n",
              "      <th>4</th>\n",
              "      <td>4</td>\n",
              "      <td>3904</td>\n",
              "      <td>13357192.5</td>\n",
              "      <td>2018</td>\n",
              "      <td>1</td>\n",
              "      <td>0</td>\n",
              "      <td>1</td>\n",
              "      <td>0</td>\n",
              "    </tr>\n",
              "  </tbody>\n",
              "</table>\n",
              "</div>"
            ],
            "text/plain": [
              "   Opportunity_ID  Region  ...  Pricing, Delivery_Terms_Quote_Appr  Decision\n",
              "0               0    4654  ...                                   1         0\n",
              "1               1    4654  ...                                   0         1\n",
              "2               2    3904  ...                                   0         1\n",
              "3               3    3904  ...                                   1         0\n",
              "4               4    3904  ...                                   1         0\n",
              "\n",
              "[5 rows x 8 columns]"
            ]
          },
          "metadata": {
            "tags": []
          },
          "execution_count": 360
        }
      ]
    },
    {
      "cell_type": "code",
      "metadata": {
        "id": "-x3areHDUIvE"
      },
      "source": [
        "X_prime = oportunidades_short.loc[:,('Opportunity_ID','Region','Total_Amount', 'Delivery_Quarter','Pricing, Delivery_Terms_Approved', 'Pricing, Delivery_Terms_Quote_Appr')].values\r\n",
        "y = oportunidades_short.loc[:,'Decision'].values\r\n"
      ],
      "execution_count": 361,
      "outputs": []
    },
    {
      "cell_type": "code",
      "metadata": {
        "id": "BmpJ3gl9Vl-c"
      },
      "source": [
        "X = preprocessing.scale(X_prime)\r\n",
        "X_train, X_test, y_train, y_test = train_test_split(X, y, test_size = .33, random_state = 17)\r\n",
        "#ojo con el futuro"
      ],
      "execution_count": 362,
      "outputs": []
    },
    {
      "cell_type": "code",
      "metadata": {
        "colab": {
          "base_uri": "https://localhost:8080/"
        },
        "id": "5yl75OJQWbFA",
        "outputId": "5655d7ac-c11c-44bb-eb32-a6653c3491ef"
      },
      "source": [
        "clf = neighbors.KNeighborsClassifier(n_neighbors=4, metric= \"manhattan\" )\r\n",
        "clf.fit(X_train, y_train)\r\n",
        "print(clf)"
      ],
      "execution_count": 363,
      "outputs": [
        {
          "output_type": "stream",
          "text": [
            "KNeighborsClassifier(algorithm='auto', leaf_size=30, metric='manhattan',\n",
            "                     metric_params=None, n_jobs=None, n_neighbors=4, p=2,\n",
            "                     weights='uniform')\n"
          ],
          "name": "stdout"
        }
      ]
    },
    {
      "cell_type": "markdown",
      "metadata": {
        "id": "drcLeeemhcr8"
      },
      "source": [
        "con 3-6 eucl va bien"
      ]
    },
    {
      "cell_type": "code",
      "metadata": {
        "colab": {
          "base_uri": "https://localhost:8080/"
        },
        "id": "nZxI54V4W8SG",
        "outputId": "3c9956a7-468f-45b5-993b-7cc89112fba9"
      },
      "source": [
        "y_espect = y_test\r\n",
        "y_pred = clf.predict(X_test)\r\n",
        "print(metrics.classification_report(y_espect, y_pred))\r\n"
      ],
      "execution_count": 364,
      "outputs": [
        {
          "output_type": "stream",
          "text": [
            "              precision    recall  f1-score   support\n",
            "\n",
            "           0       0.77      0.84      0.80      2378\n",
            "           1       0.87      0.81      0.84      3174\n",
            "\n",
            "    accuracy                           0.82      5552\n",
            "   macro avg       0.82      0.83      0.82      5552\n",
            "weighted avg       0.83      0.82      0.83      5552\n",
            "\n"
          ],
          "name": "stdout"
        }
      ]
    },
    {
      "cell_type": "code",
      "metadata": {
        "colab": {
          "base_uri": "https://localhost:8080/"
        },
        "id": "KlN84LviDiUJ",
        "outputId": "9ba90979-ba3e-4fda-9da9-a40623234e2e"
      },
      "source": [
        "X_test"
      ],
      "execution_count": 365,
      "outputs": [
        {
          "output_type": "execute_result",
          "data": {
            "text/plain": [
              "array([[ 0.7016, -1.3349, -0.1571, -0.4995, -1.1863, -2.0527],\n",
              "       [-0.8191,  0.8651, -0.1718,  1.7465,  0.843 ,  0.4872],\n",
              "       [ 1.4925, -1.3349, -0.1506, -0.7241,  0.843 ,  0.4872],\n",
              "       ...,\n",
              "       [ 1.4026, -0.4297, -0.1695,  1.7465,  0.843 ,  0.4872],\n",
              "       [ 1.1811, -0.4297, -0.1711, -0.4745,  0.843 ,  0.4872],\n",
              "       [-1.5982,  0.585 , -0.0621, -0.4995,  0.843 ,  0.4872]])"
            ]
          },
          "metadata": {
            "tags": []
          },
          "execution_count": 365
        }
      ]
    },
    {
      "cell_type": "code",
      "metadata": {
        "colab": {
          "base_uri": "https://localhost:8080/"
        },
        "id": "BoxZfCoNBeAe",
        "outputId": "e5ff12f6-7c32-4e36-d528-c164dace665a"
      },
      "source": [
        "y_pred"
      ],
      "execution_count": 366,
      "outputs": [
        {
          "output_type": "execute_result",
          "data": {
            "text/plain": [
              "array([1, 1, 0, ..., 1, 0, 0])"
            ]
          },
          "metadata": {
            "tags": []
          },
          "execution_count": 366
        }
      ]
    },
    {
      "cell_type": "code",
      "metadata": {
        "colab": {
          "base_uri": "https://localhost:8080/"
        },
        "id": "nlTc5OYLCiju",
        "outputId": "76a7ade3-3a5c-4ade-fb9f-5a20ae7a077c"
      },
      "source": [
        "subir = pd.DataFrame()\r\n",
        "\r\n",
        "subir['target'] = y_pred\r\n",
        "\r\n",
        "subir.value_counts()"
      ],
      "execution_count": 367,
      "outputs": [
        {
          "output_type": "execute_result",
          "data": {
            "text/plain": [
              "target\n",
              "1         2950\n",
              "0         2602\n",
              "dtype: int64"
            ]
          },
          "metadata": {
            "tags": []
          },
          "execution_count": 367
        }
      ]
    },
    {
      "cell_type": "code",
      "metadata": {
        "id": "x_8sYJ7C8uGh"
      },
      "source": [
        "test.loc[test['Total_Amount_Currency'] == 'JPY', 'Total_Amount'] = test['Total_Amount']*0.0096\r\n",
        "test.loc[test['Total_Amount_Currency'] == 'JPY', 'Total_Amount_Currency'] = 'USD'\r\n",
        "\r\n",
        "test.loc[test['Total_Amount_Currency'] == 'EUR', 'Total_Amount'] = test['Total_Amount']*1.17\r\n",
        "test.loc[test['Total_Amount_Currency'] == 'EUR', 'Total_Amount_Currency'] = 'USD'\r\n",
        "\r\n",
        "test.loc[test['Total_Amount_Currency'] == 'AUD', 'Total_Amount'] = test['Total_Amount']*0.70\r\n",
        "test.loc[test['Total_Amount_Currency'] == 'AUD', 'Total_Amount_Currency'] = 'USD'\r\n",
        "\r\n",
        "test.loc[test['Total_Amount_Currency'] == 'GBP', 'Total_Amount'] = test['Total_Amount']*1.29\r\n",
        "test.loc[test['Total_Amount_Currency'] == 'GBP', 'Total_Amount_Currency'] = 'USD'"
      ],
      "execution_count": 368,
      "outputs": []
    },
    {
      "cell_type": "code",
      "metadata": {
        "colab": {
          "base_uri": "https://localhost:8080/",
          "height": 476
        },
        "id": "0tK41-TQ8zaj",
        "outputId": "00ea6930-167c-4cad-f07a-e3a89f1edf07"
      },
      "source": [
        "test_short = test[['Opportunity_ID','Region', 'Total_Amount', 'Delivery_Quarter','Pricing, Delivery_Terms_Approved','Pricing, Delivery_Terms_Quote_Appr']]\r\n",
        "test_short.dropna(inplace=True)\r\n",
        "test_short['Region'] = test_short.groupby('Region')['Region'].transform('count')\r\n",
        "\r\n",
        "\r\n",
        "test_short.replace('Q1', 1, inplace= True)\r\n",
        "test_short.replace('Q2', 10, inplace= True)\r\n",
        "test_short.replace('Q3', 11, inplace= True)\r\n",
        "test_short.replace('Q4', 100, inplace= True)\r\n",
        "test_short.head()"
      ],
      "execution_count": 369,
      "outputs": [
        {
          "output_type": "stream",
          "text": [
            "/usr/local/lib/python3.6/dist-packages/ipykernel_launcher.py:2: SettingWithCopyWarning: \n",
            "A value is trying to be set on a copy of a slice from a DataFrame\n",
            "\n",
            "See the caveats in the documentation: https://pandas.pydata.org/pandas-docs/stable/user_guide/indexing.html#returning-a-view-versus-a-copy\n",
            "  \n",
            "/usr/local/lib/python3.6/dist-packages/ipykernel_launcher.py:3: SettingWithCopyWarning: \n",
            "A value is trying to be set on a copy of a slice from a DataFrame.\n",
            "Try using .loc[row_indexer,col_indexer] = value instead\n",
            "\n",
            "See the caveats in the documentation: https://pandas.pydata.org/pandas-docs/stable/user_guide/indexing.html#returning-a-view-versus-a-copy\n",
            "  This is separate from the ipykernel package so we can avoid doing imports until\n",
            "/usr/local/lib/python3.6/dist-packages/pandas/core/frame.py:4389: SettingWithCopyWarning: \n",
            "A value is trying to be set on a copy of a slice from a DataFrame\n",
            "\n",
            "See the caveats in the documentation: https://pandas.pydata.org/pandas-docs/stable/user_guide/indexing.html#returning-a-view-versus-a-copy\n",
            "  method=method,\n"
          ],
          "name": "stderr"
        },
        {
          "output_type": "execute_result",
          "data": {
            "text/html": [
              "<div>\n",
              "<style scoped>\n",
              "    .dataframe tbody tr th:only-of-type {\n",
              "        vertical-align: middle;\n",
              "    }\n",
              "\n",
              "    .dataframe tbody tr th {\n",
              "        vertical-align: top;\n",
              "    }\n",
              "\n",
              "    .dataframe thead th {\n",
              "        text-align: right;\n",
              "    }\n",
              "</style>\n",
              "<table border=\"1\" class=\"dataframe\">\n",
              "  <thead>\n",
              "    <tr style=\"text-align: right;\">\n",
              "      <th></th>\n",
              "      <th>Opportunity_ID</th>\n",
              "      <th>Region</th>\n",
              "      <th>Total_Amount</th>\n",
              "      <th>Delivery_Quarter</th>\n",
              "      <th>Pricing, Delivery_Terms_Approved</th>\n",
              "      <th>Pricing, Delivery_Terms_Quote_Appr</th>\n",
              "    </tr>\n",
              "  </thead>\n",
              "  <tbody>\n",
              "    <tr>\n",
              "      <th>0</th>\n",
              "      <td>10689</td>\n",
              "      <td>838</td>\n",
              "      <td>189820.80</td>\n",
              "      <td>10</td>\n",
              "      <td>1</td>\n",
              "      <td>1</td>\n",
              "    </tr>\n",
              "    <tr>\n",
              "      <th>1</th>\n",
              "      <td>10689</td>\n",
              "      <td>838</td>\n",
              "      <td>91990.08</td>\n",
              "      <td>10</td>\n",
              "      <td>1</td>\n",
              "      <td>1</td>\n",
              "    </tr>\n",
              "    <tr>\n",
              "      <th>2</th>\n",
              "      <td>10689</td>\n",
              "      <td>838</td>\n",
              "      <td>148069.35</td>\n",
              "      <td>10</td>\n",
              "      <td>1</td>\n",
              "      <td>1</td>\n",
              "    </tr>\n",
              "    <tr>\n",
              "      <th>3</th>\n",
              "      <td>10690</td>\n",
              "      <td>838</td>\n",
              "      <td>284731.20</td>\n",
              "      <td>10</td>\n",
              "      <td>1</td>\n",
              "      <td>1</td>\n",
              "    </tr>\n",
              "    <tr>\n",
              "      <th>4</th>\n",
              "      <td>10690</td>\n",
              "      <td>838</td>\n",
              "      <td>183980.16</td>\n",
              "      <td>10</td>\n",
              "      <td>1</td>\n",
              "      <td>1</td>\n",
              "    </tr>\n",
              "  </tbody>\n",
              "</table>\n",
              "</div>"
            ],
            "text/plain": [
              "   Opportunity_ID  ...  Pricing, Delivery_Terms_Quote_Appr\n",
              "0           10689  ...                                   1\n",
              "1           10689  ...                                   1\n",
              "2           10689  ...                                   1\n",
              "3           10690  ...                                   1\n",
              "4           10690  ...                                   1\n",
              "\n",
              "[5 rows x 6 columns]"
            ]
          },
          "metadata": {
            "tags": []
          },
          "execution_count": 369
        }
      ]
    },
    {
      "cell_type": "code",
      "metadata": {
        "id": "QrXVUPoYD-S-"
      },
      "source": [
        "X = preprocessing.scale(test_short)"
      ],
      "execution_count": 370,
      "outputs": []
    },
    {
      "cell_type": "code",
      "metadata": {
        "colab": {
          "base_uri": "https://localhost:8080/"
        },
        "id": "AGOO0_dO9gvF",
        "outputId": "2ae597b1-76db-48c8-ad3d-34fdf30d16e2"
      },
      "source": [
        "pred = clf.predict(X)\r\n",
        "pred"
      ],
      "execution_count": 371,
      "outputs": [
        {
          "output_type": "execute_result",
          "data": {
            "text/plain": [
              "array([0, 0, 0, ..., 0, 0, 0])"
            ]
          },
          "metadata": {
            "tags": []
          },
          "execution_count": 371
        }
      ]
    },
    {
      "cell_type": "code",
      "metadata": {
        "colab": {
          "base_uri": "https://localhost:8080/",
          "height": 419
        },
        "id": "99GnarD7DY1k",
        "outputId": "ce4d7844-f050-48f5-af2c-c90328061fb9"
      },
      "source": [
        "test_short"
      ],
      "execution_count": 372,
      "outputs": [
        {
          "output_type": "execute_result",
          "data": {
            "text/html": [
              "<div>\n",
              "<style scoped>\n",
              "    .dataframe tbody tr th:only-of-type {\n",
              "        vertical-align: middle;\n",
              "    }\n",
              "\n",
              "    .dataframe tbody tr th {\n",
              "        vertical-align: top;\n",
              "    }\n",
              "\n",
              "    .dataframe thead th {\n",
              "        text-align: right;\n",
              "    }\n",
              "</style>\n",
              "<table border=\"1\" class=\"dataframe\">\n",
              "  <thead>\n",
              "    <tr style=\"text-align: right;\">\n",
              "      <th></th>\n",
              "      <th>Opportunity_ID</th>\n",
              "      <th>Region</th>\n",
              "      <th>Total_Amount</th>\n",
              "      <th>Delivery_Quarter</th>\n",
              "      <th>Pricing, Delivery_Terms_Approved</th>\n",
              "      <th>Pricing, Delivery_Terms_Quote_Appr</th>\n",
              "    </tr>\n",
              "  </thead>\n",
              "  <tbody>\n",
              "    <tr>\n",
              "      <th>0</th>\n",
              "      <td>10689</td>\n",
              "      <td>838</td>\n",
              "      <td>189820.800</td>\n",
              "      <td>10</td>\n",
              "      <td>1</td>\n",
              "      <td>1</td>\n",
              "    </tr>\n",
              "    <tr>\n",
              "      <th>1</th>\n",
              "      <td>10689</td>\n",
              "      <td>838</td>\n",
              "      <td>91990.080</td>\n",
              "      <td>10</td>\n",
              "      <td>1</td>\n",
              "      <td>1</td>\n",
              "    </tr>\n",
              "    <tr>\n",
              "      <th>2</th>\n",
              "      <td>10689</td>\n",
              "      <td>838</td>\n",
              "      <td>148069.350</td>\n",
              "      <td>10</td>\n",
              "      <td>1</td>\n",
              "      <td>1</td>\n",
              "    </tr>\n",
              "    <tr>\n",
              "      <th>3</th>\n",
              "      <td>10690</td>\n",
              "      <td>838</td>\n",
              "      <td>284731.200</td>\n",
              "      <td>10</td>\n",
              "      <td>1</td>\n",
              "      <td>1</td>\n",
              "    </tr>\n",
              "    <tr>\n",
              "      <th>4</th>\n",
              "      <td>10690</td>\n",
              "      <td>838</td>\n",
              "      <td>183980.160</td>\n",
              "      <td>10</td>\n",
              "      <td>1</td>\n",
              "      <td>1</td>\n",
              "    </tr>\n",
              "    <tr>\n",
              "      <th>...</th>\n",
              "      <td>...</td>\n",
              "      <td>...</td>\n",
              "      <td>...</td>\n",
              "      <td>...</td>\n",
              "      <td>...</td>\n",
              "      <td>...</td>\n",
              "    </tr>\n",
              "    <tr>\n",
              "      <th>2546</th>\n",
              "      <td>12364</td>\n",
              "      <td>838</td>\n",
              "      <td>124740.000</td>\n",
              "      <td>10</td>\n",
              "      <td>1</td>\n",
              "      <td>1</td>\n",
              "    </tr>\n",
              "    <tr>\n",
              "      <th>2547</th>\n",
              "      <td>12365</td>\n",
              "      <td>1016</td>\n",
              "      <td>45054.900</td>\n",
              "      <td>100</td>\n",
              "      <td>1</td>\n",
              "      <td>1</td>\n",
              "    </tr>\n",
              "    <tr>\n",
              "      <th>2548</th>\n",
              "      <td>12366</td>\n",
              "      <td>1016</td>\n",
              "      <td>100122.000</td>\n",
              "      <td>100</td>\n",
              "      <td>1</td>\n",
              "      <td>1</td>\n",
              "    </tr>\n",
              "    <tr>\n",
              "      <th>2549</th>\n",
              "      <td>12367</td>\n",
              "      <td>1016</td>\n",
              "      <td>143220.000</td>\n",
              "      <td>11</td>\n",
              "      <td>1</td>\n",
              "      <td>1</td>\n",
              "    </tr>\n",
              "    <tr>\n",
              "      <th>2550</th>\n",
              "      <td>12368</td>\n",
              "      <td>838</td>\n",
              "      <td>1019094.336</td>\n",
              "      <td>100</td>\n",
              "      <td>0</td>\n",
              "      <td>1</td>\n",
              "    </tr>\n",
              "  </tbody>\n",
              "</table>\n",
              "<p>2551 rows × 6 columns</p>\n",
              "</div>"
            ],
            "text/plain": [
              "      Opportunity_ID  ...  Pricing, Delivery_Terms_Quote_Appr\n",
              "0              10689  ...                                   1\n",
              "1              10689  ...                                   1\n",
              "2              10689  ...                                   1\n",
              "3              10690  ...                                   1\n",
              "4              10690  ...                                   1\n",
              "...              ...  ...                                 ...\n",
              "2546           12364  ...                                   1\n",
              "2547           12365  ...                                   1\n",
              "2548           12366  ...                                   1\n",
              "2549           12367  ...                                   1\n",
              "2550           12368  ...                                   1\n",
              "\n",
              "[2551 rows x 6 columns]"
            ]
          },
          "metadata": {
            "tags": []
          },
          "execution_count": 372
        }
      ]
    },
    {
      "cell_type": "markdown",
      "metadata": {
        "id": "nuP3Lbj6CUT3"
      },
      "source": [
        "A continuacion, el declive"
      ]
    },
    {
      "cell_type": "code",
      "metadata": {
        "id": "4QNgxZfuBmSB"
      },
      "source": [
        "#subir = pd.DataFrame()\r\n",
        "##subir['Opportunity_ID'] = test_short['Opportunity_ID']\r\n",
        "#subir['target'] = pred\r\n",
        "#subir.set_index('Opportunity_ID', inplace = True)\r\n",
        "#subir.reset_index()\r\n",
        "#subir.value_counts()"
      ],
      "execution_count": 373,
      "outputs": []
    },
    {
      "cell_type": "code",
      "metadata": {
        "colab": {
          "base_uri": "https://localhost:8080/",
          "height": 450
        },
        "id": "e4qllR2dSCLd",
        "outputId": "fbc84496-934c-463f-a5e8-80ee488d0c39"
      },
      "source": [
        "subir = pd.DataFrame()\r\n",
        "subir['Opportunity_ID'] = test_short['Opportunity_ID']\r\n",
        "subir['target'] = pred\r\n",
        "subir.sort_values('Opportunity_ID',inplace = True)\r\n",
        "subir = subir.drop_duplicates('Opportunity_ID',keep = 'last')\r\n",
        "subir.set_index('Opportunity_ID', inplace = True)\r\n",
        "subir"
      ],
      "execution_count": 374,
      "outputs": [
        {
          "output_type": "execute_result",
          "data": {
            "text/html": [
              "<div>\n",
              "<style scoped>\n",
              "    .dataframe tbody tr th:only-of-type {\n",
              "        vertical-align: middle;\n",
              "    }\n",
              "\n",
              "    .dataframe tbody tr th {\n",
              "        vertical-align: top;\n",
              "    }\n",
              "\n",
              "    .dataframe thead th {\n",
              "        text-align: right;\n",
              "    }\n",
              "</style>\n",
              "<table border=\"1\" class=\"dataframe\">\n",
              "  <thead>\n",
              "    <tr style=\"text-align: right;\">\n",
              "      <th></th>\n",
              "      <th>target</th>\n",
              "    </tr>\n",
              "    <tr>\n",
              "      <th>Opportunity_ID</th>\n",
              "      <th></th>\n",
              "    </tr>\n",
              "  </thead>\n",
              "  <tbody>\n",
              "    <tr>\n",
              "      <th>10689</th>\n",
              "      <td>0</td>\n",
              "    </tr>\n",
              "    <tr>\n",
              "      <th>10690</th>\n",
              "      <td>0</td>\n",
              "    </tr>\n",
              "    <tr>\n",
              "      <th>10691</th>\n",
              "      <td>0</td>\n",
              "    </tr>\n",
              "    <tr>\n",
              "      <th>10692</th>\n",
              "      <td>0</td>\n",
              "    </tr>\n",
              "    <tr>\n",
              "      <th>10693</th>\n",
              "      <td>1</td>\n",
              "    </tr>\n",
              "    <tr>\n",
              "      <th>...</th>\n",
              "      <td>...</td>\n",
              "    </tr>\n",
              "    <tr>\n",
              "      <th>12364</th>\n",
              "      <td>1</td>\n",
              "    </tr>\n",
              "    <tr>\n",
              "      <th>12365</th>\n",
              "      <td>0</td>\n",
              "    </tr>\n",
              "    <tr>\n",
              "      <th>12366</th>\n",
              "      <td>0</td>\n",
              "    </tr>\n",
              "    <tr>\n",
              "      <th>12367</th>\n",
              "      <td>0</td>\n",
              "    </tr>\n",
              "    <tr>\n",
              "      <th>12368</th>\n",
              "      <td>0</td>\n",
              "    </tr>\n",
              "  </tbody>\n",
              "</table>\n",
              "<p>1567 rows × 1 columns</p>\n",
              "</div>"
            ],
            "text/plain": [
              "                target\n",
              "Opportunity_ID        \n",
              "10689                0\n",
              "10690                0\n",
              "10691                0\n",
              "10692                0\n",
              "10693                1\n",
              "...                ...\n",
              "12364                1\n",
              "12365                0\n",
              "12366                0\n",
              "12367                0\n",
              "12368                0\n",
              "\n",
              "[1567 rows x 1 columns]"
            ]
          },
          "metadata": {
            "tags": []
          },
          "execution_count": 374
        }
      ]
    },
    {
      "cell_type": "code",
      "metadata": {
        "colab": {
          "base_uri": "https://localhost:8080/"
        },
        "id": "nfEs4CFkR79d",
        "outputId": "fa021a01-e348-4fc4-a0cf-4166ef650206"
      },
      "source": [
        "subir.value_counts()"
      ],
      "execution_count": 375,
      "outputs": [
        {
          "output_type": "execute_result",
          "data": {
            "text/plain": [
              "target\n",
              "0         957\n",
              "1         610\n",
              "dtype: int64"
            ]
          },
          "metadata": {
            "tags": []
          },
          "execution_count": 375
        }
      ]
    },
    {
      "cell_type": "code",
      "metadata": {
        "id": "h1lA-EBZELFz",
        "colab": {
          "base_uri": "https://localhost:8080/",
          "height": 17
        },
        "outputId": "244cd029-ef0c-449f-ac58-f1fcc5232587"
      },
      "source": [
        "csv3 = subir.to_csv('knn_pred_1.csv')\r\n",
        "files.download('knn_pred_1.csv')"
      ],
      "execution_count": 376,
      "outputs": [
        {
          "output_type": "display_data",
          "data": {
            "application/javascript": [
              "\n",
              "    async function download(id, filename, size) {\n",
              "      if (!google.colab.kernel.accessAllowed) {\n",
              "        return;\n",
              "      }\n",
              "      const div = document.createElement('div');\n",
              "      const label = document.createElement('label');\n",
              "      label.textContent = `Downloading \"${filename}\": `;\n",
              "      div.appendChild(label);\n",
              "      const progress = document.createElement('progress');\n",
              "      progress.max = size;\n",
              "      div.appendChild(progress);\n",
              "      document.body.appendChild(div);\n",
              "\n",
              "      const buffers = [];\n",
              "      let downloaded = 0;\n",
              "\n",
              "      const channel = await google.colab.kernel.comms.open(id);\n",
              "      // Send a message to notify the kernel that we're ready.\n",
              "      channel.send({})\n",
              "\n",
              "      for await (const message of channel.messages) {\n",
              "        // Send a message to notify the kernel that we're ready.\n",
              "        channel.send({})\n",
              "        if (message.buffers) {\n",
              "          for (const buffer of message.buffers) {\n",
              "            buffers.push(buffer);\n",
              "            downloaded += buffer.byteLength;\n",
              "            progress.value = downloaded;\n",
              "          }\n",
              "        }\n",
              "      }\n",
              "      const blob = new Blob(buffers, {type: 'application/binary'});\n",
              "      const a = document.createElement('a');\n",
              "      a.href = window.URL.createObjectURL(blob);\n",
              "      a.download = filename;\n",
              "      div.appendChild(a);\n",
              "      a.click();\n",
              "      div.remove();\n",
              "    }\n",
              "  "
            ],
            "text/plain": [
              "<IPython.core.display.Javascript object>"
            ]
          },
          "metadata": {
            "tags": []
          }
        },
        {
          "output_type": "display_data",
          "data": {
            "application/javascript": [
              "download(\"download_5fcbb166-3425-4457-ae91-76f10a6d3bbd\", \"knn_pred_1.csv\", 12558)"
            ],
            "text/plain": [
              "<IPython.core.display.Javascript object>"
            ]
          },
          "metadata": {
            "tags": []
          }
        }
      ]
    }
  ]
}