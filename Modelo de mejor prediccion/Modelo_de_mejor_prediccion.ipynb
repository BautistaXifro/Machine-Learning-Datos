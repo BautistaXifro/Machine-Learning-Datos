{
  "nbformat": 4,
  "nbformat_minor": 0,
  "metadata": {
    "colab": {
      "name": "Modelo de mejor prediccion.ipynb",
      "provenance": [],
      "collapsed_sections": [
        "fNbLQHzJLQIO"
      ]
    },
    "kernelspec": {
      "display_name": "Python 3",
      "name": "python3"
    }
  },
  "cells": [
    {
      "cell_type": "code",
      "metadata": {
        "colab": {
          "base_uri": "https://localhost:8080/"
        },
        "id": "7UNagdHRNV6e",
        "outputId": "d3893f0c-e0b3-4c63-c8e4-e2266058fea5"
      },
      "source": [
        "!pip install catboost"
      ],
      "execution_count": null,
      "outputs": [
        {
          "output_type": "stream",
          "text": [
            "Requirement already satisfied: catboost in /usr/local/lib/python3.7/dist-packages (0.24.4)\n",
            "Requirement already satisfied: six in /usr/local/lib/python3.7/dist-packages (from catboost) (1.15.0)\n",
            "Requirement already satisfied: numpy>=1.16.0 in /usr/local/lib/python3.7/dist-packages (from catboost) (1.19.5)\n",
            "Requirement already satisfied: pandas>=0.24.0 in /usr/local/lib/python3.7/dist-packages (from catboost) (1.1.5)\n",
            "Requirement already satisfied: matplotlib in /usr/local/lib/python3.7/dist-packages (from catboost) (3.2.2)\n",
            "Requirement already satisfied: scipy in /usr/local/lib/python3.7/dist-packages (from catboost) (1.4.1)\n",
            "Requirement already satisfied: graphviz in /usr/local/lib/python3.7/dist-packages (from catboost) (0.10.1)\n",
            "Requirement already satisfied: plotly in /usr/local/lib/python3.7/dist-packages (from catboost) (4.4.1)\n",
            "Requirement already satisfied: pytz>=2017.2 in /usr/local/lib/python3.7/dist-packages (from pandas>=0.24.0->catboost) (2018.9)\n",
            "Requirement already satisfied: python-dateutil>=2.7.3 in /usr/local/lib/python3.7/dist-packages (from pandas>=0.24.0->catboost) (2.8.1)\n",
            "Requirement already satisfied: kiwisolver>=1.0.1 in /usr/local/lib/python3.7/dist-packages (from matplotlib->catboost) (1.3.1)\n",
            "Requirement already satisfied: pyparsing!=2.0.4,!=2.1.2,!=2.1.6,>=2.0.1 in /usr/local/lib/python3.7/dist-packages (from matplotlib->catboost) (2.4.7)\n",
            "Requirement already satisfied: cycler>=0.10 in /usr/local/lib/python3.7/dist-packages (from matplotlib->catboost) (0.10.0)\n",
            "Requirement already satisfied: retrying>=1.3.3 in /usr/local/lib/python3.7/dist-packages (from plotly->catboost) (1.3.3)\n"
          ],
          "name": "stdout"
        }
      ]
    },
    {
      "cell_type": "code",
      "metadata": {
        "id": "rEqn_YPcu-8W"
      },
      "source": [
        "import numpy as np\r\n",
        "import pandas as pd\r\n",
        "import seaborn as sb\r\n",
        "import matplotlib.pyplot as plt\r\n",
        "%matplotlib inline\r\n",
        "from mpl_toolkits.mplot3d import Axes3D\r\n",
        "from matplotlib import cm\r\n",
        "import xgboost as xgb\r\n",
        "\r\n",
        "from sklearn import linear_model\r\n",
        "from sklearn.metrics import mean_squared_error, r2_score\r\n",
        "from sklearn.model_selection import train_test_split\r\n",
        "from sklearn.metrics import classification_report, confusion_matrix\r\n",
        "from sklearn.pipeline import Pipeline\r\n",
        "from sklearn.compose import ColumnTransformer\r\n",
        "from sklearn.impute import SimpleImputer\r\n",
        "from sklearn.preprocessing import OneHotEncoder\r\n",
        "from sklearn.preprocessing import StandardScaler\r\n",
        "from sklearn.compose import make_column_selector\r\n",
        "from sklearn.metrics import log_loss\r\n",
        "from google.colab import files\r\n",
        "from sklearn.ensemble import RandomForestRegressor\r\n",
        "from sklearn.ensemble import RandomForestClassifier\r\n",
        "from sklearn.ensemble import VotingRegressor\r\n",
        "from xgboost import XGBClassifier\r\n",
        "from xgboost import XGBRegressor\r\n",
        "from lightgbm.sklearn import LGBMRegressor\r\n",
        "from catboost import CatBoostRegressor\r\n",
        "from sklearn.neighbors import KNeighborsRegressor\r\n",
        "from sklearn.ensemble import AdaBoostRegressor\r\n",
        "from sklearn.datasets import make_classification\r\n",
        "from sklearn.model_selection import RepeatedStratifiedKFold\r\n",
        "from sklearn.model_selection import GridSearchCV"
      ],
      "execution_count": null,
      "outputs": []
    },
    {
      "cell_type": "code",
      "metadata": {
        "colab": {
          "base_uri": "https://localhost:8080/",
          "height": 626
        },
        "id": "XY_PHbZIvB1v",
        "outputId": "43e7c64e-a5d9-4e7a-f926-a3d36c1a7b2b"
      },
      "source": [
        "df = pd.read_csv( \"/content/drive/MyDrive/Orga Datos/TP2/Training.csv\" )\r\n",
        "test = pd.read_csv( \"/content/drive/MyDrive/Orga Datos/TP2/Test.csv\" )\r\n",
        "test"
      ],
      "execution_count": null,
      "outputs": [
        {
          "output_type": "execute_result",
          "data": {
            "text/html": [
              "<div>\n",
              "<style scoped>\n",
              "    .dataframe tbody tr th:only-of-type {\n",
              "        vertical-align: middle;\n",
              "    }\n",
              "\n",
              "    .dataframe tbody tr th {\n",
              "        vertical-align: top;\n",
              "    }\n",
              "\n",
              "    .dataframe thead th {\n",
              "        text-align: right;\n",
              "    }\n",
              "</style>\n",
              "<table border=\"1\" class=\"dataframe\">\n",
              "  <thead>\n",
              "    <tr style=\"text-align: right;\">\n",
              "      <th></th>\n",
              "      <th>ID</th>\n",
              "      <th>Region</th>\n",
              "      <th>Territory</th>\n",
              "      <th>Pricing, Delivery_Terms_Quote_Appr</th>\n",
              "      <th>Pricing, Delivery_Terms_Approved</th>\n",
              "      <th>Bureaucratic_Code_0_Approval</th>\n",
              "      <th>Bureaucratic_Code_0_Approved</th>\n",
              "      <th>Submitted_for_Approval</th>\n",
              "      <th>Bureaucratic_Code</th>\n",
              "      <th>Account_Created_Date</th>\n",
              "      <th>Source</th>\n",
              "      <th>Billing_Country</th>\n",
              "      <th>Account_Name</th>\n",
              "      <th>Opportunity_Name</th>\n",
              "      <th>Opportunity_ID</th>\n",
              "      <th>Sales_Contract_No</th>\n",
              "      <th>Account_Owner</th>\n",
              "      <th>Opportunity_Owner</th>\n",
              "      <th>Account_Type</th>\n",
              "      <th>Opportunity_Type</th>\n",
              "      <th>Quote_Type</th>\n",
              "      <th>Delivery_Terms</th>\n",
              "      <th>Opportunity_Created_Date</th>\n",
              "      <th>Brand</th>\n",
              "      <th>Product_Type</th>\n",
              "      <th>Size</th>\n",
              "      <th>Product_Category_B</th>\n",
              "      <th>Price</th>\n",
              "      <th>Currency</th>\n",
              "      <th>Last_Activity</th>\n",
              "      <th>Quote_Expiry_Date</th>\n",
              "      <th>Last_Modified_Date</th>\n",
              "      <th>Last_Modified_By</th>\n",
              "      <th>Product_Family</th>\n",
              "      <th>Product_Name</th>\n",
              "      <th>ASP_Currency</th>\n",
              "      <th>ASP</th>\n",
              "      <th>ASP_(converted)_Currency</th>\n",
              "      <th>ASP_(converted)</th>\n",
              "      <th>Planned_Delivery_Start_Date</th>\n",
              "      <th>Planned_Delivery_End_Date</th>\n",
              "      <th>Month</th>\n",
              "      <th>Delivery_Quarter</th>\n",
              "      <th>Delivery_Year</th>\n",
              "      <th>Actual_Delivery_Date</th>\n",
              "      <th>TRF</th>\n",
              "      <th>Total_Amount_Currency</th>\n",
              "      <th>Total_Amount</th>\n",
              "      <th>Total_Taxable_Amount_Currency</th>\n",
              "      <th>Total_Taxable_Amount</th>\n",
              "      <th>Prod_Category_A</th>\n",
              "    </tr>\n",
              "  </thead>\n",
              "  <tbody>\n",
              "    <tr>\n",
              "      <th>0</th>\n",
              "      <td>6140</td>\n",
              "      <td>EMEA</td>\n",
              "      <td>Germany</td>\n",
              "      <td>1</td>\n",
              "      <td>1</td>\n",
              "      <td>1</td>\n",
              "      <td>1</td>\n",
              "      <td>0</td>\n",
              "      <td>Bureaucratic_Code_4</td>\n",
              "      <td>7/5/2017</td>\n",
              "      <td>Source_7</td>\n",
              "      <td>Germany</td>\n",
              "      <td>Account_Name_978</td>\n",
              "      <td>Opportunity_Name_6118</td>\n",
              "      <td>10689</td>\n",
              "      <td>6436</td>\n",
              "      <td>Person_Name_13</td>\n",
              "      <td>Person_Name_13</td>\n",
              "      <td>Account_Type_0</td>\n",
              "      <td>Opportunity_Type_8</td>\n",
              "      <td>Non Binding</td>\n",
              "      <td>Delivery_Terms_2</td>\n",
              "      <td>4/12/2019</td>\n",
              "      <td>None</td>\n",
              "      <td>None</td>\n",
              "      <td>None</td>\n",
              "      <td>None</td>\n",
              "      <td>None</td>\n",
              "      <td>None</td>\n",
              "      <td>NaT</td>\n",
              "      <td>4/30/2019</td>\n",
              "      <td>4/12/2019</td>\n",
              "      <td>Person_Name_13</td>\n",
              "      <td>Product_Family_171</td>\n",
              "      <td>Product_Name_332</td>\n",
              "      <td>EUR</td>\n",
              "      <td>0.325</td>\n",
              "      <td>USD</td>\n",
              "      <td>0.36761</td>\n",
              "      <td>5/1/2019</td>\n",
              "      <td>5/31/2019</td>\n",
              "      <td>2019 - 5</td>\n",
              "      <td>Q2</td>\n",
              "      <td>2019</td>\n",
              "      <td>NaT</td>\n",
              "      <td>0</td>\n",
              "      <td>EUR</td>\n",
              "      <td>162240.0</td>\n",
              "      <td>EUR</td>\n",
              "      <td>367419.0</td>\n",
              "      <td>Prod_Category_A_None</td>\n",
              "    </tr>\n",
              "    <tr>\n",
              "      <th>1</th>\n",
              "      <td>6146</td>\n",
              "      <td>EMEA</td>\n",
              "      <td>Germany</td>\n",
              "      <td>1</td>\n",
              "      <td>1</td>\n",
              "      <td>1</td>\n",
              "      <td>1</td>\n",
              "      <td>0</td>\n",
              "      <td>Bureaucratic_Code_4</td>\n",
              "      <td>7/5/2017</td>\n",
              "      <td>Source_7</td>\n",
              "      <td>Germany</td>\n",
              "      <td>Account_Name_978</td>\n",
              "      <td>Opportunity_Name_6118</td>\n",
              "      <td>10689</td>\n",
              "      <td>6436</td>\n",
              "      <td>Person_Name_13</td>\n",
              "      <td>Person_Name_13</td>\n",
              "      <td>Account_Type_0</td>\n",
              "      <td>Opportunity_Type_8</td>\n",
              "      <td>Non Binding</td>\n",
              "      <td>Delivery_Terms_2</td>\n",
              "      <td>4/12/2019</td>\n",
              "      <td>None</td>\n",
              "      <td>None</td>\n",
              "      <td>None</td>\n",
              "      <td>None</td>\n",
              "      <td>None</td>\n",
              "      <td>None</td>\n",
              "      <td>NaT</td>\n",
              "      <td>4/30/2019</td>\n",
              "      <td>4/12/2019</td>\n",
              "      <td>Person_Name_13</td>\n",
              "      <td>Product_Family_167</td>\n",
              "      <td>Product_Name_315</td>\n",
              "      <td>EUR</td>\n",
              "      <td>0.320</td>\n",
              "      <td>USD</td>\n",
              "      <td>0.36195</td>\n",
              "      <td>5/1/2019</td>\n",
              "      <td>5/31/2019</td>\n",
              "      <td>2019 - 5</td>\n",
              "      <td>Q2</td>\n",
              "      <td>2019</td>\n",
              "      <td>NaT</td>\n",
              "      <td>0</td>\n",
              "      <td>EUR</td>\n",
              "      <td>78624.0</td>\n",
              "      <td>EUR</td>\n",
              "      <td>367419.0</td>\n",
              "      <td>Prod_Category_A_None</td>\n",
              "    </tr>\n",
              "    <tr>\n",
              "      <th>2</th>\n",
              "      <td>6151</td>\n",
              "      <td>EMEA</td>\n",
              "      <td>Germany</td>\n",
              "      <td>1</td>\n",
              "      <td>1</td>\n",
              "      <td>1</td>\n",
              "      <td>1</td>\n",
              "      <td>0</td>\n",
              "      <td>Bureaucratic_Code_4</td>\n",
              "      <td>7/5/2017</td>\n",
              "      <td>Source_7</td>\n",
              "      <td>Germany</td>\n",
              "      <td>Account_Name_978</td>\n",
              "      <td>Opportunity_Name_6118</td>\n",
              "      <td>10689</td>\n",
              "      <td>6436</td>\n",
              "      <td>Person_Name_13</td>\n",
              "      <td>Person_Name_13</td>\n",
              "      <td>Account_Type_0</td>\n",
              "      <td>Opportunity_Type_8</td>\n",
              "      <td>Non Binding</td>\n",
              "      <td>Delivery_Terms_2</td>\n",
              "      <td>4/12/2019</td>\n",
              "      <td>None</td>\n",
              "      <td>None</td>\n",
              "      <td>None</td>\n",
              "      <td>None</td>\n",
              "      <td>None</td>\n",
              "      <td>None</td>\n",
              "      <td>NaT</td>\n",
              "      <td>4/30/2019</td>\n",
              "      <td>4/12/2019</td>\n",
              "      <td>Person_Name_13</td>\n",
              "      <td>Product_Family_140</td>\n",
              "      <td>Product_Name_241</td>\n",
              "      <td>EUR</td>\n",
              "      <td>0.275</td>\n",
              "      <td>USD</td>\n",
              "      <td>0.31105</td>\n",
              "      <td>5/1/2019</td>\n",
              "      <td>5/31/2019</td>\n",
              "      <td>2019 - 5</td>\n",
              "      <td>Q2</td>\n",
              "      <td>2019</td>\n",
              "      <td>NaT</td>\n",
              "      <td>0</td>\n",
              "      <td>EUR</td>\n",
              "      <td>126555.0</td>\n",
              "      <td>EUR</td>\n",
              "      <td>367419.0</td>\n",
              "      <td>Prod_Category_A_None</td>\n",
              "    </tr>\n",
              "    <tr>\n",
              "      <th>3</th>\n",
              "      <td>6118</td>\n",
              "      <td>EMEA</td>\n",
              "      <td>Germany</td>\n",
              "      <td>1</td>\n",
              "      <td>1</td>\n",
              "      <td>1</td>\n",
              "      <td>1</td>\n",
              "      <td>0</td>\n",
              "      <td>Bureaucratic_Code_4</td>\n",
              "      <td>7/5/2017</td>\n",
              "      <td>Source_7</td>\n",
              "      <td>Germany</td>\n",
              "      <td>Account_Name_978</td>\n",
              "      <td>Opportunity_Name_6117</td>\n",
              "      <td>10690</td>\n",
              "      <td>6504</td>\n",
              "      <td>Person_Name_13</td>\n",
              "      <td>Person_Name_13</td>\n",
              "      <td>Account_Type_0</td>\n",
              "      <td>Opportunity_Type_8</td>\n",
              "      <td>Non Binding</td>\n",
              "      <td>Delivery_Terms_2</td>\n",
              "      <td>4/12/2019</td>\n",
              "      <td>None</td>\n",
              "      <td>None</td>\n",
              "      <td>None</td>\n",
              "      <td>None</td>\n",
              "      <td>None</td>\n",
              "      <td>None</td>\n",
              "      <td>NaT</td>\n",
              "      <td>4/30/2019</td>\n",
              "      <td>4/25/2019</td>\n",
              "      <td>Person_Name_13</td>\n",
              "      <td>Product_Family_171</td>\n",
              "      <td>Product_Name_328</td>\n",
              "      <td>EUR</td>\n",
              "      <td>0.325</td>\n",
              "      <td>USD</td>\n",
              "      <td>0.36761</td>\n",
              "      <td>6/1/2019</td>\n",
              "      <td>6/28/2019</td>\n",
              "      <td>2019 - 6</td>\n",
              "      <td>Q2</td>\n",
              "      <td>2019</td>\n",
              "      <td>NaT</td>\n",
              "      <td>1</td>\n",
              "      <td>EUR</td>\n",
              "      <td>243360.0</td>\n",
              "      <td>EUR</td>\n",
              "      <td>757783.5</td>\n",
              "      <td>Prod_Category_A_None</td>\n",
              "    </tr>\n",
              "    <tr>\n",
              "      <th>4</th>\n",
              "      <td>6124</td>\n",
              "      <td>EMEA</td>\n",
              "      <td>Germany</td>\n",
              "      <td>1</td>\n",
              "      <td>1</td>\n",
              "      <td>1</td>\n",
              "      <td>1</td>\n",
              "      <td>0</td>\n",
              "      <td>Bureaucratic_Code_4</td>\n",
              "      <td>7/5/2017</td>\n",
              "      <td>Source_7</td>\n",
              "      <td>Germany</td>\n",
              "      <td>Account_Name_978</td>\n",
              "      <td>Opportunity_Name_6117</td>\n",
              "      <td>10690</td>\n",
              "      <td>6504</td>\n",
              "      <td>Person_Name_13</td>\n",
              "      <td>Person_Name_13</td>\n",
              "      <td>Account_Type_0</td>\n",
              "      <td>Opportunity_Type_8</td>\n",
              "      <td>Non Binding</td>\n",
              "      <td>Delivery_Terms_2</td>\n",
              "      <td>4/12/2019</td>\n",
              "      <td>None</td>\n",
              "      <td>None</td>\n",
              "      <td>None</td>\n",
              "      <td>None</td>\n",
              "      <td>None</td>\n",
              "      <td>None</td>\n",
              "      <td>NaT</td>\n",
              "      <td>4/30/2019</td>\n",
              "      <td>4/25/2019</td>\n",
              "      <td>Person_Name_13</td>\n",
              "      <td>Product_Family_167</td>\n",
              "      <td>Product_Name_315</td>\n",
              "      <td>EUR</td>\n",
              "      <td>0.320</td>\n",
              "      <td>USD</td>\n",
              "      <td>0.36195</td>\n",
              "      <td>6/1/2019</td>\n",
              "      <td>6/29/2019</td>\n",
              "      <td>2019 - 6</td>\n",
              "      <td>Q2</td>\n",
              "      <td>2019</td>\n",
              "      <td>NaT</td>\n",
              "      <td>0</td>\n",
              "      <td>EUR</td>\n",
              "      <td>157248.0</td>\n",
              "      <td>EUR</td>\n",
              "      <td>757783.5</td>\n",
              "      <td>Prod_Category_A_None</td>\n",
              "    </tr>\n",
              "    <tr>\n",
              "      <th>...</th>\n",
              "      <td>...</td>\n",
              "      <td>...</td>\n",
              "      <td>...</td>\n",
              "      <td>...</td>\n",
              "      <td>...</td>\n",
              "      <td>...</td>\n",
              "      <td>...</td>\n",
              "      <td>...</td>\n",
              "      <td>...</td>\n",
              "      <td>...</td>\n",
              "      <td>...</td>\n",
              "      <td>...</td>\n",
              "      <td>...</td>\n",
              "      <td>...</td>\n",
              "      <td>...</td>\n",
              "      <td>...</td>\n",
              "      <td>...</td>\n",
              "      <td>...</td>\n",
              "      <td>...</td>\n",
              "      <td>...</td>\n",
              "      <td>...</td>\n",
              "      <td>...</td>\n",
              "      <td>...</td>\n",
              "      <td>...</td>\n",
              "      <td>...</td>\n",
              "      <td>...</td>\n",
              "      <td>...</td>\n",
              "      <td>...</td>\n",
              "      <td>...</td>\n",
              "      <td>...</td>\n",
              "      <td>...</td>\n",
              "      <td>...</td>\n",
              "      <td>...</td>\n",
              "      <td>...</td>\n",
              "      <td>...</td>\n",
              "      <td>...</td>\n",
              "      <td>...</td>\n",
              "      <td>...</td>\n",
              "      <td>...</td>\n",
              "      <td>...</td>\n",
              "      <td>...</td>\n",
              "      <td>...</td>\n",
              "      <td>...</td>\n",
              "      <td>...</td>\n",
              "      <td>...</td>\n",
              "      <td>...</td>\n",
              "      <td>...</td>\n",
              "      <td>...</td>\n",
              "      <td>...</td>\n",
              "      <td>...</td>\n",
              "      <td>...</td>\n",
              "    </tr>\n",
              "    <tr>\n",
              "      <th>2546</th>\n",
              "      <td>16345</td>\n",
              "      <td>EMEA</td>\n",
              "      <td>KSA</td>\n",
              "      <td>1</td>\n",
              "      <td>1</td>\n",
              "      <td>0</td>\n",
              "      <td>0</td>\n",
              "      <td>0</td>\n",
              "      <td>Bureaucratic_Code_4</td>\n",
              "      <td>6/12/2017</td>\n",
              "      <td>Source_3</td>\n",
              "      <td>South Africa</td>\n",
              "      <td>Account_Name_1686</td>\n",
              "      <td>Opportunity_Name_11120</td>\n",
              "      <td>12364</td>\n",
              "      <td>6508</td>\n",
              "      <td>Person_Name_13</td>\n",
              "      <td>Person_Name_13</td>\n",
              "      <td>Account_Type_0</td>\n",
              "      <td>Opportunity_Type_1</td>\n",
              "      <td>Non Binding</td>\n",
              "      <td>Delivery_Terms_7</td>\n",
              "      <td>4/26/2019</td>\n",
              "      <td>None</td>\n",
              "      <td>None</td>\n",
              "      <td>None</td>\n",
              "      <td>None</td>\n",
              "      <td>None</td>\n",
              "      <td>None</td>\n",
              "      <td>NaT</td>\n",
              "      <td>5/24/2019</td>\n",
              "      <td>4/26/2019</td>\n",
              "      <td>Person_Name_13</td>\n",
              "      <td>Product_Family_213</td>\n",
              "      <td>Product_Name_447</td>\n",
              "      <td>USD</td>\n",
              "      <td>0.300</td>\n",
              "      <td>USD</td>\n",
              "      <td>0.30000</td>\n",
              "      <td>5/1/2019</td>\n",
              "      <td>5/10/2019</td>\n",
              "      <td>2019 - 5</td>\n",
              "      <td>Q2</td>\n",
              "      <td>2019</td>\n",
              "      <td>NaT</td>\n",
              "      <td>0</td>\n",
              "      <td>USD</td>\n",
              "      <td>124740.0</td>\n",
              "      <td>USD</td>\n",
              "      <td>147750.0</td>\n",
              "      <td>Prod_Category_A_None</td>\n",
              "    </tr>\n",
              "    <tr>\n",
              "      <th>2547</th>\n",
              "      <td>15218</td>\n",
              "      <td>Americas</td>\n",
              "      <td>SE America</td>\n",
              "      <td>1</td>\n",
              "      <td>1</td>\n",
              "      <td>0</td>\n",
              "      <td>0</td>\n",
              "      <td>0</td>\n",
              "      <td>Bureaucratic_Code_4</td>\n",
              "      <td>6/8/2018</td>\n",
              "      <td>None</td>\n",
              "      <td>United States</td>\n",
              "      <td>Account_Name_768</td>\n",
              "      <td>Opportunity_Name_9694</td>\n",
              "      <td>12365</td>\n",
              "      <td>6510</td>\n",
              "      <td>Person_Name_38</td>\n",
              "      <td>Person_Name_38</td>\n",
              "      <td>Account_Type_2</td>\n",
              "      <td>Opportunity_Type_1</td>\n",
              "      <td>Non Binding</td>\n",
              "      <td>Delivery_Terms_4</td>\n",
              "      <td>4/26/2019</td>\n",
              "      <td>None</td>\n",
              "      <td>None</td>\n",
              "      <td>None</td>\n",
              "      <td>None</td>\n",
              "      <td>None</td>\n",
              "      <td>None</td>\n",
              "      <td>NaT</td>\n",
              "      <td>5/24/2019</td>\n",
              "      <td>4/27/2019</td>\n",
              "      <td>Person_Name_38</td>\n",
              "      <td>Product_Family_221</td>\n",
              "      <td>Product_Name_477</td>\n",
              "      <td>USD</td>\n",
              "      <td>0.410</td>\n",
              "      <td>USD</td>\n",
              "      <td>0.41000</td>\n",
              "      <td>10/1/2019</td>\n",
              "      <td>12/31/2019</td>\n",
              "      <td>2019 - 10</td>\n",
              "      <td>Q4</td>\n",
              "      <td>2019</td>\n",
              "      <td>NaT</td>\n",
              "      <td>0</td>\n",
              "      <td>USD</td>\n",
              "      <td>45054.9</td>\n",
              "      <td>USD</td>\n",
              "      <td>45054.9</td>\n",
              "      <td>Prod_Category_A_None</td>\n",
              "    </tr>\n",
              "    <tr>\n",
              "      <th>2548</th>\n",
              "      <td>15224</td>\n",
              "      <td>Americas</td>\n",
              "      <td>SE America</td>\n",
              "      <td>1</td>\n",
              "      <td>1</td>\n",
              "      <td>1</td>\n",
              "      <td>1</td>\n",
              "      <td>0</td>\n",
              "      <td>Bureaucratic_Code_4</td>\n",
              "      <td>6/8/2018</td>\n",
              "      <td>None</td>\n",
              "      <td>United States</td>\n",
              "      <td>Account_Name_768</td>\n",
              "      <td>Opportunity_Name_9693</td>\n",
              "      <td>12366</td>\n",
              "      <td>6511</td>\n",
              "      <td>Person_Name_38</td>\n",
              "      <td>Person_Name_38</td>\n",
              "      <td>Account_Type_2</td>\n",
              "      <td>Opportunity_Type_1</td>\n",
              "      <td>Non Binding</td>\n",
              "      <td>Delivery_Terms_4</td>\n",
              "      <td>4/26/2019</td>\n",
              "      <td>None</td>\n",
              "      <td>None</td>\n",
              "      <td>None</td>\n",
              "      <td>None</td>\n",
              "      <td>None</td>\n",
              "      <td>None</td>\n",
              "      <td>NaT</td>\n",
              "      <td>5/24/2019</td>\n",
              "      <td>4/27/2019</td>\n",
              "      <td>Person_Name_38</td>\n",
              "      <td>Product_Family_221</td>\n",
              "      <td>Product_Name_477</td>\n",
              "      <td>USD</td>\n",
              "      <td>0.410</td>\n",
              "      <td>USD</td>\n",
              "      <td>0.41000</td>\n",
              "      <td>10/1/2019</td>\n",
              "      <td>12/31/2019</td>\n",
              "      <td>2019 - 10</td>\n",
              "      <td>Q4</td>\n",
              "      <td>2019</td>\n",
              "      <td>NaT</td>\n",
              "      <td>0</td>\n",
              "      <td>USD</td>\n",
              "      <td>100122.0</td>\n",
              "      <td>USD</td>\n",
              "      <td>100122.0</td>\n",
              "      <td>Prod_Category_A_None</td>\n",
              "    </tr>\n",
              "    <tr>\n",
              "      <th>2549</th>\n",
              "      <td>7286</td>\n",
              "      <td>Americas</td>\n",
              "      <td>NE America</td>\n",
              "      <td>1</td>\n",
              "      <td>1</td>\n",
              "      <td>0</td>\n",
              "      <td>0</td>\n",
              "      <td>0</td>\n",
              "      <td>Bureaucratic_Code_4</td>\n",
              "      <td>8/29/2018</td>\n",
              "      <td>None</td>\n",
              "      <td>United States</td>\n",
              "      <td>Account_Name_1635</td>\n",
              "      <td>Opportunity_Name_1676</td>\n",
              "      <td>12367</td>\n",
              "      <td>None</td>\n",
              "      <td>Person_Name_9</td>\n",
              "      <td>Person_Name_9</td>\n",
              "      <td>Account_Type_2</td>\n",
              "      <td>Opportunity_Type_7</td>\n",
              "      <td>Non Binding</td>\n",
              "      <td>Delivery_Terms_4</td>\n",
              "      <td>4/26/2019</td>\n",
              "      <td>None</td>\n",
              "      <td>None</td>\n",
              "      <td>None</td>\n",
              "      <td>None</td>\n",
              "      <td>None</td>\n",
              "      <td>None</td>\n",
              "      <td>NaT</td>\n",
              "      <td>5/26/2019</td>\n",
              "      <td>4/26/2019</td>\n",
              "      <td>Person_Name_9</td>\n",
              "      <td>Product_Family_156</td>\n",
              "      <td>Product_Name_281</td>\n",
              "      <td>USD</td>\n",
              "      <td>0.500</td>\n",
              "      <td>USD</td>\n",
              "      <td>0.50000</td>\n",
              "      <td>8/1/2019</td>\n",
              "      <td>8/1/2019</td>\n",
              "      <td>2019 - 8</td>\n",
              "      <td>Q3</td>\n",
              "      <td>2019</td>\n",
              "      <td>NaT</td>\n",
              "      <td>0</td>\n",
              "      <td>USD</td>\n",
              "      <td>143220.0</td>\n",
              "      <td>USD</td>\n",
              "      <td>143220.0</td>\n",
              "      <td>Prod_Category_A_None</td>\n",
              "    </tr>\n",
              "    <tr>\n",
              "      <th>2550</th>\n",
              "      <td>11263</td>\n",
              "      <td>EMEA</td>\n",
              "      <td>Belgium</td>\n",
              "      <td>1</td>\n",
              "      <td>0</td>\n",
              "      <td>0</td>\n",
              "      <td>0</td>\n",
              "      <td>0</td>\n",
              "      <td>Bureaucratic_Code_5</td>\n",
              "      <td>3/3/2016</td>\n",
              "      <td>None</td>\n",
              "      <td>Luxembourg</td>\n",
              "      <td>Account_Name_271</td>\n",
              "      <td>Opportunity_Name_3187</td>\n",
              "      <td>12368</td>\n",
              "      <td>None</td>\n",
              "      <td>Person_Name_18</td>\n",
              "      <td>Person_Name_16</td>\n",
              "      <td>Account_Type_0</td>\n",
              "      <td>Opportunity_Type_1</td>\n",
              "      <td>Non Binding</td>\n",
              "      <td>Delivery_Terms_2</td>\n",
              "      <td>4/27/2019</td>\n",
              "      <td>None</td>\n",
              "      <td>None</td>\n",
              "      <td>None</td>\n",
              "      <td>None</td>\n",
              "      <td>None</td>\n",
              "      <td>None</td>\n",
              "      <td>NaT</td>\n",
              "      <td>2/8/2019</td>\n",
              "      <td>4/27/2019</td>\n",
              "      <td>Person_Name_16</td>\n",
              "      <td>Product_Family_171</td>\n",
              "      <td>Product_Name_331</td>\n",
              "      <td>EUR</td>\n",
              "      <td>0.290</td>\n",
              "      <td>USD</td>\n",
              "      <td>0.32802</td>\n",
              "      <td>10/21/2019</td>\n",
              "      <td>12/13/2019</td>\n",
              "      <td>2019 - 10</td>\n",
              "      <td>Q4</td>\n",
              "      <td>2019</td>\n",
              "      <td>NaT</td>\n",
              "      <td>3</td>\n",
              "      <td>EUR</td>\n",
              "      <td>871020.8</td>\n",
              "      <td>EUR</td>\n",
              "      <td>871020.8</td>\n",
              "      <td>Prod_Category_A_None</td>\n",
              "    </tr>\n",
              "  </tbody>\n",
              "</table>\n",
              "<p>2551 rows × 51 columns</p>\n",
              "</div>"
            ],
            "text/plain": [
              "         ID    Region  ... Total_Taxable_Amount       Prod_Category_A\n",
              "0      6140      EMEA  ...             367419.0  Prod_Category_A_None\n",
              "1      6146      EMEA  ...             367419.0  Prod_Category_A_None\n",
              "2      6151      EMEA  ...             367419.0  Prod_Category_A_None\n",
              "3      6118      EMEA  ...             757783.5  Prod_Category_A_None\n",
              "4      6124      EMEA  ...             757783.5  Prod_Category_A_None\n",
              "...     ...       ...  ...                  ...                   ...\n",
              "2546  16345      EMEA  ...             147750.0  Prod_Category_A_None\n",
              "2547  15218  Americas  ...              45054.9  Prod_Category_A_None\n",
              "2548  15224  Americas  ...             100122.0  Prod_Category_A_None\n",
              "2549   7286  Americas  ...             143220.0  Prod_Category_A_None\n",
              "2550  11263      EMEA  ...             871020.8  Prod_Category_A_None\n",
              "\n",
              "[2551 rows x 51 columns]"
            ]
          },
          "metadata": {
            "tags": []
          },
          "execution_count": 322
        }
      ]
    },
    {
      "cell_type": "code",
      "metadata": {
        "id": "JXryM7XlvPNS"
      },
      "source": [
        "df.loc[df['Total_Amount_Currency'] == 'JPY', 'Total_Amount'] = df['Total_Amount']*0.0096\r\n",
        "df.loc[df['Total_Amount_Currency'] == 'JPY', 'Total_Amount_Currency'] = 'USD'\r\n",
        "\r\n",
        "df.loc[df['Total_Amount_Currency'] == 'EUR', 'Total_Amount'] = df['Total_Amount']*1.17\r\n",
        "df.loc[df['Total_Amount_Currency'] == 'EUR', 'Total_Amount_Currency'] = 'USD'\r\n",
        "\r\n",
        "df.loc[df['Total_Amount_Currency'] == 'AUD', 'Total_Amount'] = df['Total_Amount']*0.70\r\n",
        "df.loc[df['Total_Amount_Currency'] == 'AUD', 'Total_Amount_Currency'] = 'USD'\r\n",
        "\r\n",
        "df.loc[df['Total_Amount_Currency'] == 'GBP', 'Total_Amount'] = df['Total_Amount']*1.29\r\n",
        "df.loc[df['Total_Amount_Currency'] == 'GBP', 'Total_Amount_Currency'] = 'USD'\r\n",
        "df.drop('Total_Amount_Currency', axis = 1, inplace = True)"
      ],
      "execution_count": null,
      "outputs": []
    },
    {
      "cell_type": "code",
      "metadata": {
        "id": "tOYJcoXDvSqp"
      },
      "source": [
        "test.loc[test['Total_Amount_Currency'] == 'JPY', 'Total_Amount'] = test['Total_Amount']*0.0096\r\n",
        "test.loc[test['Total_Amount_Currency'] == 'JPY', 'Total_Amount_Currency'] = 'USD'\r\n",
        "\r\n",
        "test.loc[test['Total_Amount_Currency'] == 'EUR', 'Total_Amount'] = test['Total_Amount']*1.17\r\n",
        "test.loc[test['Total_Amount_Currency'] == 'EUR', 'Total_Amount_Currency'] = 'USD'\r\n",
        "\r\n",
        "test.loc[test['Total_Amount_Currency'] == 'AUD', 'Total_Amount'] = test['Total_Amount']*0.70\r\n",
        "test.loc[test['Total_Amount_Currency'] == 'AUD', 'Total_Amount_Currency'] = 'USD'\r\n",
        "\r\n",
        "test.loc[test['Total_Amount_Currency'] == 'GBP', 'Total_Amount'] = test['Total_Amount']*1.29\r\n",
        "test.loc[test['Total_Amount_Currency'] == 'GBP', 'Total_Amount_Currency'] = 'USD'\r\n",
        "test.drop('Total_Amount_Currency', axis = 1, inplace = True)"
      ],
      "execution_count": null,
      "outputs": []
    },
    {
      "cell_type": "code",
      "metadata": {
        "id": "hKOItIg_vYjr"
      },
      "source": [
        "df = df[ df['Total_Amount'] > 0 ]\r\n",
        "df['Total_Amount'] = np.log(df.Total_Amount)\r\n",
        "df['TRF'] = np.log(df.TRF)"
      ],
      "execution_count": null,
      "outputs": []
    },
    {
      "cell_type": "code",
      "metadata": {
        "id": "oy5rHDhcvZCU"
      },
      "source": [
        "test = test[ test['Total_Amount'] > 0 ]\r\n",
        "test['Total_Amount'] = np.log(test.Total_Amount)\r\n",
        "test['TRF'] = np.log(test.TRF)\r\n"
      ],
      "execution_count": null,
      "outputs": []
    },
    {
      "cell_type": "code",
      "metadata": {
        "id": "zE2UB8zxvdi8"
      },
      "source": [
        "df = df.rename(columns={'Stage': 'Decision'})\r\n",
        "df = df[ (df['Decision'] == 'Closed Won') | (df['Decision'] == 'Closed Lost') ]\r\n",
        "df['Decision'] = np.where(df['Decision'] == 'Closed Won',1,0)\r\n",
        "df.dropna(inplace=True)"
      ],
      "execution_count": null,
      "outputs": []
    },
    {
      "cell_type": "code",
      "metadata": {
        "id": "BWB-wNB-rP24"
      },
      "source": [
        "\r\n",
        "def dateToNum(x):\r\n",
        "  return x.dt.day + x.dt.month*100 + x.dt.year*10000"
      ],
      "execution_count": null,
      "outputs": []
    },
    {
      "cell_type": "code",
      "metadata": {
        "colab": {
          "base_uri": "https://localhost:8080/",
          "height": 456
        },
        "id": "EedNo3yNwMfB",
        "outputId": "83379adb-973d-4843-82fb-0c0ec00b865e"
      },
      "source": [
        "df['Planned_Delivery_Start_Date'] = pd.to_datetime(df['Planned_Delivery_Start_Date'], errors='coerce')\r\n",
        "df['Planned_Delivery_End_Date'] = pd.to_datetime(df['Planned_Delivery_End_Date'], errors='coerce')\r\n",
        "df['Account_Created_Date'] = pd.to_datetime(df['Account_Created_Date'], errors='coerce')\r\n",
        "df['Dates_diference'] = dateToNum(df['Planned_Delivery_End_Date']) - dateToNum(df['Planned_Delivery_Start_Date']) # Mejora la prediccion\r\n",
        "df.loc[ df['Dates_diference'].isnull() ,('Dates_diference')] = 0\r\n",
        "\r\n",
        "\r\n",
        "short_df = pd.DataFrame()\r\n",
        "short_df['Decision'] = df['Decision']\r\n",
        "\r\n",
        "short_df['Dates_diference'] = df['Dates_diference'] # Mejora la prediccion\r\n",
        "#short_df['Month_created'] = pd.to_datetime(df['Account_Created_Date'], errors='coerce').dt.month\r\n",
        "\r\n",
        "\r\n",
        "short_df['Bureaucratic_Code_0_Approval'] = df['Bureaucratic_Code_0_Approval'] # Mejora MUUY poco\r\n",
        "\r\n",
        "\r\n",
        "#short_df['Quote_Type'] = np.where(df['Quote_Type'] == 'Non Binding',1,0) # Irrelevante\r\n",
        "\r\n",
        "\r\n",
        "short_df['Pricing, Delivery_Terms_Quote_Appr'] = df['Pricing, Delivery_Terms_Quote_Appr'] # Mejora un poco el score\r\n",
        "\r\n",
        "\r\n",
        "# Como de los otros codigos hay muy poca cantidad comparados con estos dos no nos importan\r\n",
        "short_df['Bureaucratic_Code_4'] = np.where(df['Bureaucratic_Code'] == 'Bureaucratic_Code_4',1,0)\r\n",
        "short_df['Bureaucratic_Code_5'] = np.where(df['Bureaucratic_Code'] == 'Bureaucratic_Code_5',1,0)\r\n",
        "\r\n",
        "\r\n",
        "# Opportunity_Type\r\n",
        "\r\n",
        "df[\"Opportunity_Type\"] = np.where(df.groupby('Opportunity_Type')[\"Opportunity_Type\"].transform(len) > 100, df[\"Opportunity_Type\"], \"Other\")\r\n",
        "mean_encoded_Opportunity_Type = df.groupby(\"Opportunity_Type\")[\"Decision\"].mean().to_dict()\r\n",
        "short_df[\"Opportunity_Type\"] = df[\"Opportunity_Type\"].map(mean_encoded_Opportunity_Type)\r\n",
        "\r\n",
        "\r\n",
        "# Account type\r\n",
        "\r\n",
        "# OneHot encoding\r\n",
        "# Como de los otros codigos hay muy poca cantidad comparados con estos tres no nos importan\r\n",
        "#short_df['Account_Type_2'] = np.where(df['Account_Type'] == 'Account_Type_2',1,0)\r\n",
        "#short_df['Account_Type_0'] = np.where(df['Account_Type'] == 'Account_Type_0',1,0)\r\n",
        "#short_df['Account_Type_5'] = np.where(df['Account_Type'] == 'Account_Type_5',1,0)\r\n",
        "\r\n",
        "# Mean encoding\r\n",
        "df[\"Account_Type\"] = np.where(df.groupby('Account_Type')[\"Account_Type\"].transform(len) > 5, df[\"Account_Type\"], \"Other\")\r\n",
        "mean_encoded_account = df.groupby(\"Account_Type\")[\"Decision\"].mean().to_dict()\r\n",
        "short_df[\"Account_Type\"] = df[\"Account_Type\"].map(mean_encoded_account)\r\n",
        "\r\n",
        "\r\n",
        "# Region\r\n",
        "\r\n",
        "# mean encoding\r\n",
        "df[\"Region\"] = np.where(df.groupby('Region')[\"Region\"].transform(len) > 5, df[\"Region\"], \"Other\")\r\n",
        "mean_encoded_region = df.groupby(\"Region\")[\"Decision\"].mean().to_dict()\r\n",
        "short_df[\"Region\"] = df[\"Region\"].map(mean_encoded_region)\r\n",
        "\r\n",
        "# OneHot encoding\r\n",
        "#short_df['Region_Japon'] = np.where(df['Region'] == 'Japan',1,0)\r\n",
        "#short_df['Region_EMEA '] = np.where(df['Region'] == 'EMEA',1,0)\r\n",
        "#short_df['Region_Americas'] = np.where(df['Region'] == 'Americas',1,0)\r\n",
        "#short_df['Region_Apac'] = np.where(df['Region'] == 'APAC',1,0)\r\n",
        "#short_df['Region_Middle_East'] = np.where(df['Region'] == 'Middle East',1,0)\r\n",
        "\r\n",
        "\r\n",
        "# Opportunity Owner\r\n",
        "df[\"Opportunity_Owner\"] = np.where(df.groupby('Opportunity_Owner')[\"Opportunity_Owner\"].transform(len) > 5, df[\"Opportunity_Owner\"], \"Other\")\r\n",
        "mean_encoded_owner = df.groupby(\"Opportunity_Owner\")[\"Decision\"].mean().to_dict()\r\n",
        "short_df[\"Opportunity_Owner\"] = df[\"Opportunity_Owner\"].map(mean_encoded_owner)\r\n",
        "\r\n",
        "# Prodcut name\r\n",
        "df[\"Product_Name\"] = np.where(df.groupby('Product_Name')[\"Product_Name\"].transform(len) > 5, df[\"Product_Name\"], \"Other\")\r\n",
        "mean_encoded_product = df.groupby(\"Product_Name\")[\"Decision\"].mean().to_dict() # Mean Encoding\r\n",
        "dict_product_name = {k: i for i, k in enumerate(df['Product_Name'].unique())} # Label Encoding\r\n",
        "short_df[\"Product_Name\"] = df[\"Product_Name\"].map(dict_product_name)\r\n",
        "\r\n",
        "\r\n",
        "# Entorpece el aprendizaje\r\n",
        "#short_df['TRF'] = df['TRF'] # Entorpece el aprendizaje\r\n",
        "#short_df['TRF_Above_average'] =  df['TRF'] > df['TRF'].mean()\r\n",
        "#short_df['TRF_Above_average'] = np.where(short_df['TRF_Above_average'] == True,1,0)\r\n",
        "\r\n",
        "short_df['Total_Amount'] = df['Total_Amount'] # Es la mejor\r\n",
        "#short_df['Total_Amount_Above_average'] =  df['Total_Amount'] > df['Total_Amount'].mean()\r\n",
        "#short_df['Total_Amount_Above_average'] = np.where(short_df['Total_Amount_Above_average'] == True,1,0)\r\n",
        "#short_df[\"Expensive\"] = np.where(df[\"Total_Taxable_Amount\"] >= 80000, 1, 0)\r\n",
        "\r\n",
        "short_df.dropna(inplace=True)\r\n",
        "short_df"
      ],
      "execution_count": null,
      "outputs": [
        {
          "output_type": "execute_result",
          "data": {
            "text/html": [
              "<div>\n",
              "<style scoped>\n",
              "    .dataframe tbody tr th:only-of-type {\n",
              "        vertical-align: middle;\n",
              "    }\n",
              "\n",
              "    .dataframe tbody tr th {\n",
              "        vertical-align: top;\n",
              "    }\n",
              "\n",
              "    .dataframe thead th {\n",
              "        text-align: right;\n",
              "    }\n",
              "</style>\n",
              "<table border=\"1\" class=\"dataframe\">\n",
              "  <thead>\n",
              "    <tr style=\"text-align: right;\">\n",
              "      <th></th>\n",
              "      <th>Decision</th>\n",
              "      <th>Dates_diference</th>\n",
              "      <th>Bureaucratic_Code_0_Approval</th>\n",
              "      <th>Pricing, Delivery_Terms_Quote_Appr</th>\n",
              "      <th>Bureaucratic_Code_4</th>\n",
              "      <th>Bureaucratic_Code_5</th>\n",
              "      <th>Opportunity_Type</th>\n",
              "      <th>Account_Type</th>\n",
              "      <th>Region</th>\n",
              "      <th>Opportunity_Owner</th>\n",
              "      <th>Product_Name</th>\n",
              "      <th>Total_Amount</th>\n",
              "    </tr>\n",
              "  </thead>\n",
              "  <tbody>\n",
              "    <tr>\n",
              "      <th>0</th>\n",
              "      <td>0</td>\n",
              "      <td>129.0</td>\n",
              "      <td>1</td>\n",
              "      <td>1</td>\n",
              "      <td>1</td>\n",
              "      <td>0</td>\n",
              "      <td>0.538700</td>\n",
              "      <td>0.504613</td>\n",
              "      <td>0.532255</td>\n",
              "      <td>0.560776</td>\n",
              "      <td>0.0</td>\n",
              "      <td>15.635076</td>\n",
              "    </tr>\n",
              "    <tr>\n",
              "      <th>1</th>\n",
              "      <td>1</td>\n",
              "      <td>2.0</td>\n",
              "      <td>0</td>\n",
              "      <td>0</td>\n",
              "      <td>1</td>\n",
              "      <td>0</td>\n",
              "      <td>0.538700</td>\n",
              "      <td>0.504613</td>\n",
              "      <td>0.532255</td>\n",
              "      <td>0.750000</td>\n",
              "      <td>1.0</td>\n",
              "      <td>10.940740</td>\n",
              "    </tr>\n",
              "    <tr>\n",
              "      <th>2</th>\n",
              "      <td>1</td>\n",
              "      <td>0.0</td>\n",
              "      <td>0</td>\n",
              "      <td>0</td>\n",
              "      <td>1</td>\n",
              "      <td>0</td>\n",
              "      <td>0.538700</td>\n",
              "      <td>0.307692</td>\n",
              "      <td>0.466840</td>\n",
              "      <td>0.599112</td>\n",
              "      <td>2.0</td>\n",
              "      <td>11.336971</td>\n",
              "    </tr>\n",
              "    <tr>\n",
              "      <th>3</th>\n",
              "      <td>0</td>\n",
              "      <td>130.0</td>\n",
              "      <td>1</td>\n",
              "      <td>1</td>\n",
              "      <td>0</td>\n",
              "      <td>1</td>\n",
              "      <td>0.217002</td>\n",
              "      <td>0.307692</td>\n",
              "      <td>0.466840</td>\n",
              "      <td>0.599112</td>\n",
              "      <td>3.0</td>\n",
              "      <td>15.819943</td>\n",
              "    </tr>\n",
              "    <tr>\n",
              "      <th>4</th>\n",
              "      <td>0</td>\n",
              "      <td>27.0</td>\n",
              "      <td>1</td>\n",
              "      <td>1</td>\n",
              "      <td>0</td>\n",
              "      <td>1</td>\n",
              "      <td>0.217002</td>\n",
              "      <td>0.307692</td>\n",
              "      <td>0.466840</td>\n",
              "      <td>0.599112</td>\n",
              "      <td>3.0</td>\n",
              "      <td>16.407566</td>\n",
              "    </tr>\n",
              "    <tr>\n",
              "      <th>...</th>\n",
              "      <td>...</td>\n",
              "      <td>...</td>\n",
              "      <td>...</td>\n",
              "      <td>...</td>\n",
              "      <td>...</td>\n",
              "      <td>...</td>\n",
              "      <td>...</td>\n",
              "      <td>...</td>\n",
              "      <td>...</td>\n",
              "      <td>...</td>\n",
              "      <td>...</td>\n",
              "      <td>...</td>\n",
              "    </tr>\n",
              "    <tr>\n",
              "      <th>16942</th>\n",
              "      <td>1</td>\n",
              "      <td>4.0</td>\n",
              "      <td>1</td>\n",
              "      <td>1</td>\n",
              "      <td>1</td>\n",
              "      <td>0</td>\n",
              "      <td>0.538700</td>\n",
              "      <td>0.307692</td>\n",
              "      <td>0.532255</td>\n",
              "      <td>0.664537</td>\n",
              "      <td>24.0</td>\n",
              "      <td>11.702880</td>\n",
              "    </tr>\n",
              "    <tr>\n",
              "      <th>16943</th>\n",
              "      <td>1</td>\n",
              "      <td>4.0</td>\n",
              "      <td>1</td>\n",
              "      <td>1</td>\n",
              "      <td>1</td>\n",
              "      <td>0</td>\n",
              "      <td>0.538700</td>\n",
              "      <td>0.307692</td>\n",
              "      <td>0.532255</td>\n",
              "      <td>0.664537</td>\n",
              "      <td>24.0</td>\n",
              "      <td>11.597520</td>\n",
              "    </tr>\n",
              "    <tr>\n",
              "      <th>16944</th>\n",
              "      <td>1</td>\n",
              "      <td>3.0</td>\n",
              "      <td>1</td>\n",
              "      <td>1</td>\n",
              "      <td>1</td>\n",
              "      <td>0</td>\n",
              "      <td>0.538700</td>\n",
              "      <td>0.307692</td>\n",
              "      <td>0.532255</td>\n",
              "      <td>0.664537</td>\n",
              "      <td>24.0</td>\n",
              "      <td>11.702880</td>\n",
              "    </tr>\n",
              "    <tr>\n",
              "      <th>16945</th>\n",
              "      <td>0</td>\n",
              "      <td>4.0</td>\n",
              "      <td>1</td>\n",
              "      <td>1</td>\n",
              "      <td>1</td>\n",
              "      <td>0</td>\n",
              "      <td>0.538700</td>\n",
              "      <td>0.307692</td>\n",
              "      <td>0.466840</td>\n",
              "      <td>0.276316</td>\n",
              "      <td>25.0</td>\n",
              "      <td>14.668562</td>\n",
              "    </tr>\n",
              "    <tr>\n",
              "      <th>16946</th>\n",
              "      <td>0</td>\n",
              "      <td>130.0</td>\n",
              "      <td>1</td>\n",
              "      <td>1</td>\n",
              "      <td>1</td>\n",
              "      <td>0</td>\n",
              "      <td>0.217002</td>\n",
              "      <td>0.307692</td>\n",
              "      <td>0.466840</td>\n",
              "      <td>0.276316</td>\n",
              "      <td>21.0</td>\n",
              "      <td>17.058228</td>\n",
              "    </tr>\n",
              "  </tbody>\n",
              "</table>\n",
              "<p>13186 rows × 12 columns</p>\n",
              "</div>"
            ],
            "text/plain": [
              "       Decision  Dates_diference  ...  Product_Name  Total_Amount\n",
              "0             0            129.0  ...           0.0     15.635076\n",
              "1             1              2.0  ...           1.0     10.940740\n",
              "2             1              0.0  ...           2.0     11.336971\n",
              "3             0            130.0  ...           3.0     15.819943\n",
              "4             0             27.0  ...           3.0     16.407566\n",
              "...         ...              ...  ...           ...           ...\n",
              "16942         1              4.0  ...          24.0     11.702880\n",
              "16943         1              4.0  ...          24.0     11.597520\n",
              "16944         1              3.0  ...          24.0     11.702880\n",
              "16945         0              4.0  ...          25.0     14.668562\n",
              "16946         0            130.0  ...          21.0     17.058228\n",
              "\n",
              "[13186 rows x 12 columns]"
            ]
          },
          "metadata": {
            "tags": []
          },
          "execution_count": 330
        }
      ]
    },
    {
      "cell_type": "code",
      "metadata": {
        "colab": {
          "base_uri": "https://localhost:8080/"
        },
        "id": "0u4FsV1-_EBw",
        "outputId": "f282fd14-ea31-4c71-e935-085d77a6c489"
      },
      "source": [
        "short_df.isnull().sum()"
      ],
      "execution_count": null,
      "outputs": [
        {
          "output_type": "execute_result",
          "data": {
            "text/plain": [
              "Decision                              0\n",
              "Dates_diference                       0\n",
              "Bureaucratic_Code_0_Approval          0\n",
              "Pricing, Delivery_Terms_Quote_Appr    0\n",
              "Bureaucratic_Code_4                   0\n",
              "Bureaucratic_Code_5                   0\n",
              "Opportunity_Type                      0\n",
              "Account_Type                          0\n",
              "Region                                0\n",
              "Opportunity_Owner                     0\n",
              "Product_Name                          0\n",
              "Total_Amount                          0\n",
              "dtype: int64"
            ]
          },
          "metadata": {
            "tags": []
          },
          "execution_count": 332
        }
      ]
    },
    {
      "cell_type": "code",
      "metadata": {
        "id": "-2Sozk6MQ9pL"
      },
      "source": [
        "test['Planned_Delivery_Start_Date'] = pd.to_datetime(test['Planned_Delivery_Start_Date'], errors='coerce')\r\n",
        "test['Planned_Delivery_End_Date'] = pd.to_datetime(test['Planned_Delivery_End_Date'], errors='coerce')\r\n",
        "test['Account_Created_Date'] = pd.to_datetime(test['Account_Created_Date'], errors='coerce')\r\n",
        "test['Dates_diference'] = dateToNum(test['Planned_Delivery_End_Date']) - dateToNum(test['Planned_Delivery_Start_Date']) # Mejora la prediccion\r\n",
        "test.loc[ test['Dates_diference'].isnull() , ('Dates_diference')] = 0\r\n",
        "\r\n",
        "short_test = pd.DataFrame()\r\n",
        "short_test['Dates_diference'] = test['Dates_diference'] # Mejora la prediccion\r\n",
        "\r\n",
        "#short_test['Month_created'] = pd.to_datetime(test['Account_Created_Date'], errors='coerce').dt.month\r\n",
        "#short_test['Month_created'] = test['Account_Created_Date'].dt.month\r\n",
        "\r\n",
        "\r\n",
        "short_test['Bureaucratic_Code_0_Approval'] = test['Bureaucratic_Code_0_Approval'] # Mejora MUUY poco\r\n",
        "\r\n",
        "short_test['Pricing, Delivery_Terms_Quote_Appr'] = test['Pricing, Delivery_Terms_Quote_Appr'] # Mejora un poco el score\r\n",
        "\r\n",
        "# Bureaucratic_Code\r\n",
        "short_test['Bureaucratic_Code_4'] = np.where(test['Bureaucratic_Code'] == 'Bureaucratic_Code_4',1,0)\r\n",
        "short_test['Bureaucratic_Code_5'] = np.where(test['Bureaucratic_Code'] == 'Bureaucratic_Code_5',1,0)\r\n",
        "\r\n",
        "\r\n",
        "# Opportunity_Type\r\n",
        "\r\n",
        "short_test[\"Opportunity_Type\"] = test[\"Opportunity_Type\"].map(mean_encoded_Opportunity_Type)\r\n",
        "short_test.loc[ short_test['Opportunity_Type'].isnull() ,('Opportunity_Type')] = mean_encoded_Opportunity_Type.get('Other')\r\n",
        "\r\n",
        "# Account_Type\r\n",
        "short_test[\"Account_Type\"] = test[\"Account_Type\"].map(mean_encoded_account)\r\n",
        "\r\n",
        "# Region \r\n",
        "short_test[\"Region\"] = test[\"Region\"].map(mean_encoded_region)\r\n",
        "\r\n",
        "# Opportunity_Owner\r\n",
        "short_test[\"Opportunity_Owner\"] = test[\"Opportunity_Owner\"].map(mean_encoded_owner)\r\n",
        "short_test.loc[ short_test['Opportunity_Owner'].isnull() ,('Opportunity_Owner')] = mean_encoded_owner.get('Other')\r\n",
        "\r\n",
        "# Product_Name\r\n",
        "short_test[\"Product_Name\"] = test[\"Product_Name\"].map(dict_product_name)\r\n",
        "short_test.loc[ short_test['Product_Name'].isnull() ,('Product_Name')] = 0\r\n",
        "\r\n",
        "#short_test['TRF'] = test['TRF'] #Muy probable que sea una caca\r\n",
        "\r\n",
        "# Total_Amount\r\n",
        "short_test['Total_Amount'] = test['Total_Amount'] # Es la mejor\r\n",
        "\r\n"
      ],
      "execution_count": null,
      "outputs": []
    },
    {
      "cell_type": "code",
      "metadata": {
        "colab": {
          "base_uri": "https://localhost:8080/"
        },
        "id": "A5unyiBD0qIp",
        "outputId": "010f13ca-16ed-42ad-9e21-f0ed0b3e5aa1"
      },
      "source": [
        "short_test.isnull().sum()\r\n"
      ],
      "execution_count": null,
      "outputs": [
        {
          "output_type": "execute_result",
          "data": {
            "text/plain": [
              "Dates_diference                       0\n",
              "Bureaucratic_Code_0_Approval          0\n",
              "Pricing, Delivery_Terms_Quote_Appr    0\n",
              "Bureaucratic_Code_4                   0\n",
              "Bureaucratic_Code_5                   0\n",
              "Opportunity_Type                      0\n",
              "Account_Type                          0\n",
              "Region                                0\n",
              "Opportunity_Owner                     0\n",
              "Product_Name                          0\n",
              "Total_Amount                          0\n",
              "dtype: int64"
            ]
          },
          "metadata": {
            "tags": []
          },
          "execution_count": 334
        }
      ]
    },
    {
      "cell_type": "markdown",
      "metadata": {
        "id": "HJAZezwWNuvd"
      },
      "source": [
        "# XGBoost"
      ]
    },
    {
      "cell_type": "code",
      "metadata": {
        "id": "GGthcUCwydTE"
      },
      "source": [
        "X = short_df.drop( 'Decision', axis=1 )\r\n",
        "y = short_df['Decision']\r\n",
        "X_train, X_test, y_train, y_test = train_test_split(X, y, test_size=0.3, random_state=123)"
      ],
      "execution_count": null,
      "outputs": []
    },
    {
      "cell_type": "code",
      "metadata": {
        "id": "cvmivyez2Inr",
        "colab": {
          "base_uri": "https://localhost:8080/"
        },
        "outputId": "76a901fb-1060-4135-f587-47b33b774470"
      },
      "source": [
        "#xg_Regressor1 = xgb.XGBRegressor(colsample_bytree= 0.8, gamma= 1.5, learning_rate= 0.01, max_depth= 20, min_child_weight= 1, n_estimators= 200, subsample= 0.8)\r\n",
        "xg_Regressor1 = xgb.XGBRegressor(colsample_bytree= 0.8, gamma= 1.5, learning_rate= 0.01, max_depth= 20, min_child_weight= 1, n_estimators= 250, subsample= 0.8)\r\n",
        "\r\n",
        "xg_Regressor1.fit(X_train,y_train)\r\n",
        "xgbr = xg_Regressor1.predict(X_test)"
      ],
      "execution_count": null,
      "outputs": [
        {
          "output_type": "stream",
          "text": [
            "[15:38:02] WARNING: /workspace/src/objective/regression_obj.cu:152: reg:linear is now deprecated in favor of reg:squarederror.\n"
          ],
          "name": "stdout"
        }
      ]
    },
    {
      "cell_type": "code",
      "metadata": {
        "colab": {
          "base_uri": "https://localhost:8080/"
        },
        "id": "iGK5lVGZ2NbK",
        "outputId": "cb47204c-6fbc-456f-ffc3-9392e81cd167"
      },
      "source": [
        "loss = log_loss(y_test, xgbr)\r\n",
        "print(f\"Log loss is {loss}\")"
      ],
      "execution_count": null,
      "outputs": [
        {
          "output_type": "stream",
          "text": [
            "Log loss is 0.4054568658551791\n"
          ],
          "name": "stdout"
        }
      ]
    },
    {
      "cell_type": "code",
      "metadata": {
        "colab": {
          "base_uri": "https://localhost:8080/"
        },
        "id": "01hOY-Fb2OvW",
        "outputId": "059e17e1-9a2b-475b-a551-b4a6b9daedaa"
      },
      "source": [
        "xg_Regressor1.score(X_test, y_test)\r\n"
      ],
      "execution_count": null,
      "outputs": [
        {
          "output_type": "execute_result",
          "data": {
            "text/plain": [
              "0.4862298151447473"
            ]
          },
          "metadata": {
            "tags": []
          },
          "execution_count": 338
        }
      ]
    },
    {
      "cell_type": "code",
      "metadata": {
        "colab": {
          "base_uri": "https://localhost:8080/",
          "height": 638
        },
        "id": "vumTLEnY2KmV",
        "outputId": "16f352ce-22c4-4b4a-f1ae-2fe7f777a281"
      },
      "source": [
        "plt.figure(figsize=(15,10))\r\n",
        "plt.hist(xgbr, bins=30)\r\n",
        "plt.ylabel('Quantity')\r\n",
        "plt.xlabel('Prediction')\r\n",
        "plt.title('XGBoost Regressor')"
      ],
      "execution_count": null,
      "outputs": [
        {
          "output_type": "execute_result",
          "data": {
            "text/plain": [
              "Text(0.5, 1.0, 'XGBoost Regressor')"
            ]
          },
          "metadata": {
            "tags": []
          },
          "execution_count": 341
        },
        {
          "output_type": "display_data",
          "data": {
            "image/png": "[encoded data removed]",
            "text/plain": [
              "<Figure size 1080x720 with 1 Axes>"
            ]
          },
          "metadata": {
            "tags": [],
            "needs_background": "light"
          }
        }
      ]
    },
    {
      "cell_type": "code",
      "metadata": {
        "colab": {
          "base_uri": "https://localhost:8080/",
          "height": 675
        },
        "id": "YeBn-Aps2SY4",
        "outputId": "4840e105-8178-4347-c451-80aa61bad7b7"
      },
      "source": [
        "features = X_test.columns.to_list()\r\n",
        "importances = xg_Regressor1.feature_importances_\r\n",
        "indices = np.argsort(importances)\r\n",
        "\r\n",
        "print(features)\r\n",
        "\r\n",
        "\r\n",
        "plt.figure(figsize=(15,10))\r\n",
        "plt.title('Feature Importances')\r\n",
        "plt.barh(features, importances, color='lightblue', align='center' )\r\n",
        "plt.xlabel('Relative Importance')"
      ],
      "execution_count": null,
      "outputs": [
        {
          "output_type": "stream",
          "text": [
            "['Dates_diference', 'Bureaucratic_Code_0_Approval', 'Pricing, Delivery_Terms_Quote_Appr', 'Bureaucratic_Code_4', 'Bureaucratic_Code_5', 'Opportunity_Type', 'Account_Type', 'Region', 'Opportunity_Owner', 'Product_Name', 'Total_Amount']\n"
          ],
          "name": "stdout"
        },
        {
          "output_type": "execute_result",
          "data": {
            "text/plain": [
              "Text(0.5, 0, 'Relative Importance')"
            ]
          },
          "metadata": {
            "tags": []
          },
          "execution_count": 342
        },
        {
          "output_type": "display_data",
          "data": {
            "image/png": "[encoded data removed]",
            "text/plain": [
              "<Figure size 1080x720 with 1 Axes>"
            ]
          },
          "metadata": {
            "tags": [],
            "needs_background": "light"
          }
        }
      ]
    },
    {
      "cell_type": "markdown",
      "metadata": {
        "id": "Sg9NVeIiNx1H"
      },
      "source": [
        "# CatBoost"
      ]
    },
    {
      "cell_type": "code",
      "metadata": {
        "id": "Qmid5ftIMSIU"
      },
      "source": [
        "#cbr = CatBoostRegressor(learning_rate = 0.0075, verbose = True, random_seed = 123,  num_boost_round = 1500, max_depth = 14)\r\n",
        "#cbr = CatBoostRegressor(num_boost_round = 1500, depth= 10, l2_leaf_reg= 20, learning_rate= 0.008)\r\n",
        "cbr = CatBoostRegressor(num_boost_round = 1500, learning_rate = 0.008)\r\n",
        "cbr.fit(X_train, y_train)\r\n",
        "cbr_pred = cbr.predict(X_test)"
      ],
      "execution_count": null,
      "outputs": []
    },
    {
      "cell_type": "code",
      "metadata": {
        "colab": {
          "base_uri": "https://localhost:8080/"
        },
        "id": "oFpE_lM4Md-l",
        "outputId": "e2dabcc0-1084-464b-fe21-6d2215503c8a"
      },
      "source": [
        "loss = log_loss(y_test, cbr_pred)\r\n",
        "print(f\"Log loss is {loss}\")"
      ],
      "execution_count": null,
      "outputs": [
        {
          "output_type": "stream",
          "text": [
            "Log loss is 0.4238344688021329\n"
          ],
          "name": "stdout"
        }
      ]
    },
    {
      "cell_type": "code",
      "metadata": {
        "colab": {
          "base_uri": "https://localhost:8080/"
        },
        "id": "l75voEPINOq8",
        "outputId": "65703b97-0b75-4fca-b111-f9c029ec87ca"
      },
      "source": [
        "cbr.score(X_test, y_test)"
      ],
      "execution_count": null,
      "outputs": [
        {
          "output_type": "execute_result",
          "data": {
            "text/plain": [
              "0.46568382196541525"
            ]
          },
          "metadata": {
            "tags": []
          },
          "execution_count": 345
        }
      ]
    },
    {
      "cell_type": "code",
      "metadata": {
        "colab": {
          "base_uri": "https://localhost:8080/",
          "height": 638
        },
        "id": "1H5wg2tiMmHE",
        "outputId": "e02dbf9f-21fb-4d42-bc53-7eb74fb874ca"
      },
      "source": [
        "plt.figure(figsize=(15,10))\r\n",
        "plt.hist(cbr_pred, bins=30)\r\n",
        "plt.ylabel('Quantity')\r\n",
        "plt.xlabel('Prediction')\r\n",
        "plt.title('CatBoost Regressor')"
      ],
      "execution_count": null,
      "outputs": [
        {
          "output_type": "execute_result",
          "data": {
            "text/plain": [
              "Text(0.5, 1.0, 'CatBoost Regressor')"
            ]
          },
          "metadata": {
            "tags": []
          },
          "execution_count": 346
        },
        {
          "output_type": "display_data",
          "data": {
            "image/png": "[encoded data removed]",
            "text/plain": [
              "<Figure size 1080x720 with 1 Axes>"
            ]
          },
          "metadata": {
            "tags": [],
            "needs_background": "light"
          }
        }
      ]
    },
    {
      "cell_type": "code",
      "metadata": {
        "colab": {
          "base_uri": "https://localhost:8080/",
          "height": 675
        },
        "id": "REpYna4TMr12",
        "outputId": "cf795078-bf1e-4779-8c9e-41621c8864dc"
      },
      "source": [
        "features = X_test.columns.to_list()\r\n",
        "importances = cbr.feature_importances_\r\n",
        "indices = np.argsort(importances)\r\n",
        "\r\n",
        "print(features)\r\n",
        "\r\n",
        "\r\n",
        "plt.figure(figsize=(15,10))\r\n",
        "plt.title('Feature Importances')\r\n",
        "plt.barh(features, importances, color='lightblue', align='center')\r\n",
        "plt.xlabel('Relative Importance')"
      ],
      "execution_count": null,
      "outputs": [
        {
          "output_type": "stream",
          "text": [
            "['Dates_diference', 'Bureaucratic_Code_0_Approval', 'Pricing, Delivery_Terms_Quote_Appr', 'Bureaucratic_Code_4', 'Bureaucratic_Code_5', 'Opportunity_Type', 'Account_Type', 'Region', 'Opportunity_Owner', 'Product_Name', 'Total_Amount']\n"
          ],
          "name": "stdout"
        },
        {
          "output_type": "execute_result",
          "data": {
            "text/plain": [
              "Text(0.5, 0, 'Relative Importance')"
            ]
          },
          "metadata": {
            "tags": []
          },
          "execution_count": 351
        },
        {
          "output_type": "display_data",
          "data": {
            "image/png": "[encoded data removed]",
            "text/plain": [
              "<Figure size 1080x720 with 1 Axes>"
            ]
          },
          "metadata": {
            "tags": [],
            "needs_background": "light"
          }
        }
      ]
    },
    {
      "cell_type": "markdown",
      "metadata": {
        "id": "fNbLQHzJLQIO"
      },
      "source": [
        "# LightBM"
      ]
    },
    {
      "cell_type": "code",
      "metadata": {
        "id": "XT9IdkACLTO3"
      },
      "source": [
        "lbm = LGBMRegressor(boosting_type = \"goss\", n_estimators = 1500, learning_rate = 0.008, random_state=100)\r\n",
        "lbm.fit(X_train, y_train)\r\n",
        "lbm_pred = lbm.predict(X_test)\r\n"
      ],
      "execution_count": null,
      "outputs": []
    },
    {
      "cell_type": "code",
      "metadata": {
        "id": "ByDFvhGCLXI2"
      },
      "source": [
        "loss = log_loss(y_test, lbm_pred)\r\n",
        "print(f\"Log loss is {loss}\")"
      ],
      "execution_count": null,
      "outputs": []
    },
    {
      "cell_type": "code",
      "metadata": {
        "id": "JATZ6z_SLejI"
      },
      "source": [
        "lbm.score(X_test, y_test)\r\n"
      ],
      "execution_count": null,
      "outputs": []
    },
    {
      "cell_type": "code",
      "metadata": {
        "id": "dZ_EN7wGMGYL"
      },
      "source": [
        "plt.figure(figsize=(15,10))\r\n",
        "plt.hist(lbm_pred, bins=30)\r\n",
        "plt.ylabel('Quantity')\r\n",
        "plt.xlabel('Prediction')\r\n",
        "plt.title('LightGBM Regressor')"
      ],
      "execution_count": null,
      "outputs": []
    },
    {
      "cell_type": "code",
      "metadata": {
        "id": "qJTlyVR5MKAE"
      },
      "source": [
        "features = X_test.columns.to_list()\r\n",
        "importances = lbm.feature_importances_\r\n",
        "indices = np.argsort(importances)\r\n",
        "\r\n",
        "print(features)\r\n",
        "\r\n",
        "\r\n",
        "plt.figure(figsize=(15,15))\r\n",
        "plt.title('Feature Importances')\r\n",
        "plt.bar(features, importances, color='b', align='center')\r\n",
        "plt.xlabel('Relative Importance')"
      ],
      "execution_count": null,
      "outputs": []
    },
    {
      "cell_type": "markdown",
      "metadata": {
        "id": "rIFBLnK-MYGN"
      },
      "source": [
        "# Voting Regressor"
      ]
    },
    {
      "cell_type": "code",
      "metadata": {
        "id": "j4X356bdPG8M"
      },
      "source": [
        "# , ('lbm', lbm)\r\n",
        "ereg = VotingRegressor([ ('xgbr', xg_Regressor1), ('cbr', cbr) ])\r\n",
        "ereg.fit(X_train, y_train)\r\n",
        "ereg_pred = ereg.predict(X_test)\r\n"
      ],
      "execution_count": null,
      "outputs": []
    },
    {
      "cell_type": "code",
      "metadata": {
        "colab": {
          "base_uri": "https://localhost:8080/"
        },
        "id": "_EK7ZbUGPJoB",
        "outputId": "662cf86d-7a0e-4563-faa8-5b70918e674e"
      },
      "source": [
        "loss = log_loss(y_test, ereg_pred)\r\n",
        "print(f\"Log loss is {loss}\")"
      ],
      "execution_count": null,
      "outputs": [
        {
          "output_type": "stream",
          "text": [
            "Log loss is 0.4039791734319871\n"
          ],
          "name": "stdout"
        }
      ]
    },
    {
      "cell_type": "code",
      "metadata": {
        "colab": {
          "base_uri": "https://localhost:8080/"
        },
        "id": "UmKRZPQbPKtq",
        "outputId": "33a48357-9379-443a-b26a-6e98b8b496ed"
      },
      "source": [
        "ereg.score(X_test, y_test)\r\n"
      ],
      "execution_count": null,
      "outputs": [
        {
          "output_type": "execute_result",
          "data": {
            "text/plain": [
              "0.48052191186436777"
            ]
          },
          "metadata": {
            "tags": []
          },
          "execution_count": 350
        }
      ]
    },
    {
      "cell_type": "code",
      "metadata": {
        "colab": {
          "base_uri": "https://localhost:8080/",
          "height": 622
        },
        "id": "-otEuZPFg9sX",
        "outputId": "2177708e-1eca-4c3b-9f83-42a768105529"
      },
      "source": [
        "plt.figure(figsize=(15,10))\r\n",
        "\r\n",
        "plt.plot(ereg_pred, 'r*', ms=8,label='Nombre del modelo')\r\n",
        "\r\n",
        "plt.tick_params(axis='x', which='both', bottom=False, top=False,\r\n",
        "                labelbottom=False)\r\n",
        "plt.ylabel('predicted')\r\n",
        "plt.xlabel('training samples')\r\n",
        "plt.legend(loc=\"best\")\r\n",
        "plt.title('Regressor predictions and their average')\r\n"
      ],
      "execution_count": null,
      "outputs": [
        {
          "output_type": "execute_result",
          "data": {
            "text/plain": [
              "Text(0.5, 1.0, 'Regressor predictions and their average')"
            ]
          },
          "metadata": {
            "tags": []
          },
          "execution_count": 352
        },
        {
          "output_type": "display_data",
          "data": {
            "image/png": "[encoded data removed]",
            "text/plain": [
              "<Figure size 1080x720 with 1 Axes>"
            ]
          },
          "metadata": {
            "tags": [],
            "needs_background": "light"
          }
        }
      ]
    },
    {
      "cell_type": "code",
      "metadata": {
        "colab": {
          "base_uri": "https://localhost:8080/",
          "height": 638
        },
        "id": "kL15CimaTmWj",
        "outputId": "731fe2c7-72cb-4638-e87d-eeee630c4c20"
      },
      "source": [
        "plt.figure(figsize=(15,10))\r\n",
        "plt.hist(ereg_pred, bins=30)\r\n",
        "plt.ylabel('Quantity')\r\n",
        "plt.xlabel('Prediction')\r\n",
        "plt.title('Voting Regressor')"
      ],
      "execution_count": null,
      "outputs": [
        {
          "output_type": "execute_result",
          "data": {
            "text/plain": [
              "Text(0.5, 1.0, 'Voting Regressor')"
            ]
          },
          "metadata": {
            "tags": []
          },
          "execution_count": 353
        },
        {
          "output_type": "display_data",
          "data": {
            "image/png": "[encoded data removed]",
            "text/plain": [
              "<Figure size 1080x720 with 1 Axes>"
            ]
          },
          "metadata": {
            "tags": [],
            "needs_background": "light"
          }
        }
      ]
    },
    {
      "cell_type": "code",
      "metadata": {
        "id": "39oYMQGvSN8U"
      },
      "source": [
        "ereg_test = ereg.predict(short_test)"
      ],
      "execution_count": null,
      "outputs": []
    },
    {
      "cell_type": "code",
      "metadata": {
        "colab": {
          "base_uri": "https://localhost:8080/",
          "height": 297
        },
        "id": "Lg_IqNFFVYqd",
        "outputId": "82c0f03a-6ecc-4e8a-8823-da99b744c21e"
      },
      "source": [
        "resultado_voting = pd.DataFrame()\r\n",
        "resultado_voting['Opportunity_ID'] = test['Opportunity_ID']\r\n",
        "resultado_voting['target'] = ereg_test\r\n",
        "resultado_voting.sort_values('Opportunity_ID',inplace = True)\r\n",
        "resultado_voting = resultado_voting.drop_duplicates('Opportunity_ID',keep = 'last')\r\n",
        "resultado_voting.set_index('Opportunity_ID', inplace = True)\r\n",
        "resultado_voting.describe()\r\n"
      ],
      "execution_count": null,
      "outputs": [
        {
          "output_type": "execute_result",
          "data": {
            "text/html": [
              "<div>\n",
              "<style scoped>\n",
              "    .dataframe tbody tr th:only-of-type {\n",
              "        vertical-align: middle;\n",
              "    }\n",
              "\n",
              "    .dataframe tbody tr th {\n",
              "        vertical-align: top;\n",
              "    }\n",
              "\n",
              "    .dataframe thead th {\n",
              "        text-align: right;\n",
              "    }\n",
              "</style>\n",
              "<table border=\"1\" class=\"dataframe\">\n",
              "  <thead>\n",
              "    <tr style=\"text-align: right;\">\n",
              "      <th></th>\n",
              "      <th>target</th>\n",
              "    </tr>\n",
              "  </thead>\n",
              "  <tbody>\n",
              "    <tr>\n",
              "      <th>count</th>\n",
              "      <td>1567.000000</td>\n",
              "    </tr>\n",
              "    <tr>\n",
              "      <th>mean</th>\n",
              "      <td>0.543578</td>\n",
              "    </tr>\n",
              "    <tr>\n",
              "      <th>std</th>\n",
              "      <td>0.255054</td>\n",
              "    </tr>\n",
              "    <tr>\n",
              "      <th>min</th>\n",
              "      <td>0.004768</td>\n",
              "    </tr>\n",
              "    <tr>\n",
              "      <th>25%</th>\n",
              "      <td>0.330445</td>\n",
              "    </tr>\n",
              "    <tr>\n",
              "      <th>50%</th>\n",
              "      <td>0.558923</td>\n",
              "    </tr>\n",
              "    <tr>\n",
              "      <th>75%</th>\n",
              "      <td>0.776948</td>\n",
              "    </tr>\n",
              "    <tr>\n",
              "      <th>max</th>\n",
              "      <td>0.993429</td>\n",
              "    </tr>\n",
              "  </tbody>\n",
              "</table>\n",
              "</div>"
            ],
            "text/plain": [
              "            target\n",
              "count  1567.000000\n",
              "mean      0.543578\n",
              "std       0.255054\n",
              "min       0.004768\n",
              "25%       0.330445\n",
              "50%       0.558923\n",
              "75%       0.776948\n",
              "max       0.993429"
            ]
          },
          "metadata": {
            "tags": []
          },
          "execution_count": 355
        }
      ]
    },
    {
      "cell_type": "code",
      "metadata": {
        "id": "apdQm_hDh2lK"
      },
      "source": [
        "csv3 = resultado_voting.to_csv('Ensamble_CB_XG_VR.csv')\r\n",
        "#files.download('Ensamble_CB_XG_VR.csv')"
      ],
      "execution_count": null,
      "outputs": []
    },
    {
      "cell_type": "markdown",
      "metadata": {
        "id": "Xb-aB-pLP4R5"
      },
      "source": [
        "# AdaBoost"
      ]
    },
    {
      "cell_type": "code",
      "metadata": {
        "id": "FoKNuVeVjIf5"
      },
      "source": [
        "rng = np.random.RandomState(1)\r\n",
        "ada = AdaBoostRegressor(ereg, n_estimators=300, random_state=rng)\r\n",
        "ada.fit(X_train, y_train)\r\n",
        "ada_pred = ada.predict(X_test)"
      ],
      "execution_count": null,
      "outputs": []
    },
    {
      "cell_type": "code",
      "metadata": {
        "id": "c6Y38yq3QHwF",
        "colab": {
          "base_uri": "https://localhost:8080/"
        },
        "outputId": "6d68ed64-2e34-4584-8e13-c4936f37acfa"
      },
      "source": [
        "loss = log_loss(y_test, ada_pred)\r\n",
        "print(f\"Log loss is {loss}\")"
      ],
      "execution_count": null,
      "outputs": [
        {
          "output_type": "stream",
          "text": [
            "Log loss is 0.4238977620964075\n"
          ],
          "name": "stdout"
        }
      ]
    },
    {
      "cell_type": "code",
      "metadata": {
        "id": "iWnLfIrYQKEa",
        "colab": {
          "base_uri": "https://localhost:8080/"
        },
        "outputId": "b8d13ce2-8714-41ea-cd44-44cf4e243d79"
      },
      "source": [
        "ada.score(X_test, y_test)\r\n"
      ],
      "execution_count": null,
      "outputs": [
        {
          "output_type": "execute_result",
          "data": {
            "text/plain": [
              "0.46189632733441166"
            ]
          },
          "metadata": {
            "tags": []
          },
          "execution_count": 358
        }
      ]
    },
    {
      "cell_type": "markdown",
      "metadata": {
        "id": "oih8uwHYJCxH"
      },
      "source": [
        "# Distribución de predicciones"
      ]
    },
    {
      "cell_type": "code",
      "metadata": {
        "colab": {
          "base_uri": "https://localhost:8080/",
          "height": 636
        },
        "id": "nb6bXcM-hG4Z",
        "outputId": "dba9322a-a681-4100-a384-32da3496102c"
      },
      "source": [
        "plt.figure(figsize=(15,10))\r\n",
        "\r\n",
        "plt.plot(ereg_pred, 'r*', ms=8, label='Nombre del modelo')\r\n",
        "\r\n",
        "plt.tick_params(axis='x', which='both', bottom=False, top=False, labelbottom=False)\r\n",
        "plt.ylabel('Predicted', fontsize = 20)\r\n",
        "plt.xlabel('Training Samples', fontsize = 20)\r\n",
        "plt.legend(loc=\"best\")\r\n",
        "plt.title('Regressor predictions and their average', fontsize = 20)"
      ],
      "execution_count": null,
      "outputs": [
        {
          "output_type": "execute_result",
          "data": {
            "text/plain": [
              "Text(0.5, 1.0, 'Regressor predictions and their average')"
            ]
          },
          "metadata": {
            "tags": []
          },
          "execution_count": 367
        },
        {
          "output_type": "display_data",
          "data": {
            "image/png": "[encoded data removed]",
            "text/plain": [
              "<Figure size 1080x720 with 1 Axes>"
            ]
          },
          "metadata": {
            "tags": [],
            "needs_background": "light"
          }
        }
      ]
    },
    {
      "cell_type": "code",
      "metadata": {
        "id": "k5B6W3TSQsqp",
        "colab": {
          "base_uri": "https://localhost:8080/",
          "height": 653
        },
        "outputId": "51f06528-385a-4866-d126-26bfe503f53f"
      },
      "source": [
        "plt.figure(figsize=(15,10))\r\n",
        "plt.hist(ada_pred, bins=40)\r\n",
        "plt.ylabel('Quantity', fontsize = 20)\r\n",
        "plt.xlabel('Prediction', fontsize = 20)\r\n",
        "plt.title('AdaBoost Regressor', fontsize = 20)"
      ],
      "execution_count": null,
      "outputs": [
        {
          "output_type": "execute_result",
          "data": {
            "text/plain": [
              "Text(0.5, 1.0, 'AdaBoost Regressor')"
            ]
          },
          "metadata": {
            "tags": []
          },
          "execution_count": 368
        },
        {
          "output_type": "display_data",
          "data": {
            "image/png": "[encoded data removed]",
            "text/plain": [
              "<Figure size 1080x720 with 1 Axes>"
            ]
          },
          "metadata": {
            "tags": [],
            "needs_background": "light"
          }
        }
      ]
    },
    {
      "cell_type": "code",
      "metadata": {
        "id": "jfEIcUFQP1-q",
        "colab": {
          "base_uri": "https://localhost:8080/",
          "height": 297
        },
        "outputId": "aa9ac2f3-c841-418b-cc9d-7c453edbeebd"
      },
      "source": [
        "resultado = pd.DataFrame()\r\n",
        "resultado['Opportunity_ID'] = test['Opportunity_ID']\r\n",
        "resultado['target'] = ada_test\r\n",
        "resultado.sort_values('Opportunity_ID',inplace = True)\r\n",
        "resultado = resultado.drop_duplicates('Opportunity_ID',keep = 'last')\r\n",
        "resultado.set_index('Opportunity_ID', inplace = True)\r\n",
        "resultado.describe()"
      ],
      "execution_count": null,
      "outputs": [
        {
          "output_type": "execute_result",
          "data": {
            "text/html": [
              "<div>\n",
              "<style scoped>\n",
              "    .dataframe tbody tr th:only-of-type {\n",
              "        vertical-align: middle;\n",
              "    }\n",
              "\n",
              "    .dataframe tbody tr th {\n",
              "        vertical-align: top;\n",
              "    }\n",
              "\n",
              "    .dataframe thead th {\n",
              "        text-align: right;\n",
              "    }\n",
              "</style>\n",
              "<table border=\"1\" class=\"dataframe\">\n",
              "  <thead>\n",
              "    <tr style=\"text-align: right;\">\n",
              "      <th></th>\n",
              "      <th>target</th>\n",
              "    </tr>\n",
              "  </thead>\n",
              "  <tbody>\n",
              "    <tr>\n",
              "      <th>count</th>\n",
              "      <td>1567.000000</td>\n",
              "    </tr>\n",
              "    <tr>\n",
              "      <th>mean</th>\n",
              "      <td>0.522771</td>\n",
              "    </tr>\n",
              "    <tr>\n",
              "      <th>std</th>\n",
              "      <td>0.196581</td>\n",
              "    </tr>\n",
              "    <tr>\n",
              "      <th>min</th>\n",
              "      <td>-0.006538</td>\n",
              "    </tr>\n",
              "    <tr>\n",
              "      <th>25%</th>\n",
              "      <td>0.392410</td>\n",
              "    </tr>\n",
              "    <tr>\n",
              "      <th>50%</th>\n",
              "      <td>0.540745</td>\n",
              "    </tr>\n",
              "    <tr>\n",
              "      <th>75%</th>\n",
              "      <td>0.673328</td>\n",
              "    </tr>\n",
              "    <tr>\n",
              "      <th>max</th>\n",
              "      <td>0.959335</td>\n",
              "    </tr>\n",
              "  </tbody>\n",
              "</table>\n",
              "</div>"
            ],
            "text/plain": [
              "            target\n",
              "count  1567.000000\n",
              "mean      0.522771\n",
              "std       0.196581\n",
              "min      -0.006538\n",
              "25%       0.392410\n",
              "50%       0.540745\n",
              "75%       0.673328\n",
              "max       0.959335"
            ]
          },
          "metadata": {
            "tags": []
          },
          "execution_count": 363
        }
      ]
    },
    {
      "cell_type": "markdown",
      "metadata": {
        "id": "f0rYLC9JQMnG"
      },
      "source": [
        "# Arma csv de entrega"
      ]
    },
    {
      "cell_type": "code",
      "metadata": {
        "id": "QZ_PqfB5P33B"
      },
      "source": [
        "csv3 = resultado.to_csv('Ensamble_CB_XG.csv')\r\n",
        "#files.download('Ensamble_CB_XG.csv')"
      ],
      "execution_count": null,
      "outputs": []
    },
    {
      "cell_type": "code",
      "metadata": {
        "id": "23rZIvVMUL_-"
      },
      "source": [
        "ada_test = ada.predict(short_test)"
      ],
      "execution_count": null,
      "outputs": []
    }
  ]
}