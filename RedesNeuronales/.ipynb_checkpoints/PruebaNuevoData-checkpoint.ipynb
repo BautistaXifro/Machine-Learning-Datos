{
 "cells": [
  {
   "cell_type": "code",
   "execution_count": 245,
   "metadata": {},
   "outputs": [],
   "source": [
    "# Tratamiento de datos\n",
    "# ==============================================================================\n",
    "import numpy as np\n",
    "import pandas as pd\n",
    "import statsmodels.api as sm\n",
    "import math\n",
    "\n",
    "# Preprocesado y modelado\n",
    "# ==============================================================================\n",
    "from sklearn.datasets import load_boston\n",
    "from sklearn.ensemble import RandomForestClassifier\n",
    "from sklearn.metrics import accuracy_score\n",
    "from sklearn.metrics import confusion_matrix\n",
    "from sklearn.metrics import plot_confusion_matrix\n",
    "from sklearn.metrics import classification_report\n",
    "from sklearn.compose import ColumnTransformer\n",
    "from sklearn.preprocessing import OneHotEncoder\n",
    "from sklearn.model_selection import cross_val_score\n",
    "from sklearn.model_selection import train_test_split\n",
    "from sklearn.model_selection import RepeatedKFold\n",
    "from sklearn.model_selection import GridSearchCV\n",
    "from sklearn.model_selection import ParameterGrid\n",
    "from sklearn.inspection import permutation_importance\n",
    "import multiprocessing\n",
    "\n",
    "from sklearn.metrics import log_loss\n",
    "from sklearn.impute import SimpleImputer\n",
    "\n",
    "from sklearn.neural_network import MLPClassifier\n",
    "from sklearn.neural_network import MLPRegressor\n",
    "\n",
    "import pickle\n",
    "\n",
    "# Configuración warnings\n",
    "# ==============================================================================\n",
    "import warnings\n",
    "warnings.filterwarnings('ignore')"
   ]
  },
  {
   "cell_type": "code",
   "execution_count": 254,
   "metadata": {},
   "outputs": [
    {
     "data": {
      "text/html": [
       "<div>\n",
       "<style scoped>\n",
       "    .dataframe tbody tr th:only-of-type {\n",
       "        vertical-align: middle;\n",
       "    }\n",
       "\n",
       "    .dataframe tbody tr th {\n",
       "        vertical-align: top;\n",
       "    }\n",
       "\n",
       "    .dataframe thead th {\n",
       "        text-align: right;\n",
       "    }\n",
       "</style>\n",
       "<table border=\"1\" class=\"dataframe\">\n",
       "  <thead>\n",
       "    <tr style=\"text-align: right;\">\n",
       "      <th></th>\n",
       "      <th>Region</th>\n",
       "      <th>Total_Amount</th>\n",
       "      <th>TRF</th>\n",
       "      <th>Opportunity_Owner</th>\n",
       "      <th>Pricing, Delivery_Terms_Approved</th>\n",
       "      <th>Pricing, Delivery_Terms_Quote_Appr</th>\n",
       "      <th>Decision</th>\n",
       "      <th>Promedio_Region_Por_Quarter</th>\n",
       "      <th>Promedio_Owner_Por_Year_And_Quarter</th>\n",
       "      <th>Lag_1</th>\n",
       "      <th>Delta</th>\n",
       "    </tr>\n",
       "  </thead>\n",
       "  <tbody>\n",
       "    <tr>\n",
       "      <th>0</th>\n",
       "      <td>EMEA</td>\n",
       "      <td>10.940740</td>\n",
       "      <td>0</td>\n",
       "      <td>Other</td>\n",
       "      <td>0</td>\n",
       "      <td>0</td>\n",
       "      <td>1</td>\n",
       "      <td>13.892824</td>\n",
       "      <td>13.851341</td>\n",
       "      <td>NaN</td>\n",
       "      <td>16.188413</td>\n",
       "    </tr>\n",
       "    <tr>\n",
       "      <th>1</th>\n",
       "      <td>EMEA</td>\n",
       "      <td>11.739922</td>\n",
       "      <td>0</td>\n",
       "      <td>Other</td>\n",
       "      <td>0</td>\n",
       "      <td>0</td>\n",
       "      <td>0</td>\n",
       "      <td>13.892824</td>\n",
       "      <td>13.851341</td>\n",
       "      <td>NaN</td>\n",
       "      <td>16.188413</td>\n",
       "    </tr>\n",
       "    <tr>\n",
       "      <th>2</th>\n",
       "      <td>EMEA</td>\n",
       "      <td>11.247114</td>\n",
       "      <td>0</td>\n",
       "      <td>Other</td>\n",
       "      <td>0</td>\n",
       "      <td>0</td>\n",
       "      <td>1</td>\n",
       "      <td>13.892824</td>\n",
       "      <td>13.851341</td>\n",
       "      <td>NaN</td>\n",
       "      <td>16.188413</td>\n",
       "    </tr>\n",
       "    <tr>\n",
       "      <th>3</th>\n",
       "      <td>EMEA</td>\n",
       "      <td>12.568870</td>\n",
       "      <td>0</td>\n",
       "      <td>Other</td>\n",
       "      <td>0</td>\n",
       "      <td>0</td>\n",
       "      <td>1</td>\n",
       "      <td>13.892824</td>\n",
       "      <td>13.851341</td>\n",
       "      <td>NaN</td>\n",
       "      <td>16.188413</td>\n",
       "    </tr>\n",
       "    <tr>\n",
       "      <th>4</th>\n",
       "      <td>EMEA</td>\n",
       "      <td>12.414720</td>\n",
       "      <td>0</td>\n",
       "      <td>Other</td>\n",
       "      <td>0</td>\n",
       "      <td>0</td>\n",
       "      <td>1</td>\n",
       "      <td>13.892824</td>\n",
       "      <td>13.851341</td>\n",
       "      <td>NaN</td>\n",
       "      <td>16.188413</td>\n",
       "    </tr>\n",
       "    <tr>\n",
       "      <th>...</th>\n",
       "      <td>...</td>\n",
       "      <td>...</td>\n",
       "      <td>...</td>\n",
       "      <td>...</td>\n",
       "      <td>...</td>\n",
       "      <td>...</td>\n",
       "      <td>...</td>\n",
       "      <td>...</td>\n",
       "      <td>...</td>\n",
       "      <td>...</td>\n",
       "      <td>...</td>\n",
       "    </tr>\n",
       "    <tr>\n",
       "      <th>16767</th>\n",
       "      <td>Americas</td>\n",
       "      <td>14.477339</td>\n",
       "      <td>6</td>\n",
       "      <td>Person_Name_8</td>\n",
       "      <td>1</td>\n",
       "      <td>1</td>\n",
       "      <td>1</td>\n",
       "      <td>14.621714</td>\n",
       "      <td>16.483576</td>\n",
       "      <td>16.318135</td>\n",
       "      <td>16.291171</td>\n",
       "    </tr>\n",
       "    <tr>\n",
       "      <th>16768</th>\n",
       "      <td>Americas</td>\n",
       "      <td>14.033311</td>\n",
       "      <td>4</td>\n",
       "      <td>Person_Name_8</td>\n",
       "      <td>1</td>\n",
       "      <td>1</td>\n",
       "      <td>1</td>\n",
       "      <td>14.621714</td>\n",
       "      <td>16.483576</td>\n",
       "      <td>16.318135</td>\n",
       "      <td>16.291171</td>\n",
       "    </tr>\n",
       "    <tr>\n",
       "      <th>16769</th>\n",
       "      <td>Americas</td>\n",
       "      <td>14.477339</td>\n",
       "      <td>6</td>\n",
       "      <td>Person_Name_8</td>\n",
       "      <td>1</td>\n",
       "      <td>1</td>\n",
       "      <td>1</td>\n",
       "      <td>14.621714</td>\n",
       "      <td>16.483576</td>\n",
       "      <td>16.318135</td>\n",
       "      <td>16.291171</td>\n",
       "    </tr>\n",
       "    <tr>\n",
       "      <th>16770</th>\n",
       "      <td>Americas</td>\n",
       "      <td>18.017027</td>\n",
       "      <td>195</td>\n",
       "      <td>Person_Name_8</td>\n",
       "      <td>1</td>\n",
       "      <td>1</td>\n",
       "      <td>0</td>\n",
       "      <td>14.621714</td>\n",
       "      <td>16.483576</td>\n",
       "      <td>16.318135</td>\n",
       "      <td>16.291171</td>\n",
       "    </tr>\n",
       "    <tr>\n",
       "      <th>16771</th>\n",
       "      <td>Americas</td>\n",
       "      <td>18.342448</td>\n",
       "      <td>270</td>\n",
       "      <td>Person_Name_8</td>\n",
       "      <td>1</td>\n",
       "      <td>1</td>\n",
       "      <td>0</td>\n",
       "      <td>14.621714</td>\n",
       "      <td>16.483576</td>\n",
       "      <td>16.318135</td>\n",
       "      <td>16.291171</td>\n",
       "    </tr>\n",
       "  </tbody>\n",
       "</table>\n",
       "<p>16772 rows × 11 columns</p>\n",
       "</div>"
      ],
      "text/plain": [
       "         Region  Total_Amount  TRF Opportunity_Owner  \\\n",
       "0          EMEA     10.940740    0             Other   \n",
       "1          EMEA     11.739922    0             Other   \n",
       "2          EMEA     11.247114    0             Other   \n",
       "3          EMEA     12.568870    0             Other   \n",
       "4          EMEA     12.414720    0             Other   \n",
       "...         ...           ...  ...               ...   \n",
       "16767  Americas     14.477339    6     Person_Name_8   \n",
       "16768  Americas     14.033311    4     Person_Name_8   \n",
       "16769  Americas     14.477339    6     Person_Name_8   \n",
       "16770  Americas     18.017027  195     Person_Name_8   \n",
       "16771  Americas     18.342448  270     Person_Name_8   \n",
       "\n",
       "       Pricing, Delivery_Terms_Approved  Pricing, Delivery_Terms_Quote_Appr  \\\n",
       "0                                     0                                   0   \n",
       "1                                     0                                   0   \n",
       "2                                     0                                   0   \n",
       "3                                     0                                   0   \n",
       "4                                     0                                   0   \n",
       "...                                 ...                                 ...   \n",
       "16767                                 1                                   1   \n",
       "16768                                 1                                   1   \n",
       "16769                                 1                                   1   \n",
       "16770                                 1                                   1   \n",
       "16771                                 1                                   1   \n",
       "\n",
       "       Decision  Promedio_Region_Por_Quarter  \\\n",
       "0             1                    13.892824   \n",
       "1             0                    13.892824   \n",
       "2             1                    13.892824   \n",
       "3             1                    13.892824   \n",
       "4             1                    13.892824   \n",
       "...         ...                          ...   \n",
       "16767         1                    14.621714   \n",
       "16768         1                    14.621714   \n",
       "16769         1                    14.621714   \n",
       "16770         0                    14.621714   \n",
       "16771         0                    14.621714   \n",
       "\n",
       "       Promedio_Owner_Por_Year_And_Quarter      Lag_1      Delta  \n",
       "0                                13.851341        NaN  16.188413  \n",
       "1                                13.851341        NaN  16.188413  \n",
       "2                                13.851341        NaN  16.188413  \n",
       "3                                13.851341        NaN  16.188413  \n",
       "4                                13.851341        NaN  16.188413  \n",
       "...                                    ...        ...        ...  \n",
       "16767                            16.483576  16.318135  16.291171  \n",
       "16768                            16.483576  16.318135  16.291171  \n",
       "16769                            16.483576  16.318135  16.291171  \n",
       "16770                            16.483576  16.318135  16.291171  \n",
       "16771                            16.483576  16.318135  16.291171  \n",
       "\n",
       "[16772 rows x 11 columns]"
      ]
     },
     "execution_count": 254,
     "metadata": {},
     "output_type": "execute_result"
    }
   ],
   "source": [
    "df = pd.read_csv( \"/home/bautista/Datos/Machine-Learning-Datos/FeatureEngineering/df_time_series.csv\" )\n",
    "df = df.drop(columns = {'Unnamed: 0', 'Delivery_Year', 'Delivery_Quarter'})\n",
    "df"
   ]
  },
  {
   "cell_type": "code",
   "execution_count": 253,
   "metadata": {},
   "outputs": [],
   "source": [
    "df = df.fillna(0)"
   ]
  },
  {
   "cell_type": "code",
   "execution_count": null,
   "metadata": {},
   "outputs": [],
   "source": [
    "df"
   ]
  },
  {
   "cell_type": "markdown",
   "metadata": {},
   "source": [
    "# Encode"
   ]
  },
  {
   "cell_type": "code",
   "execution_count": null,
   "metadata": {},
   "outputs": [],
   "source": [
    "Mean_encoded_subject_region = df.groupby(['Region'])['Decision'].mean().to_dict() \n",
    "\n",
    "df['Region'] =  df['Region'].map(Mean_encoded_subject_region)\n",
    "\n",
    "#Mean_encoded_subject_quarter = df.groupby(['Delivery_Quarter'])['Decision'].mean().to_dict() \n",
    "\n",
    "#df['Delivery_Quarter'] =  df['Delivery_Quarter'].map(Mean_encoded_subject_quarter)\n",
    "\n",
    "Mean_encoded_subject_owner = df.groupby(['Opportunity_Owner'])['Decision'].mean().to_dict() \n",
    "\n",
    "df['Opportunity_Owner'] =  df['Opportunity_Owner'].map(Mean_encoded_subject_owner)"
   ]
  },
  {
   "cell_type": "markdown",
   "metadata": {},
   "source": [
    "# Split"
   ]
  },
  {
   "cell_type": "code",
   "execution_count": null,
   "metadata": {},
   "outputs": [],
   "source": [
    "X_test = df.tail(math.floor(df.shape[0]*0.20)).drop(columns = {'Decision'})\n",
    "y_test = df.tail(math.floor(df.shape[0]*0.20))['Decision']\n",
    "X_train = df.head(round(df.shape[0]*0.80)).drop(columns = {'Decision'})\n",
    "y_train = df.head(round(df.shape[0]*0.80))['Decision']\n",
    "X_train"
   ]
  },
  {
   "cell_type": "markdown",
   "metadata": {},
   "source": [
    "# Regresion"
   ]
  },
  {
   "cell_type": "code",
   "execution_count": null,
   "metadata": {},
   "outputs": [],
   "source": [
    "import sklearn as sk\n",
    "import sklearn.neural_network\n",
    "\n",
    "\n",
    "lr = 0.01           # learning rate\n",
    "nn = [2, 16, 8, 1]  # número de neuronas por capa.\n",
    "\n",
    "# Creamos el objeto del modelo de red neuronal multicapa.\n",
    "modelRegresor = sk.neural_network.MLPRegressor(solver='adam', \n",
    "                                     activation = 'relu',\n",
    "                                     learning_rate_init=lr,\n",
    "                                     hidden_layer_sizes=tuple(nn[1:]),\n",
    "                                     verbose=True,\n",
    "                                     n_iter_no_change=1000,\n",
    "                                     batch_size = 64)"
   ]
  },
  {
   "cell_type": "code",
   "execution_count": null,
   "metadata": {},
   "outputs": [],
   "source": [
    "modelRegresor.fit(X_train, y_train)"
   ]
  },
  {
   "cell_type": "code",
   "execution_count": null,
   "metadata": {},
   "outputs": [],
   "source": [
    "LinReg_pred = modelRegresor.predict(X_test)"
   ]
  },
  {
   "cell_type": "code",
   "execution_count": null,
   "metadata": {
    "scrolled": true
   },
   "outputs": [],
   "source": [
    "probando = pd.DataFrame()\n",
    "probando['target'] = LinReg_pred\n",
    "probando.describe()"
   ]
  },
  {
   "cell_type": "code",
   "execution_count": null,
   "metadata": {},
   "outputs": [],
   "source": [
    "modelRegresor.score(X_test, y_test)"
   ]
  },
  {
   "cell_type": "code",
   "execution_count": null,
   "metadata": {},
   "outputs": [],
   "source": [
    "loss = log_loss(y_test  , LinReg_pred)\n",
    "print(f\"Log loss is {loss}\")"
   ]
  },
  {
   "cell_type": "code",
   "execution_count": null,
   "metadata": {},
   "outputs": [],
   "source": [
    "#pickle.dump(modelRegresor, open('modeloRegresorRN.p', 'wb'))"
   ]
  },
  {
   "cell_type": "markdown",
   "metadata": {},
   "source": [
    "# Kaggle"
   ]
  },
  {
   "cell_type": "code",
   "execution_count": null,
   "metadata": {},
   "outputs": [],
   "source": [
    "DataFrame_test = pd.read_csv( \"/home/bautista/Datos/Machine-Learning-Datos/FeatureEngineering/df_time_series_test.csv\" )\n",
    "DataFrame_test"
   ]
  },
  {
   "cell_type": "code",
   "execution_count": null,
   "metadata": {},
   "outputs": [],
   "source": [
    "subir = pd.DataFrame()\n",
    "subir['Opportunity_ID'] = DataFrame_test['Opportunity_ID']\n",
    "DataFrame_test = DataFrame_test.drop(columns = {'Opportunity_ID', 'Unnamed: 0','Delivery_Year', 'Delivery_Quarter'}).fillna(0)\n",
    "DataFrame_test"
   ]
  },
  {
   "cell_type": "markdown",
   "metadata": {},
   "source": [
    "# Encoding"
   ]
  },
  {
   "cell_type": "code",
   "execution_count": null,
   "metadata": {},
   "outputs": [],
   "source": [
    "DataFrame_test['Region'] =  DataFrame_test['Region'].map(Mean_encoded_subject_region) \n",
    "\n",
    "#DataFrame_test['Delivery_Quarter'] =  DataFrame_test['Delivery_Quarter'].map(Mean_encoded_subject_quarter)\n",
    "\n",
    "DataFrame_test['Opportunity_Owner'] =  DataFrame_test['Opportunity_Owner'].map(Mean_encoded_subject_owner)\n",
    "DataFrame_test = DataFrame_test.fillna(0.406068)"
   ]
  },
  {
   "cell_type": "code",
   "execution_count": null,
   "metadata": {},
   "outputs": [],
   "source": [
    "DataFrame_test.isnull().sum()"
   ]
  },
  {
   "cell_type": "markdown",
   "metadata": {},
   "source": [
    "# Prediction"
   ]
  },
  {
   "cell_type": "code",
   "execution_count": null,
   "metadata": {},
   "outputs": [],
   "source": [
    "pred_posta = modelRegresor.predict(DataFrame_test)"
   ]
  },
  {
   "cell_type": "code",
   "execution_count": null,
   "metadata": {},
   "outputs": [],
   "source": [
    "subir['target'] = pred_posta\n",
    "subir.set_index('Opportunity_ID', inplace = True)\n",
    "subir"
   ]
  },
  {
   "cell_type": "code",
   "execution_count": null,
   "metadata": {
    "scrolled": true
   },
   "outputs": [],
   "source": [
    "subir.describe()"
   ]
  },
  {
   "cell_type": "code",
   "execution_count": null,
   "metadata": {},
   "outputs": [],
   "source": [
    "subir.to_csv('RedesNeuronales_Entrega_7.csv')"
   ]
  },
  {
   "cell_type": "code",
   "execution_count": null,
   "metadata": {},
   "outputs": [],
   "source": []
  }
 ],
 "metadata": {
  "kernelspec": {
   "display_name": "Python 3",
   "language": "python",
   "name": "python3"
  },
  "language_info": {
   "codemirror_mode": {
    "name": "ipython",
    "version": 3
   },
   "file_extension": ".py",
   "mimetype": "text/x-python",
   "name": "python",
   "nbconvert_exporter": "python",
   "pygments_lexer": "ipython3",
   "version": "3.8.3"
  }
 },
 "nbformat": 4,
 "nbformat_minor": 4
}
