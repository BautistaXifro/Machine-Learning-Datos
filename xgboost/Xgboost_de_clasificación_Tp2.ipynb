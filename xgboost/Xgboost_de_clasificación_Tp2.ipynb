{
  "nbformat": 4,
  "nbformat_minor": 0,
  "metadata": {
    "colab": {
      "name": "Xgboost de clasificación Tp2",
      "provenance": [],
      "toc_visible": true
    },
    "kernelspec": {
      "name": "python3",
      "display_name": "Python 3"
    }
  },
  "cells": [
    {
      "cell_type": "code",
      "metadata": {
        "id": "NdpUTv-deTHq"
      },
      "source": [
        "# Tratamiento de datos\r\n",
        "# ==============================================================================\r\n",
        "import numpy as np\r\n",
        "import pandas as pd\r\n",
        "# Gráficos\r\n",
        "# ==============================================================================\r\n",
        "import matplotlib.pyplot as plt\r\n",
        "from matplotlib import style\r\n",
        "import matplotlib.ticker as ticker\r\n",
        "import seaborn as sns\r\n",
        "# Preprocesado y modelado\r\n",
        "# ==============================================================================\r\n",
        "import xgboost as xgb\r\n",
        "from xgboost import XGBClassifier\r\n",
        "from sklearn.model_selection import train_test_split\r\n",
        "from sklearn.metrics import mean_squared_error\r\n",
        "from sklearn.model_selection import GridSearchCV\r\n",
        "from sklearn.metrics import accuracy_score\r\n",
        "from sklearn.preprocessing import OneHotEncoder\r\n",
        "import matplotlib.pyplot as plt\r\n",
        "from google.colab import files"
      ],
      "execution_count": 1065,
      "outputs": []
    },
    {
      "cell_type": "code",
      "metadata": {
        "id": "GB0w3w7gucKT"
      },
      "source": [
        "# Configuración matplotlib\r\n",
        "# ==============================================================================\r\n",
        "plt.rcParams['image.cmap'] = \"bwr\"\r\n",
        "plt.rcParams['figure.dpi'] = \"100\"\r\n",
        "plt.rcParams['savefig.bbox'] = \"tight\"\r\n",
        "style.use('ggplot') or plt.style.use('ggplot')\r\n",
        "\r\n",
        "# Configuración warnings\r\n",
        "# ==============================================================================\r\n",
        "import warnings\r\n",
        "warnings.filterwarnings('ignore')"
      ],
      "execution_count": 1066,
      "outputs": []
    },
    {
      "cell_type": "markdown",
      "metadata": {
        "id": "HvSh2mr98PgU"
      },
      "source": [
        "#Entrenamiento"
      ]
    },
    {
      "cell_type": "markdown",
      "metadata": {
        "id": "owllmxLJLU_6"
      },
      "source": [
        "\r\n",
        "## Hiper-parámetros\r\n"
      ]
    },
    {
      "cell_type": "markdown",
      "metadata": {
        "id": "5dN06qr7Ldfl"
      },
      "source": [
        "* **learning_rate:** tasa de aprendizaje\r\n",
        "* **max_depth:** máxima profundidad de cada árbol\r\n",
        "* **subsample:** porcentaje de muestras usadas para cada árbol (valor muy bajo, posible underfitting)\r\n",
        "* **colsample_bytree:** porcentaje de features usadas para cada árbol (valores muy alto, posible overfitting)\r\n",
        "* **n_estimators:** cantidad de árboles a construir.\r\n",
        "* **objective:** función de error a utilizar (algunas: reg:squarederror para regresión, reg:logistic o binary:logistic para clasificación)\r\n",
        "\r\n",
        "Parámetros de regularización:\r\n",
        "\r\n",
        "* **gamma:** umbral para hacer split basado en la reducción de error de hacer el nuevo split.\r\n",
        "* **alpha:** regularización para los pesos de las hojas. Un valor más alto genera una mayor regularización.\r\n",
        "* **lambda:** similar alpha pero para la sintonia fina."
      ]
    },
    {
      "cell_type": "markdown",
      "metadata": {
        "id": "Aek-jUJwtZ6V"
      },
      "source": [
        "**xgboost en python**\r\n",
        "\r\n",
        "import xgboost as xgb\r\n",
        "\r\n",
        "**read in data**\r\n",
        "\r\n",
        "dtrain = xgb.DMatrix('demo/data/agaricus.txt.train')\r\n",
        "dtest = xgb.DMatrix('demo/data/agaricus.txt.test')\r\n",
        "\r\n",
        "**specify parameters via map**\r\n",
        "\r\n",
        "param = {'max_depth':2, 'eta':1, 'objective':'binary:logistic' }\r\n",
        "num_round = 2\r\n",
        "bst = xgb.train(param, dtrain, num_round)\r\n",
        "\r\n",
        "**make prediction**\r\n",
        "preds = bst.predict(dtest)"
      ]
    },
    {
      "cell_type": "markdown",
      "metadata": {
        "id": "OoRYqe41tJd7"
      },
      "source": [
        "## Importando DF y observando datos"
      ]
    },
    {
      "cell_type": "code",
      "metadata": {
        "id": "6Cs_tMU-eYWq"
      },
      "source": [
        "DataFrame = pd.read_csv('/content/drive/MyDrive/Colab Notebooks/Archivos para leer /Tp2/Train_TP2_Datos_2020-2C.csv')"
      ],
      "execution_count": 1067,
      "outputs": []
    },
    {
      "cell_type": "code",
      "metadata": {
        "id": "8y-NDV34pxd8",
        "colab": {
          "base_uri": "https://localhost:8080/",
          "height": 326
        },
        "outputId": "600271e3-6951-461f-9f83-faddcfee4d52"
      },
      "source": [
        "DataFrame.head()"
      ],
      "execution_count": 1068,
      "outputs": [
        {
          "output_type": "execute_result",
          "data": {
            "text/html": [
              "<div>\n",
              "<style scoped>\n",
              "    .dataframe tbody tr th:only-of-type {\n",
              "        vertical-align: middle;\n",
              "    }\n",
              "\n",
              "    .dataframe tbody tr th {\n",
              "        vertical-align: top;\n",
              "    }\n",
              "\n",
              "    .dataframe thead th {\n",
              "        text-align: right;\n",
              "    }\n",
              "</style>\n",
              "<table border=\"1\" class=\"dataframe\">\n",
              "  <thead>\n",
              "    <tr style=\"text-align: right;\">\n",
              "      <th></th>\n",
              "      <th>ID</th>\n",
              "      <th>Region</th>\n",
              "      <th>Territory</th>\n",
              "      <th>Pricing, Delivery_Terms_Quote_Appr</th>\n",
              "      <th>Pricing, Delivery_Terms_Approved</th>\n",
              "      <th>Bureaucratic_Code_0_Approval</th>\n",
              "      <th>Bureaucratic_Code_0_Approved</th>\n",
              "      <th>Submitted_for_Approval</th>\n",
              "      <th>Bureaucratic_Code</th>\n",
              "      <th>Account_Created_Date</th>\n",
              "      <th>Source</th>\n",
              "      <th>Billing_Country</th>\n",
              "      <th>Account_Name</th>\n",
              "      <th>Opportunity_Name</th>\n",
              "      <th>Opportunity_ID</th>\n",
              "      <th>Sales_Contract_No</th>\n",
              "      <th>Account_Owner</th>\n",
              "      <th>Opportunity_Owner</th>\n",
              "      <th>Account_Type</th>\n",
              "      <th>Opportunity_Type</th>\n",
              "      <th>Quote_Type</th>\n",
              "      <th>Delivery_Terms</th>\n",
              "      <th>Opportunity_Created_Date</th>\n",
              "      <th>Brand</th>\n",
              "      <th>Product_Type</th>\n",
              "      <th>Size</th>\n",
              "      <th>Product_Category_B</th>\n",
              "      <th>Price</th>\n",
              "      <th>Currency</th>\n",
              "      <th>Last_Activity</th>\n",
              "      <th>Quote_Expiry_Date</th>\n",
              "      <th>Last_Modified_Date</th>\n",
              "      <th>Last_Modified_By</th>\n",
              "      <th>Product_Family</th>\n",
              "      <th>Product_Name</th>\n",
              "      <th>ASP_Currency</th>\n",
              "      <th>ASP</th>\n",
              "      <th>ASP_(converted)_Currency</th>\n",
              "      <th>ASP_(converted)</th>\n",
              "      <th>Planned_Delivery_Start_Date</th>\n",
              "      <th>Planned_Delivery_End_Date</th>\n",
              "      <th>Month</th>\n",
              "      <th>Delivery_Quarter</th>\n",
              "      <th>Delivery_Year</th>\n",
              "      <th>Actual_Delivery_Date</th>\n",
              "      <th>TRF</th>\n",
              "      <th>Total_Amount_Currency</th>\n",
              "      <th>Total_Amount</th>\n",
              "      <th>Total_Taxable_Amount_Currency</th>\n",
              "      <th>Total_Taxable_Amount</th>\n",
              "      <th>Stage</th>\n",
              "      <th>Prod_Category_A</th>\n",
              "    </tr>\n",
              "  </thead>\n",
              "  <tbody>\n",
              "    <tr>\n",
              "      <th>0</th>\n",
              "      <td>27761</td>\n",
              "      <td>EMEA</td>\n",
              "      <td>None</td>\n",
              "      <td>1</td>\n",
              "      <td>1</td>\n",
              "      <td>1</td>\n",
              "      <td>1</td>\n",
              "      <td>0</td>\n",
              "      <td>Bureaucratic_Code_4</td>\n",
              "      <td>6/16/2015</td>\n",
              "      <td>None</td>\n",
              "      <td>Netherlands</td>\n",
              "      <td>Account_Name_619</td>\n",
              "      <td>Opportunity_Name_12598</td>\n",
              "      <td>0</td>\n",
              "      <td>None</td>\n",
              "      <td>Person_Name_51</td>\n",
              "      <td>Person_Name_18</td>\n",
              "      <td>Account_Type_2</td>\n",
              "      <td>Opportunity_Type_1</td>\n",
              "      <td>Non Binding</td>\n",
              "      <td>Delivery_Terms_2</td>\n",
              "      <td>12/7/2015</td>\n",
              "      <td>None</td>\n",
              "      <td>None</td>\n",
              "      <td>None</td>\n",
              "      <td>None</td>\n",
              "      <td>None</td>\n",
              "      <td>None</td>\n",
              "      <td>NaT</td>\n",
              "      <td>1/30/2016</td>\n",
              "      <td>6/13/2016</td>\n",
              "      <td>Person_Name_18</td>\n",
              "      <td>Product_Family_77</td>\n",
              "      <td>Product_Name_99</td>\n",
              "      <td>EUR</td>\n",
              "      <td>0.52</td>\n",
              "      <td>USD</td>\n",
              "      <td>0.58817</td>\n",
              "      <td>5/1/2016</td>\n",
              "      <td>6/30/2016</td>\n",
              "      <td>2016 - 5</td>\n",
              "      <td>Q2</td>\n",
              "      <td>2016</td>\n",
              "      <td>NaT</td>\n",
              "      <td>10</td>\n",
              "      <td>EUR</td>\n",
              "      <td>5272800.0</td>\n",
              "      <td>EUR</td>\n",
              "      <td>5272800.0</td>\n",
              "      <td>Closed Lost</td>\n",
              "      <td>Prod_Category_A_None</td>\n",
              "    </tr>\n",
              "    <tr>\n",
              "      <th>1</th>\n",
              "      <td>27760</td>\n",
              "      <td>EMEA</td>\n",
              "      <td>None</td>\n",
              "      <td>0</td>\n",
              "      <td>0</td>\n",
              "      <td>0</td>\n",
              "      <td>0</td>\n",
              "      <td>0</td>\n",
              "      <td>Bureaucratic_Code_4</td>\n",
              "      <td>6/16/2015</td>\n",
              "      <td>None</td>\n",
              "      <td>Netherlands</td>\n",
              "      <td>Account_Name_619</td>\n",
              "      <td>Opportunity_Name_12600</td>\n",
              "      <td>1</td>\n",
              "      <td>39</td>\n",
              "      <td>Person_Name_51</td>\n",
              "      <td>Person_Name_20</td>\n",
              "      <td>Account_Type_2</td>\n",
              "      <td>Opportunity_Type_1</td>\n",
              "      <td>Non Binding</td>\n",
              "      <td>Delivery_Terms_2</td>\n",
              "      <td>12/7/2015</td>\n",
              "      <td>None</td>\n",
              "      <td>None</td>\n",
              "      <td>None</td>\n",
              "      <td>None</td>\n",
              "      <td>None</td>\n",
              "      <td>None</td>\n",
              "      <td>NaT</td>\n",
              "      <td>1/20/2016</td>\n",
              "      <td>1/15/2016</td>\n",
              "      <td>Person_Name_20</td>\n",
              "      <td>Product_Family_77</td>\n",
              "      <td>Product_Name_100</td>\n",
              "      <td>EUR</td>\n",
              "      <td>0.53</td>\n",
              "      <td>USD</td>\n",
              "      <td>0.59948</td>\n",
              "      <td>1/18/2016</td>\n",
              "      <td>1/20/2016</td>\n",
              "      <td>2016 - 1</td>\n",
              "      <td>Q1</td>\n",
              "      <td>2016</td>\n",
              "      <td>NaT</td>\n",
              "      <td>0</td>\n",
              "      <td>EUR</td>\n",
              "      <td>48230.0</td>\n",
              "      <td>EUR</td>\n",
              "      <td>48230.0</td>\n",
              "      <td>Closed Won</td>\n",
              "      <td>Prod_Category_A_None</td>\n",
              "    </tr>\n",
              "    <tr>\n",
              "      <th>2</th>\n",
              "      <td>27446</td>\n",
              "      <td>Americas</td>\n",
              "      <td>NW America</td>\n",
              "      <td>0</td>\n",
              "      <td>0</td>\n",
              "      <td>0</td>\n",
              "      <td>0</td>\n",
              "      <td>0</td>\n",
              "      <td>Bureaucratic_Code_4</td>\n",
              "      <td>4/21/2015</td>\n",
              "      <td>Source_7</td>\n",
              "      <td>United States</td>\n",
              "      <td>Account_Name_1794</td>\n",
              "      <td>Opportunity_Name_469</td>\n",
              "      <td>2</td>\n",
              "      <td>760</td>\n",
              "      <td>Person_Name_64</td>\n",
              "      <td>Person_Name_8</td>\n",
              "      <td>Account_Type_5</td>\n",
              "      <td>Opportunity_Type_1</td>\n",
              "      <td>Non Binding</td>\n",
              "      <td>Delivery_Terms_4</td>\n",
              "      <td>12/8/2015</td>\n",
              "      <td>None</td>\n",
              "      <td>None</td>\n",
              "      <td>None</td>\n",
              "      <td>None</td>\n",
              "      <td>None</td>\n",
              "      <td>None</td>\n",
              "      <td>NaT</td>\n",
              "      <td>9/30/2016</td>\n",
              "      <td>9/29/2016</td>\n",
              "      <td>Person_Name_8</td>\n",
              "      <td>Product_Family_81</td>\n",
              "      <td>Product_Name_91</td>\n",
              "      <td>USD</td>\n",
              "      <td>0.48</td>\n",
              "      <td>USD</td>\n",
              "      <td>0.48000</td>\n",
              "      <td>1/25/2016</td>\n",
              "      <td>1/25/2016</td>\n",
              "      <td>2016 - 1</td>\n",
              "      <td>Q1</td>\n",
              "      <td>2016</td>\n",
              "      <td>NaT</td>\n",
              "      <td>0</td>\n",
              "      <td>USD</td>\n",
              "      <td>83865.6</td>\n",
              "      <td>USD</td>\n",
              "      <td>83865.6</td>\n",
              "      <td>Closed Won</td>\n",
              "      <td>Prod_Category_A_None</td>\n",
              "    </tr>\n",
              "    <tr>\n",
              "      <th>3</th>\n",
              "      <td>16808</td>\n",
              "      <td>Americas</td>\n",
              "      <td>NW America</td>\n",
              "      <td>1</td>\n",
              "      <td>0</td>\n",
              "      <td>1</td>\n",
              "      <td>0</td>\n",
              "      <td>0</td>\n",
              "      <td>Bureaucratic_Code_5</td>\n",
              "      <td>7/27/2013</td>\n",
              "      <td>Source_11</td>\n",
              "      <td>United States</td>\n",
              "      <td>Account_Name_1201</td>\n",
              "      <td>Opportunity_Name_415</td>\n",
              "      <td>3</td>\n",
              "      <td>None</td>\n",
              "      <td>Person_Name_8</td>\n",
              "      <td>Person_Name_8</td>\n",
              "      <td>Account_Type_5</td>\n",
              "      <td>Opportunity_Type_19</td>\n",
              "      <td>Non Binding</td>\n",
              "      <td>Delivery_Terms_1</td>\n",
              "      <td>12/8/2015</td>\n",
              "      <td>Other</td>\n",
              "      <td>Product_Type_0</td>\n",
              "      <td>Size_4</td>\n",
              "      <td>Product_Category_B_16</td>\n",
              "      <td>0.42</td>\n",
              "      <td>USD</td>\n",
              "      <td>NaT</td>\n",
              "      <td>NaT</td>\n",
              "      <td>3/27/2018</td>\n",
              "      <td>Person_Name_8</td>\n",
              "      <td>Product_Family_209</td>\n",
              "      <td>Product_Name_432</td>\n",
              "      <td>USD</td>\n",
              "      <td>0.53</td>\n",
              "      <td>USD</td>\n",
              "      <td>0.53000</td>\n",
              "      <td>2/1/2018</td>\n",
              "      <td>3/31/2018</td>\n",
              "      <td>2018 - 2</td>\n",
              "      <td>Q1</td>\n",
              "      <td>2018</td>\n",
              "      <td>NaT</td>\n",
              "      <td>14</td>\n",
              "      <td>USD</td>\n",
              "      <td>7421881.5</td>\n",
              "      <td>USD</td>\n",
              "      <td>7421881.5</td>\n",
              "      <td>Closed Lost</td>\n",
              "      <td>Prod_Category_A_None</td>\n",
              "    </tr>\n",
              "    <tr>\n",
              "      <th>4</th>\n",
              "      <td>16805</td>\n",
              "      <td>Americas</td>\n",
              "      <td>NW America</td>\n",
              "      <td>1</td>\n",
              "      <td>0</td>\n",
              "      <td>1</td>\n",
              "      <td>0</td>\n",
              "      <td>0</td>\n",
              "      <td>Bureaucratic_Code_5</td>\n",
              "      <td>7/27/2013</td>\n",
              "      <td>Source_11</td>\n",
              "      <td>United States</td>\n",
              "      <td>Account_Name_1201</td>\n",
              "      <td>Opportunity_Name_851</td>\n",
              "      <td>4</td>\n",
              "      <td>None</td>\n",
              "      <td>Person_Name_8</td>\n",
              "      <td>Person_Name_8</td>\n",
              "      <td>Account_Type_5</td>\n",
              "      <td>Opportunity_Type_19</td>\n",
              "      <td>Non Binding</td>\n",
              "      <td>Delivery_Terms_1</td>\n",
              "      <td>12/8/2015</td>\n",
              "      <td>Other</td>\n",
              "      <td>Product_Type_0</td>\n",
              "      <td>Size_4</td>\n",
              "      <td>Product_Category_B_16</td>\n",
              "      <td>0.42</td>\n",
              "      <td>USD</td>\n",
              "      <td>NaT</td>\n",
              "      <td>6/2/2017</td>\n",
              "      <td>3/27/2018</td>\n",
              "      <td>Person_Name_8</td>\n",
              "      <td>Product_Family_209</td>\n",
              "      <td>Product_Name_432</td>\n",
              "      <td>USD</td>\n",
              "      <td>0.53</td>\n",
              "      <td>USD</td>\n",
              "      <td>0.53000</td>\n",
              "      <td>2/1/2018</td>\n",
              "      <td>2/28/2018</td>\n",
              "      <td>2018 - 2</td>\n",
              "      <td>Q1</td>\n",
              "      <td>2018</td>\n",
              "      <td>NaT</td>\n",
              "      <td>25</td>\n",
              "      <td>USD</td>\n",
              "      <td>13357192.5</td>\n",
              "      <td>USD</td>\n",
              "      <td>13357192.5</td>\n",
              "      <td>Closed Lost</td>\n",
              "      <td>Prod_Category_A_None</td>\n",
              "    </tr>\n",
              "  </tbody>\n",
              "</table>\n",
              "</div>"
            ],
            "text/plain": [
              "      ID    Region  ...        Stage       Prod_Category_A\n",
              "0  27761      EMEA  ...  Closed Lost  Prod_Category_A_None\n",
              "1  27760      EMEA  ...   Closed Won  Prod_Category_A_None\n",
              "2  27446  Americas  ...   Closed Won  Prod_Category_A_None\n",
              "3  16808  Americas  ...  Closed Lost  Prod_Category_A_None\n",
              "4  16805  Americas  ...  Closed Lost  Prod_Category_A_None\n",
              "\n",
              "[5 rows x 52 columns]"
            ]
          },
          "metadata": {
            "tags": []
          },
          "execution_count": 1068
        }
      ]
    },
    {
      "cell_type": "code",
      "metadata": {
        "colab": {
          "base_uri": "https://localhost:8080/"
        },
        "id": "Hj4tbIaf0KA0",
        "outputId": "d3236969-9ef3-44fc-d78f-987f6f1ba5fc"
      },
      "source": [
        "DataFrame.shape"
      ],
      "execution_count": 1069,
      "outputs": [
        {
          "output_type": "execute_result",
          "data": {
            "text/plain": [
              "(16947, 52)"
            ]
          },
          "metadata": {
            "tags": []
          },
          "execution_count": 1069
        }
      ]
    },
    {
      "cell_type": "markdown",
      "metadata": {
        "id": "_q3Bpn8UtNYD"
      },
      "source": [
        "## "
      ]
    },
    {
      "cell_type": "code",
      "metadata": {
        "colab": {
          "base_uri": "https://localhost:8080/"
        },
        "id": "eeQRr32FKlB1",
        "outputId": "d2fe3029-a54b-4417-c84d-9c2a83e11ded"
      },
      "source": [
        "DataFrame['Delivery_Year'].value_counts()"
      ],
      "execution_count": 1070,
      "outputs": [
        {
          "output_type": "execute_result",
          "data": {
            "text/plain": [
              "2017    6318\n",
              "2018    5830\n",
              "2016    4371\n",
              "2019     414\n",
              "2020      14\n",
              "Name: Delivery_Year, dtype: int64"
            ]
          },
          "metadata": {
            "tags": []
          },
          "execution_count": 1070
        }
      ]
    },
    {
      "cell_type": "code",
      "metadata": {
        "colab": {
          "base_uri": "https://localhost:8080/"
        },
        "id": "TpC-irRVX_9_",
        "outputId": "8fc0085b-c1f0-4d4c-b889-dd39bab223dc"
      },
      "source": [
        "DataFrame[['Delivery_Year', 'Delivery_Quarter']][DataFrame['Delivery_Year'] == 2018]['Delivery_Quarter'].value_counts()"
      ],
      "execution_count": 1071,
      "outputs": [
        {
          "output_type": "execute_result",
          "data": {
            "text/plain": [
              "Q2    1582\n",
              "Q4    1435\n",
              "Q1    1431\n",
              "Q3    1382\n",
              "Name: Delivery_Quarter, dtype: int64"
            ]
          },
          "metadata": {
            "tags": []
          },
          "execution_count": 1071
        }
      ]
    },
    {
      "cell_type": "markdown",
      "metadata": {
        "id": "9ZId9SSyYD_9"
      },
      "source": [
        "## **Conversion a dolar y promedio de valores**\r\n",
        "\r\n",
        "(Fijarse si aplicar  conversion de log a los valores porque hay muchos altos y muchos bajos, hay gran dif) y (esto hay que hacerlo dsp de filtrar porque estamos usando datos que a lo mejor ni nos pintan )"
      ]
    },
    {
      "cell_type": "code",
      "metadata": {
        "id": "6PdEj1YwYBcq"
      },
      "source": [
        "DataFrame.loc[DataFrame['Total_Amount_Currency'] == 'JPY', 'Total_Amount'] = DataFrame['Total_Amount']*0.0096\r\n",
        "DataFrame.loc[DataFrame['Total_Amount_Currency'] == 'JPY', 'Total_Amount_Currency'] = 'USD'\r\n",
        "\r\n",
        "DataFrame.loc[DataFrame['Total_Amount_Currency'] == 'EUR', 'Total_Amount'] = DataFrame['Total_Amount']*1.17\r\n",
        "DataFrame.loc[DataFrame['Total_Amount_Currency'] == 'EUR', 'Total_Amount_Currency'] = 'USD'\r\n",
        "\r\n",
        "DataFrame.loc[DataFrame['Total_Amount_Currency'] == 'AUD', 'Total_Amount'] = DataFrame['Total_Amount']*0.70\r\n",
        "DataFrame.loc[DataFrame['Total_Amount_Currency'] == 'AUD', 'Total_Amount_Currency'] = 'USD'\r\n",
        "\r\n",
        "DataFrame.loc[DataFrame['Total_Amount_Currency'] == 'GBP', 'Total_Amount'] = DataFrame['Total_Amount']*1.29\r\n",
        "DataFrame.loc[DataFrame['Total_Amount_Currency'] == 'GBP', 'Total_Amount_Currency'] = 'USD'"
      ],
      "execution_count": 1072,
      "outputs": []
    },
    {
      "cell_type": "code",
      "metadata": {
        "colab": {
          "base_uri": "https://localhost:8080/"
        },
        "id": "enR9S8StYLTp",
        "outputId": "f4ab63b9-b3a7-4c57-8f98-31764f2a7359"
      },
      "source": [
        "DataFrame['Total_Amount'].value_counts()"
      ],
      "execution_count": 1073,
      "outputs": [
        {
          "output_type": "execute_result",
          "data": {
            "text/plain": [
              "5.952000e+01    513\n",
              "4.224000e+01    460\n",
              "1.728000e+02    351\n",
              "1.344000e+03    272\n",
              "1.536000e+01    204\n",
              "               ... \n",
              "1.075200e+04      1\n",
              "6.869055e+05      1\n",
              "3.163680e+04      1\n",
              "1.373772e+06      1\n",
              "1.749888e+06      1\n",
              "Name: Total_Amount, Length: 9350, dtype: int64"
            ]
          },
          "metadata": {
            "tags": []
          },
          "execution_count": 1073
        }
      ]
    },
    {
      "cell_type": "code",
      "metadata": {
        "colab": {
          "base_uri": "https://localhost:8080/"
        },
        "id": "i7ZBZ-Fb3sJ8",
        "outputId": "3d256099-07d6-4237-92c9-bc30af35589d"
      },
      "source": [
        "DataFrame['Total_Amount'].mean()"
      ],
      "execution_count": 1074,
      "outputs": [
        {
          "output_type": "execute_result",
          "data": {
            "text/plain": [
              "1007398.2109417549"
            ]
          },
          "metadata": {
            "tags": []
          },
          "execution_count": 1074
        }
      ]
    },
    {
      "cell_type": "markdown",
      "metadata": {
        "id": "j3eHKnrjvAyp"
      },
      "source": [
        "## Filtrando por datos que voy a usar"
      ]
    },
    {
      "cell_type": "code",
      "metadata": {
        "colab": {
          "base_uri": "https://localhost:8080/",
          "height": 204
        },
        "id": "xnPu-0VnYPWM",
        "outputId": "87414955-96fd-4dd9-a263-73a860c0a026"
      },
      "source": [
        "DataFrame_short = DataFrame[['Region', 'Total_Amount', 'Delivery_Year', 'Delivery_Quarter','Pricing, Delivery_Terms_Approved','Pricing, Delivery_Terms_Quote_Appr','Stage' ]].rename(columns={'Stage': 'Decision'})\r\n",
        "DataFrame_short = DataFrame_short[(DataFrame_short['Decision'] == 'Closed Lost') | (DataFrame_short['Decision'] == 'Closed Won')]\r\n",
        "DataFrame_short.head()"
      ],
      "execution_count": 1075,
      "outputs": [
        {
          "output_type": "execute_result",
          "data": {
            "text/html": [
              "<div>\n",
              "<style scoped>\n",
              "    .dataframe tbody tr th:only-of-type {\n",
              "        vertical-align: middle;\n",
              "    }\n",
              "\n",
              "    .dataframe tbody tr th {\n",
              "        vertical-align: top;\n",
              "    }\n",
              "\n",
              "    .dataframe thead th {\n",
              "        text-align: right;\n",
              "    }\n",
              "</style>\n",
              "<table border=\"1\" class=\"dataframe\">\n",
              "  <thead>\n",
              "    <tr style=\"text-align: right;\">\n",
              "      <th></th>\n",
              "      <th>Region</th>\n",
              "      <th>Total_Amount</th>\n",
              "      <th>Delivery_Year</th>\n",
              "      <th>Delivery_Quarter</th>\n",
              "      <th>Pricing, Delivery_Terms_Approved</th>\n",
              "      <th>Pricing, Delivery_Terms_Quote_Appr</th>\n",
              "      <th>Decision</th>\n",
              "    </tr>\n",
              "  </thead>\n",
              "  <tbody>\n",
              "    <tr>\n",
              "      <th>0</th>\n",
              "      <td>EMEA</td>\n",
              "      <td>6169176.0</td>\n",
              "      <td>2016</td>\n",
              "      <td>Q2</td>\n",
              "      <td>1</td>\n",
              "      <td>1</td>\n",
              "      <td>Closed Lost</td>\n",
              "    </tr>\n",
              "    <tr>\n",
              "      <th>1</th>\n",
              "      <td>EMEA</td>\n",
              "      <td>56429.1</td>\n",
              "      <td>2016</td>\n",
              "      <td>Q1</td>\n",
              "      <td>0</td>\n",
              "      <td>0</td>\n",
              "      <td>Closed Won</td>\n",
              "    </tr>\n",
              "    <tr>\n",
              "      <th>2</th>\n",
              "      <td>Americas</td>\n",
              "      <td>83865.6</td>\n",
              "      <td>2016</td>\n",
              "      <td>Q1</td>\n",
              "      <td>0</td>\n",
              "      <td>0</td>\n",
              "      <td>Closed Won</td>\n",
              "    </tr>\n",
              "    <tr>\n",
              "      <th>3</th>\n",
              "      <td>Americas</td>\n",
              "      <td>7421881.5</td>\n",
              "      <td>2018</td>\n",
              "      <td>Q1</td>\n",
              "      <td>0</td>\n",
              "      <td>1</td>\n",
              "      <td>Closed Lost</td>\n",
              "    </tr>\n",
              "    <tr>\n",
              "      <th>4</th>\n",
              "      <td>Americas</td>\n",
              "      <td>13357192.5</td>\n",
              "      <td>2018</td>\n",
              "      <td>Q1</td>\n",
              "      <td>0</td>\n",
              "      <td>1</td>\n",
              "      <td>Closed Lost</td>\n",
              "    </tr>\n",
              "  </tbody>\n",
              "</table>\n",
              "</div>"
            ],
            "text/plain": [
              "     Region  Total_Amount  ...  Pricing, Delivery_Terms_Quote_Appr     Decision\n",
              "0      EMEA     6169176.0  ...                                   1  Closed Lost\n",
              "1      EMEA       56429.1  ...                                   0   Closed Won\n",
              "2  Americas       83865.6  ...                                   0   Closed Won\n",
              "3  Americas     7421881.5  ...                                   1  Closed Lost\n",
              "4  Americas    13357192.5  ...                                   1  Closed Lost\n",
              "\n",
              "[5 rows x 7 columns]"
            ]
          },
          "metadata": {
            "tags": []
          },
          "execution_count": 1075
        }
      ]
    },
    {
      "cell_type": "markdown",
      "metadata": {
        "id": "rm5zE6SXs9Pg"
      },
      "source": [
        "## Codificación de variables \r\n",
        "\r\n",
        "**Poner 1 en aquellos que sean >= que 1007398.2109417549 y 0 en aquellos que sean menores que tal monto** (A HACER)\r\n",
        "\r\n",
        "\r\n",
        "**Hacer en binario los cuarter o va, ponerlos directamente en numero (1 2 3 o 4)**  **hecho, q4 == 1, q1,2,3 = 0**\r\n",
        "\r\n",
        "**Closed lost y won ponerlos en 0 y 1 respectivamente** . **Hecho**\r\n",
        "\r\n",
        "**Hacer en binario las regiones** (A HACER)"
      ]
    },
    {
      "cell_type": "code",
      "metadata": {
        "colab": {
          "base_uri": "https://localhost:8080/"
        },
        "id": "pQYCSEzdq5JV",
        "outputId": "4a25629d-82b2-42f0-eb6d-7558391bab79"
      },
      "source": [
        "DataFrame_short['Decision'].value_counts()"
      ],
      "execution_count": 1076,
      "outputs": [
        {
          "output_type": "execute_result",
          "data": {
            "text/plain": [
              "Closed Won     9533\n",
              "Closed Lost    7350\n",
              "Name: Decision, dtype: int64"
            ]
          },
          "metadata": {
            "tags": []
          },
          "execution_count": 1076
        }
      ]
    },
    {
      "cell_type": "code",
      "metadata": {
        "id": "6ANE6cTLq-OO"
      },
      "source": [
        "DataFrame_short['Decision'] = np.where(DataFrame_short['Decision'] == 'Closed Won',1,0)"
      ],
      "execution_count": 1077,
      "outputs": []
    },
    {
      "cell_type": "code",
      "metadata": {
        "colab": {
          "base_uri": "https://localhost:8080/"
        },
        "id": "ixxbPxDPssrX",
        "outputId": "f6a85506-2e76-4ea4-b262-3b92e8e4c314"
      },
      "source": [
        "DataFrame_short['Decision'].value_counts()"
      ],
      "execution_count": 1078,
      "outputs": [
        {
          "output_type": "execute_result",
          "data": {
            "text/plain": [
              "1    9533\n",
              "0    7350\n",
              "Name: Decision, dtype: int64"
            ]
          },
          "metadata": {
            "tags": []
          },
          "execution_count": 1078
        }
      ]
    },
    {
      "cell_type": "markdown",
      "metadata": {
        "id": "XtBAIpkVz6ZY"
      },
      "source": [
        "**Aca flasheo la de Gardel y te clavo 1 en q4 y 0 en los otros**"
      ]
    },
    {
      "cell_type": "code",
      "metadata": {
        "id": "Ur-tCrjXz_de"
      },
      "source": [
        "DataFrame_short['Delivery_Quarter'] = np.where(DataFrame_short['Delivery_Quarter'] == 'Q4',1,0)"
      ],
      "execution_count": 1079,
      "outputs": []
    },
    {
      "cell_type": "code",
      "metadata": {
        "colab": {
          "base_uri": "https://localhost:8080/"
        },
        "id": "OkF4ibzx0I2i",
        "outputId": "828f18ca-0227-4438-81e7-8ce9004af1be"
      },
      "source": [
        "DataFrame_short['Delivery_Quarter'].value_counts()"
      ],
      "execution_count": 1080,
      "outputs": [
        {
          "output_type": "execute_result",
          "data": {
            "text/plain": [
              "0    12749\n",
              "1     4134\n",
              "Name: Delivery_Quarter, dtype: int64"
            ]
          },
          "metadata": {
            "tags": []
          },
          "execution_count": 1080
        }
      ]
    },
    {
      "cell_type": "markdown",
      "metadata": {
        "id": "n44WHqGs1yZx"
      },
      "source": [
        "**Flasheando de nuevo, ahora para simplificar le clavo el promedio a las regiones asi no hago binary encoding y toda esa wea**"
      ]
    },
    {
      "cell_type": "code",
      "metadata": {
        "colab": {
          "base_uri": "https://localhost:8080/"
        },
        "id": "qtqkbBlL0usY",
        "outputId": "7dd29238-e98d-4492-e644-0707fbe5ec32"
      },
      "source": [
        "DataFrame_short['Region'].value_counts()"
      ],
      "execution_count": 1081,
      "outputs": [
        {
          "output_type": "execute_result",
          "data": {
            "text/plain": [
              "Japan          4869\n",
              "EMEA           4660\n",
              "Americas       3933\n",
              "APAC           3251\n",
              "Middle East     170\n",
              "Name: Region, dtype: int64"
            ]
          },
          "metadata": {
            "tags": []
          },
          "execution_count": 1081
        }
      ]
    },
    {
      "cell_type": "code",
      "metadata": {
        "id": "2H2MiaMY133M"
      },
      "source": [
        "DataFrame_short['Region'] = DataFrame_short.groupby('Region')['Region'].transform('count')"
      ],
      "execution_count": 1082,
      "outputs": []
    },
    {
      "cell_type": "code",
      "metadata": {
        "colab": {
          "base_uri": "https://localhost:8080/"
        },
        "id": "xXJRRym12QRC",
        "outputId": "441348bb-b7e6-4b39-bf38-d34aa53999b0"
      },
      "source": [
        "DataFrame_short['Region'].value_counts()"
      ],
      "execution_count": 1083,
      "outputs": [
        {
          "output_type": "execute_result",
          "data": {
            "text/plain": [
              "4869    4869\n",
              "4660    4660\n",
              "3933    3933\n",
              "3251    3251\n",
              "170      170\n",
              "Name: Region, dtype: int64"
            ]
          },
          "metadata": {
            "tags": []
          },
          "execution_count": 1083
        }
      ]
    },
    {
      "cell_type": "code",
      "metadata": {
        "colab": {
          "base_uri": "https://localhost:8080/",
          "height": 204
        },
        "id": "BqUUNR3r2NE4",
        "outputId": "574b3106-5081-4e56-fc4b-d891b9d03387"
      },
      "source": [
        "DataFrame_short.head()"
      ],
      "execution_count": 1084,
      "outputs": [
        {
          "output_type": "execute_result",
          "data": {
            "text/html": [
              "<div>\n",
              "<style scoped>\n",
              "    .dataframe tbody tr th:only-of-type {\n",
              "        vertical-align: middle;\n",
              "    }\n",
              "\n",
              "    .dataframe tbody tr th {\n",
              "        vertical-align: top;\n",
              "    }\n",
              "\n",
              "    .dataframe thead th {\n",
              "        text-align: right;\n",
              "    }\n",
              "</style>\n",
              "<table border=\"1\" class=\"dataframe\">\n",
              "  <thead>\n",
              "    <tr style=\"text-align: right;\">\n",
              "      <th></th>\n",
              "      <th>Region</th>\n",
              "      <th>Total_Amount</th>\n",
              "      <th>Delivery_Year</th>\n",
              "      <th>Delivery_Quarter</th>\n",
              "      <th>Pricing, Delivery_Terms_Approved</th>\n",
              "      <th>Pricing, Delivery_Terms_Quote_Appr</th>\n",
              "      <th>Decision</th>\n",
              "    </tr>\n",
              "  </thead>\n",
              "  <tbody>\n",
              "    <tr>\n",
              "      <th>0</th>\n",
              "      <td>4660</td>\n",
              "      <td>6169176.0</td>\n",
              "      <td>2016</td>\n",
              "      <td>0</td>\n",
              "      <td>1</td>\n",
              "      <td>1</td>\n",
              "      <td>0</td>\n",
              "    </tr>\n",
              "    <tr>\n",
              "      <th>1</th>\n",
              "      <td>4660</td>\n",
              "      <td>56429.1</td>\n",
              "      <td>2016</td>\n",
              "      <td>0</td>\n",
              "      <td>0</td>\n",
              "      <td>0</td>\n",
              "      <td>1</td>\n",
              "    </tr>\n",
              "    <tr>\n",
              "      <th>2</th>\n",
              "      <td>3933</td>\n",
              "      <td>83865.6</td>\n",
              "      <td>2016</td>\n",
              "      <td>0</td>\n",
              "      <td>0</td>\n",
              "      <td>0</td>\n",
              "      <td>1</td>\n",
              "    </tr>\n",
              "    <tr>\n",
              "      <th>3</th>\n",
              "      <td>3933</td>\n",
              "      <td>7421881.5</td>\n",
              "      <td>2018</td>\n",
              "      <td>0</td>\n",
              "      <td>0</td>\n",
              "      <td>1</td>\n",
              "      <td>0</td>\n",
              "    </tr>\n",
              "    <tr>\n",
              "      <th>4</th>\n",
              "      <td>3933</td>\n",
              "      <td>13357192.5</td>\n",
              "      <td>2018</td>\n",
              "      <td>0</td>\n",
              "      <td>0</td>\n",
              "      <td>1</td>\n",
              "      <td>0</td>\n",
              "    </tr>\n",
              "  </tbody>\n",
              "</table>\n",
              "</div>"
            ],
            "text/plain": [
              "   Region  Total_Amount  ...  Pricing, Delivery_Terms_Quote_Appr  Decision\n",
              "0    4660     6169176.0  ...                                   1         0\n",
              "1    4660       56429.1  ...                                   0         1\n",
              "2    3933       83865.6  ...                                   0         1\n",
              "3    3933     7421881.5  ...                                   1         0\n",
              "4    3933    13357192.5  ...                                   1         0\n",
              "\n",
              "[5 rows x 7 columns]"
            ]
          },
          "metadata": {
            "tags": []
          },
          "execution_count": 1084
        }
      ]
    },
    {
      "cell_type": "markdown",
      "metadata": {
        "id": "4YVX2dicuihz"
      },
      "source": [
        "##Plot de los distintos tipos de transformación de features en total amount\r\n",
        "**Todo esto fue agregado el 12/2**"
      ]
    },
    {
      "cell_type": "code",
      "metadata": {
        "colab": {
          "base_uri": "https://localhost:8080/"
        },
        "id": "U7zLMLH9ymMC",
        "outputId": "87864412-2d9a-4e04-8878-77478d0694c4"
      },
      "source": [
        "DataFrame_short['Total_Amount'].mean()"
      ],
      "execution_count": 1085,
      "outputs": [
        {
          "output_type": "execute_result",
          "data": {
            "text/plain": [
              "1007488.1868518399"
            ]
          },
          "metadata": {
            "tags": []
          },
          "execution_count": 1085
        }
      ]
    },
    {
      "cell_type": "code",
      "metadata": {
        "colab": {
          "base_uri": "https://localhost:8080/"
        },
        "id": "BqGKVcUB1Mpg",
        "outputId": "3d0aaca7-9f80-42c8-9453-64ddee67a31d"
      },
      "source": [
        "DataFrame_short['Total_Amount'].describe()"
      ],
      "execution_count": 1086,
      "outputs": [
        {
          "output_type": "execute_result",
          "data": {
            "text/plain": [
              "count    1.682400e+04\n",
              "mean     1.007488e+06\n",
              "std      5.864363e+06\n",
              "min      0.000000e+00\n",
              "25%      4.492800e+03\n",
              "50%      7.673400e+04\n",
              "75%      2.887052e+05\n",
              "max      3.150001e+08\n",
              "Name: Total_Amount, dtype: float64"
            ]
          },
          "metadata": {
            "tags": []
          },
          "execution_count": 1086
        }
      ]
    },
    {
      "cell_type": "code",
      "metadata": {
        "colab": {
          "base_uri": "https://localhost:8080/",
          "height": 1000
        },
        "id": "nKau3A2KujVB",
        "outputId": "d1120c5e-1ea5-4a5a-a237-50c836a75946"
      },
      "source": [
        "fig, axes = plt.subplots(nrows=3, ncols=1, figsize=(10, 10))\r\n",
        "sns.distplot(\r\n",
        "    DataFrame_short.Total_Amount,\r\n",
        "    hist    = False,\r\n",
        "    rug     = True,\r\n",
        "    color   = \"blue\",\r\n",
        "    kde_kws = {'shade': True, 'linewidth': 1},\r\n",
        "    ax      = axes[0]\r\n",
        ")\r\n",
        "axes[0].set_title(\"Distribución original\", fontsize = 'medium')\r\n",
        "axes[0].set_xlabel('Total_Amount', fontsize='small') \r\n",
        "axes[0].tick_params(labelsize = 6)\r\n",
        "\r\n",
        "sns.distplot(\r\n",
        "    np.sqrt(DataFrame_short.Total_Amount),\r\n",
        "    hist    = False,\r\n",
        "    rug     = True,\r\n",
        "    color   = \"blue\",\r\n",
        "    kde_kws = {'shade': True, 'linewidth': 1},\r\n",
        "    ax      = axes[1]\r\n",
        ")\r\n",
        "axes[1].set_title(\"Transformación raíz cuadrada\", fontsize = 'medium')\r\n",
        "axes[1].set_xlabel('sqrt(Total_Amount)', fontsize='small') \r\n",
        "axes[1].tick_params(labelsize = 6)\r\n",
        "\r\n",
        "sns.distplot(\r\n",
        "    np.log(DataFrame_short.Total_Amount),\r\n",
        "    hist    = False,\r\n",
        "    rug     = True,\r\n",
        "    color   = \"blue\",\r\n",
        "    kde_kws = {'shade': True, 'linewidth': 1},\r\n",
        "    ax      = axes[2]\r\n",
        ")\r\n",
        "axes[2].set_title(\"Transformación logarítmica\", fontsize = 'medium')\r\n",
        "axes[2].set_xlabel('log(Total_Amount)', fontsize='small') \r\n",
        "axes[2].tick_params(labelsize = 6)\r\n",
        "\r\n",
        "fig.tight_layout()"
      ],
      "execution_count": 1087,
      "outputs": [
        {
          "output_type": "display_data",
          "data": {
            "image/png": "[encoded data removed]",
            "text/plain": [
              "<Figure size 1000x1000 with 3 Axes>"
            ]
          },
          "metadata": {
            "tags": []
          }
        }
      ]
    },
    {
      "cell_type": "markdown",
      "metadata": {
        "id": "LnDQoXcT1Zsn"
      },
      "source": [
        "Raíz cuadrada parece la mas interesante en este caso"
      ]
    },
    {
      "cell_type": "code",
      "metadata": {
        "colab": {
          "base_uri": "https://localhost:8080/"
        },
        "id": "7valPN4k6cr3",
        "outputId": "8fc44b3e-0e39-4d4f-9ae9-d82b0d83d5bf"
      },
      "source": [
        "DataFrame_short['Total_Amount'].describe()"
      ],
      "execution_count": 1088,
      "outputs": [
        {
          "output_type": "execute_result",
          "data": {
            "text/plain": [
              "count    1.682400e+04\n",
              "mean     1.007488e+06\n",
              "std      5.864363e+06\n",
              "min      0.000000e+00\n",
              "25%      4.492800e+03\n",
              "50%      7.673400e+04\n",
              "75%      2.887052e+05\n",
              "max      3.150001e+08\n",
              "Name: Total_Amount, dtype: float64"
            ]
          },
          "metadata": {
            "tags": []
          },
          "execution_count": 1088
        }
      ]
    },
    {
      "cell_type": "code",
      "metadata": {
        "id": "ZhV2MX2U2KLg"
      },
      "source": [
        "DataFrame_short['Total_Amount'] = np.sqrt(DataFrame_short.Total_Amount)"
      ],
      "execution_count": 1089,
      "outputs": []
    },
    {
      "cell_type": "code",
      "metadata": {
        "colab": {
          "base_uri": "https://localhost:8080/"
        },
        "id": "ZK2Np2MR6fXI",
        "outputId": "7326692a-1d42-4136-f04c-8270f1f2bd38"
      },
      "source": [
        "DataFrame_short['Total_Amount'].describe()"
      ],
      "execution_count": 1090,
      "outputs": [
        {
          "output_type": "execute_result",
          "data": {
            "text/plain": [
              "count    16824.000000\n",
              "mean       513.982732\n",
              "std        862.179867\n",
              "min          0.000000\n",
              "25%         67.028352\n",
              "50%        277.009025\n",
              "75%        537.312918\n",
              "max      17748.241657\n",
              "Name: Total_Amount, dtype: float64"
            ]
          },
          "metadata": {
            "tags": []
          },
          "execution_count": 1090
        }
      ]
    },
    {
      "cell_type": "code",
      "metadata": {
        "id": "CcUr6f8_1vCM"
      },
      "source": [
        "# Gráfico de distribución para cada variable numérica\r\n",
        "# ==============================================================================\r\n",
        "# Ajustar número de subplots en función del número de columnas\r\n",
        "\r\n",
        "#fig, axes = plt.subplots(nrows=3, ncols=3, figsize=(9, 5))\r\n",
        "#axes = axes.flat\r\n",
        "#columnas_numeric = DataFrame_short.select_dtypes(include=['float64', 'int']).columns\r\n",
        "#columnas_numeric = columnas_numeric.drop('Total_Amount')\r\n",
        "\r\n",
        "#for i, colum in enumerate(columnas_numeric):\r\n",
        "#    sns.histplot(\r\n",
        "#        data    = DataFrame_short,\r\n",
        "#        x       = colum,\r\n",
        "#        stat    = \"count\",\r\n",
        "#        kde     = True,\r\n",
        "#        color   = (list(plt.rcParams['axes.prop_cycle'])*2)[i][\"color\"],\r\n",
        "#        line_kws= {'linewidth': 2},\r\n",
        "#        alpha   = 0.3,\r\n",
        "#        ax      = axes[i]\r\n",
        "#    )\r\n",
        "#    axes[i].set_title(colum, fontsize = 7, fontweight = \"bold\")\r\n",
        "#    axes[i].tick_params(labelsize = 6)\r\n",
        "#    axes[i].set_xlabel(\"\")\r\n",
        "    \r\n",
        "    \r\n",
        "#fig.tight_layout()\r\n",
        "#plt.subplots_adjust(top = 0.9)\r\n",
        "#fig.suptitle('Distribución variables numéricas', fontsize = 10, fontweight = \"bold\");\r\n"
      ],
      "execution_count": 1091,
      "outputs": []
    },
    {
      "cell_type": "markdown",
      "metadata": {
        "id": "MX4Ob1HCvVho"
      },
      "source": [
        "## Separación de entrenamiento y Test"
      ]
    },
    {
      "cell_type": "code",
      "metadata": {
        "id": "EMOlUfKxVhJ1"
      },
      "source": [
        "Entrenamiento = DataFrame_short.loc[:,DataFrame_short.columns != 'Decision']"
      ],
      "execution_count": 1092,
      "outputs": []
    },
    {
      "cell_type": "code",
      "metadata": {
        "colab": {
          "base_uri": "https://localhost:8080/",
          "height": 0
        },
        "id": "RWHM2FpOVssq",
        "outputId": "bd8ca985-60b0-4497-943b-9902783a10ae"
      },
      "source": [
        "Entrenamiento"
      ],
      "execution_count": 1093,
      "outputs": [
        {
          "output_type": "execute_result",
          "data": {
            "text/html": [
              "<div>\n",
              "<style scoped>\n",
              "    .dataframe tbody tr th:only-of-type {\n",
              "        vertical-align: middle;\n",
              "    }\n",
              "\n",
              "    .dataframe tbody tr th {\n",
              "        vertical-align: top;\n",
              "    }\n",
              "\n",
              "    .dataframe thead th {\n",
              "        text-align: right;\n",
              "    }\n",
              "</style>\n",
              "<table border=\"1\" class=\"dataframe\">\n",
              "  <thead>\n",
              "    <tr style=\"text-align: right;\">\n",
              "      <th></th>\n",
              "      <th>Region</th>\n",
              "      <th>Total_Amount</th>\n",
              "      <th>Delivery_Year</th>\n",
              "      <th>Delivery_Quarter</th>\n",
              "      <th>Pricing, Delivery_Terms_Approved</th>\n",
              "      <th>Pricing, Delivery_Terms_Quote_Appr</th>\n",
              "    </tr>\n",
              "  </thead>\n",
              "  <tbody>\n",
              "    <tr>\n",
              "      <th>0</th>\n",
              "      <td>4660</td>\n",
              "      <td>2483.782599</td>\n",
              "      <td>2016</td>\n",
              "      <td>0</td>\n",
              "      <td>1</td>\n",
              "      <td>1</td>\n",
              "    </tr>\n",
              "    <tr>\n",
              "      <th>1</th>\n",
              "      <td>4660</td>\n",
              "      <td>237.548100</td>\n",
              "      <td>2016</td>\n",
              "      <td>0</td>\n",
              "      <td>0</td>\n",
              "      <td>0</td>\n",
              "    </tr>\n",
              "    <tr>\n",
              "      <th>2</th>\n",
              "      <td>3933</td>\n",
              "      <td>289.595580</td>\n",
              "      <td>2016</td>\n",
              "      <td>0</td>\n",
              "      <td>0</td>\n",
              "      <td>0</td>\n",
              "    </tr>\n",
              "    <tr>\n",
              "      <th>3</th>\n",
              "      <td>3933</td>\n",
              "      <td>2724.313033</td>\n",
              "      <td>2018</td>\n",
              "      <td>0</td>\n",
              "      <td>0</td>\n",
              "      <td>1</td>\n",
              "    </tr>\n",
              "    <tr>\n",
              "      <th>4</th>\n",
              "      <td>3933</td>\n",
              "      <td>3654.749307</td>\n",
              "      <td>2018</td>\n",
              "      <td>0</td>\n",
              "      <td>0</td>\n",
              "      <td>1</td>\n",
              "    </tr>\n",
              "    <tr>\n",
              "      <th>...</th>\n",
              "      <td>...</td>\n",
              "      <td>...</td>\n",
              "      <td>...</td>\n",
              "      <td>...</td>\n",
              "      <td>...</td>\n",
              "      <td>...</td>\n",
              "    </tr>\n",
              "    <tr>\n",
              "      <th>16942</th>\n",
              "      <td>4660</td>\n",
              "      <td>347.734813</td>\n",
              "      <td>2016</td>\n",
              "      <td>0</td>\n",
              "      <td>1</td>\n",
              "      <td>1</td>\n",
              "    </tr>\n",
              "    <tr>\n",
              "      <th>16943</th>\n",
              "      <td>4660</td>\n",
              "      <td>329.890209</td>\n",
              "      <td>2016</td>\n",
              "      <td>0</td>\n",
              "      <td>1</td>\n",
              "      <td>1</td>\n",
              "    </tr>\n",
              "    <tr>\n",
              "      <th>16944</th>\n",
              "      <td>4660</td>\n",
              "      <td>347.734813</td>\n",
              "      <td>2016</td>\n",
              "      <td>0</td>\n",
              "      <td>1</td>\n",
              "      <td>1</td>\n",
              "    </tr>\n",
              "    <tr>\n",
              "      <th>16945</th>\n",
              "      <td>3933</td>\n",
              "      <td>1531.925873</td>\n",
              "      <td>2016</td>\n",
              "      <td>0</td>\n",
              "      <td>1</td>\n",
              "      <td>1</td>\n",
              "    </tr>\n",
              "    <tr>\n",
              "      <th>16946</th>\n",
              "      <td>3933</td>\n",
              "      <td>5059.960474</td>\n",
              "      <td>2016</td>\n",
              "      <td>0</td>\n",
              "      <td>1</td>\n",
              "      <td>1</td>\n",
              "    </tr>\n",
              "  </tbody>\n",
              "</table>\n",
              "<p>16883 rows × 6 columns</p>\n",
              "</div>"
            ],
            "text/plain": [
              "       Region  ...  Pricing, Delivery_Terms_Quote_Appr\n",
              "0        4660  ...                                   1\n",
              "1        4660  ...                                   0\n",
              "2        3933  ...                                   0\n",
              "3        3933  ...                                   1\n",
              "4        3933  ...                                   1\n",
              "...       ...  ...                                 ...\n",
              "16942    4660  ...                                   1\n",
              "16943    4660  ...                                   1\n",
              "16944    4660  ...                                   1\n",
              "16945    3933  ...                                   1\n",
              "16946    3933  ...                                   1\n",
              "\n",
              "[16883 rows x 6 columns]"
            ]
          },
          "metadata": {
            "tags": []
          },
          "execution_count": 1093
        }
      ]
    },
    {
      "cell_type": "code",
      "metadata": {
        "id": "jQjrjcxIYd8W"
      },
      "source": [
        "#Test = DataFrame_short[(DataFrame_short['Delivery_Year']== 2018) & (DataFrame_short['Delivery_Quarter'] == 1)]\r\n",
        "#Test = Test['Decision']\r\n",
        "#Test"
      ],
      "execution_count": 1094,
      "outputs": []
    },
    {
      "cell_type": "code",
      "metadata": {
        "id": "mQtE7zTlWDf5"
      },
      "source": [
        "Test = DataFrame_short.loc[:,'Decision']\r\n"
      ],
      "execution_count": 1095,
      "outputs": []
    },
    {
      "cell_type": "code",
      "metadata": {
        "colab": {
          "base_uri": "https://localhost:8080/"
        },
        "id": "w49Nena2Vw15",
        "outputId": "dd06e299-05fa-482c-9014-cf961fb22795"
      },
      "source": [
        "Entrenamiento.shape, Test.shape, DataFrame_short.shape"
      ],
      "execution_count": 1096,
      "outputs": [
        {
          "output_type": "execute_result",
          "data": {
            "text/plain": [
              "((16883, 6), (16883,), (16883, 7))"
            ]
          },
          "metadata": {
            "tags": []
          },
          "execution_count": 1096
        }
      ]
    },
    {
      "cell_type": "markdown",
      "metadata": {
        "id": "43Uh6fjoZ_7e"
      },
      "source": [
        "##Entrenamiento y Test"
      ]
    },
    {
      "cell_type": "markdown",
      "metadata": {
        "id": "BWc8j7kHa3i9"
      },
      "source": [
        "Para poder entrenar X e Y tengo que tener la misma cant de filas XD"
      ]
    },
    {
      "cell_type": "code",
      "metadata": {
        "id": "2X2CeVp1WaGE"
      },
      "source": [
        "X_Entrenamiento, X_EntrenamientoTest, Y_TestEntrenamiento, Y_TestTest = train_test_split(Entrenamiento,Test,test_size = 0.2, random_state = 0)"
      ],
      "execution_count": 1097,
      "outputs": []
    },
    {
      "cell_type": "code",
      "metadata": {
        "colab": {
          "base_uri": "https://localhost:8080/"
        },
        "id": "zN1JfZcla0Ty",
        "outputId": "78cb736e-ae39-4eee-df87-82615a88ef70"
      },
      "source": [
        "X_Entrenamiento.shape, X_EntrenamientoTest.shape, Y_TestEntrenamiento.shape, Y_TestTest.shape"
      ],
      "execution_count": 1098,
      "outputs": [
        {
          "output_type": "execute_result",
          "data": {
            "text/plain": [
              "((13506, 6), (3377, 6), (13506,), (3377,))"
            ]
          },
          "metadata": {
            "tags": []
          },
          "execution_count": 1098
        }
      ]
    },
    {
      "cell_type": "code",
      "metadata": {
        "id": "7JVzNUfBaM_J"
      },
      "source": [
        "xg_clas = XGBClassifier(objective ='binary:logistic', colsample_bytree = 0.3, learning_rate = 0.001, max_depth = 10, alpha = 10, n_estimators = 200)"
      ],
      "execution_count": 1099,
      "outputs": []
    },
    {
      "cell_type": "code",
      "metadata": {
        "id": "ms60-V3zaXoi",
        "colab": {
          "base_uri": "https://localhost:8080/"
        },
        "outputId": "2c5918c2-1b7a-4a41-f37e-feeeb0cc04ed"
      },
      "source": [
        "xg_clas.fit(X_Entrenamiento,Y_TestEntrenamiento)"
      ],
      "execution_count": 1100,
      "outputs": [
        {
          "output_type": "execute_result",
          "data": {
            "text/plain": [
              "XGBClassifier(alpha=10, base_score=0.5, booster='gbtree', colsample_bylevel=1,\n",
              "              colsample_bynode=1, colsample_bytree=0.3, gamma=0,\n",
              "              learning_rate=0.1, max_delta_step=0, max_depth=10,\n",
              "              min_child_weight=1, missing=None, n_estimators=200, n_jobs=1,\n",
              "              nthread=None, objective='binary:logistic', random_state=0,\n",
              "              reg_alpha=0, reg_lambda=1, scale_pos_weight=1, seed=None,\n",
              "              silent=None, subsample=1, verbosity=1)"
            ]
          },
          "metadata": {
            "tags": []
          },
          "execution_count": 1100
        }
      ]
    },
    {
      "cell_type": "code",
      "metadata": {
        "id": "QbNSaXfPar-v"
      },
      "source": [
        "preds = xg_clas.predict(X_EntrenamientoTest)"
      ],
      "execution_count": 1101,
      "outputs": []
    },
    {
      "cell_type": "code",
      "metadata": {
        "colab": {
          "base_uri": "https://localhost:8080/",
          "height": 312
        },
        "id": "Z0kqQ1QtAUHt",
        "outputId": "5d2dcf03-90b0-4631-b5f2-8fda2c16864c"
      },
      "source": [
        "from sklearn.metrics import accuracy_score, classification_report\r\n",
        "print(accuracy_score(Y_TestTest, preds))\r\n",
        "print(classification_report(Y_TestTest, preds))\r\n",
        "pd.crosstab(Y_TestTest, preds)"
      ],
      "execution_count": 1102,
      "outputs": [
        {
          "output_type": "stream",
          "text": [
            "0.7678412792419307\n",
            "              precision    recall  f1-score   support\n",
            "\n",
            "           0       0.80      0.65      0.72      1524\n",
            "           1       0.75      0.86      0.80      1853\n",
            "\n",
            "    accuracy                           0.77      3377\n",
            "   macro avg       0.77      0.76      0.76      3377\n",
            "weighted avg       0.77      0.77      0.76      3377\n",
            "\n"
          ],
          "name": "stdout"
        },
        {
          "output_type": "execute_result",
          "data": {
            "text/html": [
              "<div>\n",
              "<style scoped>\n",
              "    .dataframe tbody tr th:only-of-type {\n",
              "        vertical-align: middle;\n",
              "    }\n",
              "\n",
              "    .dataframe tbody tr th {\n",
              "        vertical-align: top;\n",
              "    }\n",
              "\n",
              "    .dataframe thead th {\n",
              "        text-align: right;\n",
              "    }\n",
              "</style>\n",
              "<table border=\"1\" class=\"dataframe\">\n",
              "  <thead>\n",
              "    <tr style=\"text-align: right;\">\n",
              "      <th>col_0</th>\n",
              "      <th>0</th>\n",
              "      <th>1</th>\n",
              "    </tr>\n",
              "    <tr>\n",
              "      <th>Decision</th>\n",
              "      <th></th>\n",
              "      <th></th>\n",
              "    </tr>\n",
              "  </thead>\n",
              "  <tbody>\n",
              "    <tr>\n",
              "      <th>0</th>\n",
              "      <td>995</td>\n",
              "      <td>529</td>\n",
              "    </tr>\n",
              "    <tr>\n",
              "      <th>1</th>\n",
              "      <td>255</td>\n",
              "      <td>1598</td>\n",
              "    </tr>\n",
              "  </tbody>\n",
              "</table>\n",
              "</div>"
            ],
            "text/plain": [
              "col_0       0     1\n",
              "Decision           \n",
              "0         995   529\n",
              "1         255  1598"
            ]
          },
          "metadata": {
            "tags": []
          },
          "execution_count": 1102
        }
      ]
    },
    {
      "cell_type": "code",
      "metadata": {
        "colab": {
          "base_uri": "https://localhost:8080/"
        },
        "id": "h-O793vgBgER",
        "outputId": "0178b866-b9a6-43da-d32e-8caad8bcb11f"
      },
      "source": [
        "value_pred = pd.DataFrame()\r\n",
        "value_pred['pred'] = preds\r\n",
        "value_pred['pred'].value_counts()"
      ],
      "execution_count": 1103,
      "outputs": [
        {
          "output_type": "execute_result",
          "data": {
            "text/plain": [
              "1    2127\n",
              "0    1250\n",
              "Name: pred, dtype: int64"
            ]
          },
          "metadata": {
            "tags": []
          },
          "execution_count": 1103
        }
      ]
    },
    {
      "cell_type": "code",
      "metadata": {
        "id": "eUnHDRCcax0P",
        "colab": {
          "base_uri": "https://localhost:8080/"
        },
        "outputId": "541c3dfa-d4a2-4fe8-c996-6e9b916197b4"
      },
      "source": [
        "rmse = np.sqrt(mean_squared_error(Y_TestTest, preds))\r\n",
        "print(\"RMSE: %f\" % (rmse))\r\n",
        "accuracy = accuracy_score(Y_TestTest, preds)\r\n",
        "print(\"Accuracy: %.2f%%\" % (accuracy * 100.0))"
      ],
      "execution_count": 1104,
      "outputs": [
        {
          "output_type": "stream",
          "text": [
            "RMSE: 0.481829\n",
            "Accuracy: 76.78%\n"
          ],
          "name": "stdout"
        }
      ]
    },
    {
      "cell_type": "markdown",
      "metadata": {
        "id": "UbrIsFClHUIP"
      },
      "source": [
        "learning rate 0.1 57%   |||||  n_estimators 10\r\n",
        "\r\n",
        "\"\"            0.05 56%   ||        \"\"\r\n",
        "\r\n",
        "\"\"            0.5 60%     |||       \"\""
      ]
    },
    {
      "cell_type": "code",
      "metadata": {
        "id": "jUPTihNKwXMU"
      },
      "source": [
        "#acc = accuracy_score(X_Entrenamiento, Y_TestEntrenamiento)"
      ],
      "execution_count": 1105,
      "outputs": []
    },
    {
      "cell_type": "code",
      "metadata": {
        "id": "uYGX7Vaua1Qx"
      },
      "source": [
        "#from sklearn.metrics import accuracy_score\r\n",
        "#accuracy = accuracy_score(Y_Test, preds)\r\n",
        "#print(\"Accuracy: %.2f%%\" % (accuracy * 100.0))"
      ],
      "execution_count": 1106,
      "outputs": []
    },
    {
      "cell_type": "markdown",
      "metadata": {
        "id": "Nhm15mVEbe5r"
      },
      "source": [
        "## Importancia de los features\r\n",
        "Le paso una wea ya entrenada "
      ]
    },
    {
      "cell_type": "code",
      "metadata": {
        "id": "0td2OjLMbeRA",
        "colab": {
          "base_uri": "https://localhost:8080/",
          "height": 653
        },
        "outputId": "08a03d05-ad20-417d-c2d1-5e22df48f525"
      },
      "source": [
        "plt.rcParams['figure.figsize'] = [12, 7]\r\n",
        "xgb.plot_importance(xg_clas)"
      ],
      "execution_count": 1107,
      "outputs": [
        {
          "output_type": "execute_result",
          "data": {
            "text/plain": [
              "<matplotlib.axes._subplots.AxesSubplot at 0x7fa74e5aa9e8>"
            ]
          },
          "metadata": {
            "tags": []
          },
          "execution_count": 1107
        },
        {
          "output_type": "display_data",
          "data": {
            "image/png": "[encoded data removed]",
            "text/plain": [
              "<Figure size 1200x700 with 1 Axes>"
            ]
          },
          "metadata": {
            "tags": []
          }
        }
      ]
    },
    {
      "cell_type": "markdown",
      "metadata": {
        "id": "NqlzHnftd1CD"
      },
      "source": [
        "##Visualizacion del arbol"
      ]
    },
    {
      "cell_type": "code",
      "metadata": {
        "colab": {
          "base_uri": "https://localhost:8080/",
          "height": 582
        },
        "id": "6WzgrEcXc8OG",
        "outputId": "093ae4da-ba8f-40c4-99b4-42f824fb628c"
      },
      "source": [
        "plt.rcParams['figure.figsize'] = [20, 20]\r\n",
        "xgb.plot_tree(xg_clas, num_trees = 0)"
      ],
      "execution_count": 1108,
      "outputs": [
        {
          "output_type": "execute_result",
          "data": {
            "text/plain": [
              "<matplotlib.axes._subplots.AxesSubplot at 0x7fa74fb8ca90>"
            ]
          },
          "metadata": {
            "tags": []
          },
          "execution_count": 1108
        },
        {
          "output_type": "display_data",
          "data": {
            "image/png": "[encoded data removed]",
            "text/plain": [
              "<Figure size 2000x2000 with 1 Axes>"
            ]
          },
          "metadata": {
            "tags": []
          }
        }
      ]
    },
    {
      "cell_type": "markdown",
      "metadata": {
        "id": "VtBko3cV8SKd"
      },
      "source": [
        "#Test"
      ]
    },
    {
      "cell_type": "markdown",
      "metadata": {
        "id": "Ga7kvh9W8WJM"
      },
      "source": [
        "##DF"
      ]
    },
    {
      "cell_type": "code",
      "metadata": {
        "id": "yz_acTOCz8m9"
      },
      "source": [
        "DataFrame_test = pd.read_csv('/content/drive/MyDrive/Colab Notebooks/Archivos para leer /Tp2/Test_TP2_Datos_2020-2C.csv')"
      ],
      "execution_count": 1109,
      "outputs": []
    },
    {
      "cell_type": "code",
      "metadata": {
        "colab": {
          "base_uri": "https://localhost:8080/",
          "height": 326
        },
        "id": "W-_Qxyfp0EZP",
        "outputId": "b629bf0d-89b7-4003-fa06-ddc7cd97da3c"
      },
      "source": [
        "DataFrame_test.head()"
      ],
      "execution_count": 1110,
      "outputs": [
        {
          "output_type": "execute_result",
          "data": {
            "text/html": [
              "<div>\n",
              "<style scoped>\n",
              "    .dataframe tbody tr th:only-of-type {\n",
              "        vertical-align: middle;\n",
              "    }\n",
              "\n",
              "    .dataframe tbody tr th {\n",
              "        vertical-align: top;\n",
              "    }\n",
              "\n",
              "    .dataframe thead th {\n",
              "        text-align: right;\n",
              "    }\n",
              "</style>\n",
              "<table border=\"1\" class=\"dataframe\">\n",
              "  <thead>\n",
              "    <tr style=\"text-align: right;\">\n",
              "      <th></th>\n",
              "      <th>ID</th>\n",
              "      <th>Region</th>\n",
              "      <th>Territory</th>\n",
              "      <th>Pricing, Delivery_Terms_Quote_Appr</th>\n",
              "      <th>Pricing, Delivery_Terms_Approved</th>\n",
              "      <th>Bureaucratic_Code_0_Approval</th>\n",
              "      <th>Bureaucratic_Code_0_Approved</th>\n",
              "      <th>Submitted_for_Approval</th>\n",
              "      <th>Bureaucratic_Code</th>\n",
              "      <th>Account_Created_Date</th>\n",
              "      <th>Source</th>\n",
              "      <th>Billing_Country</th>\n",
              "      <th>Account_Name</th>\n",
              "      <th>Opportunity_Name</th>\n",
              "      <th>Opportunity_ID</th>\n",
              "      <th>Sales_Contract_No</th>\n",
              "      <th>Account_Owner</th>\n",
              "      <th>Opportunity_Owner</th>\n",
              "      <th>Account_Type</th>\n",
              "      <th>Opportunity_Type</th>\n",
              "      <th>Quote_Type</th>\n",
              "      <th>Delivery_Terms</th>\n",
              "      <th>Opportunity_Created_Date</th>\n",
              "      <th>Brand</th>\n",
              "      <th>Product_Type</th>\n",
              "      <th>Size</th>\n",
              "      <th>Product_Category_B</th>\n",
              "      <th>Price</th>\n",
              "      <th>Currency</th>\n",
              "      <th>Last_Activity</th>\n",
              "      <th>Quote_Expiry_Date</th>\n",
              "      <th>Last_Modified_Date</th>\n",
              "      <th>Last_Modified_By</th>\n",
              "      <th>Product_Family</th>\n",
              "      <th>Product_Name</th>\n",
              "      <th>ASP_Currency</th>\n",
              "      <th>ASP</th>\n",
              "      <th>ASP_(converted)_Currency</th>\n",
              "      <th>ASP_(converted)</th>\n",
              "      <th>Planned_Delivery_Start_Date</th>\n",
              "      <th>Planned_Delivery_End_Date</th>\n",
              "      <th>Month</th>\n",
              "      <th>Delivery_Quarter</th>\n",
              "      <th>Delivery_Year</th>\n",
              "      <th>Actual_Delivery_Date</th>\n",
              "      <th>TRF</th>\n",
              "      <th>Total_Amount_Currency</th>\n",
              "      <th>Total_Amount</th>\n",
              "      <th>Total_Taxable_Amount_Currency</th>\n",
              "      <th>Total_Taxable_Amount</th>\n",
              "      <th>Prod_Category_A</th>\n",
              "    </tr>\n",
              "  </thead>\n",
              "  <tbody>\n",
              "    <tr>\n",
              "      <th>0</th>\n",
              "      <td>6140</td>\n",
              "      <td>EMEA</td>\n",
              "      <td>Germany</td>\n",
              "      <td>1</td>\n",
              "      <td>1</td>\n",
              "      <td>1</td>\n",
              "      <td>1</td>\n",
              "      <td>0</td>\n",
              "      <td>Bureaucratic_Code_4</td>\n",
              "      <td>7/5/2017</td>\n",
              "      <td>Source_7</td>\n",
              "      <td>Germany</td>\n",
              "      <td>Account_Name_978</td>\n",
              "      <td>Opportunity_Name_6118</td>\n",
              "      <td>10689</td>\n",
              "      <td>6436</td>\n",
              "      <td>Person_Name_13</td>\n",
              "      <td>Person_Name_13</td>\n",
              "      <td>Account_Type_0</td>\n",
              "      <td>Opportunity_Type_8</td>\n",
              "      <td>Non Binding</td>\n",
              "      <td>Delivery_Terms_2</td>\n",
              "      <td>4/12/2019</td>\n",
              "      <td>None</td>\n",
              "      <td>None</td>\n",
              "      <td>None</td>\n",
              "      <td>None</td>\n",
              "      <td>None</td>\n",
              "      <td>None</td>\n",
              "      <td>NaT</td>\n",
              "      <td>4/30/2019</td>\n",
              "      <td>4/12/2019</td>\n",
              "      <td>Person_Name_13</td>\n",
              "      <td>Product_Family_171</td>\n",
              "      <td>Product_Name_332</td>\n",
              "      <td>EUR</td>\n",
              "      <td>0.325</td>\n",
              "      <td>USD</td>\n",
              "      <td>0.36761</td>\n",
              "      <td>5/1/2019</td>\n",
              "      <td>5/31/2019</td>\n",
              "      <td>2019 - 5</td>\n",
              "      <td>Q2</td>\n",
              "      <td>2019</td>\n",
              "      <td>NaT</td>\n",
              "      <td>0</td>\n",
              "      <td>EUR</td>\n",
              "      <td>162240.0</td>\n",
              "      <td>EUR</td>\n",
              "      <td>367419.0</td>\n",
              "      <td>Prod_Category_A_None</td>\n",
              "    </tr>\n",
              "    <tr>\n",
              "      <th>1</th>\n",
              "      <td>6146</td>\n",
              "      <td>EMEA</td>\n",
              "      <td>Germany</td>\n",
              "      <td>1</td>\n",
              "      <td>1</td>\n",
              "      <td>1</td>\n",
              "      <td>1</td>\n",
              "      <td>0</td>\n",
              "      <td>Bureaucratic_Code_4</td>\n",
              "      <td>7/5/2017</td>\n",
              "      <td>Source_7</td>\n",
              "      <td>Germany</td>\n",
              "      <td>Account_Name_978</td>\n",
              "      <td>Opportunity_Name_6118</td>\n",
              "      <td>10689</td>\n",
              "      <td>6436</td>\n",
              "      <td>Person_Name_13</td>\n",
              "      <td>Person_Name_13</td>\n",
              "      <td>Account_Type_0</td>\n",
              "      <td>Opportunity_Type_8</td>\n",
              "      <td>Non Binding</td>\n",
              "      <td>Delivery_Terms_2</td>\n",
              "      <td>4/12/2019</td>\n",
              "      <td>None</td>\n",
              "      <td>None</td>\n",
              "      <td>None</td>\n",
              "      <td>None</td>\n",
              "      <td>None</td>\n",
              "      <td>None</td>\n",
              "      <td>NaT</td>\n",
              "      <td>4/30/2019</td>\n",
              "      <td>4/12/2019</td>\n",
              "      <td>Person_Name_13</td>\n",
              "      <td>Product_Family_167</td>\n",
              "      <td>Product_Name_315</td>\n",
              "      <td>EUR</td>\n",
              "      <td>0.320</td>\n",
              "      <td>USD</td>\n",
              "      <td>0.36195</td>\n",
              "      <td>5/1/2019</td>\n",
              "      <td>5/31/2019</td>\n",
              "      <td>2019 - 5</td>\n",
              "      <td>Q2</td>\n",
              "      <td>2019</td>\n",
              "      <td>NaT</td>\n",
              "      <td>0</td>\n",
              "      <td>EUR</td>\n",
              "      <td>78624.0</td>\n",
              "      <td>EUR</td>\n",
              "      <td>367419.0</td>\n",
              "      <td>Prod_Category_A_None</td>\n",
              "    </tr>\n",
              "    <tr>\n",
              "      <th>2</th>\n",
              "      <td>6151</td>\n",
              "      <td>EMEA</td>\n",
              "      <td>Germany</td>\n",
              "      <td>1</td>\n",
              "      <td>1</td>\n",
              "      <td>1</td>\n",
              "      <td>1</td>\n",
              "      <td>0</td>\n",
              "      <td>Bureaucratic_Code_4</td>\n",
              "      <td>7/5/2017</td>\n",
              "      <td>Source_7</td>\n",
              "      <td>Germany</td>\n",
              "      <td>Account_Name_978</td>\n",
              "      <td>Opportunity_Name_6118</td>\n",
              "      <td>10689</td>\n",
              "      <td>6436</td>\n",
              "      <td>Person_Name_13</td>\n",
              "      <td>Person_Name_13</td>\n",
              "      <td>Account_Type_0</td>\n",
              "      <td>Opportunity_Type_8</td>\n",
              "      <td>Non Binding</td>\n",
              "      <td>Delivery_Terms_2</td>\n",
              "      <td>4/12/2019</td>\n",
              "      <td>None</td>\n",
              "      <td>None</td>\n",
              "      <td>None</td>\n",
              "      <td>None</td>\n",
              "      <td>None</td>\n",
              "      <td>None</td>\n",
              "      <td>NaT</td>\n",
              "      <td>4/30/2019</td>\n",
              "      <td>4/12/2019</td>\n",
              "      <td>Person_Name_13</td>\n",
              "      <td>Product_Family_140</td>\n",
              "      <td>Product_Name_241</td>\n",
              "      <td>EUR</td>\n",
              "      <td>0.275</td>\n",
              "      <td>USD</td>\n",
              "      <td>0.31105</td>\n",
              "      <td>5/1/2019</td>\n",
              "      <td>5/31/2019</td>\n",
              "      <td>2019 - 5</td>\n",
              "      <td>Q2</td>\n",
              "      <td>2019</td>\n",
              "      <td>NaT</td>\n",
              "      <td>0</td>\n",
              "      <td>EUR</td>\n",
              "      <td>126555.0</td>\n",
              "      <td>EUR</td>\n",
              "      <td>367419.0</td>\n",
              "      <td>Prod_Category_A_None</td>\n",
              "    </tr>\n",
              "    <tr>\n",
              "      <th>3</th>\n",
              "      <td>6118</td>\n",
              "      <td>EMEA</td>\n",
              "      <td>Germany</td>\n",
              "      <td>1</td>\n",
              "      <td>1</td>\n",
              "      <td>1</td>\n",
              "      <td>1</td>\n",
              "      <td>0</td>\n",
              "      <td>Bureaucratic_Code_4</td>\n",
              "      <td>7/5/2017</td>\n",
              "      <td>Source_7</td>\n",
              "      <td>Germany</td>\n",
              "      <td>Account_Name_978</td>\n",
              "      <td>Opportunity_Name_6117</td>\n",
              "      <td>10690</td>\n",
              "      <td>6504</td>\n",
              "      <td>Person_Name_13</td>\n",
              "      <td>Person_Name_13</td>\n",
              "      <td>Account_Type_0</td>\n",
              "      <td>Opportunity_Type_8</td>\n",
              "      <td>Non Binding</td>\n",
              "      <td>Delivery_Terms_2</td>\n",
              "      <td>4/12/2019</td>\n",
              "      <td>None</td>\n",
              "      <td>None</td>\n",
              "      <td>None</td>\n",
              "      <td>None</td>\n",
              "      <td>None</td>\n",
              "      <td>None</td>\n",
              "      <td>NaT</td>\n",
              "      <td>4/30/2019</td>\n",
              "      <td>4/25/2019</td>\n",
              "      <td>Person_Name_13</td>\n",
              "      <td>Product_Family_171</td>\n",
              "      <td>Product_Name_328</td>\n",
              "      <td>EUR</td>\n",
              "      <td>0.325</td>\n",
              "      <td>USD</td>\n",
              "      <td>0.36761</td>\n",
              "      <td>6/1/2019</td>\n",
              "      <td>6/28/2019</td>\n",
              "      <td>2019 - 6</td>\n",
              "      <td>Q2</td>\n",
              "      <td>2019</td>\n",
              "      <td>NaT</td>\n",
              "      <td>1</td>\n",
              "      <td>EUR</td>\n",
              "      <td>243360.0</td>\n",
              "      <td>EUR</td>\n",
              "      <td>757783.5</td>\n",
              "      <td>Prod_Category_A_None</td>\n",
              "    </tr>\n",
              "    <tr>\n",
              "      <th>4</th>\n",
              "      <td>6124</td>\n",
              "      <td>EMEA</td>\n",
              "      <td>Germany</td>\n",
              "      <td>1</td>\n",
              "      <td>1</td>\n",
              "      <td>1</td>\n",
              "      <td>1</td>\n",
              "      <td>0</td>\n",
              "      <td>Bureaucratic_Code_4</td>\n",
              "      <td>7/5/2017</td>\n",
              "      <td>Source_7</td>\n",
              "      <td>Germany</td>\n",
              "      <td>Account_Name_978</td>\n",
              "      <td>Opportunity_Name_6117</td>\n",
              "      <td>10690</td>\n",
              "      <td>6504</td>\n",
              "      <td>Person_Name_13</td>\n",
              "      <td>Person_Name_13</td>\n",
              "      <td>Account_Type_0</td>\n",
              "      <td>Opportunity_Type_8</td>\n",
              "      <td>Non Binding</td>\n",
              "      <td>Delivery_Terms_2</td>\n",
              "      <td>4/12/2019</td>\n",
              "      <td>None</td>\n",
              "      <td>None</td>\n",
              "      <td>None</td>\n",
              "      <td>None</td>\n",
              "      <td>None</td>\n",
              "      <td>None</td>\n",
              "      <td>NaT</td>\n",
              "      <td>4/30/2019</td>\n",
              "      <td>4/25/2019</td>\n",
              "      <td>Person_Name_13</td>\n",
              "      <td>Product_Family_167</td>\n",
              "      <td>Product_Name_315</td>\n",
              "      <td>EUR</td>\n",
              "      <td>0.320</td>\n",
              "      <td>USD</td>\n",
              "      <td>0.36195</td>\n",
              "      <td>6/1/2019</td>\n",
              "      <td>6/29/2019</td>\n",
              "      <td>2019 - 6</td>\n",
              "      <td>Q2</td>\n",
              "      <td>2019</td>\n",
              "      <td>NaT</td>\n",
              "      <td>0</td>\n",
              "      <td>EUR</td>\n",
              "      <td>157248.0</td>\n",
              "      <td>EUR</td>\n",
              "      <td>757783.5</td>\n",
              "      <td>Prod_Category_A_None</td>\n",
              "    </tr>\n",
              "  </tbody>\n",
              "</table>\n",
              "</div>"
            ],
            "text/plain": [
              "     ID Region  ... Total_Taxable_Amount       Prod_Category_A\n",
              "0  6140   EMEA  ...             367419.0  Prod_Category_A_None\n",
              "1  6146   EMEA  ...             367419.0  Prod_Category_A_None\n",
              "2  6151   EMEA  ...             367419.0  Prod_Category_A_None\n",
              "3  6118   EMEA  ...             757783.5  Prod_Category_A_None\n",
              "4  6124   EMEA  ...             757783.5  Prod_Category_A_None\n",
              "\n",
              "[5 rows x 51 columns]"
            ]
          },
          "metadata": {
            "tags": []
          },
          "execution_count": 1110
        }
      ]
    },
    {
      "cell_type": "code",
      "metadata": {
        "colab": {
          "base_uri": "https://localhost:8080/"
        },
        "id": "XVzKA2PR0WBz",
        "outputId": "abb21e2d-872b-4493-8489-792a14553311"
      },
      "source": [
        "DataFrame_test.shape"
      ],
      "execution_count": 1111,
      "outputs": [
        {
          "output_type": "execute_result",
          "data": {
            "text/plain": [
              "(2551, 51)"
            ]
          },
          "metadata": {
            "tags": []
          },
          "execution_count": 1111
        }
      ]
    },
    {
      "cell_type": "code",
      "metadata": {
        "colab": {
          "base_uri": "https://localhost:8080/"
        },
        "id": "5crQ5x-vz6KI",
        "outputId": "016bd1a9-d96c-4d86-9957-e8da803a12d3"
      },
      "source": [
        "DataFrame_test['Opportunity_ID'].value_counts()"
      ],
      "execution_count": 1112,
      "outputs": [
        {
          "output_type": "execute_result",
          "data": {
            "text/plain": [
              "12266    26\n",
              "10973    24\n",
              "11089    18\n",
              "11869    15\n",
              "11248    11\n",
              "         ..\n",
              "11778     1\n",
              "12181     1\n",
              "12179     1\n",
              "11518     1\n",
              "11488     1\n",
              "Name: Opportunity_ID, Length: 1567, dtype: int64"
            ]
          },
          "metadata": {
            "tags": []
          },
          "execution_count": 1112
        }
      ]
    },
    {
      "cell_type": "markdown",
      "metadata": {
        "id": "moh1juoe8jV3"
      },
      "source": [
        "##Conversion y filtra3\r\n"
      ]
    },
    {
      "cell_type": "code",
      "metadata": {
        "id": "MDEIrIar8lEv"
      },
      "source": [
        "DataFrame_test.loc[DataFrame_test['Total_Amount_Currency'] == 'JPY', 'Total_Amount'] = DataFrame_test['Total_Amount']*0.0096\r\n",
        "DataFrame_test.loc[DataFrame_test['Total_Amount_Currency'] == 'JPY', 'Total_Amount_Currency'] = 'USD'\r\n",
        "\r\n",
        "DataFrame_test.loc[DataFrame_test['Total_Amount_Currency'] == 'EUR', 'Total_Amount'] = DataFrame_test['Total_Amount']*1.17\r\n",
        "DataFrame_test.loc[DataFrame_test['Total_Amount_Currency'] == 'EUR', 'Total_Amount_Currency'] = 'USD'\r\n",
        "\r\n",
        "DataFrame_test.loc[DataFrame_test['Total_Amount_Currency'] == 'AUD', 'Total_Amount'] = DataFrame_test['Total_Amount']*0.70\r\n",
        "DataFrame_test.loc[DataFrame_test['Total_Amount_Currency'] == 'AUD', 'Total_Amount_Currency'] = 'USD'\r\n",
        "\r\n",
        "DataFrame_test.loc[DataFrame_test['Total_Amount_Currency'] == 'GBP', 'Total_Amount'] = DataFrame_test['Total_Amount']*1.29\r\n",
        "DataFrame_test.loc[DataFrame_test['Total_Amount_Currency'] == 'GBP', 'Total_Amount_Currency'] = 'USD'"
      ],
      "execution_count": 1113,
      "outputs": []
    },
    {
      "cell_type": "code",
      "metadata": {
        "colab": {
          "base_uri": "https://localhost:8080/",
          "height": 204
        },
        "id": "UJletWUq8oF1",
        "outputId": "9fcfb62a-eb93-432a-80df-d455f1214b00"
      },
      "source": [
        "DataFrame_test_short = DataFrame_test[['Region', 'Total_Amount', 'Delivery_Year', 'Delivery_Quarter','Pricing, Delivery_Terms_Approved','Pricing, Delivery_Terms_Quote_Appr']].rename(columns={'Stage': 'Decision'})\r\n",
        "DataFrame_test_short.head()"
      ],
      "execution_count": 1114,
      "outputs": [
        {
          "output_type": "execute_result",
          "data": {
            "text/html": [
              "<div>\n",
              "<style scoped>\n",
              "    .dataframe tbody tr th:only-of-type {\n",
              "        vertical-align: middle;\n",
              "    }\n",
              "\n",
              "    .dataframe tbody tr th {\n",
              "        vertical-align: top;\n",
              "    }\n",
              "\n",
              "    .dataframe thead th {\n",
              "        text-align: right;\n",
              "    }\n",
              "</style>\n",
              "<table border=\"1\" class=\"dataframe\">\n",
              "  <thead>\n",
              "    <tr style=\"text-align: right;\">\n",
              "      <th></th>\n",
              "      <th>Region</th>\n",
              "      <th>Total_Amount</th>\n",
              "      <th>Delivery_Year</th>\n",
              "      <th>Delivery_Quarter</th>\n",
              "      <th>Pricing, Delivery_Terms_Approved</th>\n",
              "      <th>Pricing, Delivery_Terms_Quote_Appr</th>\n",
              "    </tr>\n",
              "  </thead>\n",
              "  <tbody>\n",
              "    <tr>\n",
              "      <th>0</th>\n",
              "      <td>EMEA</td>\n",
              "      <td>189820.80</td>\n",
              "      <td>2019</td>\n",
              "      <td>Q2</td>\n",
              "      <td>1</td>\n",
              "      <td>1</td>\n",
              "    </tr>\n",
              "    <tr>\n",
              "      <th>1</th>\n",
              "      <td>EMEA</td>\n",
              "      <td>91990.08</td>\n",
              "      <td>2019</td>\n",
              "      <td>Q2</td>\n",
              "      <td>1</td>\n",
              "      <td>1</td>\n",
              "    </tr>\n",
              "    <tr>\n",
              "      <th>2</th>\n",
              "      <td>EMEA</td>\n",
              "      <td>148069.35</td>\n",
              "      <td>2019</td>\n",
              "      <td>Q2</td>\n",
              "      <td>1</td>\n",
              "      <td>1</td>\n",
              "    </tr>\n",
              "    <tr>\n",
              "      <th>3</th>\n",
              "      <td>EMEA</td>\n",
              "      <td>284731.20</td>\n",
              "      <td>2019</td>\n",
              "      <td>Q2</td>\n",
              "      <td>1</td>\n",
              "      <td>1</td>\n",
              "    </tr>\n",
              "    <tr>\n",
              "      <th>4</th>\n",
              "      <td>EMEA</td>\n",
              "      <td>183980.16</td>\n",
              "      <td>2019</td>\n",
              "      <td>Q2</td>\n",
              "      <td>1</td>\n",
              "      <td>1</td>\n",
              "    </tr>\n",
              "  </tbody>\n",
              "</table>\n",
              "</div>"
            ],
            "text/plain": [
              "  Region  ...  Pricing, Delivery_Terms_Quote_Appr\n",
              "0   EMEA  ...                                   1\n",
              "1   EMEA  ...                                   1\n",
              "2   EMEA  ...                                   1\n",
              "3   EMEA  ...                                   1\n",
              "4   EMEA  ...                                   1\n",
              "\n",
              "[5 rows x 6 columns]"
            ]
          },
          "metadata": {
            "tags": []
          },
          "execution_count": 1114
        }
      ]
    },
    {
      "cell_type": "code",
      "metadata": {
        "id": "o1hpP2cx9lpQ"
      },
      "source": [
        "DataFrame_test_short['Delivery_Quarter'] = np.where(DataFrame_test_short['Delivery_Quarter'] == 'Q4',1,0)"
      ],
      "execution_count": 1115,
      "outputs": []
    },
    {
      "cell_type": "code",
      "metadata": {
        "id": "KssmDuZ59wSY"
      },
      "source": [
        "DataFrame_test_short['Region'] = DataFrame_test_short.groupby('Region')['Region'].transform('count')"
      ],
      "execution_count": 1116,
      "outputs": []
    },
    {
      "cell_type": "code",
      "metadata": {
        "colab": {
          "base_uri": "https://localhost:8080/",
          "height": 204
        },
        "id": "0DoDY14L_Psr",
        "outputId": "cc73462e-e464-41c2-b8b4-47ad718492dd"
      },
      "source": [
        "DataFrame_test_short.head()"
      ],
      "execution_count": 1117,
      "outputs": [
        {
          "output_type": "execute_result",
          "data": {
            "text/html": [
              "<div>\n",
              "<style scoped>\n",
              "    .dataframe tbody tr th:only-of-type {\n",
              "        vertical-align: middle;\n",
              "    }\n",
              "\n",
              "    .dataframe tbody tr th {\n",
              "        vertical-align: top;\n",
              "    }\n",
              "\n",
              "    .dataframe thead th {\n",
              "        text-align: right;\n",
              "    }\n",
              "</style>\n",
              "<table border=\"1\" class=\"dataframe\">\n",
              "  <thead>\n",
              "    <tr style=\"text-align: right;\">\n",
              "      <th></th>\n",
              "      <th>Region</th>\n",
              "      <th>Total_Amount</th>\n",
              "      <th>Delivery_Year</th>\n",
              "      <th>Delivery_Quarter</th>\n",
              "      <th>Pricing, Delivery_Terms_Approved</th>\n",
              "      <th>Pricing, Delivery_Terms_Quote_Appr</th>\n",
              "    </tr>\n",
              "  </thead>\n",
              "  <tbody>\n",
              "    <tr>\n",
              "      <th>0</th>\n",
              "      <td>838</td>\n",
              "      <td>189820.80</td>\n",
              "      <td>2019</td>\n",
              "      <td>0</td>\n",
              "      <td>1</td>\n",
              "      <td>1</td>\n",
              "    </tr>\n",
              "    <tr>\n",
              "      <th>1</th>\n",
              "      <td>838</td>\n",
              "      <td>91990.08</td>\n",
              "      <td>2019</td>\n",
              "      <td>0</td>\n",
              "      <td>1</td>\n",
              "      <td>1</td>\n",
              "    </tr>\n",
              "    <tr>\n",
              "      <th>2</th>\n",
              "      <td>838</td>\n",
              "      <td>148069.35</td>\n",
              "      <td>2019</td>\n",
              "      <td>0</td>\n",
              "      <td>1</td>\n",
              "      <td>1</td>\n",
              "    </tr>\n",
              "    <tr>\n",
              "      <th>3</th>\n",
              "      <td>838</td>\n",
              "      <td>284731.20</td>\n",
              "      <td>2019</td>\n",
              "      <td>0</td>\n",
              "      <td>1</td>\n",
              "      <td>1</td>\n",
              "    </tr>\n",
              "    <tr>\n",
              "      <th>4</th>\n",
              "      <td>838</td>\n",
              "      <td>183980.16</td>\n",
              "      <td>2019</td>\n",
              "      <td>0</td>\n",
              "      <td>1</td>\n",
              "      <td>1</td>\n",
              "    </tr>\n",
              "  </tbody>\n",
              "</table>\n",
              "</div>"
            ],
            "text/plain": [
              "   Region  ...  Pricing, Delivery_Terms_Quote_Appr\n",
              "0     838  ...                                   1\n",
              "1     838  ...                                   1\n",
              "2     838  ...                                   1\n",
              "3     838  ...                                   1\n",
              "4     838  ...                                   1\n",
              "\n",
              "[5 rows x 6 columns]"
            ]
          },
          "metadata": {
            "tags": []
          },
          "execution_count": 1117
        }
      ]
    },
    {
      "cell_type": "markdown",
      "metadata": {
        "id": "6l7_FV3128kz"
      },
      "source": [
        "Agregue raiz cuadrada 12/2"
      ]
    },
    {
      "cell_type": "code",
      "metadata": {
        "id": "WeK-Lajn2llC"
      },
      "source": [
        "DataFrame_test_short['Total_Amount'] = np.sqrt(DataFrame_test_short.Total_Amount)"
      ],
      "execution_count": 1118,
      "outputs": []
    },
    {
      "cell_type": "code",
      "metadata": {
        "id": "SOkXxfqV_ZpJ"
      },
      "source": [
        "pred_posta = xg_clas.predict(DataFrame_test_short)"
      ],
      "execution_count": 1119,
      "outputs": []
    },
    {
      "cell_type": "code",
      "metadata": {
        "colab": {
          "base_uri": "https://localhost:8080/",
          "height": 450
        },
        "id": "JYRHDKX1AZq0",
        "outputId": "181d8d8e-1794-4170-d3e2-962dca502004"
      },
      "source": [
        "subir = pd.DataFrame()\r\n",
        "subir['Opportunity_ID'] = DataFrame_test['Opportunity_ID']\r\n",
        "subir['target'] = pred_posta\r\n",
        "subir.sort_values('Opportunity_ID',inplace = True)\r\n",
        "subir = subir.drop_duplicates('Opportunity_ID',keep = 'last')\r\n",
        "subir.set_index('Opportunity_ID', inplace = True)\r\n",
        "subir"
      ],
      "execution_count": 1120,
      "outputs": [
        {
          "output_type": "execute_result",
          "data": {
            "text/html": [
              "<div>\n",
              "<style scoped>\n",
              "    .dataframe tbody tr th:only-of-type {\n",
              "        vertical-align: middle;\n",
              "    }\n",
              "\n",
              "    .dataframe tbody tr th {\n",
              "        vertical-align: top;\n",
              "    }\n",
              "\n",
              "    .dataframe thead th {\n",
              "        text-align: right;\n",
              "    }\n",
              "</style>\n",
              "<table border=\"1\" class=\"dataframe\">\n",
              "  <thead>\n",
              "    <tr style=\"text-align: right;\">\n",
              "      <th></th>\n",
              "      <th>target</th>\n",
              "    </tr>\n",
              "    <tr>\n",
              "      <th>Opportunity_ID</th>\n",
              "      <th></th>\n",
              "    </tr>\n",
              "  </thead>\n",
              "  <tbody>\n",
              "    <tr>\n",
              "      <th>10689</th>\n",
              "      <td>0</td>\n",
              "    </tr>\n",
              "    <tr>\n",
              "      <th>10690</th>\n",
              "      <td>0</td>\n",
              "    </tr>\n",
              "    <tr>\n",
              "      <th>10691</th>\n",
              "      <td>1</td>\n",
              "    </tr>\n",
              "    <tr>\n",
              "      <th>10692</th>\n",
              "      <td>0</td>\n",
              "    </tr>\n",
              "    <tr>\n",
              "      <th>10693</th>\n",
              "      <td>0</td>\n",
              "    </tr>\n",
              "    <tr>\n",
              "      <th>...</th>\n",
              "      <td>...</td>\n",
              "    </tr>\n",
              "    <tr>\n",
              "      <th>12364</th>\n",
              "      <td>0</td>\n",
              "    </tr>\n",
              "    <tr>\n",
              "      <th>12365</th>\n",
              "      <td>0</td>\n",
              "    </tr>\n",
              "    <tr>\n",
              "      <th>12366</th>\n",
              "      <td>0</td>\n",
              "    </tr>\n",
              "    <tr>\n",
              "      <th>12367</th>\n",
              "      <td>0</td>\n",
              "    </tr>\n",
              "    <tr>\n",
              "      <th>12368</th>\n",
              "      <td>0</td>\n",
              "    </tr>\n",
              "  </tbody>\n",
              "</table>\n",
              "<p>1567 rows × 1 columns</p>\n",
              "</div>"
            ],
            "text/plain": [
              "                target\n",
              "Opportunity_ID        \n",
              "10689                0\n",
              "10690                0\n",
              "10691                1\n",
              "10692                0\n",
              "10693                0\n",
              "...                ...\n",
              "12364                0\n",
              "12365                0\n",
              "12366                0\n",
              "12367                0\n",
              "12368                0\n",
              "\n",
              "[1567 rows x 1 columns]"
            ]
          },
          "metadata": {
            "tags": []
          },
          "execution_count": 1120
        }
      ]
    },
    {
      "cell_type": "code",
      "metadata": {
        "colab": {
          "base_uri": "https://localhost:8080/"
        },
        "id": "wx669ct3BR0I",
        "outputId": "a0c790f6-85e9-4fa1-afee-3d95a28a6f31"
      },
      "source": [
        "subir['target'].value_counts()"
      ],
      "execution_count": 1121,
      "outputs": [
        {
          "output_type": "execute_result",
          "data": {
            "text/plain": [
              "0    1556\n",
              "1      11\n",
              "Name: target, dtype: int64"
            ]
          },
          "metadata": {
            "tags": []
          },
          "execution_count": 1121
        }
      ]
    },
    {
      "cell_type": "code",
      "metadata": {
        "id": "apk8N3zON3Wi"
      },
      "source": [
        "csv3 = subir.to_csv('xgboost_pred_1.csv')\r\n",
        "#files.download('xgboost_pred_1.csv')"
      ],
      "execution_count": 1122,
      "outputs": []
    },
    {
      "cell_type": "markdown",
      "metadata": {
        "id": "UiP76BqhgIFq"
      },
      "source": [
        "#Probando otra forma\r\n"
      ]
    },
    {
      "cell_type": "markdown",
      "metadata": {
        "id": "-FTHp4-ygPEl"
      },
      "source": [
        "##Entrenamiento y test"
      ]
    },
    {
      "cell_type": "code",
      "metadata": {
        "id": "XH5pQQqqgOFb"
      },
      "source": [
        "#xgb= XGBClassifier()"
      ],
      "execution_count": 1123,
      "outputs": []
    },
    {
      "cell_type": "code",
      "metadata": {
        "id": "pkpCKdadg51v"
      },
      "source": [
        "#parameters = {'nthreads' : [1], 'objective' : ['binary:logistic'], 'learning_rate' : [0.05, 0.1], 'n_estimators' : [100, 200]}"
      ],
      "execution_count": 1124,
      "outputs": []
    },
    {
      "cell_type": "code",
      "metadata": {
        "id": "V4WVzvV3hQND"
      },
      "source": [
        "#fit_params = {'early_stopping_round' : 10, 'eval_metric' : 'logloss', 'eval_set' : [(X_Entrenamiento,Y_TestEntrenamiento)]}"
      ],
      "execution_count": 1125,
      "outputs": []
    },
    {
      "cell_type": "code",
      "metadata": {
        "id": "hcqFy5-phyIu"
      },
      "source": [
        "#clf = GridSearchCV(xgb, parameters, cv = 3, scoring = 'accuracy')\r\n",
        "#clf.fit(X_Entrenamiento,Y_TestEntrenamiento, **fit_params)"
      ],
      "execution_count": 1126,
      "outputs": []
    },
    {
      "cell_type": "code",
      "metadata": {
        "id": "PsmQKFvuqyth"
      },
      "source": [
        "#"
      ],
      "execution_count": 1127,
      "outputs": []
    }
  ]
}